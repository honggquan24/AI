{
 "cells": [
  {
   "cell_type": "markdown",
   "metadata": {},
   "source": [
    "Các bạn sử dụng tập dữ liệu của bài tập 5, mô hình dữ liệu x theo dạng bậc 6 và làm các công việc sau:\n",
    "\n",
    "1. Chia dữ liệu ra thành 2 tập: training (70%) và validation (30%). Phải đảm bảo việc chia dữ liệu là ngẫu nhiên và tỷ lệ positive và negative cân bằng.\n",
    "\n",
    "2. Viết chương trình cho phép học các tham số của mô hình phân loại phi tuyến trên có sử dụng regularization L2 và L1.\n",
    "\n",
    "3. Tính J ở mỗi vòng lặp cho cả hai tập, chọn điểm dừng phù hợp.\n",
    "\n",
    "4. Thay đổi lambda và tính J cho mỗi lambda tương ứng cho cả hai tập. Vẽ biểu đồ quan hệ giữa J và lambda từ đó lựa chọn lambda phù hợp."
   ]
  },
  {
   "cell_type": "code",
   "execution_count": 69,
   "metadata": {},
   "outputs": [],
   "source": [
    "import matplotlib.pyplot as plt\n",
    "import plotly.graph_objects as go\n",
    "import numpy as np\n",
    "import pandas as pd"
   ]
  },
  {
   "cell_type": "code",
   "execution_count": 70,
   "metadata": {},
   "outputs": [],
   "source": [
    "ex5_data = pd.read_csv('ex5data.txt', header= None).to_numpy()"
   ]
  },
  {
   "cell_type": "code",
   "execution_count": 71,
   "metadata": {},
   "outputs": [
    {
     "data": {
      "text/plain": [
       "(118, 3)"
      ]
     },
     "execution_count": 71,
     "metadata": {},
     "output_type": "execute_result"
    }
   ],
   "source": [
    "ex5_data.shape"
   ]
  },
  {
   "cell_type": "code",
   "execution_count": 72,
   "metadata": {},
   "outputs": [],
   "source": [
    "x1, x2, y = ex5_data[:, 0], ex5_data[:, 1], ex5_data[:, 2]  "
   ]
  },
  {
   "cell_type": "code",
   "execution_count": 73,
   "metadata": {},
   "outputs": [],
   "source": [
    "colors = np.where(y == 1, 'red', 'blue')"
   ]
  },
  {
   "cell_type": "code",
   "execution_count": 74,
   "metadata": {},
   "outputs": [
    {
     "data": {
      "application/vnd.plotly.v1+json": {
       "config": {
        "plotlyServerURL": "https://plot.ly"
       },
       "data": [
        {
         "marker": {
          "color": [
           "red",
           "red",
           "red",
           "red",
           "red",
           "red",
           "red",
           "red",
           "red",
           "red",
           "red",
           "red",
           "red",
           "red",
           "red",
           "red",
           "red",
           "red",
           "red",
           "red",
           "red",
           "red",
           "red",
           "red",
           "red",
           "red",
           "red",
           "red",
           "red",
           "red",
           "red",
           "red",
           "red",
           "red",
           "red",
           "red",
           "red",
           "red",
           "red",
           "red",
           "red",
           "red",
           "red",
           "red",
           "red",
           "red",
           "red",
           "red",
           "red",
           "red",
           "red",
           "red",
           "red",
           "red",
           "red",
           "red",
           "red",
           "red",
           "blue",
           "blue",
           "blue",
           "blue",
           "blue",
           "blue",
           "blue",
           "blue",
           "blue",
           "blue",
           "blue",
           "blue",
           "blue",
           "blue",
           "blue",
           "blue",
           "blue",
           "blue",
           "blue",
           "blue",
           "blue",
           "blue",
           "blue",
           "blue",
           "blue",
           "blue",
           "blue",
           "blue",
           "blue",
           "blue",
           "blue",
           "blue",
           "blue",
           "blue",
           "blue",
           "blue",
           "blue",
           "blue",
           "blue",
           "blue",
           "blue",
           "blue",
           "blue",
           "blue",
           "blue",
           "blue",
           "blue",
           "blue",
           "blue",
           "blue",
           "blue",
           "blue",
           "blue",
           "blue",
           "blue",
           "blue",
           "blue",
           "blue",
           "blue",
           "blue"
          ],
          "size": 10
         },
         "mode": "markers",
         "name": "Data Points",
         "type": "scatter",
         "x": [
          0.051267,
          -0.092742,
          -0.21371,
          -0.375,
          -0.51325,
          -0.52477,
          -0.39804,
          -0.30588,
          0.016705,
          0.13191,
          0.38537,
          0.52938,
          0.63882,
          0.73675,
          0.54666,
          0.322,
          0.16647,
          -0.046659,
          -0.17339,
          -0.47869,
          -0.60541,
          -0.62846,
          -0.59389,
          -0.42108,
          -0.11578,
          0.20104,
          0.46601,
          0.67339,
          -0.13882,
          -0.29435,
          -0.26555,
          -0.16187,
          -0.17339,
          -0.28283,
          -0.36348,
          -0.30012,
          -0.23675,
          -0.06394,
          0.062788,
          0.22984,
          0.2932,
          0.48329,
          0.64459,
          0.46025,
          0.6273,
          0.57546,
          0.72523,
          0.22408,
          0.44297,
          0.322,
          0.13767,
          -0.0063364,
          -0.092742,
          -0.20795,
          -0.20795,
          -0.43836,
          -0.21947,
          -0.13882,
          0.18376,
          0.22408,
          0.29896,
          0.50634,
          0.61578,
          0.60426,
          0.76555,
          0.92684,
          0.82316,
          0.96141,
          0.93836,
          0.86348,
          0.89804,
          0.85196,
          0.82892,
          0.79435,
          0.59274,
          0.51786,
          0.46601,
          0.35081,
          0.28744,
          0.085829,
          0.14919,
          -0.13306,
          -0.40956,
          -0.39228,
          -0.74366,
          -0.69758,
          -0.75518,
          -0.69758,
          -0.4038,
          -0.38076,
          -0.50749,
          -0.54781,
          0.10311,
          0.057028,
          -0.10426,
          -0.081221,
          0.28744,
          0.39689,
          0.63882,
          0.82316,
          0.67339,
          1.0709,
          -0.046659,
          -0.23675,
          -0.15035,
          -0.49021,
          -0.46717,
          -0.28859,
          -0.61118,
          -0.66302,
          -0.59965,
          -0.72638,
          -0.83007,
          -0.72062,
          -0.59389,
          -0.48445,
          -0.0063364,
          0.63265
         ],
         "y": [
          0.69956,
          0.68494,
          0.69225,
          0.50219,
          0.46564,
          0.2098,
          0.034357,
          -0.19225,
          -0.40424,
          -0.51389,
          -0.56506,
          -0.5212,
          -0.24342,
          -0.18494,
          0.48757,
          0.5826,
          0.53874,
          0.81652,
          0.69956,
          0.63377,
          0.59722,
          0.33406,
          0.005117,
          -0.27266,
          -0.39693,
          -0.60161,
          -0.53582,
          -0.53582,
          0.54605,
          0.77997,
          0.96272,
          0.8019,
          0.64839,
          0.47295,
          0.31213,
          0.027047,
          -0.21418,
          -0.18494,
          -0.16301,
          -0.41155,
          -0.2288,
          -0.18494,
          -0.14108,
          0.012427,
          0.15863,
          0.26827,
          0.44371,
          0.52412,
          0.67032,
          0.69225,
          0.57529,
          0.39985,
          0.55336,
          0.35599,
          0.17325,
          0.21711,
          -0.016813,
          -0.27266,
          0.93348,
          0.77997,
          0.61915,
          0.75804,
          0.7288,
          0.59722,
          0.50219,
          0.3633,
          0.27558,
          0.085526,
          0.012427,
          -0.082602,
          -0.20687,
          -0.36769,
          -0.5212,
          -0.55775,
          -0.7405,
          -0.5943,
          -0.41886,
          -0.57968,
          -0.76974,
          -0.75512,
          -0.57968,
          -0.4481,
          -0.41155,
          -0.25804,
          -0.25804,
          0.041667,
          0.2902,
          0.68494,
          0.70687,
          0.91886,
          0.90424,
          0.70687,
          0.77997,
          0.91886,
          0.99196,
          1.1089,
          1.087,
          0.82383,
          0.88962,
          0.66301,
          0.64108,
          0.10015,
          -0.57968,
          -0.63816,
          -0.36769,
          -0.3019,
          -0.13377,
          -0.060673,
          -0.067982,
          -0.21418,
          -0.41886,
          -0.082602,
          0.31213,
          0.53874,
          0.49488,
          0.99927,
          0.99927,
          -0.030612
         ]
        }
       ],
       "layout": {
        "template": {
         "data": {
          "bar": [
           {
            "error_x": {
             "color": "#2a3f5f"
            },
            "error_y": {
             "color": "#2a3f5f"
            },
            "marker": {
             "line": {
              "color": "#E5ECF6",
              "width": 0.5
             },
             "pattern": {
              "fillmode": "overlay",
              "size": 10,
              "solidity": 0.2
             }
            },
            "type": "bar"
           }
          ],
          "barpolar": [
           {
            "marker": {
             "line": {
              "color": "#E5ECF6",
              "width": 0.5
             },
             "pattern": {
              "fillmode": "overlay",
              "size": 10,
              "solidity": 0.2
             }
            },
            "type": "barpolar"
           }
          ],
          "carpet": [
           {
            "aaxis": {
             "endlinecolor": "#2a3f5f",
             "gridcolor": "white",
             "linecolor": "white",
             "minorgridcolor": "white",
             "startlinecolor": "#2a3f5f"
            },
            "baxis": {
             "endlinecolor": "#2a3f5f",
             "gridcolor": "white",
             "linecolor": "white",
             "minorgridcolor": "white",
             "startlinecolor": "#2a3f5f"
            },
            "type": "carpet"
           }
          ],
          "choropleth": [
           {
            "colorbar": {
             "outlinewidth": 0,
             "ticks": ""
            },
            "type": "choropleth"
           }
          ],
          "contour": [
           {
            "colorbar": {
             "outlinewidth": 0,
             "ticks": ""
            },
            "colorscale": [
             [
              0,
              "#0d0887"
             ],
             [
              0.1111111111111111,
              "#46039f"
             ],
             [
              0.2222222222222222,
              "#7201a8"
             ],
             [
              0.3333333333333333,
              "#9c179e"
             ],
             [
              0.4444444444444444,
              "#bd3786"
             ],
             [
              0.5555555555555556,
              "#d8576b"
             ],
             [
              0.6666666666666666,
              "#ed7953"
             ],
             [
              0.7777777777777778,
              "#fb9f3a"
             ],
             [
              0.8888888888888888,
              "#fdca26"
             ],
             [
              1,
              "#f0f921"
             ]
            ],
            "type": "contour"
           }
          ],
          "contourcarpet": [
           {
            "colorbar": {
             "outlinewidth": 0,
             "ticks": ""
            },
            "type": "contourcarpet"
           }
          ],
          "heatmap": [
           {
            "colorbar": {
             "outlinewidth": 0,
             "ticks": ""
            },
            "colorscale": [
             [
              0,
              "#0d0887"
             ],
             [
              0.1111111111111111,
              "#46039f"
             ],
             [
              0.2222222222222222,
              "#7201a8"
             ],
             [
              0.3333333333333333,
              "#9c179e"
             ],
             [
              0.4444444444444444,
              "#bd3786"
             ],
             [
              0.5555555555555556,
              "#d8576b"
             ],
             [
              0.6666666666666666,
              "#ed7953"
             ],
             [
              0.7777777777777778,
              "#fb9f3a"
             ],
             [
              0.8888888888888888,
              "#fdca26"
             ],
             [
              1,
              "#f0f921"
             ]
            ],
            "type": "heatmap"
           }
          ],
          "heatmapgl": [
           {
            "colorbar": {
             "outlinewidth": 0,
             "ticks": ""
            },
            "colorscale": [
             [
              0,
              "#0d0887"
             ],
             [
              0.1111111111111111,
              "#46039f"
             ],
             [
              0.2222222222222222,
              "#7201a8"
             ],
             [
              0.3333333333333333,
              "#9c179e"
             ],
             [
              0.4444444444444444,
              "#bd3786"
             ],
             [
              0.5555555555555556,
              "#d8576b"
             ],
             [
              0.6666666666666666,
              "#ed7953"
             ],
             [
              0.7777777777777778,
              "#fb9f3a"
             ],
             [
              0.8888888888888888,
              "#fdca26"
             ],
             [
              1,
              "#f0f921"
             ]
            ],
            "type": "heatmapgl"
           }
          ],
          "histogram": [
           {
            "marker": {
             "pattern": {
              "fillmode": "overlay",
              "size": 10,
              "solidity": 0.2
             }
            },
            "type": "histogram"
           }
          ],
          "histogram2d": [
           {
            "colorbar": {
             "outlinewidth": 0,
             "ticks": ""
            },
            "colorscale": [
             [
              0,
              "#0d0887"
             ],
             [
              0.1111111111111111,
              "#46039f"
             ],
             [
              0.2222222222222222,
              "#7201a8"
             ],
             [
              0.3333333333333333,
              "#9c179e"
             ],
             [
              0.4444444444444444,
              "#bd3786"
             ],
             [
              0.5555555555555556,
              "#d8576b"
             ],
             [
              0.6666666666666666,
              "#ed7953"
             ],
             [
              0.7777777777777778,
              "#fb9f3a"
             ],
             [
              0.8888888888888888,
              "#fdca26"
             ],
             [
              1,
              "#f0f921"
             ]
            ],
            "type": "histogram2d"
           }
          ],
          "histogram2dcontour": [
           {
            "colorbar": {
             "outlinewidth": 0,
             "ticks": ""
            },
            "colorscale": [
             [
              0,
              "#0d0887"
             ],
             [
              0.1111111111111111,
              "#46039f"
             ],
             [
              0.2222222222222222,
              "#7201a8"
             ],
             [
              0.3333333333333333,
              "#9c179e"
             ],
             [
              0.4444444444444444,
              "#bd3786"
             ],
             [
              0.5555555555555556,
              "#d8576b"
             ],
             [
              0.6666666666666666,
              "#ed7953"
             ],
             [
              0.7777777777777778,
              "#fb9f3a"
             ],
             [
              0.8888888888888888,
              "#fdca26"
             ],
             [
              1,
              "#f0f921"
             ]
            ],
            "type": "histogram2dcontour"
           }
          ],
          "mesh3d": [
           {
            "colorbar": {
             "outlinewidth": 0,
             "ticks": ""
            },
            "type": "mesh3d"
           }
          ],
          "parcoords": [
           {
            "line": {
             "colorbar": {
              "outlinewidth": 0,
              "ticks": ""
             }
            },
            "type": "parcoords"
           }
          ],
          "pie": [
           {
            "automargin": true,
            "type": "pie"
           }
          ],
          "scatter": [
           {
            "fillpattern": {
             "fillmode": "overlay",
             "size": 10,
             "solidity": 0.2
            },
            "type": "scatter"
           }
          ],
          "scatter3d": [
           {
            "line": {
             "colorbar": {
              "outlinewidth": 0,
              "ticks": ""
             }
            },
            "marker": {
             "colorbar": {
              "outlinewidth": 0,
              "ticks": ""
             }
            },
            "type": "scatter3d"
           }
          ],
          "scattercarpet": [
           {
            "marker": {
             "colorbar": {
              "outlinewidth": 0,
              "ticks": ""
             }
            },
            "type": "scattercarpet"
           }
          ],
          "scattergeo": [
           {
            "marker": {
             "colorbar": {
              "outlinewidth": 0,
              "ticks": ""
             }
            },
            "type": "scattergeo"
           }
          ],
          "scattergl": [
           {
            "marker": {
             "colorbar": {
              "outlinewidth": 0,
              "ticks": ""
             }
            },
            "type": "scattergl"
           }
          ],
          "scattermapbox": [
           {
            "marker": {
             "colorbar": {
              "outlinewidth": 0,
              "ticks": ""
             }
            },
            "type": "scattermapbox"
           }
          ],
          "scatterpolar": [
           {
            "marker": {
             "colorbar": {
              "outlinewidth": 0,
              "ticks": ""
             }
            },
            "type": "scatterpolar"
           }
          ],
          "scatterpolargl": [
           {
            "marker": {
             "colorbar": {
              "outlinewidth": 0,
              "ticks": ""
             }
            },
            "type": "scatterpolargl"
           }
          ],
          "scatterternary": [
           {
            "marker": {
             "colorbar": {
              "outlinewidth": 0,
              "ticks": ""
             }
            },
            "type": "scatterternary"
           }
          ],
          "surface": [
           {
            "colorbar": {
             "outlinewidth": 0,
             "ticks": ""
            },
            "colorscale": [
             [
              0,
              "#0d0887"
             ],
             [
              0.1111111111111111,
              "#46039f"
             ],
             [
              0.2222222222222222,
              "#7201a8"
             ],
             [
              0.3333333333333333,
              "#9c179e"
             ],
             [
              0.4444444444444444,
              "#bd3786"
             ],
             [
              0.5555555555555556,
              "#d8576b"
             ],
             [
              0.6666666666666666,
              "#ed7953"
             ],
             [
              0.7777777777777778,
              "#fb9f3a"
             ],
             [
              0.8888888888888888,
              "#fdca26"
             ],
             [
              1,
              "#f0f921"
             ]
            ],
            "type": "surface"
           }
          ],
          "table": [
           {
            "cells": {
             "fill": {
              "color": "#EBF0F8"
             },
             "line": {
              "color": "white"
             }
            },
            "header": {
             "fill": {
              "color": "#C8D4E3"
             },
             "line": {
              "color": "white"
             }
            },
            "type": "table"
           }
          ]
         },
         "layout": {
          "annotationdefaults": {
           "arrowcolor": "#2a3f5f",
           "arrowhead": 0,
           "arrowwidth": 1
          },
          "autotypenumbers": "strict",
          "coloraxis": {
           "colorbar": {
            "outlinewidth": 0,
            "ticks": ""
           }
          },
          "colorscale": {
           "diverging": [
            [
             0,
             "#8e0152"
            ],
            [
             0.1,
             "#c51b7d"
            ],
            [
             0.2,
             "#de77ae"
            ],
            [
             0.3,
             "#f1b6da"
            ],
            [
             0.4,
             "#fde0ef"
            ],
            [
             0.5,
             "#f7f7f7"
            ],
            [
             0.6,
             "#e6f5d0"
            ],
            [
             0.7,
             "#b8e186"
            ],
            [
             0.8,
             "#7fbc41"
            ],
            [
             0.9,
             "#4d9221"
            ],
            [
             1,
             "#276419"
            ]
           ],
           "sequential": [
            [
             0,
             "#0d0887"
            ],
            [
             0.1111111111111111,
             "#46039f"
            ],
            [
             0.2222222222222222,
             "#7201a8"
            ],
            [
             0.3333333333333333,
             "#9c179e"
            ],
            [
             0.4444444444444444,
             "#bd3786"
            ],
            [
             0.5555555555555556,
             "#d8576b"
            ],
            [
             0.6666666666666666,
             "#ed7953"
            ],
            [
             0.7777777777777778,
             "#fb9f3a"
            ],
            [
             0.8888888888888888,
             "#fdca26"
            ],
            [
             1,
             "#f0f921"
            ]
           ],
           "sequentialminus": [
            [
             0,
             "#0d0887"
            ],
            [
             0.1111111111111111,
             "#46039f"
            ],
            [
             0.2222222222222222,
             "#7201a8"
            ],
            [
             0.3333333333333333,
             "#9c179e"
            ],
            [
             0.4444444444444444,
             "#bd3786"
            ],
            [
             0.5555555555555556,
             "#d8576b"
            ],
            [
             0.6666666666666666,
             "#ed7953"
            ],
            [
             0.7777777777777778,
             "#fb9f3a"
            ],
            [
             0.8888888888888888,
             "#fdca26"
            ],
            [
             1,
             "#f0f921"
            ]
           ]
          },
          "colorway": [
           "#636efa",
           "#EF553B",
           "#00cc96",
           "#ab63fa",
           "#FFA15A",
           "#19d3f3",
           "#FF6692",
           "#B6E880",
           "#FF97FF",
           "#FECB52"
          ],
          "font": {
           "color": "#2a3f5f"
          },
          "geo": {
           "bgcolor": "white",
           "lakecolor": "white",
           "landcolor": "#E5ECF6",
           "showlakes": true,
           "showland": true,
           "subunitcolor": "white"
          },
          "hoverlabel": {
           "align": "left"
          },
          "hovermode": "closest",
          "mapbox": {
           "style": "light"
          },
          "paper_bgcolor": "white",
          "plot_bgcolor": "#E5ECF6",
          "polar": {
           "angularaxis": {
            "gridcolor": "white",
            "linecolor": "white",
            "ticks": ""
           },
           "bgcolor": "#E5ECF6",
           "radialaxis": {
            "gridcolor": "white",
            "linecolor": "white",
            "ticks": ""
           }
          },
          "scene": {
           "xaxis": {
            "backgroundcolor": "#E5ECF6",
            "gridcolor": "white",
            "gridwidth": 2,
            "linecolor": "white",
            "showbackground": true,
            "ticks": "",
            "zerolinecolor": "white"
           },
           "yaxis": {
            "backgroundcolor": "#E5ECF6",
            "gridcolor": "white",
            "gridwidth": 2,
            "linecolor": "white",
            "showbackground": true,
            "ticks": "",
            "zerolinecolor": "white"
           },
           "zaxis": {
            "backgroundcolor": "#E5ECF6",
            "gridcolor": "white",
            "gridwidth": 2,
            "linecolor": "white",
            "showbackground": true,
            "ticks": "",
            "zerolinecolor": "white"
           }
          },
          "shapedefaults": {
           "line": {
            "color": "#2a3f5f"
           }
          },
          "ternary": {
           "aaxis": {
            "gridcolor": "white",
            "linecolor": "white",
            "ticks": ""
           },
           "baxis": {
            "gridcolor": "white",
            "linecolor": "white",
            "ticks": ""
           },
           "bgcolor": "#E5ECF6",
           "caxis": {
            "gridcolor": "white",
            "linecolor": "white",
            "ticks": ""
           }
          },
          "title": {
           "x": 0.05
          },
          "xaxis": {
           "automargin": true,
           "gridcolor": "white",
           "linecolor": "white",
           "ticks": "",
           "title": {
            "standoff": 15
           },
           "zerolinecolor": "white",
           "zerolinewidth": 2
          },
          "yaxis": {
           "automargin": true,
           "gridcolor": "white",
           "linecolor": "white",
           "ticks": "",
           "title": {
            "standoff": 15
           },
           "zerolinecolor": "white",
           "zerolinewidth": 2
          }
         }
        },
        "xaxis": {
         "title": {
          "text": "x1"
         }
        },
        "yaxis": {
         "title": {
          "text": "x2"
         }
        }
       }
      }
     },
     "metadata": {},
     "output_type": "display_data"
    }
   ],
   "source": [
    "fig = go.Figure()\n",
    "\n",
    "# Plot data points\n",
    "fig.add_trace(go.Scatter(\n",
    "    x=x1, \n",
    "    y=x2, \n",
    "    mode='markers', \n",
    "    marker=dict(color=colors, size=10),\n",
    "    name='Data Points'\n",
    "))\n",
    "\n",
    "fig.update_xaxes(title= 'x1')\n",
    "fig.update_yaxes(title= 'x2')\n"
   ]
  },
  {
   "cell_type": "code",
   "execution_count": 75,
   "metadata": {},
   "outputs": [],
   "source": [
    "x = ex5_data[:, :2]"
   ]
  },
  {
   "cell_type": "code",
   "execution_count": 76,
   "metadata": {},
   "outputs": [],
   "source": [
    "x_pos = x[y == 1]\n",
    "x_neg = x[y == 0]"
   ]
  },
  {
   "cell_type": "code",
   "execution_count": 77,
   "metadata": {},
   "outputs": [],
   "source": [
    "rng = np.random.default_rng()\n",
    "\n",
    "rng.shuffle(x_pos)\n",
    "rng.shuffle(x_neg)"
   ]
  },
  {
   "cell_type": "code",
   "execution_count": 78,
   "metadata": {},
   "outputs": [],
   "source": [
    "len_train = int(0.7 * len(y))\n",
    "len_valid = len(y) - len_train"
   ]
  },
  {
   "cell_type": "code",
   "execution_count": 79,
   "metadata": {},
   "outputs": [],
   "source": [
    "x_train = np.vstack((x_pos[0: int(len_train / 2)], x_neg[0: len_train - int(len_train / 2)]))\n",
    "x_valid = np.vstack((x_pos[0: int(len_train / 2)], x_neg[(len_train - int(len_train / 2))]))"
   ]
  },
  {
   "cell_type": "code",
   "execution_count": 80,
   "metadata": {},
   "outputs": [],
   "source": [
    "np.random.shuffle(x_train)\n",
    "np.random.shuffle(x_valid)"
   ]
  },
  {
   "cell_type": "code",
   "execution_count": 81,
   "metadata": {},
   "outputs": [],
   "source": [
    "n = 0\n",
    "X_mapFeature = np.zeros((118, 27))\n",
    "\n",
    "for order in range(1, 7, 1):\n",
    "    for i in range(0, order+1):\n",
    "\n",
    "        x12 = x1**(order - i) * x2**(i)\n",
    "        X_mapFeature[:, n] = x12\n",
    "        n = n + 1\n",
    "\n",
    "        # print(f'x1:^{(order - i)} - x2^{(i)}')\n",
    "        # print(n)"
   ]
  },
  {
   "cell_type": "code",
   "execution_count": 82,
   "metadata": {},
   "outputs": [
    {
     "data": {
      "text/plain": [
       "array([[ 5.12670000e-02,  6.99560000e-01,  2.62830529e-03, ...,\n",
       "         6.29470940e-04,  8.58939846e-03,  1.17205992e-01],\n",
       "       [-9.27420000e-02,  6.84940000e-01,  8.60107856e-03, ...,\n",
       "         1.89305413e-03, -1.39810280e-02,  1.03255971e-01],\n",
       "       [-2.13710000e-01,  6.92250000e-01,  4.56719641e-02, ...,\n",
       "         1.04882142e-02, -3.39734512e-02,  1.10046893e-01],\n",
       "       ...,\n",
       "       [-4.84450000e-01,  9.99270000e-01,  2.34691802e-01, ...,\n",
       "         2.34007252e-01, -4.82684337e-01,  9.95627986e-01],\n",
       "       [-6.33640000e-03,  9.99270000e-01,  4.01499650e-05, ...,\n",
       "         4.00328554e-05, -6.31330588e-03,  9.95627986e-01],\n",
       "       [ 6.32650000e-01, -3.06120000e-02,  4.00246023e-01, ...,\n",
       "         3.51474517e-07, -1.70067777e-08,  8.22905998e-10]])"
      ]
     },
     "execution_count": 82,
     "metadata": {},
     "output_type": "execute_result"
    }
   ],
   "source": [
    "X_mapFeature"
   ]
  },
  {
   "cell_type": "code",
   "execution_count": 83,
   "metadata": {},
   "outputs": [],
   "source": [
    "class Logistic_Regression_Multivariables:\n",
    "    def __init__(self, *, number_of_feature: int) -> None:\n",
    "        self.number_of_features = number_of_feature\n",
    "\n",
    "    def normalize_vector(self, vector: np.ndarray) -> np.ndarray:\n",
    "        mean = np.mean(vector)\n",
    "        std = np.std(vector)\n",
    "        std = np.where(std == 0, 1, std)\n",
    "        return (vector - mean) / std\n",
    "    \n",
    "    def normalize_input(self, *, X: np.ndarray) -> tuple:\n",
    "        norm_X = np.apply_along_axis(self.normalize_vector, arr=X, axis=0).reshape(-1, self.number_of_features)\n",
    "        return norm_X\n",
    "\n",
    "    def add_ones_columns(self, *, normalized_input: np.ndarray) -> np.ndarray:\n",
    "        ones = np.ones(len(normalized_input)).reshape(-1, 1)\n",
    "        x_add = np.hstack((ones, normalized_input))\n",
    "        return x_add\n",
    "\n",
    "    def predict(self, *, theta: np.ndarray, normalized_input: np.ndarray) -> np.ndarray:\n",
    "        y_pred = np.matmul(normalized_input, theta)\n",
    "        y_pred = 1/(1 + np.exp(-y_pred))\n",
    "        return y_pred\n",
    "    \n",
    "    def compute_loss(self, *, y_true: np.ndarray, y_pred: np.ndarray, lambda_: float, theta: np.ndarray) -> np.ndarray:\n",
    "        m = len(y_true)\n",
    "        epsilon = 1e-15\n",
    "        y_pred = np.clip(y_pred, epsilon, 1 - epsilon)\n",
    "\n",
    "        theta_update = np.zeros_like(theta)\n",
    "        theta_update[1:] = theta[1:]\n",
    "        J = np.sum(- y_true*np.log(y_pred) - (1 - y_true)*np.log(1 - y_pred)) / (m) + lambda_*np.sum(theta_update**2)/(2*m)\n",
    "        return J\n",
    "    \n",
    "    def update_params(self, *, theta: np.ndarray, lr: float, y_pred: np.ndarray, \n",
    "                      y_true: np.ndarray, normalized_input: np.ndarray, lambda_: float) -> np.ndarray:\n",
    "        m = len(y_true)\n",
    "        E = y_pred - y_true\n",
    "        dJ_dtheta = np.dot(normalized_input.T, E) / (m)\n",
    "\n",
    "        theta_update = np.zeros_like(theta)\n",
    "        theta_update[1:] = theta[1:]\n",
    "\n",
    "        theta_updated = theta - lr*(dJ_dtheta +  lambda_*theta_update/m)\n",
    "        return theta_updated\n",
    "    \n",
    "    def train(self, *, epochs: int, theta: np.ndarray, input: np.ndarray, lambda_: float, \n",
    "              output: np.ndarray, lr: float, plot_graph: False, color: list, time_delay: float) -> np.ndarray:\n",
    "        \n",
    "        output = output.reshape(-1, 1)\n",
    "        normalized_input = self.normalize_input(X= input)\n",
    "        normalized_input_with_ones = self.add_ones_columns(normalized_input= normalized_input)\n",
    "\n",
    "        J_array = np.array([])\n",
    "        \n",
    "        for epoch in range(epochs):\n",
    "            y_pred = self.predict(theta= theta, normalized_input= normalized_input_with_ones)\n",
    "\n",
    "            J = self.compute_loss(y_true= output, y_pred= y_pred, lambda_= lambda_, theta= theta)\n",
    "            J_array = np.append(arr= J_array, values= J)\n",
    "\n",
    "            theta = self.update_params(theta= theta, lr= lr, y_pred= y_pred, lambda_= lambda_,\n",
    "                                       y_true= output, normalized_input= normalized_input_with_ones)\n",
    "\n",
    "            \n",
    "    \n",
    "        return J_array, theta"
   ]
  },
  {
   "cell_type": "code",
   "execution_count": 84,
   "metadata": {},
   "outputs": [],
   "source": [
    "num_feature = X_mapFeature.shape[1]\n",
    "Logistic_Regression = Logistic_Regression_Multivariables(number_of_feature= num_feature)\n",
    "\n",
    "normalized_input = Logistic_Regression.normalize_input(X= X_mapFeature)\n",
    "normalized_input_with_ones = Logistic_Regression.add_ones_columns(normalized_input= normalized_input)\n"
   ]
  },
  {
   "cell_type": "code",
   "execution_count": 85,
   "metadata": {},
   "outputs": [
    {
     "data": {
      "text/plain": [
       "array([[4.17022005e-01],\n",
       "       [7.20324493e-01],\n",
       "       [1.14374817e-04],\n",
       "       [3.02332573e-01],\n",
       "       [1.46755891e-01],\n",
       "       [9.23385948e-02],\n",
       "       [1.86260211e-01],\n",
       "       [3.45560727e-01],\n",
       "       [3.96767474e-01],\n",
       "       [5.38816734e-01],\n",
       "       [4.19194514e-01],\n",
       "       [6.85219500e-01],\n",
       "       [2.04452250e-01],\n",
       "       [8.78117436e-01],\n",
       "       [2.73875932e-02],\n",
       "       [6.70467510e-01],\n",
       "       [4.17304802e-01],\n",
       "       [5.58689828e-01],\n",
       "       [1.40386939e-01],\n",
       "       [1.98101489e-01],\n",
       "       [8.00744569e-01],\n",
       "       [9.68261576e-01],\n",
       "       [3.13424178e-01],\n",
       "       [6.92322616e-01],\n",
       "       [8.76389152e-01],\n",
       "       [8.94606664e-01],\n",
       "       [8.50442114e-02],\n",
       "       [3.90547832e-02]])"
      ]
     },
     "execution_count": 85,
     "metadata": {},
     "output_type": "execute_result"
    }
   ],
   "source": [
    "np.random.seed(1)\n",
    "\n",
    "theta_init = np.random.rand(num_feature + 1, 1)\n",
    "theta_init"
   ]
  },
  {
   "cell_type": "code",
   "execution_count": 86,
   "metadata": {},
   "outputs": [
    {
     "name": "stderr",
     "output_type": "stream",
     "text": [
      "C:\\Users\\Admin\\AppData\\Local\\Temp\\ipykernel_20988\\3935322790.py:22: RuntimeWarning:\n",
      "\n",
      "overflow encountered in exp\n",
      "\n",
      "C:\\Users\\Admin\\AppData\\Local\\Temp\\ipykernel_20988\\3935322790.py:32: RuntimeWarning:\n",
      "\n",
      "overflow encountered in scalar multiply\n",
      "\n",
      "c:\\Users\\Admin\\anaconda3\\envs\\env_gpu\\lib\\site-packages\\numpy\\core\\fromnumeric.py:88: RuntimeWarning:\n",
      "\n",
      "overflow encountered in reduce\n",
      "\n",
      "C:\\Users\\Admin\\AppData\\Local\\Temp\\ipykernel_20988\\3935322790.py:32: RuntimeWarning:\n",
      "\n",
      "overflow encountered in square\n",
      "\n"
     ]
    }
   ],
   "source": [
    "learning_rate_ = [0.01, 0.001, 0.003, 0.3, 0.04, 0.1]\n",
    "J = np.zeros((1000, ))\n",
    "\n",
    "# for i in learning_rate_:\n",
    "J_arr, theta_arr = Logistic_Regression.train(epochs= 1000, theta= theta_init, \n",
    "                                        input= X_mapFeature, output= y, lr= 0.3, plot_graph= False,\n",
    "                                        color= colors, time_delay= 0.01, lambda_= 1000)\n"
   ]
  },
  {
   "cell_type": "code",
   "execution_count": 99,
   "metadata": {},
   "outputs": [
    {
     "name": "stdout",
     "output_type": "stream",
     "text": [
      "\n",
      " data_norm: \n",
      " [[-0.57735027  0.          0.          0.          0.        ]\n",
      " [ 1.73205081  0.          0.          0.          0.        ]\n",
      " [-0.57735027  0.          0.          0.          0.        ]\n",
      " [-0.57735027  0.          0.          0.          0.        ]]\n",
      "\n",
      " data_norm add_ones_columns: \n",
      " [[ 1.         -0.57735027  0.          0.          0.          0.        ]\n",
      " [ 1.          1.73205081  0.          0.          0.          0.        ]\n",
      " [ 1.         -0.57735027  0.          0.          0.          0.        ]\n",
      " [ 1.         -0.57735027  0.          0.          0.          0.        ]]\n",
      "\n",
      " theta: \n",
      " [[ 0.61720311]\n",
      " [ 0.30017032]\n",
      " [-0.35224985]\n",
      " [-1.1425182 ]\n",
      " [-0.34934272]\n",
      " [-0.20889423]]\n",
      "\n",
      " y_pred: \n",
      " [[0.60918786]\n",
      " [0.75714925]\n",
      " [0.60918786]\n",
      " [0.60918786]]\n",
      "\n",
      " y_true: \n",
      " [[0]\n",
      " [0]\n",
      " [1]\n",
      " [1]]\n",
      "\n",
      " J: \n",
      " 211.48741674978447\n"
     ]
    }
   ],
   "source": [
    "# Code test \n",
    "\n",
    "# Test normalized input\n",
    "def normalize_vector(vector: np.ndarray) -> np.ndarray:\n",
    "    mean = np.mean(vector)\n",
    "    std = np.std(vector)\n",
    "    std = np.where(std == 0, 1, std)\n",
    "    return (vector - mean) / std\n",
    "\n",
    "vector = np.array([[1, 2, 3, 4, 5],\n",
    "                  [2, 2, 3, 4, 5],\n",
    "                  [1, 2, 3, 4, 5],\n",
    "                  [1, 2, 3, 4, 5]])\n",
    "\n",
    "\n",
    "data_norm = np.apply_along_axis(normalize_vector, arr= vector, axis=0).reshape(-1, 5)\n",
    "print(f'\\n data_norm: \\n {data_norm}')\n",
    "\n",
    "# Test add_ones_columns\n",
    "def add_ones_columns(normalized_input: np.ndarray) -> np.ndarray:\n",
    "    ones = np.ones(len(normalized_input)).reshape(-1, 1)\n",
    "    x_add = np.hstack((ones, normalized_input))\n",
    "    return x_add\n",
    "\n",
    "data_norm_add_ones_columns = add_ones_columns(normalized_input= data_norm)\n",
    "print(f'\\n data_norm add_ones_columns: \\n {data_norm_add_ones_columns}')\n",
    "\n",
    "# Test predict\n",
    "def predict(theta: np.ndarray, normalized_input: np.ndarray) -> np.ndarray:\n",
    "    y_pred = np.matmul(normalized_input, theta)\n",
    "    y_pred = 1/(1 + np.exp(-y_pred))\n",
    "    return y_pred\n",
    "\n",
    "theta = np.random.randn(data_norm.shape[1] + 1, 1)\n",
    "y_pred = predict(theta= theta, normalized_input= data_norm_add_ones_columns)\n",
    "\n",
    "print(f'\\n theta: \\n {theta}')\n",
    "print(f'\\n y_pred: \\n {y_pred}')\n",
    "\n",
    "# Test compute_loss\n",
    "def compute_loss(y_true: np.ndarray, y_pred: np.ndarray, lambda_: float, theta: np.ndarray) -> np.ndarray:\n",
    "    m = len(y_true)\n",
    "    epsilon = 1e-15\n",
    "    y_pred = np.clip(y_pred, epsilon, 1 - epsilon)\n",
    "\n",
    "    theta_update = np.zeros_like(theta)\n",
    "    theta_update[1:] = theta[1:]\n",
    "    J = np.sum(- y_true*np.log(y_pred) - (1 - y_true)*np.log(1 - y_pred)) / (m) + lambda_*np.sum(theta_update**2)/(2*m)\n",
    "    return J\n",
    "\n",
    "y_true = np.array([[0], [0], [1], [1]])\n",
    "J = compute_loss(y_true= y_true, y_pred= y_pred, lambda_= 1000, theta= theta)\n",
    "\n",
    "print(f'\\n y_true: \\n {y_true}')\n",
    "print(f'\\n J: \\n {J}')\n"
   ]
  },
  {
   "cell_type": "code",
   "execution_count": null,
   "metadata": {},
   "outputs": [],
   "source": []
  },
  {
   "cell_type": "code",
   "execution_count": null,
   "metadata": {},
   "outputs": [],
   "source": []
  },
  {
   "cell_type": "code",
   "execution_count": null,
   "metadata": {},
   "outputs": [],
   "source": []
  }
 ],
 "metadata": {
  "kernelspec": {
   "display_name": "env_gpu",
   "language": "python",
   "name": "python3"
  },
  "language_info": {
   "codemirror_mode": {
    "name": "ipython",
    "version": 3
   },
   "file_extension": ".py",
   "mimetype": "text/x-python",
   "name": "python",
   "nbconvert_exporter": "python",
   "pygments_lexer": "ipython3",
   "version": "3.10.14"
  }
 },
 "nbformat": 4,
 "nbformat_minor": 2
}
