{
 "cells": [
  {
   "cell_type": "markdown",
   "metadata": {},
   "source": [
    "# Formular\n",
    "\n",
    "We have: \n",
    "$\n",
    "\\\\  \\ \\\\\n",
    "cost(h_\\theta (x), y) = \\left \\{ \\begin{array}{rcl} -log(h_\\theta(x)) \\end{array} \\right \\}\n",
    "\\ \\\\ \\ \\\\\n",
    "J = \\frac{1}{2m} \\sum_{i = 1}^{m} cost (h(x^{(i)}), y^{(i)} ) \n",
    "\\ \\\\ \\ \\\\\n",
    "\\rightarrow \\frac{dJ}{dh} = \\frac{1}{m} \\sum_{i=1}^{m} (h(x^{(i)}) - y^{(i)} ) \\\\ \n",
    "\\ \\\\\n",
    "h(a) = \\frac {1} {1 + e^{-a}} \\rightarrow \n",
    "\\ \\\\ \\ \\\\\n",
    "a_{\\theta}(x) = \\theta^T x \\rightarrow \\frac{da}{d\\theta} = x\\\\\n",
    "\\ \\\\\n",
    "\\frac{dJ}{d\\theta} = \\frac{dJ}{dh} \\frac{dh}{d\\theta} = \\frac{1}{m} \\sum_{i=1}^{m} (h(x^{(i)}) - y^{(i)} ) x^{(i)} \\\\\n",
    "\\ \\\\\n",
    "\\theta_i = \\theta_i - \\alpha \\frac{\\partial J (\\theta_0,\\dots, \\theta_n)} {\\partial \\theta_i}  \n",
    "$"
   ]
  },
  {
   "cell_type": "code",
   "execution_count": 1,
   "metadata": {},
   "outputs": [],
   "source": [
    "import matplotlib.pyplot as plt\n",
    "import plotly.graph_objects as go\n",
    "import numpy as np\n",
    "import pandas as pd"
   ]
  },
  {
   "cell_type": "code",
   "execution_count": 2,
   "metadata": {},
   "outputs": [],
   "source": [
    "ex4_data = pd.read_csv('ex4data.txt', header= None).to_numpy()"
   ]
  },
  {
   "cell_type": "code",
   "execution_count": 3,
   "metadata": {},
   "outputs": [],
   "source": [
    "x1, x2, y = ex4_data[:, 0], ex4_data[:, 1], ex4_data[:, 2]  "
   ]
  },
  {
   "cell_type": "code",
   "execution_count": 4,
   "metadata": {},
   "outputs": [],
   "source": [
    "x = ex4_data[:, 0:2]"
   ]
  },
  {
   "cell_type": "code",
   "execution_count": 5,
   "metadata": {},
   "outputs": [],
   "source": [
    "colors = np.where(y == 1, 'red', 'blue')"
   ]
  },
  {
   "cell_type": "code",
   "execution_count": 6,
   "metadata": {},
   "outputs": [],
   "source": [
    "class Logistic_Regression_Multivariables:\n",
    "    def __init__(self, *, number_of_feature: int) -> None:\n",
    "        self.number_of_features = number_of_feature\n",
    "\n",
    "    def normalize_vector(self, vector: np.ndarray) -> np.ndarray:\n",
    "        mean = np.mean(vector)\n",
    "        std = np.std(vector)\n",
    "        if std == 0:\n",
    "            return vector - mean\n",
    "        return (vector - mean) / std\n",
    "    \n",
    "    def normalize_input(self, *, X: np.ndarray) -> tuple:\n",
    "        norm_X = np.apply_along_axis(self.normalize_vector, arr=X, axis=0).reshape(-1, self.number_of_features)\n",
    "        return norm_X\n",
    "\n",
    "    def add_ones_columns(self, *, normalized_input: np.ndarray) -> np.ndarray:\n",
    "        ones = np.ones(len(normalized_input)).reshape(-1, 1)\n",
    "        x_add = np.hstack((ones, normalized_input))\n",
    "        return x_add\n",
    "\n",
    "    def predict(self, *, theta: np.ndarray, normalized_input: np.ndarray) -> np.ndarray:\n",
    "        y_pred = np.matmul(normalized_input, theta)\n",
    "        y_pred = 1/(1 + np.exp(-y_pred))\n",
    "        return y_pred\n",
    "    \n",
    "    def compute_loss(self, *, y_true: np.ndarray, y_pred: np.ndarray) -> np.ndarray:\n",
    "        m = len(y_true)\n",
    "        epsilon = 1e-15\n",
    "        y_pred = np.clip(y_pred, epsilon, 1 - epsilon)\n",
    "        J = np.sum(- y_true*np.log(y_pred) - (1 - y_true)*np.log(1 - y_pred)) / (m)\n",
    "        return J\n",
    "    \n",
    "    def update_params(self, *, theta: np.ndarray, lr: float, y_pred: np.ndarray, \n",
    "                      y_true: np.ndarray, normalized_input: np.ndarray) -> np.ndarray:\n",
    "        m = len(y_true)\n",
    "        E = y_pred - y_true\n",
    "        dJ_dtheta = np.dot(normalized_input.T, E) / (m)\n",
    "        theta_updated = theta - lr*dJ_dtheta\n",
    "        return theta_updated\n",
    "    \n",
    "    def train(self, *, epochs: int, theta: np.ndarray, input: np.ndarray, \n",
    "              output: np.ndarray, lr: float, plot_graph: False, color: list, time_delay: float) -> np.ndarray:\n",
    "        output = output.reshape(-1, 1)\n",
    "        normalized_input = self.normalize_input(X= input)\n",
    "        normalized_input_with_ones = self.add_ones_columns(normalized_input= normalized_input)\n",
    "\n",
    "        J_array = np.array([])\n",
    "        \n",
    "        for epoch in range(epochs):\n",
    "            y_pred = self.predict(theta= theta, normalized_input= normalized_input_with_ones)\n",
    "\n",
    "            J = self.compute_loss(y_true= output, y_pred= y_pred)\n",
    "            J_array = np.append(arr= J_array, values= J)\n",
    "\n",
    "            theta = self.update_params(theta= theta, lr= lr, y_pred= y_pred, \n",
    "                                       y_true= output, normalized_input= normalized_input_with_ones)\n",
    "\n",
    "            \n",
    "    \n",
    "        return J_array, theta"
   ]
  },
  {
   "cell_type": "code",
   "execution_count": 7,
   "metadata": {},
   "outputs": [
    {
     "data": {
      "text/plain": [
       "array([[4.17022005e-01],\n",
       "       [7.20324493e-01],\n",
       "       [1.14374817e-04]])"
      ]
     },
     "execution_count": 7,
     "metadata": {},
     "output_type": "execute_result"
    }
   ],
   "source": [
    "np.random.seed(1)\n",
    "\n",
    "theta_init = np.random.rand(3, 1)\n",
    "theta_init"
   ]
  },
  {
   "cell_type": "code",
   "execution_count": 8,
   "metadata": {},
   "outputs": [],
   "source": [
    "Logistic_Regression = Logistic_Regression_Multivariables(number_of_feature= 2)"
   ]
  },
  {
   "cell_type": "code",
   "execution_count": 9,
   "metadata": {},
   "outputs": [],
   "source": [
    "epochs = 1000\n",
    "learning_rate =  0.01\n",
    "\n",
    "J_array, theta_ = Logistic_Regression.train(\n",
    "    epochs=epochs, \n",
    "    theta=theta_init, \n",
    "    input=x, \n",
    "    output=y.reshape(-1, 1), \n",
    "    lr=learning_rate,\n",
    "    plot_graph= False, \n",
    "    color= colors, \n",
    "    time_delay= 0.001,\n",
    ")"
   ]
  },
  {
   "cell_type": "code",
   "execution_count": 10,
   "metadata": {},
   "outputs": [
    {
     "data": {
      "text/plain": [
       "(3, 1)"
      ]
     },
     "execution_count": 10,
     "metadata": {},
     "output_type": "execute_result"
    }
   ],
   "source": [
    "theta_.shape"
   ]
  },
  {
   "cell_type": "code",
   "execution_count": 11,
   "metadata": {},
   "outputs": [],
   "source": [
    "normalized_input = Logistic_Regression.normalize_input(X=x)\n",
    "\n",
    "# Generate values for Feature 1\n",
    "x_values = np.linspace(normalized_input[:, 0].min(), normalized_input[:, 0].max(), 100)\n",
    "y_boundary = -(theta_[0] + theta_[1] * x_values) / theta_[2]\n"
   ]
  },
  {
   "cell_type": "code",
   "execution_count": 12,
   "metadata": {},
   "outputs": [
    {
     "data": {
      "application/vnd.plotly.v1+json": {
       "config": {
        "plotlyServerURL": "https://plot.ly"
       },
       "data": [
        {
         "marker": {
          "color": [
           "blue",
           "blue",
           "blue",
           "red",
           "red",
           "blue",
           "red",
           "red",
           "red",
           "red",
           "blue",
           "blue",
           "red",
           "red",
           "blue",
           "red",
           "red",
           "blue",
           "red",
           "red",
           "blue",
           "red",
           "blue",
           "blue",
           "red",
           "red",
           "red",
           "blue",
           "blue",
           "blue",
           "red",
           "red",
           "blue",
           "red",
           "blue",
           "blue",
           "blue",
           "red",
           "blue",
           "blue",
           "red",
           "blue",
           "red",
           "blue",
           "blue",
           "blue",
           "red",
           "red",
           "red",
           "red",
           "red",
           "red",
           "red",
           "blue",
           "blue",
           "blue",
           "red",
           "blue",
           "red",
           "red",
           "red",
           "blue",
           "blue",
           "blue",
           "blue",
           "blue",
           "red",
           "blue",
           "red",
           "red",
           "blue",
           "red",
           "red",
           "red",
           "red",
           "red",
           "red",
           "red",
           "blue",
           "blue",
           "red",
           "red",
           "red",
           "red",
           "red",
           "red",
           "blue",
           "red",
           "red",
           "blue",
           "red",
           "red",
           "blue",
           "red",
           "red",
           "red",
           "red",
           "red",
           "red",
           "red"
          ],
          "size": 10
         },
         "mode": "markers",
         "name": "Data Points",
         "type": "scatter",
         "x": [
          -1.602247631682213,
          -1.8262556392853804,
          -1.5390396905799402,
          -0.28210128866936585,
          0.6915282599330196,
          -1.0619972775753936,
          -0.23437234370160145,
          0.48451130114206736,
          0.5399866647396593,
          0.9704483205014501,
          1.5607546086751352,
          0.4839386366508191,
          0.8606502219745173,
          0.1921581996360106,
          -1.3483992226798496,
          -0.6029342906126648,
          0.17694981879436422,
          0.11893077213574416,
          0.25914553404957863,
          0.5854394442965606,
          0.08924029989454053,
          1.2413041980536244,
          -0.7804209629456744,
          -1.6235071382669581,
          0.634265590865332,
          -0.17423247622219282,
          0.7513115061285502,
          1.418860557379763,
          -0.1970006586460275,
          -1.387268471382328,
          -0.22029097796152874,
          1.0206376266632986,
          -0.6991639566514156,
          -0.7023960198809316,
          -1.3123181372228587,
          -0.5686352280046247,
          -1.6388248216323893,
          -0.075786835672144,
          0.4723478582089344,
          -1.624975110547491,
          0.9430512396754382,
          -0.7281019520437483,
          1.4875037306035783,
          0.8638371121949252,
          -0.7539258551520496,
          -0.17672918047459393,
          0.5965057459066474,
          1.6594104176054947,
          -0.18445679710035104,
          1.3388316657201953,
          0.7386382567789204,
          1.736934922368421,
          1.286237437054756,
          -1.6073686159111964,
          -0.7932455168770336,
          -0.8293919053323263,
          1.652904175249769,
          -1.7079494328019598,
          0.4444272787260229,
          0.31776703443820226,
          0.5036669180785485,
          -1.5680312218728403,
          -0.48502703957063903,
          -1.8380263127595429,
          -1.0834332812687453,
          0.04734441648269214,
          -1.30092095634919,
          -0.8559464384884553,
          0.7559287629976349,
          0.056942428152965435,
          -1.700427340498473,
          -0.08289755761756115,
          0.34617677916130635,
          -0.26788245660684207,
          -0.3513985811087489,
          1.765618350591358,
          -0.9493467469311007,
          -0.784378905562128,
          -0.268002774987531,
          0.8564979004513694,
          1.2019006714433886,
          1.5077064724242693,
          0.08651466948084834,
          -0.4341564876522654,
          0.7604318050817038,
          0.14587539019305634,
          -1.2173545220202424,
          0.5079069815059397,
          0.6710066892041316,
          -0.6867664492920018,
          1.4694756177998276,
          1.2811672066185793,
          -0.5248839086931132,
          0.4570301917754443,
          1.2500348262074321,
          0.9217074245698057,
          -1.20773470458946,
          1.739129156306382,
          -0.5322257753722129,
          0.4716578021852942
         ],
         "y": [
          0.6383411191827778,
          -1.2075414011337824,
          0.36129429795054324,
          1.0863682965534431,
          0.49337793947471853,
          -0.5357393992539938,
          1.6381841338799492,
          -1.063730237704855,
          1.1465110513167858,
          -1.227098531394338,
          -1.5141845155283413,
          -1.9264162630578543,
          0.5549035901534545,
          1.7034783396987379,
          0.5308278074215472,
          1.2431479158860657,
          -0.7291397514875961,
          -1.0569934599886754,
          1.444330233505406,
          -1.0084587263134464,
          -1.2646847230754836,
          -0.02285778736770094,
          -0.9392389806846798,
          -1.1905301911637456,
          0.14875154676865363,
          0.20186768051336446,
          -1.1574251400731874,
          -1.4830647958414673,
          -0.8635048564568241,
          -0.06632456986006763,
          0.35619356391808765,
          -0.49595428894428417,
          -0.1673572359363455,
          0.17365739863888974,
          0.2674876899602161,
          -0.7576196987909415,
          1.7657155736184151,
          0.7942862022939778,
          -1.3331026797396976,
          0.48760951316296836,
          -0.5361896820840916,
          -1.0473817964635164,
          -0.03532121963686229,
          -1.3847618949646643,
          -1.1032827792710826,
          -0.7658888683391357,
          0.22911224370045918,
          1.10904425631975,
          1.6521053513571027,
          1.2155076961899585,
          0.4294904131049198,
          -0.2824808007426112,
          -1.2348213176495564,
          -0.31507682106532875,
          -0.8879276783696388,
          -0.34684550890234395,
          0.14275968889359084,
          1.5888117023577002,
          0.19484284074810362,
          0.6615362452214331,
          1.0566967858797773,
          -1.0384998646255825,
          -1.4581426079921365,
          -0.8993700317920093,
          0.012335995231912245,
          -1.3591344067812554,
          1.6935535106725705,
          -0.7755039916868566,
          1.4004636536193753,
          -0.2828938413874384,
          -1.2393335072722191,
          0.6387194503162054,
          1.622833213919223,
          0.3717217652047204,
          0.5211811847651515,
          0.3324702528076452,
          1.2035860145627317,
          0.5185532918292654,
          -1.282534122082009,
          -1.2710969523502769,
          0.19371884195291553,
          -1.1102269212509437,
          0.019868162678108002,
          -0.3627824921751846,
          1.337946850337524,
          1.0477388176565572,
          0.682695329332118,
          1.3089787890153703,
          1.645539675459199,
          -0.29489455223632305,
          0.5915263663101539,
          1.1512824836560027,
          -1.6577554670038683,
          1.007220428405087,
          -1.1284005184800912,
          -0.9649574825974411,
          1.1293815207702613,
          0.13809960506744343,
          -0.06977206604565121,
          1.2605881058052026
         ]
        },
        {
         "line": {
          "color": "green",
          "width": 2
         },
         "mode": "lines",
         "name": "Decision Boundary",
         "type": "scatter",
         "x": [
          -1.8380263127595429,
          -1.8016258616145844,
          -1.7652254104696257,
          -1.7288249593246672,
          -1.6924245081797085,
          -1.65602405703475,
          -1.6196236058897913,
          -1.5832231547448328,
          -1.546822703599874,
          -1.5104222524549156,
          -1.4740218013099569,
          -1.4376213501649984,
          -1.4012208990200397,
          -1.3648204478750812,
          -1.3284199967301227,
          -1.292019545585164,
          -1.2556190944402053,
          -1.2192186432952468,
          -1.1828181921502883,
          -1.1464177410053296,
          -1.1100172898603708,
          -1.0736168387154124,
          -1.0372163875704539,
          -1.0008159364254952,
          -0.9644154852805367,
          -0.9280150341355781,
          -0.8916145829906195,
          -0.8552141318456609,
          -0.8188136807007023,
          -0.7824132295557436,
          -0.7460127784107851,
          -0.7096123272658263,
          -0.6732118761208679,
          -0.6368114249759094,
          -0.6004109738309507,
          -0.5640105226859922,
          -0.5276100715410335,
          -0.49120962039607496,
          -0.45480916925111625,
          -0.41840871810615776,
          -0.38200826696119905,
          -0.34560781581624056,
          -0.30920736467128185,
          -0.27280691352632336,
          -0.23640646238136465,
          -0.20000601123640616,
          -0.16360556009144744,
          -0.12720510894648895,
          -0.09080465780153046,
          -0.05440420665657175,
          -0.018003755511613262,
          0.01839669563334545,
          0.05479714677830394,
          0.09119759792326265,
          0.12759804906822114,
          0.16399850021317963,
          0.20039895135813834,
          0.23679940250309706,
          0.27319985364805577,
          0.30960030479301404,
          0.34600075593797275,
          0.38240120708293146,
          0.4188016582278902,
          0.45520210937284844,
          0.49160256051780715,
          0.5280030116627659,
          0.5644034628077241,
          0.6008039139526828,
          0.6372043650976416,
          0.6736048162426003,
          0.7100052673875585,
          0.7464057185325172,
          0.782806169677476,
          0.8192066208224347,
          0.8556070719673929,
          0.8920075231123517,
          0.9284079742573104,
          0.9648084254022691,
          1.0012088765472273,
          1.037609327692186,
          1.0740097788371448,
          1.110410229982103,
          1.1468106811270617,
          1.1832111322720205,
          1.2196115834169792,
          1.2560120345619374,
          1.2924124857068962,
          1.3288129368518549,
          1.3652133879968136,
          1.4016138391417718,
          1.4380142902867306,
          1.4744147414316893,
          1.510815192576648,
          1.5472156437216062,
          1.583616094866565,
          1.6200165460115237,
          1.656416997156482,
          1.6928174483014407,
          1.7292178994463994,
          1.765618350591358
         ],
         "y": [
          1.7222669208296524,
          1.6791110450383135,
          1.6359551692469747,
          1.5927992934556359,
          1.549643417664297,
          1.5064875418729582,
          1.463331666081619,
          1.4201757902902803,
          1.3770199144989412,
          1.3338640387076026,
          1.2907081629162636,
          1.2475522871249245,
          1.2043964113335857,
          1.161240535542247,
          1.1180846597509082,
          1.0749287839595691,
          1.03177290816823,
          0.9886170323768914,
          0.9454611565855527,
          0.9023052807942137,
          0.8591494050028746,
          0.8159935292115358,
          0.7728376534201971,
          0.729681777628858,
          0.6865259018375194,
          0.6433700260461804,
          0.6002141502548415,
          0.5570582744635025,
          0.5139023986721637,
          0.47074652288082464,
          0.42759064708948596,
          0.3844347712981469,
          0.3412788955068082,
          0.2981230197154694,
          0.25496714392413045,
          0.21181126813279166,
          0.1686553923414526,
          0.12549951655011385,
          0.08234364075877489,
          0.0391877649674361,
          -0.00396811082390294,
          -0.04712398661524171,
          -0.09027986240658072,
          -0.13343573819791948,
          -0.1765916139892585,
          -0.21974748978059727,
          -0.26290336557193633,
          -0.30605924136327506,
          -0.3492151171546138,
          -0.3923709929459528,
          -0.4355268687372916,
          -0.47868274452863063,
          -0.5218386203199693,
          -0.5649944961113084,
          -0.6081503719026471,
          -0.6513062476939859,
          -0.6944621234853249,
          -0.7376179992766639,
          -0.780773875068003,
          -0.8239297508593415,
          -0.8670856266506805,
          -0.9102415024420194,
          -0.9533973782333586,
          -0.9965532540246971,
          -1.039709129816036,
          -1.082865005607375,
          -1.1260208813987136,
          -1.1691767571900527,
          -1.2123326329813915,
          -1.2554885087727305,
          -1.2986443845640692,
          -1.3418002603554082,
          -1.384956136146747,
          -1.4281120119380861,
          -1.4712678877294245,
          -1.5144237635207636,
          -1.5575796393121026,
          -1.6007355151034417,
          -1.6438913908947803,
          -1.6870472666861194,
          -1.7302031424774582,
          -1.7733590182687966,
          -1.8165148940601359,
          -1.8596707698514747,
          -1.9028266456428136,
          -1.9459825214341522,
          -1.9891383972254912,
          -2.0322942730168307,
          -2.0754501488081694,
          -2.118606024599508,
          -2.1617619003908466,
          -2.204917776182186,
          -2.2480736519735247,
          -2.2912295277648633,
          -2.334385403556203,
          -2.3775412793475414,
          -2.42069715513888,
          -2.4638530309302187,
          -2.507008906721558,
          -2.550164782512897
         ]
        }
       ],
       "layout": {
        "template": {
         "data": {
          "bar": [
           {
            "error_x": {
             "color": "#2a3f5f"
            },
            "error_y": {
             "color": "#2a3f5f"
            },
            "marker": {
             "line": {
              "color": "#E5ECF6",
              "width": 0.5
             },
             "pattern": {
              "fillmode": "overlay",
              "size": 10,
              "solidity": 0.2
             }
            },
            "type": "bar"
           }
          ],
          "barpolar": [
           {
            "marker": {
             "line": {
              "color": "#E5ECF6",
              "width": 0.5
             },
             "pattern": {
              "fillmode": "overlay",
              "size": 10,
              "solidity": 0.2
             }
            },
            "type": "barpolar"
           }
          ],
          "carpet": [
           {
            "aaxis": {
             "endlinecolor": "#2a3f5f",
             "gridcolor": "white",
             "linecolor": "white",
             "minorgridcolor": "white",
             "startlinecolor": "#2a3f5f"
            },
            "baxis": {
             "endlinecolor": "#2a3f5f",
             "gridcolor": "white",
             "linecolor": "white",
             "minorgridcolor": "white",
             "startlinecolor": "#2a3f5f"
            },
            "type": "carpet"
           }
          ],
          "choropleth": [
           {
            "colorbar": {
             "outlinewidth": 0,
             "ticks": ""
            },
            "type": "choropleth"
           }
          ],
          "contour": [
           {
            "colorbar": {
             "outlinewidth": 0,
             "ticks": ""
            },
            "colorscale": [
             [
              0,
              "#0d0887"
             ],
             [
              0.1111111111111111,
              "#46039f"
             ],
             [
              0.2222222222222222,
              "#7201a8"
             ],
             [
              0.3333333333333333,
              "#9c179e"
             ],
             [
              0.4444444444444444,
              "#bd3786"
             ],
             [
              0.5555555555555556,
              "#d8576b"
             ],
             [
              0.6666666666666666,
              "#ed7953"
             ],
             [
              0.7777777777777778,
              "#fb9f3a"
             ],
             [
              0.8888888888888888,
              "#fdca26"
             ],
             [
              1,
              "#f0f921"
             ]
            ],
            "type": "contour"
           }
          ],
          "contourcarpet": [
           {
            "colorbar": {
             "outlinewidth": 0,
             "ticks": ""
            },
            "type": "contourcarpet"
           }
          ],
          "heatmap": [
           {
            "colorbar": {
             "outlinewidth": 0,
             "ticks": ""
            },
            "colorscale": [
             [
              0,
              "#0d0887"
             ],
             [
              0.1111111111111111,
              "#46039f"
             ],
             [
              0.2222222222222222,
              "#7201a8"
             ],
             [
              0.3333333333333333,
              "#9c179e"
             ],
             [
              0.4444444444444444,
              "#bd3786"
             ],
             [
              0.5555555555555556,
              "#d8576b"
             ],
             [
              0.6666666666666666,
              "#ed7953"
             ],
             [
              0.7777777777777778,
              "#fb9f3a"
             ],
             [
              0.8888888888888888,
              "#fdca26"
             ],
             [
              1,
              "#f0f921"
             ]
            ],
            "type": "heatmap"
           }
          ],
          "heatmapgl": [
           {
            "colorbar": {
             "outlinewidth": 0,
             "ticks": ""
            },
            "colorscale": [
             [
              0,
              "#0d0887"
             ],
             [
              0.1111111111111111,
              "#46039f"
             ],
             [
              0.2222222222222222,
              "#7201a8"
             ],
             [
              0.3333333333333333,
              "#9c179e"
             ],
             [
              0.4444444444444444,
              "#bd3786"
             ],
             [
              0.5555555555555556,
              "#d8576b"
             ],
             [
              0.6666666666666666,
              "#ed7953"
             ],
             [
              0.7777777777777778,
              "#fb9f3a"
             ],
             [
              0.8888888888888888,
              "#fdca26"
             ],
             [
              1,
              "#f0f921"
             ]
            ],
            "type": "heatmapgl"
           }
          ],
          "histogram": [
           {
            "marker": {
             "pattern": {
              "fillmode": "overlay",
              "size": 10,
              "solidity": 0.2
             }
            },
            "type": "histogram"
           }
          ],
          "histogram2d": [
           {
            "colorbar": {
             "outlinewidth": 0,
             "ticks": ""
            },
            "colorscale": [
             [
              0,
              "#0d0887"
             ],
             [
              0.1111111111111111,
              "#46039f"
             ],
             [
              0.2222222222222222,
              "#7201a8"
             ],
             [
              0.3333333333333333,
              "#9c179e"
             ],
             [
              0.4444444444444444,
              "#bd3786"
             ],
             [
              0.5555555555555556,
              "#d8576b"
             ],
             [
              0.6666666666666666,
              "#ed7953"
             ],
             [
              0.7777777777777778,
              "#fb9f3a"
             ],
             [
              0.8888888888888888,
              "#fdca26"
             ],
             [
              1,
              "#f0f921"
             ]
            ],
            "type": "histogram2d"
           }
          ],
          "histogram2dcontour": [
           {
            "colorbar": {
             "outlinewidth": 0,
             "ticks": ""
            },
            "colorscale": [
             [
              0,
              "#0d0887"
             ],
             [
              0.1111111111111111,
              "#46039f"
             ],
             [
              0.2222222222222222,
              "#7201a8"
             ],
             [
              0.3333333333333333,
              "#9c179e"
             ],
             [
              0.4444444444444444,
              "#bd3786"
             ],
             [
              0.5555555555555556,
              "#d8576b"
             ],
             [
              0.6666666666666666,
              "#ed7953"
             ],
             [
              0.7777777777777778,
              "#fb9f3a"
             ],
             [
              0.8888888888888888,
              "#fdca26"
             ],
             [
              1,
              "#f0f921"
             ]
            ],
            "type": "histogram2dcontour"
           }
          ],
          "mesh3d": [
           {
            "colorbar": {
             "outlinewidth": 0,
             "ticks": ""
            },
            "type": "mesh3d"
           }
          ],
          "parcoords": [
           {
            "line": {
             "colorbar": {
              "outlinewidth": 0,
              "ticks": ""
             }
            },
            "type": "parcoords"
           }
          ],
          "pie": [
           {
            "automargin": true,
            "type": "pie"
           }
          ],
          "scatter": [
           {
            "fillpattern": {
             "fillmode": "overlay",
             "size": 10,
             "solidity": 0.2
            },
            "type": "scatter"
           }
          ],
          "scatter3d": [
           {
            "line": {
             "colorbar": {
              "outlinewidth": 0,
              "ticks": ""
             }
            },
            "marker": {
             "colorbar": {
              "outlinewidth": 0,
              "ticks": ""
             }
            },
            "type": "scatter3d"
           }
          ],
          "scattercarpet": [
           {
            "marker": {
             "colorbar": {
              "outlinewidth": 0,
              "ticks": ""
             }
            },
            "type": "scattercarpet"
           }
          ],
          "scattergeo": [
           {
            "marker": {
             "colorbar": {
              "outlinewidth": 0,
              "ticks": ""
             }
            },
            "type": "scattergeo"
           }
          ],
          "scattergl": [
           {
            "marker": {
             "colorbar": {
              "outlinewidth": 0,
              "ticks": ""
             }
            },
            "type": "scattergl"
           }
          ],
          "scattermapbox": [
           {
            "marker": {
             "colorbar": {
              "outlinewidth": 0,
              "ticks": ""
             }
            },
            "type": "scattermapbox"
           }
          ],
          "scatterpolar": [
           {
            "marker": {
             "colorbar": {
              "outlinewidth": 0,
              "ticks": ""
             }
            },
            "type": "scatterpolar"
           }
          ],
          "scatterpolargl": [
           {
            "marker": {
             "colorbar": {
              "outlinewidth": 0,
              "ticks": ""
             }
            },
            "type": "scatterpolargl"
           }
          ],
          "scatterternary": [
           {
            "marker": {
             "colorbar": {
              "outlinewidth": 0,
              "ticks": ""
             }
            },
            "type": "scatterternary"
           }
          ],
          "surface": [
           {
            "colorbar": {
             "outlinewidth": 0,
             "ticks": ""
            },
            "colorscale": [
             [
              0,
              "#0d0887"
             ],
             [
              0.1111111111111111,
              "#46039f"
             ],
             [
              0.2222222222222222,
              "#7201a8"
             ],
             [
              0.3333333333333333,
              "#9c179e"
             ],
             [
              0.4444444444444444,
              "#bd3786"
             ],
             [
              0.5555555555555556,
              "#d8576b"
             ],
             [
              0.6666666666666666,
              "#ed7953"
             ],
             [
              0.7777777777777778,
              "#fb9f3a"
             ],
             [
              0.8888888888888888,
              "#fdca26"
             ],
             [
              1,
              "#f0f921"
             ]
            ],
            "type": "surface"
           }
          ],
          "table": [
           {
            "cells": {
             "fill": {
              "color": "#EBF0F8"
             },
             "line": {
              "color": "white"
             }
            },
            "header": {
             "fill": {
              "color": "#C8D4E3"
             },
             "line": {
              "color": "white"
             }
            },
            "type": "table"
           }
          ]
         },
         "layout": {
          "annotationdefaults": {
           "arrowcolor": "#2a3f5f",
           "arrowhead": 0,
           "arrowwidth": 1
          },
          "autotypenumbers": "strict",
          "coloraxis": {
           "colorbar": {
            "outlinewidth": 0,
            "ticks": ""
           }
          },
          "colorscale": {
           "diverging": [
            [
             0,
             "#8e0152"
            ],
            [
             0.1,
             "#c51b7d"
            ],
            [
             0.2,
             "#de77ae"
            ],
            [
             0.3,
             "#f1b6da"
            ],
            [
             0.4,
             "#fde0ef"
            ],
            [
             0.5,
             "#f7f7f7"
            ],
            [
             0.6,
             "#e6f5d0"
            ],
            [
             0.7,
             "#b8e186"
            ],
            [
             0.8,
             "#7fbc41"
            ],
            [
             0.9,
             "#4d9221"
            ],
            [
             1,
             "#276419"
            ]
           ],
           "sequential": [
            [
             0,
             "#0d0887"
            ],
            [
             0.1111111111111111,
             "#46039f"
            ],
            [
             0.2222222222222222,
             "#7201a8"
            ],
            [
             0.3333333333333333,
             "#9c179e"
            ],
            [
             0.4444444444444444,
             "#bd3786"
            ],
            [
             0.5555555555555556,
             "#d8576b"
            ],
            [
             0.6666666666666666,
             "#ed7953"
            ],
            [
             0.7777777777777778,
             "#fb9f3a"
            ],
            [
             0.8888888888888888,
             "#fdca26"
            ],
            [
             1,
             "#f0f921"
            ]
           ],
           "sequentialminus": [
            [
             0,
             "#0d0887"
            ],
            [
             0.1111111111111111,
             "#46039f"
            ],
            [
             0.2222222222222222,
             "#7201a8"
            ],
            [
             0.3333333333333333,
             "#9c179e"
            ],
            [
             0.4444444444444444,
             "#bd3786"
            ],
            [
             0.5555555555555556,
             "#d8576b"
            ],
            [
             0.6666666666666666,
             "#ed7953"
            ],
            [
             0.7777777777777778,
             "#fb9f3a"
            ],
            [
             0.8888888888888888,
             "#fdca26"
            ],
            [
             1,
             "#f0f921"
            ]
           ]
          },
          "colorway": [
           "#636efa",
           "#EF553B",
           "#00cc96",
           "#ab63fa",
           "#FFA15A",
           "#19d3f3",
           "#FF6692",
           "#B6E880",
           "#FF97FF",
           "#FECB52"
          ],
          "font": {
           "color": "#2a3f5f"
          },
          "geo": {
           "bgcolor": "white",
           "lakecolor": "white",
           "landcolor": "#E5ECF6",
           "showlakes": true,
           "showland": true,
           "subunitcolor": "white"
          },
          "hoverlabel": {
           "align": "left"
          },
          "hovermode": "closest",
          "mapbox": {
           "style": "light"
          },
          "paper_bgcolor": "white",
          "plot_bgcolor": "#E5ECF6",
          "polar": {
           "angularaxis": {
            "gridcolor": "white",
            "linecolor": "white",
            "ticks": ""
           },
           "bgcolor": "#E5ECF6",
           "radialaxis": {
            "gridcolor": "white",
            "linecolor": "white",
            "ticks": ""
           }
          },
          "scene": {
           "xaxis": {
            "backgroundcolor": "#E5ECF6",
            "gridcolor": "white",
            "gridwidth": 2,
            "linecolor": "white",
            "showbackground": true,
            "ticks": "",
            "zerolinecolor": "white"
           },
           "yaxis": {
            "backgroundcolor": "#E5ECF6",
            "gridcolor": "white",
            "gridwidth": 2,
            "linecolor": "white",
            "showbackground": true,
            "ticks": "",
            "zerolinecolor": "white"
           },
           "zaxis": {
            "backgroundcolor": "#E5ECF6",
            "gridcolor": "white",
            "gridwidth": 2,
            "linecolor": "white",
            "showbackground": true,
            "ticks": "",
            "zerolinecolor": "white"
           }
          },
          "shapedefaults": {
           "line": {
            "color": "#2a3f5f"
           }
          },
          "ternary": {
           "aaxis": {
            "gridcolor": "white",
            "linecolor": "white",
            "ticks": ""
           },
           "baxis": {
            "gridcolor": "white",
            "linecolor": "white",
            "ticks": ""
           },
           "bgcolor": "#E5ECF6",
           "caxis": {
            "gridcolor": "white",
            "linecolor": "white",
            "ticks": ""
           }
          },
          "title": {
           "x": 0.05
          },
          "xaxis": {
           "automargin": true,
           "gridcolor": "white",
           "linecolor": "white",
           "ticks": "",
           "title": {
            "standoff": 15
           },
           "zerolinecolor": "white",
           "zerolinewidth": 2
          },
          "yaxis": {
           "automargin": true,
           "gridcolor": "white",
           "linecolor": "white",
           "ticks": "",
           "title": {
            "standoff": 15
           },
           "zerolinecolor": "white",
           "zerolinewidth": 2
          }
         }
        }
       }
      }
     },
     "metadata": {},
     "output_type": "display_data"
    }
   ],
   "source": [
    "fig = go.Figure()\n",
    "\n",
    "# Plot data points\n",
    "fig.add_trace(go.Scatter(\n",
    "    x=normalized_input[:, 0], \n",
    "    y=normalized_input[:, 1], \n",
    "    mode='markers', \n",
    "    marker=dict(color=colors, size=10),\n",
    "    name='Data Points'\n",
    "))\n",
    "\n",
    "# Plot decision boundary\n",
    "fig.add_trace(go.Scatter(\n",
    "    x=x_values, \n",
    "    y=y_boundary.flatten(), \n",
    "    mode='lines', \n",
    "    name='Decision Boundary', \n",
    "    line=dict(color='green', width=2)\n",
    "))"
   ]
  },
  {
   "cell_type": "code",
   "execution_count": 16,
   "metadata": {},
   "outputs": [
    {
     "data": {
      "application/vnd.plotly.v1+json": {
       "config": {
        "plotlyServerURL": "https://plot.ly"
       },
       "data": [
        {
         "type": "scatter",
         "x": [
          0,
          1,
          2,
          3,
          4,
          5,
          6,
          7,
          8,
          9,
          10,
          11,
          12,
          13,
          14,
          15,
          16,
          17,
          18,
          19,
          20,
          21,
          22,
          23,
          24,
          25,
          26,
          27,
          28,
          29,
          30,
          31,
          32,
          33,
          34,
          35,
          36,
          37,
          38,
          39,
          40,
          41,
          42,
          43,
          44,
          45,
          46,
          47,
          48,
          49,
          50,
          51,
          52,
          53,
          54,
          55,
          56,
          57,
          58,
          59,
          60,
          61,
          62,
          63,
          64,
          65,
          66,
          67,
          68,
          69,
          70,
          71,
          72,
          73,
          74,
          75,
          76,
          77,
          78,
          79,
          80,
          81,
          82,
          83,
          84,
          85,
          86,
          87,
          88,
          89,
          90,
          91,
          92,
          93,
          94,
          95,
          96,
          97,
          98,
          99,
          100,
          101,
          102,
          103,
          104,
          105,
          106,
          107,
          108,
          109,
          110,
          111,
          112,
          113,
          114,
          115,
          116,
          117,
          118,
          119,
          120,
          121,
          122,
          123,
          124,
          125,
          126,
          127,
          128,
          129,
          130,
          131,
          132,
          133,
          134,
          135,
          136,
          137,
          138,
          139,
          140,
          141,
          142,
          143,
          144,
          145,
          146,
          147,
          148,
          149,
          150,
          151,
          152,
          153,
          154,
          155,
          156,
          157,
          158,
          159,
          160,
          161,
          162,
          163,
          164,
          165,
          166,
          167,
          168,
          169,
          170,
          171,
          172,
          173,
          174,
          175,
          176,
          177,
          178,
          179,
          180,
          181,
          182,
          183,
          184,
          185,
          186,
          187,
          188,
          189,
          190,
          191,
          192,
          193,
          194,
          195,
          196,
          197,
          198,
          199,
          200,
          201,
          202,
          203,
          204,
          205,
          206,
          207,
          208,
          209,
          210,
          211,
          212,
          213,
          214,
          215,
          216,
          217,
          218,
          219,
          220,
          221,
          222,
          223,
          224,
          225,
          226,
          227,
          228,
          229,
          230,
          231,
          232,
          233,
          234,
          235,
          236,
          237,
          238,
          239,
          240,
          241,
          242,
          243,
          244,
          245,
          246,
          247,
          248,
          249,
          250,
          251,
          252,
          253,
          254,
          255,
          256,
          257,
          258,
          259,
          260,
          261,
          262,
          263,
          264,
          265,
          266,
          267,
          268,
          269,
          270,
          271,
          272,
          273,
          274,
          275,
          276,
          277,
          278,
          279,
          280,
          281,
          282,
          283,
          284,
          285,
          286,
          287,
          288,
          289,
          290,
          291,
          292,
          293,
          294,
          295,
          296,
          297,
          298,
          299,
          300,
          301,
          302,
          303,
          304,
          305,
          306,
          307,
          308,
          309,
          310,
          311,
          312,
          313,
          314,
          315,
          316,
          317,
          318,
          319,
          320,
          321,
          322,
          323,
          324,
          325,
          326,
          327,
          328,
          329,
          330,
          331,
          332,
          333,
          334,
          335,
          336,
          337,
          338,
          339,
          340,
          341,
          342,
          343,
          344,
          345,
          346,
          347,
          348,
          349,
          350,
          351,
          352,
          353,
          354,
          355,
          356,
          357,
          358,
          359,
          360,
          361,
          362,
          363,
          364,
          365,
          366,
          367,
          368,
          369,
          370,
          371,
          372,
          373,
          374,
          375,
          376,
          377,
          378,
          379,
          380,
          381,
          382,
          383,
          384,
          385,
          386,
          387,
          388,
          389,
          390,
          391,
          392,
          393,
          394,
          395,
          396,
          397,
          398,
          399,
          400,
          401,
          402,
          403,
          404,
          405,
          406,
          407,
          408,
          409,
          410,
          411,
          412,
          413,
          414,
          415,
          416,
          417,
          418,
          419,
          420,
          421,
          422,
          423,
          424,
          425,
          426,
          427,
          428,
          429,
          430,
          431,
          432,
          433,
          434,
          435,
          436,
          437,
          438,
          439,
          440,
          441,
          442,
          443,
          444,
          445,
          446,
          447,
          448,
          449,
          450,
          451,
          452,
          453,
          454,
          455,
          456,
          457,
          458,
          459,
          460,
          461,
          462,
          463,
          464,
          465,
          466,
          467,
          468,
          469,
          470,
          471,
          472,
          473,
          474,
          475,
          476,
          477,
          478,
          479,
          480,
          481,
          482,
          483,
          484,
          485,
          486,
          487,
          488,
          489,
          490,
          491,
          492,
          493,
          494,
          495,
          496,
          497,
          498,
          499,
          500,
          501,
          502,
          503,
          504,
          505,
          506,
          507,
          508,
          509,
          510,
          511,
          512,
          513,
          514,
          515,
          516,
          517,
          518,
          519,
          520,
          521,
          522,
          523,
          524,
          525,
          526,
          527,
          528,
          529,
          530,
          531,
          532,
          533,
          534,
          535,
          536,
          537,
          538,
          539,
          540,
          541,
          542,
          543,
          544,
          545,
          546,
          547,
          548,
          549,
          550,
          551,
          552,
          553,
          554,
          555,
          556,
          557,
          558,
          559,
          560,
          561,
          562,
          563,
          564,
          565,
          566,
          567,
          568,
          569,
          570,
          571,
          572,
          573,
          574,
          575,
          576,
          577,
          578,
          579,
          580,
          581,
          582,
          583,
          584,
          585,
          586,
          587,
          588,
          589,
          590,
          591,
          592,
          593,
          594,
          595,
          596,
          597,
          598,
          599,
          600,
          601,
          602,
          603,
          604,
          605,
          606,
          607,
          608,
          609,
          610,
          611,
          612,
          613,
          614,
          615,
          616,
          617,
          618,
          619,
          620,
          621,
          622,
          623,
          624,
          625,
          626,
          627,
          628,
          629,
          630,
          631,
          632,
          633,
          634,
          635,
          636,
          637,
          638,
          639,
          640,
          641,
          642,
          643,
          644,
          645,
          646,
          647,
          648,
          649,
          650,
          651,
          652,
          653,
          654,
          655,
          656,
          657,
          658,
          659,
          660,
          661,
          662,
          663,
          664,
          665,
          666,
          667,
          668,
          669,
          670,
          671,
          672,
          673,
          674,
          675,
          676,
          677,
          678,
          679,
          680,
          681,
          682,
          683,
          684,
          685,
          686,
          687,
          688,
          689,
          690,
          691,
          692,
          693,
          694,
          695,
          696,
          697,
          698,
          699,
          700,
          701,
          702,
          703,
          704,
          705,
          706,
          707,
          708,
          709,
          710,
          711,
          712,
          713,
          714,
          715,
          716,
          717,
          718,
          719,
          720,
          721,
          722,
          723,
          724,
          725,
          726,
          727,
          728,
          729,
          730,
          731,
          732,
          733,
          734,
          735,
          736,
          737,
          738,
          739,
          740,
          741,
          742,
          743,
          744,
          745,
          746,
          747,
          748,
          749,
          750,
          751,
          752,
          753,
          754,
          755,
          756,
          757,
          758,
          759,
          760,
          761,
          762,
          763,
          764,
          765,
          766,
          767,
          768,
          769,
          770,
          771,
          772,
          773,
          774,
          775,
          776,
          777,
          778,
          779,
          780,
          781,
          782,
          783,
          784,
          785,
          786,
          787,
          788,
          789,
          790,
          791,
          792,
          793,
          794,
          795,
          796,
          797,
          798,
          799,
          800,
          801,
          802,
          803,
          804,
          805,
          806,
          807,
          808,
          809,
          810,
          811,
          812,
          813,
          814,
          815,
          816,
          817,
          818,
          819,
          820,
          821,
          822,
          823,
          824,
          825,
          826,
          827,
          828,
          829,
          830,
          831,
          832,
          833,
          834,
          835,
          836,
          837,
          838,
          839,
          840,
          841,
          842,
          843,
          844,
          845,
          846,
          847,
          848,
          849,
          850,
          851,
          852,
          853,
          854,
          855,
          856,
          857,
          858,
          859,
          860,
          861,
          862,
          863,
          864,
          865,
          866,
          867,
          868,
          869,
          870,
          871,
          872,
          873,
          874,
          875,
          876,
          877,
          878,
          879,
          880,
          881,
          882,
          883,
          884,
          885,
          886,
          887,
          888,
          889,
          890,
          891,
          892,
          893,
          894,
          895,
          896,
          897,
          898,
          899,
          900,
          901,
          902,
          903,
          904,
          905,
          906,
          907,
          908,
          909,
          910,
          911,
          912,
          913,
          914,
          915,
          916,
          917,
          918,
          919,
          920,
          921,
          922,
          923,
          924,
          925,
          926,
          927,
          928,
          929,
          930,
          931,
          932,
          933,
          934,
          935,
          936,
          937,
          938,
          939,
          940,
          941,
          942,
          943,
          944,
          945,
          946,
          947,
          948,
          949,
          950,
          951,
          952,
          953,
          954,
          955,
          956,
          957,
          958,
          959,
          960,
          961,
          962,
          963,
          964,
          965,
          966,
          967,
          968,
          969,
          970,
          971,
          972,
          973,
          974,
          975,
          976,
          977,
          978,
          979,
          980,
          981,
          982,
          983,
          984,
          985,
          986,
          987,
          988,
          989,
          990,
          991,
          992,
          993,
          994,
          995,
          996,
          997,
          998,
          999
         ],
         "y": [
          0.5305726865245053,
          0.5297838316523525,
          0.5289982744468303,
          0.5282159982316063,
          0.527436986413937,
          0.5266612224844028,
          0.5258886900166387,
          0.5251193726670647,
          0.5243532541746113,
          0.5235903183604467,
          0.5228305491276973,
          0.5220739304611708,
          0.5213204464270739,
          0.5205700811727296,
          0.5198228189262926,
          0.5190786439964635,
          0.5183375407722,
          0.5175994937224268,
          0.5168644873957458,
          0.5161325064201421,
          0.5154035355026902,
          0.5146775594292589,
          0.5139545630642137,
          0.5132345313501192,
          0.5125174493074394,
          0.5118033020342377,
          0.5110920747058753,
          0.5103837525747077,
          0.5096783209697823,
          0.5089757652965329,
          0.5082760710364748,
          0.5075792237468986,
          0.506885209060562,
          0.5061940126853837,
          0.5055056204041333,
          0.5048200180741231,
          0.5041371916268972,
          0.5034571270679224,
          0.5027798104762765,
          0.5021052280043368,
          0.5014333658774683,
          0.5007642103937118,
          0.5000977479234708,
          0.4994339649091991,
          0.49877284786508674,
          0.49811438337674696,
          0.49745855810090267,
          0.49680535876507215,
          0.4961547721672552,
          0.49550678517561864,
          0.4948613847281829,
          0.49421855783250684,
          0.4935782915653742,
          0.4929405730724785,
          0.49230538956810954,
          0.49167272833483916,
          0.49104257672320695,
          0.49041492215140664,
          0.48978975210497244,
          0.48916705413646516,
          0.48854681586515913,
          0.48792902497672985,
          0.48731366922293984,
          0.4867007364213278,
          0.4860902144548952,
          0.48548209127179554,
          0.4848763548850223,
          0.48427299337209834,
          0.4836719948747649,
          0.48307334759867265,
          0.4824770398130708,
          0.4818830598504987,
          0.48129139610647703,
          0.4807020370391998,
          0.48011497116922675,
          0.4795301870791767,
          0.47894767341342076,
          0.478367418877777,
          0.47778941223920524,
          0.4772136423255023,
          0.47664009802499857,
          0.47606876828625494,
          0.47549964211776,
          0.47493270858762876,
          0.47436795682330163,
          0.4738053760112437,
          0.4732449553966458,
          0.472686684283126,
          0.4721305520324308,
          0.47157654806413907,
          0.4710246618553651,
          0.4704748829404632,
          0.46992720091073337,
          0.4693816054141275,
          0.46883808615495576,
          0.4682966328935958,
          0.46775723544620057,
          0.4672198836844085,
          0.4666845675350541,
          0.46615127697987924,
          0.46562000205524634,
          0.46509073285185115,
          0.46456345951443756,
          0.46403817224151234,
          0.46351486128506214,
          0.4629935169502702,
          0.4624741295952353,
          0.4619566896306898,
          0.461441187519721,
          0.46092761377749225,
          0.4604159589709642,
          0.4599062137186195,
          0.4593983686901854,
          0.45889241460636065,
          0.4583883422385408,
          0.45788614240854614,
          0.45738580598834927,
          0.45688732389980613,
          0.45639068711438446,
          0.4558958866528973,
          0.4554029135852341,
          0.45491175903009584,
          0.454422414154728,
          0.4539348701746589,
          0.4534491183534336,
          0.45296515000235493,
          0.4524829564802204,
          0.4520025291930634,
          0.4515238595938939,
          0.4510469391824421,
          0.45057175950489997,
          0.45009831215366736,
          0.44962658876709716,
          0.4491565810292419,
          0.44868828066960204,
          0.44822167946287456,
          0.4477567692287034,
          0.44729354183143044,
          0.44683198917984795,
          0.44637210322695225,
          0.44591387596969745,
          0.4454572994487524,
          0.44500236574825613,
          0.4445490669955767,
          0.44409739536107035,
          0.44364734305784004,
          0.44319890234149895,
          0.4427520655099316,
          0.44230682490305706,
          0.4418631729025943,
          0.44142110193182754,
          0.44098060445537335,
          0.44054167297894814,
          0.44010430004913764,
          0.43966847825316724,
          0.4392342002186723,
          0.4388014586134718,
          0.4383702461453411,
          0.4379405555617871,
          0.43751237964982326,
          0.4370857112357468,
          0.43666054318491726,
          0.4362368684015344,
          0.435814679828419,
          0.4353939704467946,
          0.43497473327606884,
          0.43455696137361743,
          0.43414064783456874,
          0.4337257857915893,
          0.4333123684146712,
          0.4329003889109182,
          0.43248984052433687,
          0.4320807165356247,
          0.4316730102619625,
          0.4312667150568055,
          0.43086182430967773,
          0.43045833144596524,
          0.430056229926712,
          0.4296555132484165,
          0.4292561749428288,
          0.42885820857674967,
          0.42846160775182945,
          0.42806636610436977,
          0.42767247730512453,
          0.4272799350591031,
          0.42688873310537384,
          0.4264988652168691,
          0.42611032520019143,
          0.4257231068954205,
          0.42533720417592064,
          0.4249526109481506,
          0.42456932115147333,
          0.42418732875796644,
          0.423806627772236,
          0.42342721223122753,
          0.42304907620404203,
          0.42267221379174996,
          0.42229661912720834,
          0.4219222863748774,
          0.42154920973063814,
          0.42117738342161326,
          0.42080680170598583,
          0.42043745887282086,
          0.42006934924188777,
          0.41970246716348375,
          0.41933680701825693,
          0.4189723632170322,
          0.4186091302006375,
          0.4182471024397302,
          0.41788627443462545,
          0.4175266407151254,
          0.41716819584034887,
          0.41681093439856204,
          0.41645485100701074,
          0.41609994031175285,
          0.4157461969874921,
          0.4153936157374131,
          0.4150421912930167,
          0.4146919184139559,
          0.41434279188787426,
          0.41399480653024406,
          0.41364795718420516,
          0.4133022387204052,
          0.41295764603684143,
          0.412614174058702,
          0.41227181773820926,
          0.41193057205446315,
          0.4115904320132869,
          0.41125139264707117,
          0.41091344901462173,
          0.41057659620100656,
          0.41024082931740347,
          0.4099061435009502,
          0.40957253391459375,
          0.4092399957469413,
          0.40890852421211193,
          0.4085781145495897,
          0.40824876202407606,
          0.4079204619253452,
          0.40759320956809875,
          0.4072670002918211,
          0.4069418294606373,
          0.40661769246316987,
          0.40629458471239766,
          0.4059725016455152,
          0.40565143872379233,
          0.4053313914324354,
          0.4050123552804492,
          0.404694325800499,
          0.4043772985487748,
          0.40406126910485407,
          0.4037462330715678,
          0.40343218607486625,
          0.40311912376368464,
          0.402807041809811,
          0.40249593590775445,
          0.40218580177461355,
          0.4018766351499463,
          0.40156843179564033,
          0.40126118749578404,
          0.4009548980565389,
          0.40064955930601137,
          0.40034516709412726,
          0.4000417172925051,
          0.39973920579433164,
          0.39943762851423714,
          0.39913698138817183,
          0.3988372603732831,
          0.3985384614477936,
          0.3982405806108791,
          0.3979436138825488,
          0.39764755730352425,
          0.39735240693512125,
          0.39705815885912993,
          0.3967648091776983,
          0.3964723540132139,
          0.3961807895081884,
          0.3958901118251408,
          0.3956003171464833,
          0.39531140167440576,
          0.3950233616307636,
          0.39473619325696335,
          0.39444989281385084,
          0.3941644565815994,
          0.393879880859599,
          0.39359616196634595,
          0.39331329623933337,
          0.39303128003494087,
          0.392750109728328,
          0.3924697817133256,
          0.39219029240232844,
          0.3919116382261892,
          0.39163381563411276,
          0.3913568210935506,
          0.3910806510900964,
          0.39080530212738246,
          0.39053077072697595,
          0.39025705342827643,
          0.38998414678841364,
          0.3897120473821463,
          0.3894407518017613,
          0.38917025665697286,
          0.38890055857482386,
          0.38863165419958584,
          0.3883635401926611,
          0.388096213232485,
          0.3878296700144282,
          0.3875639072507005,
          0.3872989216702538,
          0.3870347100186882,
          0.3867712690581555,
          0.3865085955672658,
          0.3862466863409931,
          0.3859855381905824,
          0.38572514794345714,
          0.38546551244312655,
          0.38520662854909477,
          0.38494849313676915,
          0.3846911030973705,
          0.38443445533784226,
          0.3841785467807626,
          0.38392337436425383,
          0.38366893504189503,
          0.3834152257826347,
          0.38316224357070233,
          0.38290998540552307,
          0.38265844830163004,
          0.38240762928857996,
          0.3821575254108675,
          0.3819081337278403,
          0.38165945131361567,
          0.3814114752569959,
          0.3811642026613862,
          0.38091763064471096,
          0.38067175633933303,
          0.3804265768919709,
          0.38018208946361803,
          0.3799382912294622,
          0.37969517937880537,
          0.37945275111498417,
          0.37921100365529015,
          0.3789699342308914,
          0.3787295400867549,
          0.37848981848156776,
          0.3782507666876605,
          0.37801238199093024,
          0.3777746616907639,
          0.37753760309996276,
          0.37730120354466673,
          0.37706546036427957,
          0.3768303709113946,
          0.3765959325517194,
          0.3763621426640038,
          0.3761289986399657,
          0.37589649788421814,
          0.37566463781419807,
          0.3754334158600933,
          0.37520282946477157,
          0.3749728760837096,
          0.3747435531849223,
          0.3745148582488925,
          0.37428678876850197,
          0.37405934224896087,
          0.3738325162077399,
          0.3736063081745013,
          0.3733807156910309,
          0.37315573631117055,
          0.3729313676007506,
          0.37270760713752327,
          0.37248445251109613,
          0.3722619013228663,
          0.3720399511859542,
          0.3718185997251387,
          0.37159784457679246,
          0.37137768338881694,
          0.37115811382057884,
          0.3709391335428461,
          0.3707207402377243,
          0.3705029315985946,
          0.37028570533005,
          0.37006905914783444,
          0.3698529907787798,
          0.36963749796074546,
          0.36942257844255644,
          0.36920822998394326,
          0.3689944503554813,
          0.368781237338531,
          0.3685685887251779,
          0.3683565023181742,
          0.36814497593087864,
          0.36793400738719917,
          0.36772359452153397,
          0.36751373517871394,
          0.36730442721394513,
          0.36709566849275127,
          0.36688745689091784,
          0.3666797902944342,
          0.3664726665994394,
          0.3662660837121641,
          0.3660600395488771,
          0.365854532035829,
          0.3656495591091978,
          0.36544511871503466,
          0.365241208809209,
          0.3650378273573559,
          0.36483497233482126,
          0.36463264172660986,
          0.36443083352733113,
          0.36422954574114785,
          0.3640287763817235,
          0.36382852347217,
          0.36362878504499646,
          0.36342955914205805,
          0.36323084381450427,
          0.3630326371227293,
          0.3628349371363204,
          0.362637741934009,
          0.3624410496036203,
          0.3622448582420235,
          0.3620491659550835,
          0.36185397085761095,
          0.36165927107331464,
          0.3614650647347522,
          0.36127134998328286,
          0.3610781249690193,
          0.36088538785078017,
          0.36069313679604326,
          0.36050136998089827,
          0.36031008558999966,
          0.360119281816522,
          0.3599289568621118,
          0.35973910893684347,
          0.3595497362591724,
          0.3593608370558908,
          0.3591724095620819,
          0.3589844520210758,
          0.35879696268440475,
          0.35860993981175915,
          0.3584233816709431,
          0.3582372865378312,
          0.35805165269632533,
          0.3578664784383108,
          0.35768176206361424,
          0.35749750187996027,
          0.35731369620292946,
          0.35713034335591604,
          0.35694744167008635,
          0.35676498948433666,
          0.3565829851452522,
          0.3564014270070658,
          0.3562203134316169,
          0.3560396427883113,
          0.35585941345407995,
          0.35567962381333973,
          0.35550027225795267,
          0.35532135718718655,
          0.35514287700767566,
          0.35496483013338087,
          0.35478721498555177,
          0.354610029992686,
          0.3544332735904927,
          0.3542569442218533,
          0.3540810403367828,
          0.3539055603923926,
          0.35373050285285346,
          0.3535558661893562,
          0.35338164888007617,
          0.3532078494101356,
          0.35303446627156665,
          0.35286149796327515,
          0.3526889429910039,
          0.3525167998672971,
          0.3523450671114637,
          0.35217374324954187,
          0.3520028268142641,
          0.35183231634502105,
          0.35166221038782686,
          0.35149250749528416,
          0.3513232062265495,
          0.35115430514729856,
          0.3509858028296922,
          0.35081769785234224,
          0.3506499888002773,
          0.3504826742649096,
          0.35031575284400096,
          0.35014922314163,
          0.3499830837681585,
          0.34981733334019877,
          0.34965197048058116,
          0.34948699381832093,
          0.34932240198858644,
          0.3491581936326666,
          0.34899436739793904,
          0.3488309219378386,
          0.34866785591182514,
          0.34850516798535286,
          0.34834285682983834,
          0.3481809211226297,
          0.3480193595469761,
          0.34785817079199677,
          0.3476973535526502,
          0.34753690652970415,
          0.3473768284297056,
          0.3472171179649503,
          0.34705777385345327,
          0.3468987948189193,
          0.34674017959071285,
          0.3465819269038295,
          0.34642403549886625,
          0.3462665041219928,
          0.3461093315249225,
          0.3459525164648843,
          0.34579605770459354,
          0.34563995401222436,
          0.3454842041613805,
          0.3453288069310686,
          0.3451737611056697,
          0.34501906547491124,
          0.3448647188338403,
          0.34471071998279545,
          0.3445570677273808,
          0.34440376087843744,
          0.34425079825201765,
          0.3440981786693574,
          0.34394590095685074,
          0.34379396394602246,
          0.34364236647350227,
          0.3434911073809985,
          0.3433401855152723,
          0.3431895997281119,
          0.3430393488763063,
          0.34288943182162085,
          0.3427398474307706,
          0.34259059457539587,
          0.3424416721320373,
          0.34229307898211014,
          0.34214481401188,
          0.3419968761124382,
          0.34184926417967687,
          0.3417019771142648,
          0.34155501382162323,
          0.3414083732119019,
          0.3412620541999543,
          0.3411160557053149,
          0.3409703766521745,
          0.34082501596935727,
          0.34067997259029736,
          0.34053524545301506,
          0.34039083350009397,
          0.34024673567865776,
          0.3401029509403479,
          0.3399594782412997,
          0.339816316542121,
          0.33967346480786875,
          0.33953092200802665,
          0.33938868711648323,
          0.33924675911150975,
          0.3391051369757379,
          0.33896381969613765,
          0.33882280626399613,
          0.3386820956748957,
          0.33854168692869235,
          0.3384015790294942,
          0.3382617709856403,
          0.33812226180967997,
          0.3379830505183507,
          0.337844136132558,
          0.33770551767735457,
          0.3375671941819192,
          0.3374291646795363,
          0.3372914282075763,
          0.3371539838074733,
          0.33701683052470727,
          0.33687996740878184,
          0.3367433935132059,
          0.3366071078954722,
          0.3364711096170393,
          0.33633539774331006,
          0.3361999713436133,
          0.336064829491184,
          0.33592997126314394,
          0.33579539574048245,
          0.3356611020080373,
          0.3355270891544753,
          0.3353933562722744,
          0.33525990245770343,
          0.3351267268108046,
          0.33499382843537456,
          0.33486120643894546,
          0.3347288599327669,
          0.33459678803178766,
          0.33446498985463735,
          0.33433346452360874,
          0.3342022111646387,
          0.3340712289072917,
          0.3339405168847409,
          0.33381007423375114,
          0.33367990009466075,
          0.3335499936113647,
          0.33342035393129643,
          0.3332909802054113,
          0.33316187158816896,
          0.333033027237516,
          0.33290444631486954,
          0.33277612798509987,
          0.33264807141651354,
          0.3325202757808369,
          0.3323927402531993,
          0.3322654640121164,
          0.332138446239474,
          0.33201168612051135,
          0.33188518284380514,
          0.3317589356012529,
          0.3316329435880573,
          0.3315072060027098,
          0.3313817220469749,
          0.3312564909258743,
          0.3311315118476712,
          0.331006784023854,
          0.3308823066691216,
          0.33075807900136744,
          0.33063410024166395,
          0.3305103696142475,
          0.33038688634650304,
          0.3302636496689487,
          0.3301406588152213,
          0.33001791302206035,
          0.32989541152929425,
          0.3297731535798245,
          0.3296511384196116,
          0.3295293652976602,
          0.3294078334660039,
          0.3292865421796918,
          0.3291654906967731,
          0.32904467827828304,
          0.32892410418822904,
          0.32880376769357583,
          0.3286836680642316,
          0.3285638045730341,
          0.3284441764957362,
          0.32832478311099267,
          0.32820562370034545,
          0.3280866975482109,
          0.3279680039418651,
          0.32784954217143125,
          0.32773131152986523,
          0.3276133113129426,
          0.32749554081924503,
          0.32737799935014744,
          0.32726068620980414,
          0.3271436007051359,
          0.32702674214581656,
          0.326910109844261,
          0.3267937031156108,
          0.32667752127772237,
          0.3265615636511534,
          0.32644582955915075,
          0.32633031832763737,
          0.3262150292851996,
          0.32609996176307476,
          0.3259851150951391,
          0.3258704886178945,
          0.3257560816704569,
          0.32564189359454315,
          0.3255279237344599,
          0.32541417143709067,
          0.3253006360518836,
          0.3251873169308403,
          0.325074213428503,
          0.32496132490194307,
          0.3248486507107491,
          0.3247361902170151,
          0.32462394278532897,
          0.32451190778276046,
          0.32440008457884995,
          0.32428847254559684,
          0.32417707105744786,
          0.3240658794912859,
          0.3239548972264188,
          0.3238441236445675,
          0.3237335581298555,
          0.32362320006879713,
          0.32351304885028687,
          0.32340310386558807,
          0.3232933645083218,
          0.32318383017445645,
          0.32307450026229634,
          0.32296537417247106,
          0.3228564513079249,
          0.32274773107390564,
          0.3226392128779548,
          0.322530896129896,
          0.32242278024182514,
          0.32231486462809966,
          0.32220714870532824,
          0.3220996318923603,
          0.32199231361027536,
          0.32188519328237386,
          0.3217782703341655,
          0.3216715441933606,
          0.32156501428985834,
          0.32145868005573824,
          0.3213525409252494,
          0.3212465963348004,
          0.32114084572295,
          0.3210352885303967,
          0.32092992419996924,
          0.3208247521766173,
          0.3207197719074007,
          0.32061498284148093,
          0.32051038443011065,
          0.3204059761266248,
          0.320301757386431,
          0.32019772766699967,
          0.3200938864278552,
          0.31999023313056585,
          0.3198867672387358,
          0.3197834882179944,
          0.3196803955359881,
          0.3195774886623703,
          0.3194747670687933,
          0.31937223022889855,
          0.3192698776183077,
          0.31916770871461414,
          0.3190657229973732,
          0.31896391994809437,
          0.31886229905023133,
          0.31876085978917434,
          0.31865960165224044,
          0.3185585241286654,
          0.318457626709595,
          0.3183569088880762,
          0.31825637015904884,
          0.318156010019337,
          0.31805582796764065,
          0.3179558235045269,
          0.317855996132422,
          0.317756345355603,
          0.31765687068018894,
          0.31755757161413334,
          0.3174584476672155,
          0.3173594983510324,
          0.31726072317899073,
          0.31716212166629854,
          0.31706369332995743,
          0.31696543768875474,
          0.3168673542632551,
          0.31676944257579254,
          0.31667170215046325,
          0.31657413251311695,
          0.3164767331913497,
          0.31637950371449575,
          0.31628244361361985,
          0.3161855524215099,
          0.316088829672669,
          0.31599227490330783,
          0.31589588765133725,
          0.3157996674563606,
          0.3157036138596665,
          0.31560772640422124,
          0.3155120046346611,
          0.31541644809728536,
          0.3153210563400487,
          0.31522582891255435,
          0.31513076536604606,
          0.31503586525340155,
          0.31494112812912506,
          0.3148465535493402,
          0.3147521410717828,
          0.31465789025579377,
          0.31456380066231243,
          0.31446987185386893,
          0.3143761033945778,
          0.3142824948501306,
          0.3141890457877892,
          0.31409575577637905,
          0.31400262438628196,
          0.3139096511894297,
          0.313816835759297,
          0.3137241776708947,
          0.3136316765007637,
          0.3135393318269671,
          0.3134471432290848,
          0.3133551102882063,
          0.31326323258692407,
          0.31317150970932717,
          0.3130799412409949,
          0.31298852676898986,
          0.3128972658818521,
          0.3128061581695921,
          0.31271520322368507,
          0.3126244006370641,
          0.3125337500041139,
          0.3124432509206648,
          0.31235290298398605,
          0.31226270579278037,
          0.3121726589471766,
          0.3120827620487249,
          0.3119930147003894,
          0.31190341650654296,
          0.3118139670729606,
          0.3117246660068139,
          0.3116355129166645,
          0.31154650741245843,
          0.3114576491055201,
          0.31136893760854656,
          0.31128037253560115,
          0.3111919535021082,
          0.31110368012484685,
          0.3110155520219452,
          0.310927568812875,
          0.3108397301184451,
          0.31075203556079656,
          0.31066448476339664,
          0.31057707735103296,
          0.31048981294980804,
          0.31040269118713365,
          0.3103157116917254,
          0.31022887409359695,
          0.3101421780240546,
          0.3100556231156919,
          0.30996920900238384,
          0.3098829353192818,
          0.309796801702808,
          0.30971080779064997,
          0.3096249532217554,
          0.30953923763632657,
          0.3094536606758153,
          0.3093682219829176,
          0.30928292120156803,
          0.3091977579769353,
          0.309112731955416,
          0.30902784278463036,
          0.3089430901134166,
          0.3088584735918259,
          0.30877399287111706,
          0.3086896476037522,
          0.30860543744339064,
          0.3085213620448846,
          0.30843742106427396,
          0.30835361415878126,
          0.30826994098680666,
          0.30818640120792334,
          0.30810299448287237,
          0.3080197204735575,
          0.307936578843041,
          0.307853569255538,
          0.3077706913764125,
          0.30768794487217194,
          0.3076053294104628,
          0.30752284466006546,
          0.3074404902908901,
          0.3073582659739712,
          0.3072761713814637,
          0.3071942061866377,
          0.307112370063874,
          0.3070306626886596,
          0.3069490837375831,
          0.30686763288832997,
          0.3067863098196782,
          0.30670511421149366,
          0.3066240457447255,
          0.30654310410140206,
          0.3064622889646257,
          0.3063816000185691,
          0.30630103694847066,
          0.30622059944062957,
          0.3061402871824021,
          0.30606009986219695,
          0.3059800371694709,
          0.30590009879472463,
          0.3058202844294982,
          0.30574059376636714,
          0.30566102649893756,
          0.3055815823218428,
          0.3055022609307385,
          0.3054230620222986,
          0.3053439852942115,
          0.3052650304451752,
          0.30518619717489404,
          0.30510748518407377,
          0.3050288941744181,
          0.3049504238486241,
          0.3048720739103786,
          0.30479384406435384,
          0.30471573401620367,
          0.3046377434725592,
          0.30455987214102526,
          0.30448211973017614,
          0.3044044859495519,
          0.3043269705096542,
          0.3042495731219424,
          0.3041722934988298,
          0.3040951313536798,
          0.3040180864008019,
          0.30394115835544805,
          0.30386434693380865,
          0.30378765185300877,
          0.3037110728311046,
          0.3036346095870794,
          0.3035582618408398,
          0.30348202931321244,
          0.30340591172593967,
          0.30332990880167643,
          0.30325402026398607,
          0.30317824583733716,
          0.3031025852470994,
          0.30302703821954025,
          0.30295160448182146,
          0.30287628376199516,
          0.3028010757890007,
          0.30272598029266035,
          0.30265099700367665,
          0.30257612565362835,
          0.3025013659749671,
          0.30242671770101376,
          0.3023521805659551,
          0.3022777543048404,
          0.30220343865357785,
          0.3021292333489313,
          0.30205513812851637,
          0.30198115273079784,
          0.3019072768950857,
          0.30183351036153183,
          0.3017598528711269,
          0.30168630416569675,
          0.3016128639878993,
          0.30153953208122136,
          0.30146630818997483,
          0.30139319205929394,
          0.3013201834351317,
          0.3012472820642569,
          0.3011744876942506,
          0.3011018000735032,
          0.30102921895121093,
          0.30095674407737305,
          0.3008843752027883,
          0.3008121120790521,
          0.3007399544585531,
          0.30066790209447025,
          0.30059595474076967,
          0.3005241121522014,
          0.3004523740842966,
          0.3003807402933642,
          0.30030921053648774,
          0.30023778457152317,
          0.30016646215709475,
          0.3000952430525925,
          0.3000241270181693,
          0.29995311381473777,
          0.29988220320396747,
          0.2998113949482818,
          0.2997406888108548,
          0.2996700845556087,
          0.2995995819472106,
          0.29952918075107,
          0.29945888073333565,
          0.2993886816608925,
          0.29931858330135896,
          0.2992485854230845,
          0.29917868779514595,
          0.29910889018734543,
          0.2990391923702073,
          0.298969594114975,
          0.2989000951936087,
          0.29883069537878265,
          0.2987613944438819,
          0.29869219216299975,
          0.2986230883109353,
          0.2985540826631904,
          0.298485174995967,
          0.29841636508616454,
          0.29834765271137703,
          0.2982790376498909,
          0.29821051968068163,
          0.29814209858341173,
          0.2980737741384275,
          0.2980055461267571,
          0.2979374143301073,
          0.2978693785308611,
          0.29780143851207524,
          0.29773359405747774,
          0.2976658449514647,
          0.2975981909790986,
          0.297530631926105,
          0.2974631675788706,
          0.2973957977244401,
          0.2973285221505144,
          0.2972613406454474,
          0.2971942529982441,
          0.2971272589985577,
          0.2970603584366872,
          0.2969935511035752,
          0.29692683679080534,
          0.29686021529059947,
          0.2967936863958158,
          0.29672724989994625,
          0.29666090559711394,
          0.29659465328207085,
          0.2965284927501957
         ]
        }
       ],
       "layout": {
        "template": {
         "data": {
          "bar": [
           {
            "error_x": {
             "color": "#2a3f5f"
            },
            "error_y": {
             "color": "#2a3f5f"
            },
            "marker": {
             "line": {
              "color": "#E5ECF6",
              "width": 0.5
             },
             "pattern": {
              "fillmode": "overlay",
              "size": 10,
              "solidity": 0.2
             }
            },
            "type": "bar"
           }
          ],
          "barpolar": [
           {
            "marker": {
             "line": {
              "color": "#E5ECF6",
              "width": 0.5
             },
             "pattern": {
              "fillmode": "overlay",
              "size": 10,
              "solidity": 0.2
             }
            },
            "type": "barpolar"
           }
          ],
          "carpet": [
           {
            "aaxis": {
             "endlinecolor": "#2a3f5f",
             "gridcolor": "white",
             "linecolor": "white",
             "minorgridcolor": "white",
             "startlinecolor": "#2a3f5f"
            },
            "baxis": {
             "endlinecolor": "#2a3f5f",
             "gridcolor": "white",
             "linecolor": "white",
             "minorgridcolor": "white",
             "startlinecolor": "#2a3f5f"
            },
            "type": "carpet"
           }
          ],
          "choropleth": [
           {
            "colorbar": {
             "outlinewidth": 0,
             "ticks": ""
            },
            "type": "choropleth"
           }
          ],
          "contour": [
           {
            "colorbar": {
             "outlinewidth": 0,
             "ticks": ""
            },
            "colorscale": [
             [
              0,
              "#0d0887"
             ],
             [
              0.1111111111111111,
              "#46039f"
             ],
             [
              0.2222222222222222,
              "#7201a8"
             ],
             [
              0.3333333333333333,
              "#9c179e"
             ],
             [
              0.4444444444444444,
              "#bd3786"
             ],
             [
              0.5555555555555556,
              "#d8576b"
             ],
             [
              0.6666666666666666,
              "#ed7953"
             ],
             [
              0.7777777777777778,
              "#fb9f3a"
             ],
             [
              0.8888888888888888,
              "#fdca26"
             ],
             [
              1,
              "#f0f921"
             ]
            ],
            "type": "contour"
           }
          ],
          "contourcarpet": [
           {
            "colorbar": {
             "outlinewidth": 0,
             "ticks": ""
            },
            "type": "contourcarpet"
           }
          ],
          "heatmap": [
           {
            "colorbar": {
             "outlinewidth": 0,
             "ticks": ""
            },
            "colorscale": [
             [
              0,
              "#0d0887"
             ],
             [
              0.1111111111111111,
              "#46039f"
             ],
             [
              0.2222222222222222,
              "#7201a8"
             ],
             [
              0.3333333333333333,
              "#9c179e"
             ],
             [
              0.4444444444444444,
              "#bd3786"
             ],
             [
              0.5555555555555556,
              "#d8576b"
             ],
             [
              0.6666666666666666,
              "#ed7953"
             ],
             [
              0.7777777777777778,
              "#fb9f3a"
             ],
             [
              0.8888888888888888,
              "#fdca26"
             ],
             [
              1,
              "#f0f921"
             ]
            ],
            "type": "heatmap"
           }
          ],
          "heatmapgl": [
           {
            "colorbar": {
             "outlinewidth": 0,
             "ticks": ""
            },
            "colorscale": [
             [
              0,
              "#0d0887"
             ],
             [
              0.1111111111111111,
              "#46039f"
             ],
             [
              0.2222222222222222,
              "#7201a8"
             ],
             [
              0.3333333333333333,
              "#9c179e"
             ],
             [
              0.4444444444444444,
              "#bd3786"
             ],
             [
              0.5555555555555556,
              "#d8576b"
             ],
             [
              0.6666666666666666,
              "#ed7953"
             ],
             [
              0.7777777777777778,
              "#fb9f3a"
             ],
             [
              0.8888888888888888,
              "#fdca26"
             ],
             [
              1,
              "#f0f921"
             ]
            ],
            "type": "heatmapgl"
           }
          ],
          "histogram": [
           {
            "marker": {
             "pattern": {
              "fillmode": "overlay",
              "size": 10,
              "solidity": 0.2
             }
            },
            "type": "histogram"
           }
          ],
          "histogram2d": [
           {
            "colorbar": {
             "outlinewidth": 0,
             "ticks": ""
            },
            "colorscale": [
             [
              0,
              "#0d0887"
             ],
             [
              0.1111111111111111,
              "#46039f"
             ],
             [
              0.2222222222222222,
              "#7201a8"
             ],
             [
              0.3333333333333333,
              "#9c179e"
             ],
             [
              0.4444444444444444,
              "#bd3786"
             ],
             [
              0.5555555555555556,
              "#d8576b"
             ],
             [
              0.6666666666666666,
              "#ed7953"
             ],
             [
              0.7777777777777778,
              "#fb9f3a"
             ],
             [
              0.8888888888888888,
              "#fdca26"
             ],
             [
              1,
              "#f0f921"
             ]
            ],
            "type": "histogram2d"
           }
          ],
          "histogram2dcontour": [
           {
            "colorbar": {
             "outlinewidth": 0,
             "ticks": ""
            },
            "colorscale": [
             [
              0,
              "#0d0887"
             ],
             [
              0.1111111111111111,
              "#46039f"
             ],
             [
              0.2222222222222222,
              "#7201a8"
             ],
             [
              0.3333333333333333,
              "#9c179e"
             ],
             [
              0.4444444444444444,
              "#bd3786"
             ],
             [
              0.5555555555555556,
              "#d8576b"
             ],
             [
              0.6666666666666666,
              "#ed7953"
             ],
             [
              0.7777777777777778,
              "#fb9f3a"
             ],
             [
              0.8888888888888888,
              "#fdca26"
             ],
             [
              1,
              "#f0f921"
             ]
            ],
            "type": "histogram2dcontour"
           }
          ],
          "mesh3d": [
           {
            "colorbar": {
             "outlinewidth": 0,
             "ticks": ""
            },
            "type": "mesh3d"
           }
          ],
          "parcoords": [
           {
            "line": {
             "colorbar": {
              "outlinewidth": 0,
              "ticks": ""
             }
            },
            "type": "parcoords"
           }
          ],
          "pie": [
           {
            "automargin": true,
            "type": "pie"
           }
          ],
          "scatter": [
           {
            "fillpattern": {
             "fillmode": "overlay",
             "size": 10,
             "solidity": 0.2
            },
            "type": "scatter"
           }
          ],
          "scatter3d": [
           {
            "line": {
             "colorbar": {
              "outlinewidth": 0,
              "ticks": ""
             }
            },
            "marker": {
             "colorbar": {
              "outlinewidth": 0,
              "ticks": ""
             }
            },
            "type": "scatter3d"
           }
          ],
          "scattercarpet": [
           {
            "marker": {
             "colorbar": {
              "outlinewidth": 0,
              "ticks": ""
             }
            },
            "type": "scattercarpet"
           }
          ],
          "scattergeo": [
           {
            "marker": {
             "colorbar": {
              "outlinewidth": 0,
              "ticks": ""
             }
            },
            "type": "scattergeo"
           }
          ],
          "scattergl": [
           {
            "marker": {
             "colorbar": {
              "outlinewidth": 0,
              "ticks": ""
             }
            },
            "type": "scattergl"
           }
          ],
          "scattermapbox": [
           {
            "marker": {
             "colorbar": {
              "outlinewidth": 0,
              "ticks": ""
             }
            },
            "type": "scattermapbox"
           }
          ],
          "scatterpolar": [
           {
            "marker": {
             "colorbar": {
              "outlinewidth": 0,
              "ticks": ""
             }
            },
            "type": "scatterpolar"
           }
          ],
          "scatterpolargl": [
           {
            "marker": {
             "colorbar": {
              "outlinewidth": 0,
              "ticks": ""
             }
            },
            "type": "scatterpolargl"
           }
          ],
          "scatterternary": [
           {
            "marker": {
             "colorbar": {
              "outlinewidth": 0,
              "ticks": ""
             }
            },
            "type": "scatterternary"
           }
          ],
          "surface": [
           {
            "colorbar": {
             "outlinewidth": 0,
             "ticks": ""
            },
            "colorscale": [
             [
              0,
              "#0d0887"
             ],
             [
              0.1111111111111111,
              "#46039f"
             ],
             [
              0.2222222222222222,
              "#7201a8"
             ],
             [
              0.3333333333333333,
              "#9c179e"
             ],
             [
              0.4444444444444444,
              "#bd3786"
             ],
             [
              0.5555555555555556,
              "#d8576b"
             ],
             [
              0.6666666666666666,
              "#ed7953"
             ],
             [
              0.7777777777777778,
              "#fb9f3a"
             ],
             [
              0.8888888888888888,
              "#fdca26"
             ],
             [
              1,
              "#f0f921"
             ]
            ],
            "type": "surface"
           }
          ],
          "table": [
           {
            "cells": {
             "fill": {
              "color": "#EBF0F8"
             },
             "line": {
              "color": "white"
             }
            },
            "header": {
             "fill": {
              "color": "#C8D4E3"
             },
             "line": {
              "color": "white"
             }
            },
            "type": "table"
           }
          ]
         },
         "layout": {
          "annotationdefaults": {
           "arrowcolor": "#2a3f5f",
           "arrowhead": 0,
           "arrowwidth": 1
          },
          "autotypenumbers": "strict",
          "coloraxis": {
           "colorbar": {
            "outlinewidth": 0,
            "ticks": ""
           }
          },
          "colorscale": {
           "diverging": [
            [
             0,
             "#8e0152"
            ],
            [
             0.1,
             "#c51b7d"
            ],
            [
             0.2,
             "#de77ae"
            ],
            [
             0.3,
             "#f1b6da"
            ],
            [
             0.4,
             "#fde0ef"
            ],
            [
             0.5,
             "#f7f7f7"
            ],
            [
             0.6,
             "#e6f5d0"
            ],
            [
             0.7,
             "#b8e186"
            ],
            [
             0.8,
             "#7fbc41"
            ],
            [
             0.9,
             "#4d9221"
            ],
            [
             1,
             "#276419"
            ]
           ],
           "sequential": [
            [
             0,
             "#0d0887"
            ],
            [
             0.1111111111111111,
             "#46039f"
            ],
            [
             0.2222222222222222,
             "#7201a8"
            ],
            [
             0.3333333333333333,
             "#9c179e"
            ],
            [
             0.4444444444444444,
             "#bd3786"
            ],
            [
             0.5555555555555556,
             "#d8576b"
            ],
            [
             0.6666666666666666,
             "#ed7953"
            ],
            [
             0.7777777777777778,
             "#fb9f3a"
            ],
            [
             0.8888888888888888,
             "#fdca26"
            ],
            [
             1,
             "#f0f921"
            ]
           ],
           "sequentialminus": [
            [
             0,
             "#0d0887"
            ],
            [
             0.1111111111111111,
             "#46039f"
            ],
            [
             0.2222222222222222,
             "#7201a8"
            ],
            [
             0.3333333333333333,
             "#9c179e"
            ],
            [
             0.4444444444444444,
             "#bd3786"
            ],
            [
             0.5555555555555556,
             "#d8576b"
            ],
            [
             0.6666666666666666,
             "#ed7953"
            ],
            [
             0.7777777777777778,
             "#fb9f3a"
            ],
            [
             0.8888888888888888,
             "#fdca26"
            ],
            [
             1,
             "#f0f921"
            ]
           ]
          },
          "colorway": [
           "#636efa",
           "#EF553B",
           "#00cc96",
           "#ab63fa",
           "#FFA15A",
           "#19d3f3",
           "#FF6692",
           "#B6E880",
           "#FF97FF",
           "#FECB52"
          ],
          "font": {
           "color": "#2a3f5f"
          },
          "geo": {
           "bgcolor": "white",
           "lakecolor": "white",
           "landcolor": "#E5ECF6",
           "showlakes": true,
           "showland": true,
           "subunitcolor": "white"
          },
          "hoverlabel": {
           "align": "left"
          },
          "hovermode": "closest",
          "mapbox": {
           "style": "light"
          },
          "paper_bgcolor": "white",
          "plot_bgcolor": "#E5ECF6",
          "polar": {
           "angularaxis": {
            "gridcolor": "white",
            "linecolor": "white",
            "ticks": ""
           },
           "bgcolor": "#E5ECF6",
           "radialaxis": {
            "gridcolor": "white",
            "linecolor": "white",
            "ticks": ""
           }
          },
          "scene": {
           "xaxis": {
            "backgroundcolor": "#E5ECF6",
            "gridcolor": "white",
            "gridwidth": 2,
            "linecolor": "white",
            "showbackground": true,
            "ticks": "",
            "zerolinecolor": "white"
           },
           "yaxis": {
            "backgroundcolor": "#E5ECF6",
            "gridcolor": "white",
            "gridwidth": 2,
            "linecolor": "white",
            "showbackground": true,
            "ticks": "",
            "zerolinecolor": "white"
           },
           "zaxis": {
            "backgroundcolor": "#E5ECF6",
            "gridcolor": "white",
            "gridwidth": 2,
            "linecolor": "white",
            "showbackground": true,
            "ticks": "",
            "zerolinecolor": "white"
           }
          },
          "shapedefaults": {
           "line": {
            "color": "#2a3f5f"
           }
          },
          "ternary": {
           "aaxis": {
            "gridcolor": "white",
            "linecolor": "white",
            "ticks": ""
           },
           "baxis": {
            "gridcolor": "white",
            "linecolor": "white",
            "ticks": ""
           },
           "bgcolor": "#E5ECF6",
           "caxis": {
            "gridcolor": "white",
            "linecolor": "white",
            "ticks": ""
           }
          },
          "title": {
           "x": 0.05
          },
          "xaxis": {
           "automargin": true,
           "gridcolor": "white",
           "linecolor": "white",
           "ticks": "",
           "title": {
            "standoff": 15
           },
           "zerolinecolor": "white",
           "zerolinewidth": 2
          },
          "yaxis": {
           "automargin": true,
           "gridcolor": "white",
           "linecolor": "white",
           "ticks": "",
           "title": {
            "standoff": 15
           },
           "zerolinecolor": "white",
           "zerolinewidth": 2
          }
         }
        }
       }
      }
     },
     "metadata": {},
     "output_type": "display_data"
    }
   ],
   "source": [
    "import plotly.graph_objects as go\n",
    "\n",
    "fig = go.Figure()\n",
    "fig.add_trace(\n",
    "    go.Scatter(x= np.arange(len(J_array)), y= J_array)\n",
    ")"
   ]
  },
  {
   "cell_type": "code",
   "execution_count": null,
   "metadata": {},
   "outputs": [],
   "source": []
  }
 ],
 "metadata": {
  "kernelspec": {
   "display_name": "tf",
   "language": "python",
   "name": "python3"
  },
  "language_info": {
   "codemirror_mode": {
    "name": "ipython",
    "version": 3
   },
   "file_extension": ".py",
   "mimetype": "text/x-python",
   "name": "python",
   "nbconvert_exporter": "python",
   "pygments_lexer": "ipython3",
   "version": "3.11.9"
  }
 },
 "nbformat": 4,
 "nbformat_minor": 2
}
