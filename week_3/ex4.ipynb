{
 "cells": [
  {
   "cell_type": "markdown",
   "metadata": {},
   "source": [
    "# Formular\n",
    "\n",
    "We have: \n",
    "$\n",
    "\\\\  \\ \\\\\n",
    "cost(h_\\theta (x), y) = \\left \\{ \\begin{array}{rcl} -log(h_\\theta(x)) \\end{array} \\right \\}\n",
    "\\ \\\\ \\ \\\\\n",
    "J = \\frac{1}{2m} \\sum_{i = 1}^{m} cost (h(x^{(i)}), y^{(i)} ) \n",
    "\\ \\\\ \\ \\\\\n",
    "\\rightarrow \\frac{dJ}{dh} = \\frac{1}{m} \\sum_{i=1}^{m} (h(x^{(i)}) - y^{(i)} ) \\\\ \n",
    "\\ \\\\\n",
    "h(a) = \\frac {1} {1 + e^{-a}} \\rightarrow \n",
    "\\ \\\\ \\ \\\\\n",
    "a_{\\theta}(x) = \\theta^T x \\rightarrow \\frac{da}{d\\theta} = x\\\\\n",
    "\\ \\\\\n",
    "\\frac{dJ}{d\\theta} = \\frac{dJ}{dh} \\frac{dh}{d\\theta} = \\frac{1}{m} \\sum_{i=1}^{m} (h(x^{(i)}) - y^{(i)} ) x^{(i)} \\\\\n",
    "\\ \\\\\n",
    "\\theta_i = \\theta_i - \\alpha \\frac{\\partial J (\\theta_0,\\dots, \\theta_n)} {\\partial \\theta_i}  \n",
    "$"
   ]
  },
  {
   "cell_type": "code",
   "execution_count": 13,
   "metadata": {},
   "outputs": [],
   "source": [
    "import matplotlib.pyplot as plt\n",
    "import plotly.graph_objects as go\n",
    "import numpy as np\n",
    "import pandas as pd"
   ]
  },
  {
   "cell_type": "code",
   "execution_count": 26,
   "metadata": {},
   "outputs": [],
   "source": [
    "ex4_data = pd.read_csv('ex4data.txt', header= None).to_numpy()"
   ]
  },
  {
   "cell_type": "code",
   "execution_count": 32,
   "metadata": {},
   "outputs": [],
   "source": [
    "X, Y, cl = ex4_data[:, 0], ex4_data[:, 1], ex4_data[:, 2]  "
   ]
  },
  {
   "cell_type": "code",
   "execution_count": 42,
   "metadata": {},
   "outputs": [
    {
     "data": {
      "text/plain": [
       "array(['blue', 'blue', 'blue', 'red', 'red', 'blue', 'red', 'red', 'red',\n",
       "       'red', 'blue', 'blue', 'red', 'red', 'blue', 'red', 'red', 'blue',\n",
       "       'red', 'red', 'blue', 'red', 'blue', 'blue', 'red', 'red', 'red',\n",
       "       'blue', 'blue', 'blue', 'red', 'red', 'blue', 'red', 'blue',\n",
       "       'blue', 'blue', 'red', 'blue', 'blue', 'red', 'blue', 'red',\n",
       "       'blue', 'blue', 'blue', 'red', 'red', 'red', 'red', 'red', 'red',\n",
       "       'red', 'blue', 'blue', 'blue', 'red', 'blue', 'red', 'red', 'red',\n",
       "       'blue', 'blue', 'blue', 'blue', 'blue', 'red', 'blue', 'red',\n",
       "       'red', 'blue', 'red', 'red', 'red', 'red', 'red', 'red', 'red',\n",
       "       'blue', 'blue', 'red', 'red', 'red', 'red', 'red', 'red', 'blue',\n",
       "       'red', 'red', 'blue', 'red', 'red', 'blue', 'red', 'red', 'red',\n",
       "       'red', 'red', 'red', 'red'], dtype='<U4')"
      ]
     },
     "execution_count": 42,
     "metadata": {},
     "output_type": "execute_result"
    }
   ],
   "source": [
    "colors = np.where(cl == 1, 'red', 'blue')\n",
    "colors"
   ]
  },
  {
   "cell_type": "code",
   "execution_count": 44,
   "metadata": {},
   "outputs": [
    {
     "data": {
      "application/vnd.plotly.v1+json": {
       "config": {
        "plotlyServerURL": "https://plot.ly"
       },
       "data": [
        {
         "marker": {
          "color": [
           "blue",
           "blue",
           "blue",
           "red",
           "red",
           "blue",
           "red",
           "red",
           "red",
           "red",
           "blue",
           "blue",
           "red",
           "red",
           "blue",
           "red",
           "red",
           "blue",
           "red",
           "red",
           "blue",
           "red",
           "blue",
           "blue",
           "red",
           "red",
           "red",
           "blue",
           "blue",
           "blue",
           "red",
           "red",
           "blue",
           "red",
           "blue",
           "blue",
           "blue",
           "red",
           "blue",
           "blue",
           "red",
           "blue",
           "red",
           "blue",
           "blue",
           "blue",
           "red",
           "red",
           "red",
           "red",
           "red",
           "red",
           "red",
           "blue",
           "blue",
           "blue",
           "red",
           "blue",
           "red",
           "red",
           "red",
           "blue",
           "blue",
           "blue",
           "blue",
           "blue",
           "red",
           "blue",
           "red",
           "red",
           "blue",
           "red",
           "red",
           "red",
           "red",
           "red",
           "red",
           "red",
           "blue",
           "blue",
           "red",
           "red",
           "red",
           "red",
           "red",
           "red",
           "blue",
           "red",
           "red",
           "blue",
           "red",
           "red",
           "blue",
           "red",
           "red",
           "red",
           "red",
           "red",
           "red",
           "red"
          ]
         },
         "mode": "markers",
         "type": "scatter",
         "x": [
          34.62365962451697,
          30.28671076822607,
          35.84740876993872,
          60.18259938620976,
          79.0327360507101,
          45.08327747668339,
          61.10666453684766,
          75.02474556738889,
          76.09878670226257,
          84.43281996120035,
          95.86155507093572,
          75.01365838958247,
          82.30705337399482,
          69.36458875970939,
          39.53833914367223,
          53.9710521485623,
          69.07014406283025,
          67.94685547711617,
          70.66150955499435,
          76.97878372747498,
          67.37202754570876,
          89.6767757507208,
          50.534788289883,
          34.21206097786789,
          77.9240914545704,
          62.27101367004632,
          80.1901807509566,
          93.114388797442,
          61.83020602312595,
          38.78580379679423,
          61.379289447425,
          85.40451939411645,
          52.10797973193984,
          52.04540476831827,
          40.23689373545111,
          54.63510555424817,
          33.91550010906887,
          64.17698887494485,
          74.78925295941542,
          34.1836400264419,
          83.90239366249155,
          51.54772026906181,
          94.44336776917852,
          82.36875375713919,
          51.04775177128865,
          62.22267576120188,
          77.19303492601364,
          97.77159928000232,
          62.07306379667647,
          91.56497449807442,
          79.94481794066932,
          99.2725269292572,
          90.54671411399852,
          34.52451385320009,
          50.2864961189907,
          49.58667721632031,
          97.64563396007767,
          32.57720016809309,
          74.24869136721598,
          71.7964620586338,
          75.3956114656803,
          35.28611281526193,
          56.25381749711624,
          30.05882244669796,
          44.66826172480893,
          66.56089447242954,
          40.45755098375164,
          49.07256321908844,
          80.27957401466998,
          66.74671856944039,
          32.72283304060323,
          64.0393204150601,
          72.34649422579923,
          60.45788573918959,
          58.84095621726802,
          99.82785779692128,
          47.26426910848174,
          50.45815980285988,
          60.45555629271532,
          82.22666157785568,
          88.9138964166533,
          94.83450672430196,
          67.31925746917527,
          57.23870631569862,
          80.36675600171273,
          68.46852178591112,
          42.0754545384731,
          75.47770200533905,
          78.63542434898018,
          52.34800398794107,
          94.09433112516793,
          90.44855097096364,
          55.48216114069585,
          74.49269241843041,
          89.84580670720979,
          83.48916274498238,
          42.2617008099817,
          99.31500880510394,
          55.34001756003703,
          74.77589300092767
         ],
         "y": [
          78.0246928153624,
          43.89499752400101,
          72.90219802708364,
          86.30855209546826,
          75.3443764369103,
          56.3163717815305,
          96.51142588489624,
          46.55401354116538,
          87.42056971926803,
          43.53339331072109,
          38.22527805795094,
          30.60326323428011,
          76.48196330235604,
          97.71869196188608,
          76.03681085115882,
          89.20735013750205,
          52.74046973016765,
          46.67857410673128,
          92.92713789364832,
          47.57596364975532,
          42.83843832029179,
          65.79936592745237,
          48.85581152764205,
          44.20952859866288,
          68.9723599933059,
          69.95445795447587,
          44.82162893218353,
          38.80067033713209,
          50.25610789244621,
          64.99568095539578,
          72.80788731317097,
          57.05198397627122,
          63.12762376881715,
          69.43286012045222,
          71.16774802184875,
          52.21388588061123,
          98.86943574220612,
          80.90806058670817,
          41.57341522824434,
          75.2377203360134,
          56.30804621605327,
          46.85629026349976,
          65.56892160559052,
          40.61825515970618,
          45.82270145776001,
          52.06099194836679,
          70.45820000180959,
          86.7278223300282,
          96.76882412413984,
          88.696292545466,
          74.16311935043758,
          60.99903099844988,
          43.39060180650027,
          60.39634245837173,
          49.80453881323059,
          59.80895099453265,
          68.86157272420604,
          95.59854761387876,
          69.82457122657193,
          78.45356224515052,
          85.75993667331619,
          47.02051394723416,
          39.26147251058019,
          49.59297386723685,
          66.45008614558913,
          41.09209807936973,
          97.53518548909936,
          51.88321182073966,
          92.11606081344084,
          60.99139402740988,
          43.30717306430063,
          78.03168802018232,
          96.22759296761404,
          73.09499809758037,
          75.85844831279042,
          72.36925193383885,
          88.47586499559782,
          75.80985952982456,
          42.50840943572217,
          42.71987853716458,
          69.80378889835472,
          45.69430680250754,
          66.58935317747915,
          59.51428198012956,
          90.96014789746954,
          85.59430710452014,
          78.84478600148043,
          90.42453899753964,
          96.64742716885644,
          60.76950525602592,
          77.15910509073893,
          87.50879176484702,
          35.57070347228866,
          84.84513684930135,
          45.35828361091658,
          48.38028579728175,
          87.10385094025457,
          68.77540947206617,
          64.9319380069486,
          89.52981289513276
         ]
        }
       ],
       "layout": {
        "template": {
         "data": {
          "bar": [
           {
            "error_x": {
             "color": "#2a3f5f"
            },
            "error_y": {
             "color": "#2a3f5f"
            },
            "marker": {
             "line": {
              "color": "#E5ECF6",
              "width": 0.5
             },
             "pattern": {
              "fillmode": "overlay",
              "size": 10,
              "solidity": 0.2
             }
            },
            "type": "bar"
           }
          ],
          "barpolar": [
           {
            "marker": {
             "line": {
              "color": "#E5ECF6",
              "width": 0.5
             },
             "pattern": {
              "fillmode": "overlay",
              "size": 10,
              "solidity": 0.2
             }
            },
            "type": "barpolar"
           }
          ],
          "carpet": [
           {
            "aaxis": {
             "endlinecolor": "#2a3f5f",
             "gridcolor": "white",
             "linecolor": "white",
             "minorgridcolor": "white",
             "startlinecolor": "#2a3f5f"
            },
            "baxis": {
             "endlinecolor": "#2a3f5f",
             "gridcolor": "white",
             "linecolor": "white",
             "minorgridcolor": "white",
             "startlinecolor": "#2a3f5f"
            },
            "type": "carpet"
           }
          ],
          "choropleth": [
           {
            "colorbar": {
             "outlinewidth": 0,
             "ticks": ""
            },
            "type": "choropleth"
           }
          ],
          "contour": [
           {
            "colorbar": {
             "outlinewidth": 0,
             "ticks": ""
            },
            "colorscale": [
             [
              0,
              "#0d0887"
             ],
             [
              0.1111111111111111,
              "#46039f"
             ],
             [
              0.2222222222222222,
              "#7201a8"
             ],
             [
              0.3333333333333333,
              "#9c179e"
             ],
             [
              0.4444444444444444,
              "#bd3786"
             ],
             [
              0.5555555555555556,
              "#d8576b"
             ],
             [
              0.6666666666666666,
              "#ed7953"
             ],
             [
              0.7777777777777778,
              "#fb9f3a"
             ],
             [
              0.8888888888888888,
              "#fdca26"
             ],
             [
              1,
              "#f0f921"
             ]
            ],
            "type": "contour"
           }
          ],
          "contourcarpet": [
           {
            "colorbar": {
             "outlinewidth": 0,
             "ticks": ""
            },
            "type": "contourcarpet"
           }
          ],
          "heatmap": [
           {
            "colorbar": {
             "outlinewidth": 0,
             "ticks": ""
            },
            "colorscale": [
             [
              0,
              "#0d0887"
             ],
             [
              0.1111111111111111,
              "#46039f"
             ],
             [
              0.2222222222222222,
              "#7201a8"
             ],
             [
              0.3333333333333333,
              "#9c179e"
             ],
             [
              0.4444444444444444,
              "#bd3786"
             ],
             [
              0.5555555555555556,
              "#d8576b"
             ],
             [
              0.6666666666666666,
              "#ed7953"
             ],
             [
              0.7777777777777778,
              "#fb9f3a"
             ],
             [
              0.8888888888888888,
              "#fdca26"
             ],
             [
              1,
              "#f0f921"
             ]
            ],
            "type": "heatmap"
           }
          ],
          "heatmapgl": [
           {
            "colorbar": {
             "outlinewidth": 0,
             "ticks": ""
            },
            "colorscale": [
             [
              0,
              "#0d0887"
             ],
             [
              0.1111111111111111,
              "#46039f"
             ],
             [
              0.2222222222222222,
              "#7201a8"
             ],
             [
              0.3333333333333333,
              "#9c179e"
             ],
             [
              0.4444444444444444,
              "#bd3786"
             ],
             [
              0.5555555555555556,
              "#d8576b"
             ],
             [
              0.6666666666666666,
              "#ed7953"
             ],
             [
              0.7777777777777778,
              "#fb9f3a"
             ],
             [
              0.8888888888888888,
              "#fdca26"
             ],
             [
              1,
              "#f0f921"
             ]
            ],
            "type": "heatmapgl"
           }
          ],
          "histogram": [
           {
            "marker": {
             "pattern": {
              "fillmode": "overlay",
              "size": 10,
              "solidity": 0.2
             }
            },
            "type": "histogram"
           }
          ],
          "histogram2d": [
           {
            "colorbar": {
             "outlinewidth": 0,
             "ticks": ""
            },
            "colorscale": [
             [
              0,
              "#0d0887"
             ],
             [
              0.1111111111111111,
              "#46039f"
             ],
             [
              0.2222222222222222,
              "#7201a8"
             ],
             [
              0.3333333333333333,
              "#9c179e"
             ],
             [
              0.4444444444444444,
              "#bd3786"
             ],
             [
              0.5555555555555556,
              "#d8576b"
             ],
             [
              0.6666666666666666,
              "#ed7953"
             ],
             [
              0.7777777777777778,
              "#fb9f3a"
             ],
             [
              0.8888888888888888,
              "#fdca26"
             ],
             [
              1,
              "#f0f921"
             ]
            ],
            "type": "histogram2d"
           }
          ],
          "histogram2dcontour": [
           {
            "colorbar": {
             "outlinewidth": 0,
             "ticks": ""
            },
            "colorscale": [
             [
              0,
              "#0d0887"
             ],
             [
              0.1111111111111111,
              "#46039f"
             ],
             [
              0.2222222222222222,
              "#7201a8"
             ],
             [
              0.3333333333333333,
              "#9c179e"
             ],
             [
              0.4444444444444444,
              "#bd3786"
             ],
             [
              0.5555555555555556,
              "#d8576b"
             ],
             [
              0.6666666666666666,
              "#ed7953"
             ],
             [
              0.7777777777777778,
              "#fb9f3a"
             ],
             [
              0.8888888888888888,
              "#fdca26"
             ],
             [
              1,
              "#f0f921"
             ]
            ],
            "type": "histogram2dcontour"
           }
          ],
          "mesh3d": [
           {
            "colorbar": {
             "outlinewidth": 0,
             "ticks": ""
            },
            "type": "mesh3d"
           }
          ],
          "parcoords": [
           {
            "line": {
             "colorbar": {
              "outlinewidth": 0,
              "ticks": ""
             }
            },
            "type": "parcoords"
           }
          ],
          "pie": [
           {
            "automargin": true,
            "type": "pie"
           }
          ],
          "scatter": [
           {
            "fillpattern": {
             "fillmode": "overlay",
             "size": 10,
             "solidity": 0.2
            },
            "type": "scatter"
           }
          ],
          "scatter3d": [
           {
            "line": {
             "colorbar": {
              "outlinewidth": 0,
              "ticks": ""
             }
            },
            "marker": {
             "colorbar": {
              "outlinewidth": 0,
              "ticks": ""
             }
            },
            "type": "scatter3d"
           }
          ],
          "scattercarpet": [
           {
            "marker": {
             "colorbar": {
              "outlinewidth": 0,
              "ticks": ""
             }
            },
            "type": "scattercarpet"
           }
          ],
          "scattergeo": [
           {
            "marker": {
             "colorbar": {
              "outlinewidth": 0,
              "ticks": ""
             }
            },
            "type": "scattergeo"
           }
          ],
          "scattergl": [
           {
            "marker": {
             "colorbar": {
              "outlinewidth": 0,
              "ticks": ""
             }
            },
            "type": "scattergl"
           }
          ],
          "scattermapbox": [
           {
            "marker": {
             "colorbar": {
              "outlinewidth": 0,
              "ticks": ""
             }
            },
            "type": "scattermapbox"
           }
          ],
          "scatterpolar": [
           {
            "marker": {
             "colorbar": {
              "outlinewidth": 0,
              "ticks": ""
             }
            },
            "type": "scatterpolar"
           }
          ],
          "scatterpolargl": [
           {
            "marker": {
             "colorbar": {
              "outlinewidth": 0,
              "ticks": ""
             }
            },
            "type": "scatterpolargl"
           }
          ],
          "scatterternary": [
           {
            "marker": {
             "colorbar": {
              "outlinewidth": 0,
              "ticks": ""
             }
            },
            "type": "scatterternary"
           }
          ],
          "surface": [
           {
            "colorbar": {
             "outlinewidth": 0,
             "ticks": ""
            },
            "colorscale": [
             [
              0,
              "#0d0887"
             ],
             [
              0.1111111111111111,
              "#46039f"
             ],
             [
              0.2222222222222222,
              "#7201a8"
             ],
             [
              0.3333333333333333,
              "#9c179e"
             ],
             [
              0.4444444444444444,
              "#bd3786"
             ],
             [
              0.5555555555555556,
              "#d8576b"
             ],
             [
              0.6666666666666666,
              "#ed7953"
             ],
             [
              0.7777777777777778,
              "#fb9f3a"
             ],
             [
              0.8888888888888888,
              "#fdca26"
             ],
             [
              1,
              "#f0f921"
             ]
            ],
            "type": "surface"
           }
          ],
          "table": [
           {
            "cells": {
             "fill": {
              "color": "#EBF0F8"
             },
             "line": {
              "color": "white"
             }
            },
            "header": {
             "fill": {
              "color": "#C8D4E3"
             },
             "line": {
              "color": "white"
             }
            },
            "type": "table"
           }
          ]
         },
         "layout": {
          "annotationdefaults": {
           "arrowcolor": "#2a3f5f",
           "arrowhead": 0,
           "arrowwidth": 1
          },
          "autotypenumbers": "strict",
          "coloraxis": {
           "colorbar": {
            "outlinewidth": 0,
            "ticks": ""
           }
          },
          "colorscale": {
           "diverging": [
            [
             0,
             "#8e0152"
            ],
            [
             0.1,
             "#c51b7d"
            ],
            [
             0.2,
             "#de77ae"
            ],
            [
             0.3,
             "#f1b6da"
            ],
            [
             0.4,
             "#fde0ef"
            ],
            [
             0.5,
             "#f7f7f7"
            ],
            [
             0.6,
             "#e6f5d0"
            ],
            [
             0.7,
             "#b8e186"
            ],
            [
             0.8,
             "#7fbc41"
            ],
            [
             0.9,
             "#4d9221"
            ],
            [
             1,
             "#276419"
            ]
           ],
           "sequential": [
            [
             0,
             "#0d0887"
            ],
            [
             0.1111111111111111,
             "#46039f"
            ],
            [
             0.2222222222222222,
             "#7201a8"
            ],
            [
             0.3333333333333333,
             "#9c179e"
            ],
            [
             0.4444444444444444,
             "#bd3786"
            ],
            [
             0.5555555555555556,
             "#d8576b"
            ],
            [
             0.6666666666666666,
             "#ed7953"
            ],
            [
             0.7777777777777778,
             "#fb9f3a"
            ],
            [
             0.8888888888888888,
             "#fdca26"
            ],
            [
             1,
             "#f0f921"
            ]
           ],
           "sequentialminus": [
            [
             0,
             "#0d0887"
            ],
            [
             0.1111111111111111,
             "#46039f"
            ],
            [
             0.2222222222222222,
             "#7201a8"
            ],
            [
             0.3333333333333333,
             "#9c179e"
            ],
            [
             0.4444444444444444,
             "#bd3786"
            ],
            [
             0.5555555555555556,
             "#d8576b"
            ],
            [
             0.6666666666666666,
             "#ed7953"
            ],
            [
             0.7777777777777778,
             "#fb9f3a"
            ],
            [
             0.8888888888888888,
             "#fdca26"
            ],
            [
             1,
             "#f0f921"
            ]
           ]
          },
          "colorway": [
           "#636efa",
           "#EF553B",
           "#00cc96",
           "#ab63fa",
           "#FFA15A",
           "#19d3f3",
           "#FF6692",
           "#B6E880",
           "#FF97FF",
           "#FECB52"
          ],
          "font": {
           "color": "#2a3f5f"
          },
          "geo": {
           "bgcolor": "white",
           "lakecolor": "white",
           "landcolor": "#E5ECF6",
           "showlakes": true,
           "showland": true,
           "subunitcolor": "white"
          },
          "hoverlabel": {
           "align": "left"
          },
          "hovermode": "closest",
          "mapbox": {
           "style": "light"
          },
          "paper_bgcolor": "white",
          "plot_bgcolor": "#E5ECF6",
          "polar": {
           "angularaxis": {
            "gridcolor": "white",
            "linecolor": "white",
            "ticks": ""
           },
           "bgcolor": "#E5ECF6",
           "radialaxis": {
            "gridcolor": "white",
            "linecolor": "white",
            "ticks": ""
           }
          },
          "scene": {
           "xaxis": {
            "backgroundcolor": "#E5ECF6",
            "gridcolor": "white",
            "gridwidth": 2,
            "linecolor": "white",
            "showbackground": true,
            "ticks": "",
            "zerolinecolor": "white"
           },
           "yaxis": {
            "backgroundcolor": "#E5ECF6",
            "gridcolor": "white",
            "gridwidth": 2,
            "linecolor": "white",
            "showbackground": true,
            "ticks": "",
            "zerolinecolor": "white"
           },
           "zaxis": {
            "backgroundcolor": "#E5ECF6",
            "gridcolor": "white",
            "gridwidth": 2,
            "linecolor": "white",
            "showbackground": true,
            "ticks": "",
            "zerolinecolor": "white"
           }
          },
          "shapedefaults": {
           "line": {
            "color": "#2a3f5f"
           }
          },
          "ternary": {
           "aaxis": {
            "gridcolor": "white",
            "linecolor": "white",
            "ticks": ""
           },
           "baxis": {
            "gridcolor": "white",
            "linecolor": "white",
            "ticks": ""
           },
           "bgcolor": "#E5ECF6",
           "caxis": {
            "gridcolor": "white",
            "linecolor": "white",
            "ticks": ""
           }
          },
          "title": {
           "x": 0.05
          },
          "xaxis": {
           "automargin": true,
           "gridcolor": "white",
           "linecolor": "white",
           "ticks": "",
           "title": {
            "standoff": 15
           },
           "zerolinecolor": "white",
           "zerolinewidth": 2
          },
          "yaxis": {
           "automargin": true,
           "gridcolor": "white",
           "linecolor": "white",
           "ticks": "",
           "title": {
            "standoff": 15
           },
           "zerolinecolor": "white",
           "zerolinewidth": 2
          }
         }
        }
       }
      }
     },
     "metadata": {},
     "output_type": "display_data"
    }
   ],
   "source": [
    "fig = go.Figure()\n",
    "fig.add_trace(go.Scatter(x= X, y= Y, mode= 'markers', marker= dict(color= colors)))"
   ]
  }
 ],
 "metadata": {
  "kernelspec": {
   "display_name": "tf",
   "language": "python",
   "name": "python3"
  },
  "language_info": {
   "codemirror_mode": {
    "name": "ipython",
    "version": 3
   },
   "file_extension": ".py",
   "mimetype": "text/x-python",
   "name": "python",
   "nbconvert_exporter": "python",
   "pygments_lexer": "ipython3",
   "version": "3.11.9"
  }
 },
 "nbformat": 4,
 "nbformat_minor": 2
}
