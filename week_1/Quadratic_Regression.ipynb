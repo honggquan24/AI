{
 "cells": [
  {
   "cell_type": "markdown",
   "metadata": {},
   "source": [
    "Name: Vo Hong Quan <br>\n",
    "Student ID: 22134012"
   ]
  },
  {
   "cell_type": "markdown",
   "metadata": {},
   "source": [
    "# 1. Define"
   ]
  },
  {
   "cell_type": "markdown",
   "metadata": {},
   "source": [
    "## Load lib"
   ]
  },
  {
   "cell_type": "code",
   "execution_count": 21,
   "metadata": {},
   "outputs": [],
   "source": [
    "import numpy as np\n",
    "import pandas as pd\n",
    "import matplotlib.pyplot as plt"
   ]
  },
  {
   "cell_type": "markdown",
   "metadata": {},
   "source": [
    "## Define NN"
   ]
  },
  {
   "cell_type": "code",
   "execution_count": 22,
   "metadata": {},
   "outputs": [],
   "source": [
    "\n",
    "# Step 3: Create and train Neural Network for regression\n",
    "# Define Layer and Mean Squared Error Loss\n",
    "class Layer_Dense:\n",
    "    def __init__(self, n_inputs, n_neurons):\n",
    "        self.weights = 0.01 * np.random.randn(n_inputs, n_neurons)\n",
    "        self.biases = np.zeros((1, n_neurons))\n",
    "\n",
    "    def forward(self, inputs):\n",
    "        self.inputs = inputs  # Save inputs for backpropagation\n",
    "        self.output = np.dot(inputs, self.weights) + self.biases  # Linear activation\n",
    "\n",
    "    def backward(self, dvalues):\n",
    "        self.dweights = np.dot(self.inputs.T, dvalues)  # Gradient on weights\n",
    "        self.dbiases = np.sum(dvalues, axis=0, keepdims=True)  # Gradient on biases\n",
    "        self.dinputs = np.dot(dvalues, self.weights.T)  # Gradient on inputs\n",
    "\n",
    "class Activation_ReLU:\n",
    "    def forward(self, inputs):\n",
    "        self.inputs = inputs  # Save inputs for backpropagation\n",
    "        self.output = np.maximum(0, inputs)  # ReLU activation\n",
    "\n",
    "    def backward(self, dvalues):\n",
    "        self.dinputs = dvalues.copy()  # Initialize gradients\n",
    "        self.dinputs[self.inputs <= 0] = 0  # Zero gradient where input is negative\n",
    "\n",
    "class Loss_MeanSquaredError:\n",
    "    def forward(self, y_pred, y_true):\n",
    "        return np.mean((y_pred - y_true) ** 2)  # Mean Squared Error\n",
    "\n",
    "    def backward(self, dvalues, y_true):\n",
    "        samples = len(dvalues)\n",
    "        self.dinputs = -2 * (y_true - dvalues) / samples  # Gradient of MSE loss\n",
    "\n",
    "class Optimizer_Adam:\n",
    "    def __init__(self, learning_rate=0.001, decay=0., epsilon=1e-7, beta_1=0.9, beta_2=0.999):\n",
    "        self.learning_rate = learning_rate\n",
    "        self.current_learning_rate = learning_rate\n",
    "        self.decay = decay\n",
    "        self.iterations = 0\n",
    "        self.epsilon = epsilon\n",
    "        self.beta_1 = beta_1\n",
    "        self.beta_2 = beta_2\n",
    "\n",
    "    def pre_update_params(self):\n",
    "        if self.decay:\n",
    "            self.current_learning_rate = self.learning_rate * (1. / (1. + self.decay * self.iterations))\n",
    "\n",
    "    def update_params(self, layer):\n",
    "        if not hasattr(layer, 'weight_cache'):\n",
    "            # Initialize momentums and caches\n",
    "            layer.weight_momentums = np.zeros_like(layer.weights)\n",
    "            layer.weight_cache = np.zeros_like(layer.weights)\n",
    "            layer.bias_momentums = np.zeros_like(layer.biases)\n",
    "            layer.bias_cache = np.zeros_like(layer.biases)\n",
    "\n",
    "        # Update momentums with current gradients\n",
    "        layer.weight_momentums = self.beta_1 * layer.weight_momentums + (1 - self.beta_1) * layer.dweights\n",
    "        layer.bias_momentums = self.beta_1 * layer.bias_momentums + (1 - self.beta_1) * layer.dbiases\n",
    "\n",
    "        # Correct bias for momentums\n",
    "        weight_momentums_corrected = layer.weight_momentums / (1 - self.beta_1 ** (self.iterations + 1))\n",
    "        bias_momentums_corrected = layer.bias_momentums / (1 - self.beta_1 ** (self.iterations + 1))\n",
    "\n",
    "        # Update cache with squared current gradients\n",
    "        layer.weight_cache = self.beta_2 * layer.weight_cache + (1 - self.beta_2) * layer.dweights**2\n",
    "        layer.bias_cache = self.beta_2 * layer.bias_cache + (1 - self.beta_2) * layer.dbiases**2\n",
    "\n",
    "        # Correct bias for cache\n",
    "        weight_cache_corrected = layer.weight_cache / (1 - self.beta_2 ** (self.iterations + 1))\n",
    "        bias_cache_corrected = layer.bias_cache / (1 - self.beta_2 ** (self.iterations + 1))\n",
    "\n",
    "        # Update weights and biases\n",
    "        layer.weights += -self.current_learning_rate * weight_momentums_corrected / (np.sqrt(weight_cache_corrected) + self.epsilon)\n",
    "        layer.biases += -self.current_learning_rate * bias_momentums_corrected / (np.sqrt(bias_cache_corrected) + self.epsilon)\n",
    "\n",
    "    def post_update_params(self):\n",
    "        self.iterations += 1"
   ]
  },
  {
   "cell_type": "markdown",
   "metadata": {},
   "source": [
    "# 2. Create function generate quadratic data"
   ]
  },
  {
   "cell_type": "code",
   "execution_count": 23,
   "metadata": {},
   "outputs": [],
   "source": [
    "class GenerateQuadraticData:\n",
    "    def __init__(self, n_points=200, a=1, b=-2, c=3, noise_std=5):\n",
    "        self.n_points = n_points\n",
    "        self.a = a\n",
    "        self.b = b\n",
    "        self.c = c\n",
    "        self.noise_std = noise_std\n",
    "\n",
    "    def generate(self):\n",
    "        x = np.linspace(-10, 10, self.n_points)\n",
    "        noise = np.random.normal(0, self.noise_std, self.n_points)\n",
    "        y = self.a * x**2 + self.b * x + self.c + noise\n",
    "        return {\"x\": x, \"y\": y}\n",
    "\n",
    "    def save_to_csv(self, file_name=\"quadratic_data.csv\"):\n",
    "        data = self.generate()\n",
    "        df = pd.DataFrame(data)\n",
    "        df.to_csv(file_name, index=False)\n",
    "        print(f\"Data saved to {file_name}.\")"
   ]
  },
  {
   "cell_type": "markdown",
   "metadata": {},
   "source": [
    "# 3. Save and load data"
   ]
  },
  {
   "cell_type": "code",
   "execution_count": 24,
   "metadata": {},
   "outputs": [
    {
     "name": "stdout",
     "output_type": "stream",
     "text": [
      "Data saved to quadratic_data.csv.\n"
     ]
    }
   ],
   "source": [
    "data_generator = GenerateQuadraticData(n_points=200, a=2, b=-1, c=3, noise_std=10)\n",
    "data_generator.save_to_csv(\"quadratic_data.csv\")\n",
    "\n",
    "def load_quadratic_data(file_name=\"quadratic_data.csv\"):\n",
    "    \"\"\"\n",
    "    Loads quadratic data from a CSV file.\n",
    "    \"\"\"\n",
    "    data = pd.read_csv(file_name)\n",
    "    print(f\"Data loaded from {file_name}.\")\n",
    "    return data"
   ]
  },
  {
   "cell_type": "markdown",
   "metadata": {},
   "source": [
    "# 4. Train Neural network"
   ]
  },
  {
   "cell_type": "code",
   "execution_count": 25,
   "metadata": {},
   "outputs": [
    {
     "name": "stdout",
     "output_type": "stream",
     "text": [
      "Data loaded from quadratic_data.csv.\n"
     ]
    }
   ],
   "source": [
    "data = load_quadratic_data()\n",
    "\n",
    "# Prepare data\n",
    "X = data[\"x\"].values.reshape(-1, 1)\n",
    "y = data[\"y\"].values.reshape(-1, 1)\n",
    "\n",
    "# Create polynomial features\n",
    "degree = 2  # Adjust degree as needed for higher-degree data\n",
    "def create_polynomial_features(X, degree):\n",
    "    X_poly = X.copy()\n",
    "    for d in range(2, degree + 1):\n",
    "        X_poly = np.hstack((X_poly, X ** d))\n",
    "    return X_poly\n"
   ]
  },
  {
   "cell_type": "code",
   "execution_count": 26,
   "metadata": {},
   "outputs": [],
   "source": [
    "# Create data\n",
    "X_poly = create_polynomial_features(X, degree)\n",
    "\n",
    "# Normalize for  training\n",
    "X_mean = np.mean(X_poly, axis=0)\n",
    "X_std = np.std(X_poly, axis=0)\n",
    "X_poly = (X_poly - X_mean) / X_std\n",
    "\n",
    "y_mean = np.mean(y)\n",
    "y_std = np.std(y)\n",
    "y = (y - y_mean) / y_std"
   ]
  },
  {
   "cell_type": "code",
   "execution_count": 27,
   "metadata": {},
   "outputs": [
    {
     "name": "stdout",
     "output_type": "stream",
     "text": [
      "Epoch 0, Loss: 1.0000\n"
     ]
    }
   ],
   "source": [
    "# Build and train the model\n",
    "input_dim = X_poly.shape[1]  # Adjust input dimension based on polynomial features\n",
    "\n",
    "dense1 = Layer_Dense(input_dim, 2)\n",
    "activation1 = Activation_ReLU()\n",
    "\n",
    "dense2 = Layer_Dense(2, 2)\n",
    "activation2 = Activation_ReLU()\n",
    "\n",
    "dense3 = Layer_Dense(2, 1)  # Output layer\n",
    "\n",
    "loss_function = Loss_MeanSquaredError()\n",
    "optimizer = Optimizer_Adam(learning_rate=0.01)\n",
    "\n",
    "epochs = 1000\n",
    "for epoch in range(epochs):\n",
    "    # Forward pass\n",
    "    dense1.forward(X_poly)\n",
    "    activation1.forward(dense1.output)\n",
    "\n",
    "    dense2.forward(activation1.output)\n",
    "    activation2.forward(dense2.output)\n",
    "\n",
    "    dense3.forward(activation2.output)\n",
    "    y_pred = dense3.output\n",
    "\n",
    "    # Calculate loss\n",
    "    loss = loss_function.forward(y_pred, y)\n",
    "\n",
    "    # Backward pass\n",
    "    loss_function.backward(y_pred, y)\n",
    "    dense3.backward(loss_function.dinputs)\n",
    "\n",
    "    activation2.backward(dense3.dinputs)\n",
    "    dense2.backward(activation2.dinputs)\n",
    "\n",
    "    activation1.backward(dense2.dinputs)\n",
    "    dense1.backward(activation1.dinputs)\n",
    "\n",
    "    # Update weights and biases\n",
    "    optimizer.pre_update_params()\n",
    "    optimizer.update_params(dense1)\n",
    "    optimizer.update_params(dense2)\n",
    "    optimizer.update_params(dense3)\n",
    "    optimizer.post_update_params()\n",
    "\n",
    "    # Print loss every 100 epochs\n",
    "    if epoch % 1000 == 0:\n",
    "        print(f\"Epoch {epoch}, Loss: {loss:.4f}\")"
   ]
  },
  {
   "cell_type": "markdown",
   "metadata": {},
   "source": [
    "# 5. Save model "
   ]
  },
  {
   "cell_type": "code",
   "execution_count": 28,
   "metadata": {},
   "outputs": [
    {
     "name": "stdout",
     "output_type": "stream",
     "text": [
      "Model saved as 'quadratic_nn_model.npz'.\n"
     ]
    }
   ],
   "source": [
    "# Save the model parameters\n",
    "np.savez(\"quadratic_nn_model.npz\",\n",
    "         weights1=dense1.weights, biases1=dense1.biases,\n",
    "         weights2=dense2.weights, biases2=dense2.biases,\n",
    "         weights3=dense3.weights, biases3=dense3.biases)\n",
    "print(\"Model saved as 'quadratic_nn_model.npz'.\")"
   ]
  },
  {
   "cell_type": "markdown",
   "metadata": {},
   "source": [
    "# 6. Predict y for visualization"
   ]
  },
  {
   "cell_type": "code",
   "execution_count": 29,
   "metadata": {},
   "outputs": [],
   "source": [
    "dense1.forward(X_poly)\n",
    "activation1.forward(dense1.output)\n",
    "dense2.forward(activation1.output)\n",
    "activation2.forward(dense2.output)\n",
    "dense3.forward(activation2.output)\n",
    "y_pred = dense3.output\n",
    "\n",
    "# De-normalize data for plotting\n",
    "X_original = X_poly * X_std + X_mean\n",
    "y_pred_original = y_pred * y_std + y_mean\n",
    "y_original = y * y_std + y_mean"
   ]
  },
  {
   "cell_type": "markdown",
   "metadata": {},
   "source": [
    "# 7. Visualize"
   ]
  },
  {
   "cell_type": "code",
   "execution_count": 30,
   "metadata": {},
   "outputs": [
    {
     "data": {
      "image/png": "[encoded data removed]",
      "text/plain": [
       "<Figure size 640x480 with 1 Axes>"
      ]
     },
     "metadata": {},
     "output_type": "display_data"
    }
   ],
   "source": [
    "# Sort values for a smooth curve\n",
    "sorted_indices = X[:, 0].argsort()\n",
    "X_sorted = X_original[sorted_indices]\n",
    "y_pred_sorted = y_pred_original[sorted_indices]\n",
    "\n",
    "plt.scatter(X_original[:, 0], y_original,linewidths= 0.5, label=\"Actual Data\", color='orange')\n",
    "plt.plot(X_sorted[:, 0], y_pred_sorted, color='b', label=\"Predicted Curve\")\n",
    "plt.title(f\"Polynomial Regression using Neural Network (Degree {degree})\")\n",
    "plt.xlabel(\"X\")\n",
    "plt.grid()\n",
    "plt.ylabel(\"y\")\n",
    "plt.legend()\n",
    "plt.show()"
   ]
  }
 ],
 "metadata": {
  "kernelspec": {
   "display_name": "conda_env",
   "language": "python",
   "name": "python3"
  },
  "language_info": {
   "codemirror_mode": {
    "name": "ipython",
    "version": 3
   },
   "file_extension": ".py",
   "mimetype": "text/x-python",
   "name": "python",
   "nbconvert_exporter": "python",
   "pygments_lexer": "ipython3",
   "version": "3.12.7"
  }
 },
 "nbformat": 4,
 "nbformat_minor": 2
}
