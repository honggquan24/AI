{
 "cells": [
  {
   "cell_type": "code",
   "execution_count": 1,
   "metadata": {},
   "outputs": [],
   "source": [
    "import numpy as np\n",
    "import pandas as pd\n",
    "import plotly.graph_objects as go"
   ]
  },
  {
   "cell_type": "code",
   "execution_count": null,
   "metadata": {},
   "outputs": [],
   "source": [
    "df = pd.read_csv('ex2.csv')\n",
    "df.head()"
   ]
  },
  {
   "cell_type": "code",
   "execution_count": 3,
   "metadata": {},
   "outputs": [],
   "source": [
    "x_cols = df.columns[:len(df.columns) - 1]\n",
    "y_col = df.columns[-1]"
   ]
  },
  {
   "cell_type": "code",
   "execution_count": 4,
   "metadata": {},
   "outputs": [],
   "source": [
    "def normalized(vector: np.ndarray) -> np.ndarray:\n",
    "    mean = np.mean(vector)\n",
    "    standard_deviation = np.std(vector)\n",
    "    normalized_vector = (vector - mean) / standard_deviation\n",
    "    return normalized_vector\n",
    "\n",
    "x_value = df[x_cols].values \n",
    "y_value = df[y_col].values\n",
    "\n",
    "ones = np.ones((x_value.shape[0], 1))\n",
    "normalized_input = np.apply_along_axis(func1d= normalized, \n",
    "                                       axis= 0, \n",
    "                                       arr= x_value)\n",
    "normalized_input = np.hstack((ones, normalized_input))\n",
    "\n",
    "normalized_output = np.apply_along_axis(func1d= normalized, \n",
    "                                        axis= 0, \n",
    "                                        arr= y_value).reshape(-1, 1)"
   ]
  },
  {
   "cell_type": "code",
   "execution_count": 5,
   "metadata": {},
   "outputs": [],
   "source": [
    "# y_true = normalized_output"
   ]
  },
  {
   "cell_type": "code",
   "execution_count": 6,
   "metadata": {},
   "outputs": [],
   "source": [
    "# m = len(y_true)"
   ]
  },
  {
   "cell_type": "code",
   "execution_count": 7,
   "metadata": {},
   "outputs": [],
   "source": [
    "# np.random.seed(1)\n",
    "# theta = np.random.randn(9, 1)\n",
    "# theta"
   ]
  },
  {
   "cell_type": "code",
   "execution_count": 8,
   "metadata": {},
   "outputs": [],
   "source": [
    "# y_pred = np.dot(normalized_input, theta)\n",
    "# y_pred\n"
   ]
  },
  {
   "cell_type": "code",
   "execution_count": 9,
   "metadata": {},
   "outputs": [],
   "source": [
    "# J = np.sum(( y_pred - y_true)**2)/ (2*m)\n",
    "# J"
   ]
  },
  {
   "cell_type": "code",
   "execution_count": 10,
   "metadata": {},
   "outputs": [],
   "source": [
    "np.random.seed(1)\n",
    "theta_init = np.random.randn(9, 1) / 10"
   ]
  },
  {
   "cell_type": "code",
   "execution_count": 11,
   "metadata": {},
   "outputs": [],
   "source": [
    "# dJ_dtheta = np.dot(normalized_input.T, ( y_pred - y_true)) / m\n",
    "# dJ_dtheta.shape\n",
    "# # theta_updated = theta - 0.01*dJ_dtheta\n",
    "# # theta_updated"
   ]
  },
  {
   "cell_type": "code",
   "execution_count": 12,
   "metadata": {},
   "outputs": [],
   "source": [
    "# np.random.seed(1)\n",
    "# theta = np.random.randn(9, 1)\n",
    "\n",
    "# J_array = []\n",
    "# for i in range(100000):\n",
    "#     y_pred = np.dot(normalized_input, theta)\n",
    "#     J = np.sum(( y_pred - y_true)**2)/ (2*m)\n",
    "#     theta = theta - 0.01 * np.dot(normalized_input.T, ( y_pred - y_true)) / m\n",
    "#     J_array.append(J)"
   ]
  },
  {
   "cell_type": "code",
   "execution_count": 13,
   "metadata": {},
   "outputs": [],
   "source": [
    "# np.round(theta, 3)"
   ]
  },
  {
   "cell_type": "code",
   "execution_count": 14,
   "metadata": {},
   "outputs": [],
   "source": [
    "# theta"
   ]
  },
  {
   "cell_type": "code",
   "execution_count": 15,
   "metadata": {},
   "outputs": [],
   "source": [
    "class Linear_Regression_Multivariables:\n",
    "    def __init__(self, *, y_true) -> None:\n",
    "        self.m = len(y_true)\n",
    "\n",
    "    def predict(self, *, theta, normalized_input):\n",
    "        y_pred = np.dot(normalized_input, theta)\n",
    "        return y_pred\n",
    "    \n",
    "    def compute_loss_function(self, *, y_true, y_pred):\n",
    "        J = np.sum(( y_pred - y_true)**2)/ (2*self.m)\n",
    "        return J\n",
    "    \n",
    "    def update_params(self, *, theta, lr, y_pred, y_true, normalized_input):\n",
    "        dJ_dtheta = np.dot(normalized_input.T, ( y_pred - y_true)) / self.m\n",
    "        theta_updated = theta - lr*dJ_dtheta\n",
    "        return theta_updated\n",
    "    \n",
    "    def train(self, *, epoch, theta, normalized_input, y_true, lr):\n",
    "        J_array = []\n",
    "        for i in range(epoch):\n",
    "            y_pred = self.predict(theta= theta, \n",
    "                                  normalized_input= normalized_input)\n",
    "            J = self.compute_loss_function(y_true= y_true, \n",
    "                                           y_pred= y_pred)\n",
    "            theta = self.update_params(theta= theta, lr= lr, y_pred= y_pred, \n",
    "                                       y_true= y_true, normalized_input= normalized_input)\n",
    "            J_array.append(J)\n",
    "\n",
    "        return J_array, theta\n",
    "\n"
   ]
  },
  {
   "cell_type": "code",
   "execution_count": 16,
   "metadata": {},
   "outputs": [],
   "source": [
    "lrm = Linear_Regression_Multivariables(y_true= normalized_output)"
   ]
  },
  {
   "cell_type": "code",
   "execution_count": 17,
   "metadata": {},
   "outputs": [],
   "source": [
    "J_array, theta = lrm.train(\n",
    "    epoch= 1000000,\n",
    "    theta= theta_init,\n",
    "    normalized_input= normalized_input,\n",
    "    y_true= normalized_output, \n",
    "    lr= 0.001 \n",
    ")"
   ]
  },
  {
   "cell_type": "code",
   "execution_count": null,
   "metadata": {},
   "outputs": [],
   "source": [
    "np.round(theta, 3)"
   ]
  },
  {
   "cell_type": "code",
   "execution_count": 19,
   "metadata": {},
   "outputs": [],
   "source": [
    "XT_X_1 = np.linalg.inv(np.dot(normalized_input.T, normalized_input))\n",
    "XT_Y = np.dot(normalized_input.T, normalized_output)\n",
    "\n",
    "theta = np.dot(XT_X_1, XT_Y)"
   ]
  },
  {
   "cell_type": "code",
   "execution_count": null,
   "metadata": {},
   "outputs": [],
   "source": [
    "np.round(theta, 3)"
   ]
  },
  {
   "cell_type": "code",
   "execution_count": null,
   "metadata": {},
   "outputs": [],
   "source": []
  },
  {
   "cell_type": "code",
   "execution_count": 1,
   "metadata": {},
   "outputs": [
    {
     "ename": "NameError",
     "evalue": "name 'pd' is not defined",
     "output_type": "error",
     "traceback": [
      "\u001b[1;31m---------------------------------------------------------------------------\u001b[0m",
      "\u001b[1;31mNameError\u001b[0m                                 Traceback (most recent call last)",
      "Cell \u001b[1;32mIn[1], line 1\u001b[0m\n\u001b[1;32m----> 1\u001b[0m df \u001b[38;5;241m=\u001b[39m \u001b[43mpd\u001b[49m\u001b[38;5;241m.\u001b[39mread_csv(\u001b[38;5;124m'\u001b[39m\u001b[38;5;124mex3.csv\u001b[39m\u001b[38;5;124m'\u001b[39m)\n",
      "\u001b[1;31mNameError\u001b[0m: name 'pd' is not defined"
     ]
    }
   ],
   "source": [
    "df = pd.read_csv('ex3.csv')"
   ]
  },
  {
   "cell_type": "code",
   "execution_count": 2,
   "metadata": {},
   "outputs": [
    {
     "ename": "NameError",
     "evalue": "name 'df' is not defined",
     "output_type": "error",
     "traceback": [
      "\u001b[1;31m---------------------------------------------------------------------------\u001b[0m",
      "\u001b[1;31mNameError\u001b[0m                                 Traceback (most recent call last)",
      "Cell \u001b[1;32mIn[2], line 1\u001b[0m\n\u001b[1;32m----> 1\u001b[0m x \u001b[38;5;241m=\u001b[39m \u001b[43mdf\u001b[49m[\u001b[38;5;124m'\u001b[39m\u001b[38;5;124mx\u001b[39m\u001b[38;5;124m'\u001b[39m]\n\u001b[0;32m      2\u001b[0m y \u001b[38;5;241m=\u001b[39m df[\u001b[38;5;124m'\u001b[39m\u001b[38;5;124my\u001b[39m\u001b[38;5;124m'\u001b[39m]\n\u001b[0;32m      3\u001b[0m \u001b[38;5;66;03m# y = np.resize(df['y'], (84, 1))\u001b[39;00m\n",
      "\u001b[1;31mNameError\u001b[0m: name 'df' is not defined"
     ]
    }
   ],
   "source": [
    "x = df['x']\n",
    "y = df['y']\n",
    "# y = np.resize(df['y'], (84, 1))"
   ]
  },
  {
   "cell_type": "code",
   "execution_count": 115,
   "metadata": {},
   "outputs": [],
   "source": [
    "y = np.array(y)"
   ]
  },
  {
   "cell_type": "code",
   "execution_count": null,
   "metadata": {},
   "outputs": [],
   "source": [
    "df.head()"
   ]
  },
  {
   "cell_type": "code",
   "execution_count": null,
   "metadata": {},
   "outputs": [],
   "source": [
    "fig = go.Figure()\n",
    "fig = fig.add_trace(\n",
    "    go.Scatter(x= x, y= y)\n",
    ")\n",
    "fig.show()"
   ]
  },
  {
   "cell_type": "code",
   "execution_count": 118,
   "metadata": {},
   "outputs": [],
   "source": [
    "def convert_data(*, input, order):\n",
    "    ones = np.ones((len(input), order+1))\n",
    "\n",
    "    for i in range(1, order + 1):\n",
    "        ones[:, i] = input**i\n",
    "        \n",
    "    return ones\n",
    "order = 2     \n",
    "x_normalized = convert_data(input= x, order= order)"
   ]
  },
  {
   "cell_type": "code",
   "execution_count": null,
   "metadata": {},
   "outputs": [],
   "source": [
    "x_normalized"
   ]
  },
  {
   "cell_type": "code",
   "execution_count": 119,
   "metadata": {},
   "outputs": [],
   "source": [
    "x_normalized[:, 1:] = np.apply_along_axis(func1d= normalized, arr= x_normalized[:, 1:], axis= 0)\n",
    "y_normalized = np.apply_along_axis(func1d= normalized, arr= y.reshape(-1, 1), axis= 0)"
   ]
  },
  {
   "cell_type": "code",
   "execution_count": null,
   "metadata": {},
   "outputs": [],
   "source": [
    "x_normalized"
   ]
  },
  {
   "cell_type": "code",
   "execution_count": null,
   "metadata": {},
   "outputs": [],
   "source": [
    "y_normalized.shape"
   ]
  },
  {
   "cell_type": "code",
   "execution_count": null,
   "metadata": {},
   "outputs": [],
   "source": [
    "np.random.seed(1)\n",
    "\n",
    "theta_init = np.random.randn(order + 1, 1)\n",
    "theta_init"
   ]
  },
  {
   "cell_type": "code",
   "execution_count": 123,
   "metadata": {},
   "outputs": [],
   "source": [
    "lrm_order = Linear_Regression_Multivariables(y_true= y_normalized)"
   ]
  },
  {
   "cell_type": "code",
   "execution_count": 124,
   "metadata": {},
   "outputs": [],
   "source": [
    "J_array, theta_train = lrm_order.train(\n",
    "    epoch= 1000000,\n",
    "    theta= theta_init,\n",
    "    normalized_input= x_normalized,\n",
    "    y_true= y_normalized, \n",
    "    lr= 0.001 \n",
    ")"
   ]
  },
  {
   "cell_type": "code",
   "execution_count": null,
   "metadata": {},
   "outputs": [],
   "source": [
    "np.round(theta_train, 3)"
   ]
  },
  {
   "cell_type": "code",
   "execution_count": 126,
   "metadata": {},
   "outputs": [],
   "source": [
    "XT_X_1 = np.linalg.inv(np.dot(x_normalized.T, x_normalized))\n",
    "XT_Y = np.dot(x_normalized.T, y_normalized)\n",
    "\n",
    "theta_true = np.dot(XT_X_1, XT_Y)"
   ]
  },
  {
   "cell_type": "code",
   "execution_count": null,
   "metadata": {},
   "outputs": [],
   "source": [
    "np.round(theta_true, 3)"
   ]
  },
  {
   "cell_type": "code",
   "execution_count": 133,
   "metadata": {},
   "outputs": [],
   "source": [
    "def f_x(x, theta):\n",
    "    y = 0\n",
    "    for i in range(0, len(theta)):\n",
    "        y = y + theta_train[i]*x**i\n",
    "\n",
    "    return y"
   ]
  },
  {
   "cell_type": "code",
   "execution_count": 137,
   "metadata": {},
   "outputs": [],
   "source": [
    "x_axis = np.arange(max(x))\n",
    "y_train = f_x(x_axis, theta_train)\n",
    "y_true = f_x(x_axis, theta_true)"
   ]
  },
  {
   "cell_type": "code",
   "execution_count": null,
   "metadata": {},
   "outputs": [],
   "source": [
    "fig = go.Figure()\n",
    "fig.add_trace(go.Scatter(x= x, y= y))\n",
    "fig.add_trace(go.Scatter(x= x_axis, y= y_train))\n",
    "fig.add_trace(go.Scatter(x= x_axis, y= y_true))\n",
    "fig.show()"
   ]
  },
  {
   "cell_type": "code",
   "execution_count": null,
   "metadata": {},
   "outputs": [],
   "source": []
  },
  {
   "cell_type": "code",
   "execution_count": null,
   "metadata": {},
   "outputs": [],
   "source": []
  }
 ],
 "metadata": {
  "kernelspec": {
   "display_name": "tf",
   "language": "python",
   "name": "python3"
  },
  "language_info": {
   "codemirror_mode": {
    "name": "ipython",
    "version": 3
   },
   "file_extension": ".py",
   "mimetype": "text/x-python",
   "name": "python",
   "nbconvert_exporter": "python",
   "pygments_lexer": "ipython3",
   "version": "3.11.9"
  }
 },
 "nbformat": 4,
 "nbformat_minor": 2
}
