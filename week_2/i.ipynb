{
 "cells": [
  {
   "cell_type": "code",
   "execution_count": 1,
   "metadata": {},
   "outputs": [],
   "source": [
    "import numpy as np\n",
    "import pandas as pd\n",
    "import plotly.graph_objects as go\n",
    "import matplotlib.pyplot as plt\n",
    "from IPython.display import clear_output\n",
    "import time"
   ]
  },
  {
   "cell_type": "code",
   "execution_count": 2,
   "metadata": {},
   "outputs": [],
   "source": [
    "def function(*, input: np.ndarray, theta: np.ndarray) -> np.ndarray:\n",
    "    ones = np.ones(len(input)).reshape(-1, 1)\n",
    "    x_add = np.hstack((ones, input))\n",
    "    y = np.sum(x_add * theta.reshape(-1,), axis= 1)\n",
    "    return y\n",
    "\n",
    "def plot_diagram(*, name_1: str, name_2: str, mode_1: str, mode_2: str,\n",
    "                  x_1: np.array, y_1: np.array, x_2: np.array, y_2: np.array):\n",
    "    fig = go.Figure()\n",
    "    fig.add_trace(go.Scatter(x=x_1,  y=y_1, mode= mode_1, name= name_1))\n",
    "    fig.add_trace(go.Scatter(x=x_2,  y=y_2, mode= mode_2, name= name_2))\n",
    "    fig.show()\n",
    "\n",
    "def normalized(vector: np.ndarray) -> np.ndarray:\n",
    "    mean = np.mean(vector)  # Mean of input vector\n",
    "    standard_deviation = np.std(vector) # std of input vector\n",
    "    normalized_vector = (vector - mean) / standard_deviation # linear transform vector by using gauss\n",
    "    return normalized_vector\n",
    "\n",
    "def convert_to_new_order(*, input: np.ndarray, order: int) -> np.ndarray:\n",
    "    \"\"\"\n",
    "        Convert vector x into matrix x with multiple order\n",
    "    \"\"\"\n",
    "    input = input.reshape(-1,)\n",
    "    ones = np.ones((len(input), order))\n",
    "    for i in range(0, order):\n",
    "        ones[:, i] = input**(i+1)\n",
    "    return ones\n",
    "\n",
    "def true_value_theta(*, input: np.ndarray, output: np.ndarray) -> np.ndarray:\n",
    "    \"\"\"\n",
    "        Compute true value of theta \n",
    "        theta =   (X.T*X)^-1 * (X.T * Y)\n",
    "    \"\"\"\n",
    "    ones = np.ones(len(input)).reshape(-1, 1)\n",
    "    x_add = np.hstack((ones, input))\n",
    "    inv_XT_X = np.linalg.inv(np.dot(x_add.T, x_add))\n",
    "    XT_Y = np.dot(x_add.T, output.reshape(-1, 1))\n",
    "    theta_true = np.dot(inv_XT_X, XT_Y)\n",
    "    return theta_true\n",
    "\n",
    "def convert_theta_nomr_to_theta(*, theta_normalized: np.ndarray, input: np.ndarray, output: np.ndarray) -> np.ndarray:\n",
    "    theta = np.zeros_like(theta_normalized)\n",
    "\n",
    "    mean_x = np.mean(input,  axis= 0)\n",
    "    std_x = np.std(input,  axis= 0)\n",
    "\n",
    "    mean_y = np.mean(output, axis= 0)\n",
    "    std_y = np.std(output, axis= 0)\n",
    "\n",
    "    theta[1:] = std_y*theta_normalized[1:]/(std_x[1:].reshape(-1, 1))\n",
    "    theta[0] = mean_y + std_y*theta_normalized[0] - np.dot(std_y*mean_x[1:]/std_x[1:], theta_normalized[1:])\n",
    "\n",
    "    return theta"
   ]
  },
  {
   "cell_type": "code",
   "execution_count": 3,
   "metadata": {},
   "outputs": [],
   "source": [
    "class Linear_Regression_Multivariables:\n",
    "    def __init__(self, *, number_of_feature: int) -> None:\n",
    "        self.number_of_features = number_of_feature\n",
    "\n",
    "    def compute_normalized_vector(self, vector: np.ndarray) -> np.ndarray:\n",
    "        mean = np.mean(vector)  # Mean of input vector\n",
    "        standard_deviation = np.std(vector) # std of input vector\n",
    "        normalized_vector = (vector - mean) / standard_deviation # linear transform vector by using gauss\n",
    "        return normalized_vector\n",
    "    \n",
    "    def apply_normalize_matrix(self, *, input: np.ndarray, output: np.ndarray) -> np.ndarray:\n",
    "\n",
    "        normalized_input = np.apply_along_axis(func1d= self.compute_normalized_vector, arr= input, axis= 0)\n",
    "        normalized_input = normalized_input.reshape(-1, self.number_of_features)\n",
    "\n",
    "        normalized_output = np.apply_along_axis(func1d= self.compute_normalized_vector, arr= output, axis= 0)\n",
    "        normalized_output = normalized_output.reshape(-1, 1)\n",
    "        return normalized_input, normalized_output\n",
    "\n",
    "    def add_ones_columns(self, *, normalized_input: np.ndarray) -> np.ndarray:\n",
    "        ones = np.ones(len(normalized_input)).reshape(-1, 1)\n",
    "        x_add = np.hstack((ones, normalized_input))\n",
    "        return x_add\n",
    "\n",
    "    def predict(self, *, theta: np.ndarray, normalized_input: np.ndarray) -> np.ndarray:\n",
    "        y_pred = np.matmul(normalized_input, theta)\n",
    "        return y_pred\n",
    "    \n",
    "    def compute_loss_function(self, *, y_true: np.ndarray, y_pred: np.ndarray) -> np.ndarray:\n",
    "        m = len(y_true)\n",
    "        E = y_pred - y_true\n",
    "        J = np.sum((E)**2)/ (2*m)\n",
    "        return J\n",
    "    \n",
    "    def update_params(self, *, theta: np.ndarray, lr: float, y_pred: np.ndarray, \n",
    "                      y_true: np.ndarray, normalized_input: np.ndarray) -> np.ndarray:\n",
    "        m = len(y_true)\n",
    "        E = y_pred - y_true\n",
    "        dJ_dtheta = np.dot(normalized_input.T, E) / (m)\n",
    "        theta_updated = theta - lr*dJ_dtheta\n",
    "        return theta_updated\n",
    "    \n",
    "    def convert_theta_nomr_to_theta(self, *, theta_normalized: np.ndarray, input: np.ndarray, output: np.ndarray) -> np.ndarray:\n",
    "        theta = np.zeros_like(theta_normalized)\n",
    "\n",
    "        mean_x = np.mean(input,  axis= 0)\n",
    "        std_x = np.std(input,  axis= 0)\n",
    "\n",
    "        mean_y = np.mean(output, axis= 0)\n",
    "        std_y = np.std(output, axis= 0)\n",
    "\n",
    "        theta[1:] = std_y*theta_normalized[1:]/(std_x.reshape(-1, 1))\n",
    "        theta[0] = mean_y + std_y*theta_normalized[0] - np.dot(std_y*mean_x/std_x, theta_normalized[1:])\n",
    "\n",
    "        return theta\n",
    "    \n",
    "    def train(self, *, epoch: int, theta: np.ndarray, input: np.ndarray, \n",
    "              output: np.ndarray, lr: float) -> np.ndarray:\n",
    "        \n",
    "        normalized_input, normalized_ouput = self.apply_normalize_matrix(input= input, output= output)\n",
    "        normalized_input_add_ones = self.add_ones_columns(normalized_input= normalized_input)\n",
    "        \n",
    "        J_array = np.array([])\n",
    "        for i in range(epoch):\n",
    "            y_pred = self.predict(theta= theta, \n",
    "                                  normalized_input= normalized_input_add_ones)\n",
    "            J = self.compute_loss_function(y_true= normalized_ouput, \n",
    "                                           y_pred= y_pred)\n",
    "            theta = self.update_params(theta= theta, lr= lr, y_pred= y_pred, \n",
    "                                       y_true= normalized_ouput, normalized_input= normalized_input_add_ones)\n",
    "            J_array = np.append(arr= J_array, values= J)\n",
    "        \n",
    "        theta = self.convert_theta_nomr_to_theta(theta_normalized= theta, input= input, output= output)\n",
    "\n",
    "        return J_array, theta\n",
    "\n"
   ]
  },
  {
   "cell_type": "markdown",
   "metadata": {},
   "source": [
    "### ex2"
   ]
  },
  {
   "cell_type": "code",
   "execution_count": 4,
   "metadata": {},
   "outputs": [],
   "source": [
    "# Read csv file ex2.csv\n",
    "pd_ex2 = pd.read_csv('ex2.csv')\n",
    "\n",
    "# Get collumns of file \n",
    "X_cols = pd_ex2.columns[:-1]\n",
    "Y_col = pd_ex2.columns[-1]"
   ]
  },
  {
   "cell_type": "code",
   "execution_count": 5,
   "metadata": {},
   "outputs": [],
   "source": [
    "# Get vector input and output\n",
    "X = pd_ex2[X_cols].values\n",
    "Y = pd_ex2[Y_col].values"
   ]
  },
  {
   "cell_type": "code",
   "execution_count": 6,
   "metadata": {},
   "outputs": [
    {
     "data": {
      "text/plain": [
       "(9, 1)"
      ]
     },
     "execution_count": 6,
     "metadata": {},
     "output_type": "execute_result"
    }
   ],
   "source": [
    "theta_init = np.random.randn(len(X_cols) + 1, 1)\n",
    "theta_init.shape"
   ]
  },
  {
   "cell_type": "code",
   "execution_count": 7,
   "metadata": {},
   "outputs": [],
   "source": [
    "### 2. Training \n",
    "lrm = Linear_Regression_Multivariables(number_of_feature= 8)\n",
    "J_array_ex_2, theta_ex_2 = lrm.train(\n",
    "    epoch= 500000, theta= theta_init, input= X,\n",
    "    output= Y, lr= 0.001\n",
    ")"
   ]
  },
  {
   "cell_type": "code",
   "execution_count": 8,
   "metadata": {},
   "outputs": [],
   "source": [
    "theta_real_ = true_value_theta(input= X, output= Y)\n",
    "X_add = lrm.add_ones_columns(normalized_input= X)"
   ]
  },
  {
   "cell_type": "code",
   "execution_count": 9,
   "metadata": {},
   "outputs": [
    {
     "data": {
      "text/plain": [
       "(9, 1)"
      ]
     },
     "execution_count": 9,
     "metadata": {},
     "output_type": "execute_result"
    }
   ],
   "source": [
    "theta_real_.shape"
   ]
  },
  {
   "cell_type": "code",
   "execution_count": 10,
   "metadata": {},
   "outputs": [],
   "source": [
    "# plot_diagram(name_1= 'a', name_2= 'b', mode_1= 'markers', mode_2= 'markers',\n",
    "#              x_1= X.reshape(-1, ), y_1= Y.reshape(-1, ), \n",
    "#              x_2= X.reshape(-1, ), y_2= np.dot(X_add, theta_ex_2).reshape(-1, ))"
   ]
  },
  {
   "cell_type": "code",
   "execution_count": 11,
   "metadata": {},
   "outputs": [
    {
     "data": {
      "text/plain": [
       "array([[ 0.  ],\n",
       "       [ 0.  ],\n",
       "       [ 0.  ],\n",
       "       [ 0.  ],\n",
       "       [ 0.  ],\n",
       "       [ 0.  ],\n",
       "       [-0.  ],\n",
       "       [-0.01],\n",
       "       [ 0.  ]])"
      ]
     },
     "execution_count": 11,
     "metadata": {},
     "output_type": "execute_result"
    }
   ],
   "source": [
    "np.round((theta_real_ - theta_ex_2) / theta_real_, 2)"
   ]
  },
  {
   "cell_type": "markdown",
   "metadata": {},
   "source": [
    "### ex3"
   ]
  },
  {
   "cell_type": "code",
   "execution_count": 12,
   "metadata": {},
   "outputs": [],
   "source": [
    "# Read csv file ex2.csv\n",
    "pd_ex3 = pd.read_csv('ex3.csv')\n",
    "\n",
    "# Get collumns of file \n",
    "X_cols = pd_ex3.columns[:-1]\n",
    "Y_col = pd_ex3.columns[-1]"
   ]
  },
  {
   "cell_type": "code",
   "execution_count": 13,
   "metadata": {},
   "outputs": [],
   "source": [
    "# Get vector input and output\n",
    "x_value = pd_ex3[X_cols].values\n",
    "y_value = pd_ex3[Y_col].values"
   ]
  },
  {
   "cell_type": "code",
   "execution_count": 14,
   "metadata": {},
   "outputs": [],
   "source": [
    "order= 4\n",
    "\n",
    "X = convert_to_new_order(input= x_value, order= order)\n",
    "Y = y_value.reshape(-1, 1)"
   ]
  },
  {
   "cell_type": "code",
   "execution_count": 15,
   "metadata": {},
   "outputs": [
    {
     "data": {
      "text/plain": [
       "(5, 1)"
      ]
     },
     "execution_count": 15,
     "metadata": {},
     "output_type": "execute_result"
    }
   ],
   "source": [
    "theta_init = np.random.randn(order + 1, 1)\n",
    "theta_init.shape"
   ]
  },
  {
   "cell_type": "code",
   "execution_count": 16,
   "metadata": {},
   "outputs": [],
   "source": [
    "### 2. Training \n",
    "lrm = Linear_Regression_Multivariables(number_of_feature= order)\n",
    "J_array_ex_3, theta_ex_3 = lrm.train(\n",
    "    epoch= 100000, theta= theta_init, input= X,\n",
    "    output= Y, lr= 0.01\n",
    ")"
   ]
  },
  {
   "cell_type": "code",
   "execution_count": 17,
   "metadata": {},
   "outputs": [
    {
     "data": {
      "application/vnd.plotly.v1+json": {
       "config": {
        "plotlyServerURL": "https://plot.ly"
       },
       "data": [
        {
         "mode": "markers",
         "name": "a",
         "type": "scatter",
         "x": [
          0,
          1.2,
          2.4,
          3.6,
          4.8,
          6,
          7.199999999999999,
          8.4,
          9.6,
          10.8,
          12,
          13.2,
          14.4,
          15.6,
          16.8,
          18,
          19.2,
          20.4,
          21.6,
          22.8,
          24,
          25.2,
          26.4,
          27.6,
          28.8,
          30,
          31.2,
          32.4,
          33.6,
          34.8,
          36,
          37.2,
          38.4,
          39.6,
          40.8,
          42,
          43.2,
          44.4,
          45.6,
          46.8,
          48,
          49.2,
          50.4,
          51.6,
          52.8,
          54,
          55.2,
          56.4,
          57.6,
          58.8,
          60,
          61.2,
          62.4,
          63.6,
          64.8,
          66,
          67.2,
          68.39999999999999,
          69.6,
          70.8,
          72,
          73.2,
          74.39999999999999,
          75.6,
          76.8,
          78,
          79.2,
          80.39999999999999,
          81.6,
          82.8,
          84,
          85.2,
          86.39999999999999,
          87.6,
          88.8,
          90,
          91.2,
          92.4,
          93.6,
          94.8,
          96,
          97.2,
          98.4,
          99.6
         ],
         "y": [
          1313.416062167991,
          -1281.3383370887088,
          257.88637473406243,
          157.16824323238788,
          1055.0415024025483,
          -92.46311706167796,
          82.2919015212832,
          2261.320305477705,
          -923.1519030123502,
          1752.416719870404,
          2894.6595055191337,
          905.3437134287584,
          -1626.9636350988587,
          3027.5060530427645,
          793.2377990743773,
          1691.735950717992,
          2680.8556747057,
          2732.422032419277,
          3083.024125781884,
          3700.535821409477,
          3031.6536301042206,
          5042.116929349597,
          6279.437677974889,
          5689.269319272142,
          6247.367628255277,
          6542.880283869337,
          7692.026309550058,
          6954.677912839207,
          7432.119625620841,
          7357.757363461327,
          9338.988573453862,
          8037.33734182164,
          9512.0855235965,
          11724.36696056956,
          11491.719687660596,
          12096.425238873406,
          11398.171863638883,
          13766.006600280412,
          13593.51132711948,
          15196.4537733495,
          14351.75796082119,
          16425.172340740886,
          17573.41563826812,
          18460.81076249281,
          19225.542805073528,
          16665.272392893752,
          18892.437676310445,
          20015.083549716084,
          20849.61709143078,
          23287.626676434527,
          23251.29690436716,
          24067.71832419032,
          24837.63559491842,
          26924.082390563115,
          26531.661079683254,
          28858.61342235167,
          28812.913563093964,
          31827.46771057301,
          30744.428156523583,
          33482.16352260915,
          36105.406146350855,
          35567.40176394644,
          35047.44289796181,
          38173.43423188819,
          40129.96959913636,
          39275.11652228508,
          41528.88753671718,
          42807.72327886267,
          42754.45769383529,
          46394.04650969675,
          47574.52528107123,
          47805.18987960054,
          50648.2272021664,
          50166.464429998894,
          51639.01435684975,
          52599.21217904949,
          52876.54354258421,
          58377.6331063049,
          59547.564716979454,
          59268.89090658758,
          61856.08492519602,
          61240.77931758072,
          61793.51691632088,
          66191.59401530778
         ]
        },
        {
         "mode": "lines",
         "name": "b",
         "type": "scatter",
         "x": [
          0,
          1.2,
          2.4,
          3.6,
          4.8,
          6,
          7.199999999999999,
          8.4,
          9.6,
          10.8,
          12,
          13.2,
          14.4,
          15.6,
          16.8,
          18,
          19.2,
          20.4,
          21.6,
          22.8,
          24,
          25.2,
          26.4,
          27.6,
          28.8,
          30,
          31.2,
          32.4,
          33.6,
          34.8,
          36,
          37.2,
          38.4,
          39.6,
          40.8,
          42,
          43.2,
          44.4,
          45.6,
          46.8,
          48,
          49.2,
          50.4,
          51.6,
          52.8,
          54,
          55.2,
          56.4,
          57.6,
          58.8,
          60,
          61.2,
          62.4,
          63.6,
          64.8,
          66,
          67.2,
          68.39999999999999,
          69.6,
          70.8,
          72,
          73.2,
          74.39999999999999,
          75.6,
          76.8,
          78,
          79.2,
          80.39999999999999,
          81.6,
          82.8,
          84,
          85.2,
          86.39999999999999,
          87.6,
          88.8,
          90,
          91.2,
          92.4,
          93.6,
          94.8,
          96,
          97.2,
          98.4,
          99.6
         ],
         "y": [
          -335.23009742944487,
          -211.6618119239137,
          -81.15512452943845,
          56.93993826146467,
          203.25810962437308,
          358.41888240295805,
          523.0265091089846,
          697.6700019223116,
          882.9231326908913,
          1079.3444329307706,
          1287.4771938260885,
          1507.8494662290802,
          1740.9740606600726,
          1987.3485473074873,
          2247.45525602784,
          2521.761276345738,
          2810.7184574538855,
          3114.763408213078,
          3434.317497152208,
          3769.7868524682567,
          4121.562362026302,
          4490.0196733595185,
          4875.519193669168,
          5278.406089824613,
          5699.010288363303,
          6137.646475490787,
          6594.614097080704,
          7070.19735867479,
          7564.6652254828705,
          8078.271422382868,
          8611.2544339208,
          9163.837504310775,
          9736.22863743499,
          10328.620596843753,
          10941.190905755446,
          11574.101847056558,
          12227.500463301665,
          12901.518556713434,
          13596.272689182644,
          14311.864182268138,
          15048.379117196884,
          15805.88833486392,
          16584.447435832386,
          17384.096780333526,
          18204.861488266655,
          19046.751439199204,
          19909.761272366693,
          20793.87038667272,
          21699.042940688993,
          22625.22785265531,
          23572.35880047956,
          24540.35422173774,
          25529.117313673905,
          26538.536033200246,
          27568.483096897016,
          28618.81598101259,
          29689.376921463416,
          30779.99291383402,
          31890.475713377073,
          33020.62183501331,
          34170.21255333154,
          35339.0139025887,
          36526.77667670978,
          37733.23642928792,
          38958.11347358432,
          40201.112882528265,
          41461.92448871715,
          42740.222884416464,
          44035.66742155978,
          45347.90221174878,
          46676.556126253236,
          48021.24279601099,
          49381.56061162797,
          50757.09272337829,
          52147.40704120406,
          53552.05623471549,
          54970.57773319096,
          56402.493725576845,
          57847.31116048767,
          59304.52174620607,
          60773.60195068274,
          62254.01300153647,
          63745.20088605416,
          65246.596351190776
         ]
        }
       ],
       "layout": {
        "template": {
         "data": {
          "bar": [
           {
            "error_x": {
             "color": "#2a3f5f"
            },
            "error_y": {
             "color": "#2a3f5f"
            },
            "marker": {
             "line": {
              "color": "#E5ECF6",
              "width": 0.5
             },
             "pattern": {
              "fillmode": "overlay",
              "size": 10,
              "solidity": 0.2
             }
            },
            "type": "bar"
           }
          ],
          "barpolar": [
           {
            "marker": {
             "line": {
              "color": "#E5ECF6",
              "width": 0.5
             },
             "pattern": {
              "fillmode": "overlay",
              "size": 10,
              "solidity": 0.2
             }
            },
            "type": "barpolar"
           }
          ],
          "carpet": [
           {
            "aaxis": {
             "endlinecolor": "#2a3f5f",
             "gridcolor": "white",
             "linecolor": "white",
             "minorgridcolor": "white",
             "startlinecolor": "#2a3f5f"
            },
            "baxis": {
             "endlinecolor": "#2a3f5f",
             "gridcolor": "white",
             "linecolor": "white",
             "minorgridcolor": "white",
             "startlinecolor": "#2a3f5f"
            },
            "type": "carpet"
           }
          ],
          "choropleth": [
           {
            "colorbar": {
             "outlinewidth": 0,
             "ticks": ""
            },
            "type": "choropleth"
           }
          ],
          "contour": [
           {
            "colorbar": {
             "outlinewidth": 0,
             "ticks": ""
            },
            "colorscale": [
             [
              0,
              "#0d0887"
             ],
             [
              0.1111111111111111,
              "#46039f"
             ],
             [
              0.2222222222222222,
              "#7201a8"
             ],
             [
              0.3333333333333333,
              "#9c179e"
             ],
             [
              0.4444444444444444,
              "#bd3786"
             ],
             [
              0.5555555555555556,
              "#d8576b"
             ],
             [
              0.6666666666666666,
              "#ed7953"
             ],
             [
              0.7777777777777778,
              "#fb9f3a"
             ],
             [
              0.8888888888888888,
              "#fdca26"
             ],
             [
              1,
              "#f0f921"
             ]
            ],
            "type": "contour"
           }
          ],
          "contourcarpet": [
           {
            "colorbar": {
             "outlinewidth": 0,
             "ticks": ""
            },
            "type": "contourcarpet"
           }
          ],
          "heatmap": [
           {
            "colorbar": {
             "outlinewidth": 0,
             "ticks": ""
            },
            "colorscale": [
             [
              0,
              "#0d0887"
             ],
             [
              0.1111111111111111,
              "#46039f"
             ],
             [
              0.2222222222222222,
              "#7201a8"
             ],
             [
              0.3333333333333333,
              "#9c179e"
             ],
             [
              0.4444444444444444,
              "#bd3786"
             ],
             [
              0.5555555555555556,
              "#d8576b"
             ],
             [
              0.6666666666666666,
              "#ed7953"
             ],
             [
              0.7777777777777778,
              "#fb9f3a"
             ],
             [
              0.8888888888888888,
              "#fdca26"
             ],
             [
              1,
              "#f0f921"
             ]
            ],
            "type": "heatmap"
           }
          ],
          "heatmapgl": [
           {
            "colorbar": {
             "outlinewidth": 0,
             "ticks": ""
            },
            "colorscale": [
             [
              0,
              "#0d0887"
             ],
             [
              0.1111111111111111,
              "#46039f"
             ],
             [
              0.2222222222222222,
              "#7201a8"
             ],
             [
              0.3333333333333333,
              "#9c179e"
             ],
             [
              0.4444444444444444,
              "#bd3786"
             ],
             [
              0.5555555555555556,
              "#d8576b"
             ],
             [
              0.6666666666666666,
              "#ed7953"
             ],
             [
              0.7777777777777778,
              "#fb9f3a"
             ],
             [
              0.8888888888888888,
              "#fdca26"
             ],
             [
              1,
              "#f0f921"
             ]
            ],
            "type": "heatmapgl"
           }
          ],
          "histogram": [
           {
            "marker": {
             "pattern": {
              "fillmode": "overlay",
              "size": 10,
              "solidity": 0.2
             }
            },
            "type": "histogram"
           }
          ],
          "histogram2d": [
           {
            "colorbar": {
             "outlinewidth": 0,
             "ticks": ""
            },
            "colorscale": [
             [
              0,
              "#0d0887"
             ],
             [
              0.1111111111111111,
              "#46039f"
             ],
             [
              0.2222222222222222,
              "#7201a8"
             ],
             [
              0.3333333333333333,
              "#9c179e"
             ],
             [
              0.4444444444444444,
              "#bd3786"
             ],
             [
              0.5555555555555556,
              "#d8576b"
             ],
             [
              0.6666666666666666,
              "#ed7953"
             ],
             [
              0.7777777777777778,
              "#fb9f3a"
             ],
             [
              0.8888888888888888,
              "#fdca26"
             ],
             [
              1,
              "#f0f921"
             ]
            ],
            "type": "histogram2d"
           }
          ],
          "histogram2dcontour": [
           {
            "colorbar": {
             "outlinewidth": 0,
             "ticks": ""
            },
            "colorscale": [
             [
              0,
              "#0d0887"
             ],
             [
              0.1111111111111111,
              "#46039f"
             ],
             [
              0.2222222222222222,
              "#7201a8"
             ],
             [
              0.3333333333333333,
              "#9c179e"
             ],
             [
              0.4444444444444444,
              "#bd3786"
             ],
             [
              0.5555555555555556,
              "#d8576b"
             ],
             [
              0.6666666666666666,
              "#ed7953"
             ],
             [
              0.7777777777777778,
              "#fb9f3a"
             ],
             [
              0.8888888888888888,
              "#fdca26"
             ],
             [
              1,
              "#f0f921"
             ]
            ],
            "type": "histogram2dcontour"
           }
          ],
          "mesh3d": [
           {
            "colorbar": {
             "outlinewidth": 0,
             "ticks": ""
            },
            "type": "mesh3d"
           }
          ],
          "parcoords": [
           {
            "line": {
             "colorbar": {
              "outlinewidth": 0,
              "ticks": ""
             }
            },
            "type": "parcoords"
           }
          ],
          "pie": [
           {
            "automargin": true,
            "type": "pie"
           }
          ],
          "scatter": [
           {
            "fillpattern": {
             "fillmode": "overlay",
             "size": 10,
             "solidity": 0.2
            },
            "type": "scatter"
           }
          ],
          "scatter3d": [
           {
            "line": {
             "colorbar": {
              "outlinewidth": 0,
              "ticks": ""
             }
            },
            "marker": {
             "colorbar": {
              "outlinewidth": 0,
              "ticks": ""
             }
            },
            "type": "scatter3d"
           }
          ],
          "scattercarpet": [
           {
            "marker": {
             "colorbar": {
              "outlinewidth": 0,
              "ticks": ""
             }
            },
            "type": "scattercarpet"
           }
          ],
          "scattergeo": [
           {
            "marker": {
             "colorbar": {
              "outlinewidth": 0,
              "ticks": ""
             }
            },
            "type": "scattergeo"
           }
          ],
          "scattergl": [
           {
            "marker": {
             "colorbar": {
              "outlinewidth": 0,
              "ticks": ""
             }
            },
            "type": "scattergl"
           }
          ],
          "scattermapbox": [
           {
            "marker": {
             "colorbar": {
              "outlinewidth": 0,
              "ticks": ""
             }
            },
            "type": "scattermapbox"
           }
          ],
          "scatterpolar": [
           {
            "marker": {
             "colorbar": {
              "outlinewidth": 0,
              "ticks": ""
             }
            },
            "type": "scatterpolar"
           }
          ],
          "scatterpolargl": [
           {
            "marker": {
             "colorbar": {
              "outlinewidth": 0,
              "ticks": ""
             }
            },
            "type": "scatterpolargl"
           }
          ],
          "scatterternary": [
           {
            "marker": {
             "colorbar": {
              "outlinewidth": 0,
              "ticks": ""
             }
            },
            "type": "scatterternary"
           }
          ],
          "surface": [
           {
            "colorbar": {
             "outlinewidth": 0,
             "ticks": ""
            },
            "colorscale": [
             [
              0,
              "#0d0887"
             ],
             [
              0.1111111111111111,
              "#46039f"
             ],
             [
              0.2222222222222222,
              "#7201a8"
             ],
             [
              0.3333333333333333,
              "#9c179e"
             ],
             [
              0.4444444444444444,
              "#bd3786"
             ],
             [
              0.5555555555555556,
              "#d8576b"
             ],
             [
              0.6666666666666666,
              "#ed7953"
             ],
             [
              0.7777777777777778,
              "#fb9f3a"
             ],
             [
              0.8888888888888888,
              "#fdca26"
             ],
             [
              1,
              "#f0f921"
             ]
            ],
            "type": "surface"
           }
          ],
          "table": [
           {
            "cells": {
             "fill": {
              "color": "#EBF0F8"
             },
             "line": {
              "color": "white"
             }
            },
            "header": {
             "fill": {
              "color": "#C8D4E3"
             },
             "line": {
              "color": "white"
             }
            },
            "type": "table"
           }
          ]
         },
         "layout": {
          "annotationdefaults": {
           "arrowcolor": "#2a3f5f",
           "arrowhead": 0,
           "arrowwidth": 1
          },
          "autotypenumbers": "strict",
          "coloraxis": {
           "colorbar": {
            "outlinewidth": 0,
            "ticks": ""
           }
          },
          "colorscale": {
           "diverging": [
            [
             0,
             "#8e0152"
            ],
            [
             0.1,
             "#c51b7d"
            ],
            [
             0.2,
             "#de77ae"
            ],
            [
             0.3,
             "#f1b6da"
            ],
            [
             0.4,
             "#fde0ef"
            ],
            [
             0.5,
             "#f7f7f7"
            ],
            [
             0.6,
             "#e6f5d0"
            ],
            [
             0.7,
             "#b8e186"
            ],
            [
             0.8,
             "#7fbc41"
            ],
            [
             0.9,
             "#4d9221"
            ],
            [
             1,
             "#276419"
            ]
           ],
           "sequential": [
            [
             0,
             "#0d0887"
            ],
            [
             0.1111111111111111,
             "#46039f"
            ],
            [
             0.2222222222222222,
             "#7201a8"
            ],
            [
             0.3333333333333333,
             "#9c179e"
            ],
            [
             0.4444444444444444,
             "#bd3786"
            ],
            [
             0.5555555555555556,
             "#d8576b"
            ],
            [
             0.6666666666666666,
             "#ed7953"
            ],
            [
             0.7777777777777778,
             "#fb9f3a"
            ],
            [
             0.8888888888888888,
             "#fdca26"
            ],
            [
             1,
             "#f0f921"
            ]
           ],
           "sequentialminus": [
            [
             0,
             "#0d0887"
            ],
            [
             0.1111111111111111,
             "#46039f"
            ],
            [
             0.2222222222222222,
             "#7201a8"
            ],
            [
             0.3333333333333333,
             "#9c179e"
            ],
            [
             0.4444444444444444,
             "#bd3786"
            ],
            [
             0.5555555555555556,
             "#d8576b"
            ],
            [
             0.6666666666666666,
             "#ed7953"
            ],
            [
             0.7777777777777778,
             "#fb9f3a"
            ],
            [
             0.8888888888888888,
             "#fdca26"
            ],
            [
             1,
             "#f0f921"
            ]
           ]
          },
          "colorway": [
           "#636efa",
           "#EF553B",
           "#00cc96",
           "#ab63fa",
           "#FFA15A",
           "#19d3f3",
           "#FF6692",
           "#B6E880",
           "#FF97FF",
           "#FECB52"
          ],
          "font": {
           "color": "#2a3f5f"
          },
          "geo": {
           "bgcolor": "white",
           "lakecolor": "white",
           "landcolor": "#E5ECF6",
           "showlakes": true,
           "showland": true,
           "subunitcolor": "white"
          },
          "hoverlabel": {
           "align": "left"
          },
          "hovermode": "closest",
          "mapbox": {
           "style": "light"
          },
          "paper_bgcolor": "white",
          "plot_bgcolor": "#E5ECF6",
          "polar": {
           "angularaxis": {
            "gridcolor": "white",
            "linecolor": "white",
            "ticks": ""
           },
           "bgcolor": "#E5ECF6",
           "radialaxis": {
            "gridcolor": "white",
            "linecolor": "white",
            "ticks": ""
           }
          },
          "scene": {
           "xaxis": {
            "backgroundcolor": "#E5ECF6",
            "gridcolor": "white",
            "gridwidth": 2,
            "linecolor": "white",
            "showbackground": true,
            "ticks": "",
            "zerolinecolor": "white"
           },
           "yaxis": {
            "backgroundcolor": "#E5ECF6",
            "gridcolor": "white",
            "gridwidth": 2,
            "linecolor": "white",
            "showbackground": true,
            "ticks": "",
            "zerolinecolor": "white"
           },
           "zaxis": {
            "backgroundcolor": "#E5ECF6",
            "gridcolor": "white",
            "gridwidth": 2,
            "linecolor": "white",
            "showbackground": true,
            "ticks": "",
            "zerolinecolor": "white"
           }
          },
          "shapedefaults": {
           "line": {
            "color": "#2a3f5f"
           }
          },
          "ternary": {
           "aaxis": {
            "gridcolor": "white",
            "linecolor": "white",
            "ticks": ""
           },
           "baxis": {
            "gridcolor": "white",
            "linecolor": "white",
            "ticks": ""
           },
           "bgcolor": "#E5ECF6",
           "caxis": {
            "gridcolor": "white",
            "linecolor": "white",
            "ticks": ""
           }
          },
          "title": {
           "x": 0.05
          },
          "xaxis": {
           "automargin": true,
           "gridcolor": "white",
           "linecolor": "white",
           "ticks": "",
           "title": {
            "standoff": 15
           },
           "zerolinecolor": "white",
           "zerolinewidth": 2
          },
          "yaxis": {
           "automargin": true,
           "gridcolor": "white",
           "linecolor": "white",
           "ticks": "",
           "title": {
            "standoff": 15
           },
           "zerolinecolor": "white",
           "zerolinewidth": 2
          }
         }
        }
       }
      }
     },
     "metadata": {},
     "output_type": "display_data"
    }
   ],
   "source": [
    "plot_diagram(name_1= 'a', name_2= 'b', mode_1= 'markers', mode_2= 'lines',\n",
    "             x_1= x_value.reshape(-1, ), y_1= y_value.reshape(-1, ), \n",
    "             x_2= x_value.reshape(-1, ), y_2= function(input= X, theta= theta_ex_3))"
   ]
  },
  {
   "cell_type": "code",
   "execution_count": 18,
   "metadata": {},
   "outputs": [],
   "source": [
    "theta_true = true_value_theta(input= X, output= Y)"
   ]
  },
  {
   "cell_type": "code",
   "execution_count": 19,
   "metadata": {},
   "outputs": [
    {
     "data": {
      "application/vnd.plotly.v1+json": {
       "config": {
        "plotlyServerURL": "https://plot.ly"
       },
       "data": [
        {
         "mode": "markers",
         "name": "a",
         "type": "scatter",
         "x": [
          0,
          1.2,
          2.4,
          3.6,
          4.8,
          6,
          7.199999999999999,
          8.4,
          9.6,
          10.8,
          12,
          13.2,
          14.4,
          15.6,
          16.8,
          18,
          19.2,
          20.4,
          21.6,
          22.8,
          24,
          25.2,
          26.4,
          27.6,
          28.8,
          30,
          31.2,
          32.4,
          33.6,
          34.8,
          36,
          37.2,
          38.4,
          39.6,
          40.8,
          42,
          43.2,
          44.4,
          45.6,
          46.8,
          48,
          49.2,
          50.4,
          51.6,
          52.8,
          54,
          55.2,
          56.4,
          57.6,
          58.8,
          60,
          61.2,
          62.4,
          63.6,
          64.8,
          66,
          67.2,
          68.39999999999999,
          69.6,
          70.8,
          72,
          73.2,
          74.39999999999999,
          75.6,
          76.8,
          78,
          79.2,
          80.39999999999999,
          81.6,
          82.8,
          84,
          85.2,
          86.39999999999999,
          87.6,
          88.8,
          90,
          91.2,
          92.4,
          93.6,
          94.8,
          96,
          97.2,
          98.4,
          99.6
         ],
         "y": [
          1313.416062167991,
          -1281.3383370887088,
          257.88637473406243,
          157.16824323238788,
          1055.0415024025483,
          -92.46311706167796,
          82.2919015212832,
          2261.320305477705,
          -923.1519030123502,
          1752.416719870404,
          2894.6595055191337,
          905.3437134287584,
          -1626.9636350988587,
          3027.5060530427645,
          793.2377990743773,
          1691.735950717992,
          2680.8556747057,
          2732.422032419277,
          3083.024125781884,
          3700.535821409477,
          3031.6536301042206,
          5042.116929349597,
          6279.437677974889,
          5689.269319272142,
          6247.367628255277,
          6542.880283869337,
          7692.026309550058,
          6954.677912839207,
          7432.119625620841,
          7357.757363461327,
          9338.988573453862,
          8037.33734182164,
          9512.0855235965,
          11724.36696056956,
          11491.719687660596,
          12096.425238873406,
          11398.171863638883,
          13766.006600280412,
          13593.51132711948,
          15196.4537733495,
          14351.75796082119,
          16425.172340740886,
          17573.41563826812,
          18460.81076249281,
          19225.542805073528,
          16665.272392893752,
          18892.437676310445,
          20015.083549716084,
          20849.61709143078,
          23287.626676434527,
          23251.29690436716,
          24067.71832419032,
          24837.63559491842,
          26924.082390563115,
          26531.661079683254,
          28858.61342235167,
          28812.913563093964,
          31827.46771057301,
          30744.428156523583,
          33482.16352260915,
          36105.406146350855,
          35567.40176394644,
          35047.44289796181,
          38173.43423188819,
          40129.96959913636,
          39275.11652228508,
          41528.88753671718,
          42807.72327886267,
          42754.45769383529,
          46394.04650969675,
          47574.52528107123,
          47805.18987960054,
          50648.2272021664,
          50166.464429998894,
          51639.01435684975,
          52599.21217904949,
          52876.54354258421,
          58377.6331063049,
          59547.564716979454,
          59268.89090658758,
          61856.08492519602,
          61240.77931758072,
          61793.51691632088,
          66191.59401530778
         ]
        },
        {
         "mode": "lines",
         "name": "b",
         "type": "scatter",
         "x": [
          0,
          1.2,
          2.4,
          3.6,
          4.8,
          6,
          7.199999999999999,
          8.4,
          9.6,
          10.8,
          12,
          13.2,
          14.4,
          15.6,
          16.8,
          18,
          19.2,
          20.4,
          21.6,
          22.8,
          24,
          25.2,
          26.4,
          27.6,
          28.8,
          30,
          31.2,
          32.4,
          33.6,
          34.8,
          36,
          37.2,
          38.4,
          39.6,
          40.8,
          42,
          43.2,
          44.4,
          45.6,
          46.8,
          48,
          49.2,
          50.4,
          51.6,
          52.8,
          54,
          55.2,
          56.4,
          57.6,
          58.8,
          60,
          61.2,
          62.4,
          63.6,
          64.8,
          66,
          67.2,
          68.39999999999999,
          69.6,
          70.8,
          72,
          73.2,
          74.39999999999999,
          75.6,
          76.8,
          78,
          79.2,
          80.39999999999999,
          81.6,
          82.8,
          84,
          85.2,
          86.39999999999999,
          87.6,
          88.8,
          90,
          91.2,
          92.4,
          93.6,
          94.8,
          96,
          97.2,
          98.4,
          99.6
         ],
         "y": [
          -87.62539936754513,
          -17.482217706407756,
          65.06132163758484,
          160.3558046752909,
          268.7437898506344,
          390.55980804060584,
          526.130362555261,
          675.7739291377222,
          839.8009559641772,
          1018.5138636438804,
          1212.2070452191513,
          1421.1668661653757,
          1645.6716643910067,
          1885.9917502375604,
          2142.3894064796223,
          2415.1188883248406,
          2704.4264234139323,
          3010.550211820679,
          3333.720426051928,
          3674.159211047592,
          4032.0806841806525,
          4407.690935257154,
          4801.188026516207,
          5212.761992629993,
          5642.594840703751,
          6090.860550275792,
          6557.7250733174915,
          7043.346334233291,
          7547.874229860699,
          8071.450629470283,
          8614.209374765693,
          9176.276279883627,
          9757.769131393852,
          10358.797688299217,
          10979.463682035612,
          11619.860816472015,
          12280.07476791046,
          12960.183185086045,
          13660.255689166941,
          14380.353873754371,
          15120.53130488265,
          15880.833521019136,
          16661.29803306425,
          17461.954324351496,
          18282.823850647444,
          19123.920040151716,
          19985.248293497007,
          20866.805983749073,
          21768.582456406748,
          22690.55902940192,
          23632.70899309955,
          24594.99761029767,
          25577.38211622735,
          26579.811718552766,
          27602.227597371133,
          28644.562905212737,
          29706.742767040938,
          30788.684280252142,
          31890.296514675854,
          33011.48051257463,
          34152.129288644064,
          35312.12783001287,
          36491.353096242754,
          37689.67401932857,
          38906.9515036982,
          40143.03842621257,
          41397.77963616572,
          42671.011955284695,
          43962.56417772967,
          45272.25707009386,
          46599.903371403525,
          47945.30779311801,
          49308.267019129715,
          50688.569705764145,
          52085.99648177983,
          53500.31994836838,
          54931.30467915443,
          56378.7072201958,
          57842.276089983214,
          59321.75177944059,
          60816.86675192486,
          62327.34544322602,
          63852.904261567135,
          65393.25158760432
         ]
        }
       ],
       "layout": {
        "template": {
         "data": {
          "bar": [
           {
            "error_x": {
             "color": "#2a3f5f"
            },
            "error_y": {
             "color": "#2a3f5f"
            },
            "marker": {
             "line": {
              "color": "#E5ECF6",
              "width": 0.5
             },
             "pattern": {
              "fillmode": "overlay",
              "size": 10,
              "solidity": 0.2
             }
            },
            "type": "bar"
           }
          ],
          "barpolar": [
           {
            "marker": {
             "line": {
              "color": "#E5ECF6",
              "width": 0.5
             },
             "pattern": {
              "fillmode": "overlay",
              "size": 10,
              "solidity": 0.2
             }
            },
            "type": "barpolar"
           }
          ],
          "carpet": [
           {
            "aaxis": {
             "endlinecolor": "#2a3f5f",
             "gridcolor": "white",
             "linecolor": "white",
             "minorgridcolor": "white",
             "startlinecolor": "#2a3f5f"
            },
            "baxis": {
             "endlinecolor": "#2a3f5f",
             "gridcolor": "white",
             "linecolor": "white",
             "minorgridcolor": "white",
             "startlinecolor": "#2a3f5f"
            },
            "type": "carpet"
           }
          ],
          "choropleth": [
           {
            "colorbar": {
             "outlinewidth": 0,
             "ticks": ""
            },
            "type": "choropleth"
           }
          ],
          "contour": [
           {
            "colorbar": {
             "outlinewidth": 0,
             "ticks": ""
            },
            "colorscale": [
             [
              0,
              "#0d0887"
             ],
             [
              0.1111111111111111,
              "#46039f"
             ],
             [
              0.2222222222222222,
              "#7201a8"
             ],
             [
              0.3333333333333333,
              "#9c179e"
             ],
             [
              0.4444444444444444,
              "#bd3786"
             ],
             [
              0.5555555555555556,
              "#d8576b"
             ],
             [
              0.6666666666666666,
              "#ed7953"
             ],
             [
              0.7777777777777778,
              "#fb9f3a"
             ],
             [
              0.8888888888888888,
              "#fdca26"
             ],
             [
              1,
              "#f0f921"
             ]
            ],
            "type": "contour"
           }
          ],
          "contourcarpet": [
           {
            "colorbar": {
             "outlinewidth": 0,
             "ticks": ""
            },
            "type": "contourcarpet"
           }
          ],
          "heatmap": [
           {
            "colorbar": {
             "outlinewidth": 0,
             "ticks": ""
            },
            "colorscale": [
             [
              0,
              "#0d0887"
             ],
             [
              0.1111111111111111,
              "#46039f"
             ],
             [
              0.2222222222222222,
              "#7201a8"
             ],
             [
              0.3333333333333333,
              "#9c179e"
             ],
             [
              0.4444444444444444,
              "#bd3786"
             ],
             [
              0.5555555555555556,
              "#d8576b"
             ],
             [
              0.6666666666666666,
              "#ed7953"
             ],
             [
              0.7777777777777778,
              "#fb9f3a"
             ],
             [
              0.8888888888888888,
              "#fdca26"
             ],
             [
              1,
              "#f0f921"
             ]
            ],
            "type": "heatmap"
           }
          ],
          "heatmapgl": [
           {
            "colorbar": {
             "outlinewidth": 0,
             "ticks": ""
            },
            "colorscale": [
             [
              0,
              "#0d0887"
             ],
             [
              0.1111111111111111,
              "#46039f"
             ],
             [
              0.2222222222222222,
              "#7201a8"
             ],
             [
              0.3333333333333333,
              "#9c179e"
             ],
             [
              0.4444444444444444,
              "#bd3786"
             ],
             [
              0.5555555555555556,
              "#d8576b"
             ],
             [
              0.6666666666666666,
              "#ed7953"
             ],
             [
              0.7777777777777778,
              "#fb9f3a"
             ],
             [
              0.8888888888888888,
              "#fdca26"
             ],
             [
              1,
              "#f0f921"
             ]
            ],
            "type": "heatmapgl"
           }
          ],
          "histogram": [
           {
            "marker": {
             "pattern": {
              "fillmode": "overlay",
              "size": 10,
              "solidity": 0.2
             }
            },
            "type": "histogram"
           }
          ],
          "histogram2d": [
           {
            "colorbar": {
             "outlinewidth": 0,
             "ticks": ""
            },
            "colorscale": [
             [
              0,
              "#0d0887"
             ],
             [
              0.1111111111111111,
              "#46039f"
             ],
             [
              0.2222222222222222,
              "#7201a8"
             ],
             [
              0.3333333333333333,
              "#9c179e"
             ],
             [
              0.4444444444444444,
              "#bd3786"
             ],
             [
              0.5555555555555556,
              "#d8576b"
             ],
             [
              0.6666666666666666,
              "#ed7953"
             ],
             [
              0.7777777777777778,
              "#fb9f3a"
             ],
             [
              0.8888888888888888,
              "#fdca26"
             ],
             [
              1,
              "#f0f921"
             ]
            ],
            "type": "histogram2d"
           }
          ],
          "histogram2dcontour": [
           {
            "colorbar": {
             "outlinewidth": 0,
             "ticks": ""
            },
            "colorscale": [
             [
              0,
              "#0d0887"
             ],
             [
              0.1111111111111111,
              "#46039f"
             ],
             [
              0.2222222222222222,
              "#7201a8"
             ],
             [
              0.3333333333333333,
              "#9c179e"
             ],
             [
              0.4444444444444444,
              "#bd3786"
             ],
             [
              0.5555555555555556,
              "#d8576b"
             ],
             [
              0.6666666666666666,
              "#ed7953"
             ],
             [
              0.7777777777777778,
              "#fb9f3a"
             ],
             [
              0.8888888888888888,
              "#fdca26"
             ],
             [
              1,
              "#f0f921"
             ]
            ],
            "type": "histogram2dcontour"
           }
          ],
          "mesh3d": [
           {
            "colorbar": {
             "outlinewidth": 0,
             "ticks": ""
            },
            "type": "mesh3d"
           }
          ],
          "parcoords": [
           {
            "line": {
             "colorbar": {
              "outlinewidth": 0,
              "ticks": ""
             }
            },
            "type": "parcoords"
           }
          ],
          "pie": [
           {
            "automargin": true,
            "type": "pie"
           }
          ],
          "scatter": [
           {
            "fillpattern": {
             "fillmode": "overlay",
             "size": 10,
             "solidity": 0.2
            },
            "type": "scatter"
           }
          ],
          "scatter3d": [
           {
            "line": {
             "colorbar": {
              "outlinewidth": 0,
              "ticks": ""
             }
            },
            "marker": {
             "colorbar": {
              "outlinewidth": 0,
              "ticks": ""
             }
            },
            "type": "scatter3d"
           }
          ],
          "scattercarpet": [
           {
            "marker": {
             "colorbar": {
              "outlinewidth": 0,
              "ticks": ""
             }
            },
            "type": "scattercarpet"
           }
          ],
          "scattergeo": [
           {
            "marker": {
             "colorbar": {
              "outlinewidth": 0,
              "ticks": ""
             }
            },
            "type": "scattergeo"
           }
          ],
          "scattergl": [
           {
            "marker": {
             "colorbar": {
              "outlinewidth": 0,
              "ticks": ""
             }
            },
            "type": "scattergl"
           }
          ],
          "scattermapbox": [
           {
            "marker": {
             "colorbar": {
              "outlinewidth": 0,
              "ticks": ""
             }
            },
            "type": "scattermapbox"
           }
          ],
          "scatterpolar": [
           {
            "marker": {
             "colorbar": {
              "outlinewidth": 0,
              "ticks": ""
             }
            },
            "type": "scatterpolar"
           }
          ],
          "scatterpolargl": [
           {
            "marker": {
             "colorbar": {
              "outlinewidth": 0,
              "ticks": ""
             }
            },
            "type": "scatterpolargl"
           }
          ],
          "scatterternary": [
           {
            "marker": {
             "colorbar": {
              "outlinewidth": 0,
              "ticks": ""
             }
            },
            "type": "scatterternary"
           }
          ],
          "surface": [
           {
            "colorbar": {
             "outlinewidth": 0,
             "ticks": ""
            },
            "colorscale": [
             [
              0,
              "#0d0887"
             ],
             [
              0.1111111111111111,
              "#46039f"
             ],
             [
              0.2222222222222222,
              "#7201a8"
             ],
             [
              0.3333333333333333,
              "#9c179e"
             ],
             [
              0.4444444444444444,
              "#bd3786"
             ],
             [
              0.5555555555555556,
              "#d8576b"
             ],
             [
              0.6666666666666666,
              "#ed7953"
             ],
             [
              0.7777777777777778,
              "#fb9f3a"
             ],
             [
              0.8888888888888888,
              "#fdca26"
             ],
             [
              1,
              "#f0f921"
             ]
            ],
            "type": "surface"
           }
          ],
          "table": [
           {
            "cells": {
             "fill": {
              "color": "#EBF0F8"
             },
             "line": {
              "color": "white"
             }
            },
            "header": {
             "fill": {
              "color": "#C8D4E3"
             },
             "line": {
              "color": "white"
             }
            },
            "type": "table"
           }
          ]
         },
         "layout": {
          "annotationdefaults": {
           "arrowcolor": "#2a3f5f",
           "arrowhead": 0,
           "arrowwidth": 1
          },
          "autotypenumbers": "strict",
          "coloraxis": {
           "colorbar": {
            "outlinewidth": 0,
            "ticks": ""
           }
          },
          "colorscale": {
           "diverging": [
            [
             0,
             "#8e0152"
            ],
            [
             0.1,
             "#c51b7d"
            ],
            [
             0.2,
             "#de77ae"
            ],
            [
             0.3,
             "#f1b6da"
            ],
            [
             0.4,
             "#fde0ef"
            ],
            [
             0.5,
             "#f7f7f7"
            ],
            [
             0.6,
             "#e6f5d0"
            ],
            [
             0.7,
             "#b8e186"
            ],
            [
             0.8,
             "#7fbc41"
            ],
            [
             0.9,
             "#4d9221"
            ],
            [
             1,
             "#276419"
            ]
           ],
           "sequential": [
            [
             0,
             "#0d0887"
            ],
            [
             0.1111111111111111,
             "#46039f"
            ],
            [
             0.2222222222222222,
             "#7201a8"
            ],
            [
             0.3333333333333333,
             "#9c179e"
            ],
            [
             0.4444444444444444,
             "#bd3786"
            ],
            [
             0.5555555555555556,
             "#d8576b"
            ],
            [
             0.6666666666666666,
             "#ed7953"
            ],
            [
             0.7777777777777778,
             "#fb9f3a"
            ],
            [
             0.8888888888888888,
             "#fdca26"
            ],
            [
             1,
             "#f0f921"
            ]
           ],
           "sequentialminus": [
            [
             0,
             "#0d0887"
            ],
            [
             0.1111111111111111,
             "#46039f"
            ],
            [
             0.2222222222222222,
             "#7201a8"
            ],
            [
             0.3333333333333333,
             "#9c179e"
            ],
            [
             0.4444444444444444,
             "#bd3786"
            ],
            [
             0.5555555555555556,
             "#d8576b"
            ],
            [
             0.6666666666666666,
             "#ed7953"
            ],
            [
             0.7777777777777778,
             "#fb9f3a"
            ],
            [
             0.8888888888888888,
             "#fdca26"
            ],
            [
             1,
             "#f0f921"
            ]
           ]
          },
          "colorway": [
           "#636efa",
           "#EF553B",
           "#00cc96",
           "#ab63fa",
           "#FFA15A",
           "#19d3f3",
           "#FF6692",
           "#B6E880",
           "#FF97FF",
           "#FECB52"
          ],
          "font": {
           "color": "#2a3f5f"
          },
          "geo": {
           "bgcolor": "white",
           "lakecolor": "white",
           "landcolor": "#E5ECF6",
           "showlakes": true,
           "showland": true,
           "subunitcolor": "white"
          },
          "hoverlabel": {
           "align": "left"
          },
          "hovermode": "closest",
          "mapbox": {
           "style": "light"
          },
          "paper_bgcolor": "white",
          "plot_bgcolor": "#E5ECF6",
          "polar": {
           "angularaxis": {
            "gridcolor": "white",
            "linecolor": "white",
            "ticks": ""
           },
           "bgcolor": "#E5ECF6",
           "radialaxis": {
            "gridcolor": "white",
            "linecolor": "white",
            "ticks": ""
           }
          },
          "scene": {
           "xaxis": {
            "backgroundcolor": "#E5ECF6",
            "gridcolor": "white",
            "gridwidth": 2,
            "linecolor": "white",
            "showbackground": true,
            "ticks": "",
            "zerolinecolor": "white"
           },
           "yaxis": {
            "backgroundcolor": "#E5ECF6",
            "gridcolor": "white",
            "gridwidth": 2,
            "linecolor": "white",
            "showbackground": true,
            "ticks": "",
            "zerolinecolor": "white"
           },
           "zaxis": {
            "backgroundcolor": "#E5ECF6",
            "gridcolor": "white",
            "gridwidth": 2,
            "linecolor": "white",
            "showbackground": true,
            "ticks": "",
            "zerolinecolor": "white"
           }
          },
          "shapedefaults": {
           "line": {
            "color": "#2a3f5f"
           }
          },
          "ternary": {
           "aaxis": {
            "gridcolor": "white",
            "linecolor": "white",
            "ticks": ""
           },
           "baxis": {
            "gridcolor": "white",
            "linecolor": "white",
            "ticks": ""
           },
           "bgcolor": "#E5ECF6",
           "caxis": {
            "gridcolor": "white",
            "linecolor": "white",
            "ticks": ""
           }
          },
          "title": {
           "x": 0.05
          },
          "xaxis": {
           "automargin": true,
           "gridcolor": "white",
           "linecolor": "white",
           "ticks": "",
           "title": {
            "standoff": 15
           },
           "zerolinecolor": "white",
           "zerolinewidth": 2
          },
          "yaxis": {
           "automargin": true,
           "gridcolor": "white",
           "linecolor": "white",
           "ticks": "",
           "title": {
            "standoff": 15
           },
           "zerolinecolor": "white",
           "zerolinewidth": 2
          }
         }
        }
       }
      }
     },
     "metadata": {},
     "output_type": "display_data"
    }
   ],
   "source": [
    "plot_diagram(name_1= 'a', name_2= 'b', mode_1= 'markers', mode_2= 'lines',\n",
    "             x_1= x_value.reshape(-1, ), y_1= y_value.reshape(-1, ), \n",
    "             x_2= x_value.reshape(-1, ), y_2= function(input= X, theta= theta_true))"
   ]
  },
  {
   "cell_type": "code",
   "execution_count": 20,
   "metadata": {},
   "outputs": [
    {
     "data": {
      "application/vnd.plotly.v1+json": {
       "config": {
        "plotlyServerURL": "https://plot.ly"
       },
       "data": [
        {
         "mode": "markers",
         "name": "Actual",
         "type": "scatter",
         "x": [
          0,
          1.2,
          2.4,
          3.6,
          4.8,
          6,
          7.199999999999999,
          8.4,
          9.6,
          10.8,
          12,
          13.2,
          14.4,
          15.6,
          16.8,
          18,
          19.2,
          20.4,
          21.6,
          22.8,
          24,
          25.2,
          26.4,
          27.6,
          28.8,
          30,
          31.2,
          32.4,
          33.6,
          34.8,
          36,
          37.2,
          38.4,
          39.6,
          40.8,
          42,
          43.2,
          44.4,
          45.6,
          46.8,
          48,
          49.2,
          50.4,
          51.6,
          52.8,
          54,
          55.2,
          56.4,
          57.6,
          58.8,
          60,
          61.2,
          62.4,
          63.6,
          64.8,
          66,
          67.2,
          68.39999999999999,
          69.6,
          70.8,
          72,
          73.2,
          74.39999999999999,
          75.6,
          76.8,
          78,
          79.2,
          80.39999999999999,
          81.6,
          82.8,
          84,
          85.2,
          86.39999999999999,
          87.6,
          88.8,
          90,
          91.2,
          92.4,
          93.6,
          94.8,
          96,
          97.2,
          98.4,
          99.6
         ],
         "y": [
          1313.416062167991,
          -1281.3383370887088,
          257.88637473406243,
          157.16824323238788,
          1055.0415024025483,
          -92.46311706167796,
          82.2919015212832,
          2261.320305477705,
          -923.1519030123502,
          1752.416719870404,
          2894.6595055191337,
          905.3437134287584,
          -1626.9636350988587,
          3027.5060530427645,
          793.2377990743773,
          1691.735950717992,
          2680.8556747057,
          2732.422032419277,
          3083.024125781884,
          3700.535821409477,
          3031.6536301042206,
          5042.116929349597,
          6279.437677974889,
          5689.269319272142,
          6247.367628255277,
          6542.880283869337,
          7692.026309550058,
          6954.677912839207,
          7432.119625620841,
          7357.757363461327,
          9338.988573453862,
          8037.33734182164,
          9512.0855235965,
          11724.36696056956,
          11491.719687660596,
          12096.425238873406,
          11398.171863638883,
          13766.006600280412,
          13593.51132711948,
          15196.4537733495,
          14351.75796082119,
          16425.172340740886,
          17573.41563826812,
          18460.81076249281,
          19225.542805073528,
          16665.272392893752,
          18892.437676310445,
          20015.083549716084,
          20849.61709143078,
          23287.626676434527,
          23251.29690436716,
          24067.71832419032,
          24837.63559491842,
          26924.082390563115,
          26531.661079683254,
          28858.61342235167,
          28812.913563093964,
          31827.46771057301,
          30744.428156523583,
          33482.16352260915,
          36105.406146350855,
          35567.40176394644,
          35047.44289796181,
          38173.43423188819,
          40129.96959913636,
          39275.11652228508,
          41528.88753671718,
          42807.72327886267,
          42754.45769383529,
          46394.04650969675,
          47574.52528107123,
          47805.18987960054,
          50648.2272021664,
          50166.464429998894,
          51639.01435684975,
          52599.21217904949,
          52876.54354258421,
          58377.6331063049,
          59547.564716979454,
          59268.89090658758,
          61856.08492519602,
          61240.77931758072,
          61793.51691632088,
          66191.59401530778
         ]
        },
        {
         "mode": "lines",
         "name": "Predicted",
         "type": "scatter",
         "x": [
          0,
          1.2,
          2.4,
          3.6,
          4.8,
          6,
          7.199999999999999,
          8.4,
          9.6,
          10.8,
          12,
          13.2,
          14.4,
          15.6,
          16.8,
          18,
          19.2,
          20.4,
          21.6,
          22.8,
          24,
          25.2,
          26.4,
          27.6,
          28.8,
          30,
          31.2,
          32.4,
          33.6,
          34.8,
          36,
          37.2,
          38.4,
          39.6,
          40.8,
          42,
          43.2,
          44.4,
          45.6,
          46.8,
          48,
          49.2,
          50.4,
          51.6,
          52.8,
          54,
          55.2,
          56.4,
          57.6,
          58.8,
          60,
          61.2,
          62.4,
          63.6,
          64.8,
          66,
          67.2,
          68.39999999999999,
          69.6,
          70.8,
          72,
          73.2,
          74.39999999999999,
          75.6,
          76.8,
          78,
          79.2,
          80.39999999999999,
          81.6,
          82.8,
          84,
          85.2,
          86.39999999999999,
          87.6,
          88.8,
          90,
          91.2,
          92.4,
          93.6,
          94.8,
          96,
          97.2,
          98.4,
          99.6
         ],
         "y": [
          207.57245663214053,
          196.96299766431582,
          208.15744250839398,
          240.9459745915559,
          295.12506684817725,
          370.49748171982833,
          466.87227115527395,
          584.0647766104737,
          721.8966290485822,
          880.195748939948,
          1058.7963462621144,
          1257.53892049982,
          1476.2702606449982,
          1714.8434451967753,
          1973.1178421614738,
          2250.959109052612,
          2548.2391928908987,
          2864.836330204242,
          3200.6350470277434,
          3555.526158903696,
          3929.4067708815915,
          4322.180277518113,
          4733.756362877143,
          5164.051000529754,
          5612.986453554215,
          6080.491274535986,
          6566.50030556773,
          7070.954678249297,
          7593.801813687735,
          8134.995422497287,
          8694.495504799388,
          9272.26835022267,
          9868.286537902957,
          10482.528936483279,
          11114.980704113836,
          11765.633288452049,
          12434.484426662522,
          13121.538145417047,
          13826.804760894625,
          14550.300878781438,
          15292.049394270882,
          16052.079492063524,
          16830.426646367134,
          17627.132620896686,
          18442.245468874342,
          19275.819533029455,
          20127.915445598577,
          20998.60012832546,
          21887.946792461036,
          22796.034938763438,
          23722.950357498004,
          24668.78512843726,
          25633.637620860914,
          26617.61249355589,
          27620.820694816288,
          28643.379462443416,
          29685.41232374578,
          30747.04909553904,
          31828.425884146134,
          32929.68508539711,
          34050.97538462925,
          35192.451756687035,
          36354.27546592209,
          37536.61406619333,
          38739.64140086679,
          39963.53760281571,
          41208.48909442054,
          42474.68858756892,
          43762.33508365568,
          45071.633873582854,
          46402.79653775967,
          47756.04094610254,
          49131.59125803505,
          50529.67792248805,
          51950.53767789953,
          53394.41355221466,
          54861.55486288586,
          56352.217216872705,
          57866.66251064196,
          59405.15893016764,
          60967.98095093087,
          62555.40933792004,
          64167.73114563071,
          65805.2397180656
         ]
        }
       ],
       "layout": {
        "template": {
         "data": {
          "bar": [
           {
            "error_x": {
             "color": "#2a3f5f"
            },
            "error_y": {
             "color": "#2a3f5f"
            },
            "marker": {
             "line": {
              "color": "#E5ECF6",
              "width": 0.5
             },
             "pattern": {
              "fillmode": "overlay",
              "size": 10,
              "solidity": 0.2
             }
            },
            "type": "bar"
           }
          ],
          "barpolar": [
           {
            "marker": {
             "line": {
              "color": "#E5ECF6",
              "width": 0.5
             },
             "pattern": {
              "fillmode": "overlay",
              "size": 10,
              "solidity": 0.2
             }
            },
            "type": "barpolar"
           }
          ],
          "carpet": [
           {
            "aaxis": {
             "endlinecolor": "#2a3f5f",
             "gridcolor": "white",
             "linecolor": "white",
             "minorgridcolor": "white",
             "startlinecolor": "#2a3f5f"
            },
            "baxis": {
             "endlinecolor": "#2a3f5f",
             "gridcolor": "white",
             "linecolor": "white",
             "minorgridcolor": "white",
             "startlinecolor": "#2a3f5f"
            },
            "type": "carpet"
           }
          ],
          "choropleth": [
           {
            "colorbar": {
             "outlinewidth": 0,
             "ticks": ""
            },
            "type": "choropleth"
           }
          ],
          "contour": [
           {
            "colorbar": {
             "outlinewidth": 0,
             "ticks": ""
            },
            "colorscale": [
             [
              0,
              "#0d0887"
             ],
             [
              0.1111111111111111,
              "#46039f"
             ],
             [
              0.2222222222222222,
              "#7201a8"
             ],
             [
              0.3333333333333333,
              "#9c179e"
             ],
             [
              0.4444444444444444,
              "#bd3786"
             ],
             [
              0.5555555555555556,
              "#d8576b"
             ],
             [
              0.6666666666666666,
              "#ed7953"
             ],
             [
              0.7777777777777778,
              "#fb9f3a"
             ],
             [
              0.8888888888888888,
              "#fdca26"
             ],
             [
              1,
              "#f0f921"
             ]
            ],
            "type": "contour"
           }
          ],
          "contourcarpet": [
           {
            "colorbar": {
             "outlinewidth": 0,
             "ticks": ""
            },
            "type": "contourcarpet"
           }
          ],
          "heatmap": [
           {
            "colorbar": {
             "outlinewidth": 0,
             "ticks": ""
            },
            "colorscale": [
             [
              0,
              "#0d0887"
             ],
             [
              0.1111111111111111,
              "#46039f"
             ],
             [
              0.2222222222222222,
              "#7201a8"
             ],
             [
              0.3333333333333333,
              "#9c179e"
             ],
             [
              0.4444444444444444,
              "#bd3786"
             ],
             [
              0.5555555555555556,
              "#d8576b"
             ],
             [
              0.6666666666666666,
              "#ed7953"
             ],
             [
              0.7777777777777778,
              "#fb9f3a"
             ],
             [
              0.8888888888888888,
              "#fdca26"
             ],
             [
              1,
              "#f0f921"
             ]
            ],
            "type": "heatmap"
           }
          ],
          "heatmapgl": [
           {
            "colorbar": {
             "outlinewidth": 0,
             "ticks": ""
            },
            "colorscale": [
             [
              0,
              "#0d0887"
             ],
             [
              0.1111111111111111,
              "#46039f"
             ],
             [
              0.2222222222222222,
              "#7201a8"
             ],
             [
              0.3333333333333333,
              "#9c179e"
             ],
             [
              0.4444444444444444,
              "#bd3786"
             ],
             [
              0.5555555555555556,
              "#d8576b"
             ],
             [
              0.6666666666666666,
              "#ed7953"
             ],
             [
              0.7777777777777778,
              "#fb9f3a"
             ],
             [
              0.8888888888888888,
              "#fdca26"
             ],
             [
              1,
              "#f0f921"
             ]
            ],
            "type": "heatmapgl"
           }
          ],
          "histogram": [
           {
            "marker": {
             "pattern": {
              "fillmode": "overlay",
              "size": 10,
              "solidity": 0.2
             }
            },
            "type": "histogram"
           }
          ],
          "histogram2d": [
           {
            "colorbar": {
             "outlinewidth": 0,
             "ticks": ""
            },
            "colorscale": [
             [
              0,
              "#0d0887"
             ],
             [
              0.1111111111111111,
              "#46039f"
             ],
             [
              0.2222222222222222,
              "#7201a8"
             ],
             [
              0.3333333333333333,
              "#9c179e"
             ],
             [
              0.4444444444444444,
              "#bd3786"
             ],
             [
              0.5555555555555556,
              "#d8576b"
             ],
             [
              0.6666666666666666,
              "#ed7953"
             ],
             [
              0.7777777777777778,
              "#fb9f3a"
             ],
             [
              0.8888888888888888,
              "#fdca26"
             ],
             [
              1,
              "#f0f921"
             ]
            ],
            "type": "histogram2d"
           }
          ],
          "histogram2dcontour": [
           {
            "colorbar": {
             "outlinewidth": 0,
             "ticks": ""
            },
            "colorscale": [
             [
              0,
              "#0d0887"
             ],
             [
              0.1111111111111111,
              "#46039f"
             ],
             [
              0.2222222222222222,
              "#7201a8"
             ],
             [
              0.3333333333333333,
              "#9c179e"
             ],
             [
              0.4444444444444444,
              "#bd3786"
             ],
             [
              0.5555555555555556,
              "#d8576b"
             ],
             [
              0.6666666666666666,
              "#ed7953"
             ],
             [
              0.7777777777777778,
              "#fb9f3a"
             ],
             [
              0.8888888888888888,
              "#fdca26"
             ],
             [
              1,
              "#f0f921"
             ]
            ],
            "type": "histogram2dcontour"
           }
          ],
          "mesh3d": [
           {
            "colorbar": {
             "outlinewidth": 0,
             "ticks": ""
            },
            "type": "mesh3d"
           }
          ],
          "parcoords": [
           {
            "line": {
             "colorbar": {
              "outlinewidth": 0,
              "ticks": ""
             }
            },
            "type": "parcoords"
           }
          ],
          "pie": [
           {
            "automargin": true,
            "type": "pie"
           }
          ],
          "scatter": [
           {
            "fillpattern": {
             "fillmode": "overlay",
             "size": 10,
             "solidity": 0.2
            },
            "type": "scatter"
           }
          ],
          "scatter3d": [
           {
            "line": {
             "colorbar": {
              "outlinewidth": 0,
              "ticks": ""
             }
            },
            "marker": {
             "colorbar": {
              "outlinewidth": 0,
              "ticks": ""
             }
            },
            "type": "scatter3d"
           }
          ],
          "scattercarpet": [
           {
            "marker": {
             "colorbar": {
              "outlinewidth": 0,
              "ticks": ""
             }
            },
            "type": "scattercarpet"
           }
          ],
          "scattergeo": [
           {
            "marker": {
             "colorbar": {
              "outlinewidth": 0,
              "ticks": ""
             }
            },
            "type": "scattergeo"
           }
          ],
          "scattergl": [
           {
            "marker": {
             "colorbar": {
              "outlinewidth": 0,
              "ticks": ""
             }
            },
            "type": "scattergl"
           }
          ],
          "scattermapbox": [
           {
            "marker": {
             "colorbar": {
              "outlinewidth": 0,
              "ticks": ""
             }
            },
            "type": "scattermapbox"
           }
          ],
          "scatterpolar": [
           {
            "marker": {
             "colorbar": {
              "outlinewidth": 0,
              "ticks": ""
             }
            },
            "type": "scatterpolar"
           }
          ],
          "scatterpolargl": [
           {
            "marker": {
             "colorbar": {
              "outlinewidth": 0,
              "ticks": ""
             }
            },
            "type": "scatterpolargl"
           }
          ],
          "scatterternary": [
           {
            "marker": {
             "colorbar": {
              "outlinewidth": 0,
              "ticks": ""
             }
            },
            "type": "scatterternary"
           }
          ],
          "surface": [
           {
            "colorbar": {
             "outlinewidth": 0,
             "ticks": ""
            },
            "colorscale": [
             [
              0,
              "#0d0887"
             ],
             [
              0.1111111111111111,
              "#46039f"
             ],
             [
              0.2222222222222222,
              "#7201a8"
             ],
             [
              0.3333333333333333,
              "#9c179e"
             ],
             [
              0.4444444444444444,
              "#bd3786"
             ],
             [
              0.5555555555555556,
              "#d8576b"
             ],
             [
              0.6666666666666666,
              "#ed7953"
             ],
             [
              0.7777777777777778,
              "#fb9f3a"
             ],
             [
              0.8888888888888888,
              "#fdca26"
             ],
             [
              1,
              "#f0f921"
             ]
            ],
            "type": "surface"
           }
          ],
          "table": [
           {
            "cells": {
             "fill": {
              "color": "#EBF0F8"
             },
             "line": {
              "color": "white"
             }
            },
            "header": {
             "fill": {
              "color": "#C8D4E3"
             },
             "line": {
              "color": "white"
             }
            },
            "type": "table"
           }
          ]
         },
         "layout": {
          "annotationdefaults": {
           "arrowcolor": "#2a3f5f",
           "arrowhead": 0,
           "arrowwidth": 1
          },
          "autotypenumbers": "strict",
          "coloraxis": {
           "colorbar": {
            "outlinewidth": 0,
            "ticks": ""
           }
          },
          "colorscale": {
           "diverging": [
            [
             0,
             "#8e0152"
            ],
            [
             0.1,
             "#c51b7d"
            ],
            [
             0.2,
             "#de77ae"
            ],
            [
             0.3,
             "#f1b6da"
            ],
            [
             0.4,
             "#fde0ef"
            ],
            [
             0.5,
             "#f7f7f7"
            ],
            [
             0.6,
             "#e6f5d0"
            ],
            [
             0.7,
             "#b8e186"
            ],
            [
             0.8,
             "#7fbc41"
            ],
            [
             0.9,
             "#4d9221"
            ],
            [
             1,
             "#276419"
            ]
           ],
           "sequential": [
            [
             0,
             "#0d0887"
            ],
            [
             0.1111111111111111,
             "#46039f"
            ],
            [
             0.2222222222222222,
             "#7201a8"
            ],
            [
             0.3333333333333333,
             "#9c179e"
            ],
            [
             0.4444444444444444,
             "#bd3786"
            ],
            [
             0.5555555555555556,
             "#d8576b"
            ],
            [
             0.6666666666666666,
             "#ed7953"
            ],
            [
             0.7777777777777778,
             "#fb9f3a"
            ],
            [
             0.8888888888888888,
             "#fdca26"
            ],
            [
             1,
             "#f0f921"
            ]
           ],
           "sequentialminus": [
            [
             0,
             "#0d0887"
            ],
            [
             0.1111111111111111,
             "#46039f"
            ],
            [
             0.2222222222222222,
             "#7201a8"
            ],
            [
             0.3333333333333333,
             "#9c179e"
            ],
            [
             0.4444444444444444,
             "#bd3786"
            ],
            [
             0.5555555555555556,
             "#d8576b"
            ],
            [
             0.6666666666666666,
             "#ed7953"
            ],
            [
             0.7777777777777778,
             "#fb9f3a"
            ],
            [
             0.8888888888888888,
             "#fdca26"
            ],
            [
             1,
             "#f0f921"
            ]
           ]
          },
          "colorway": [
           "#636efa",
           "#EF553B",
           "#00cc96",
           "#ab63fa",
           "#FFA15A",
           "#19d3f3",
           "#FF6692",
           "#B6E880",
           "#FF97FF",
           "#FECB52"
          ],
          "font": {
           "color": "#2a3f5f"
          },
          "geo": {
           "bgcolor": "white",
           "lakecolor": "white",
           "landcolor": "#E5ECF6",
           "showlakes": true,
           "showland": true,
           "subunitcolor": "white"
          },
          "hoverlabel": {
           "align": "left"
          },
          "hovermode": "closest",
          "mapbox": {
           "style": "light"
          },
          "paper_bgcolor": "white",
          "plot_bgcolor": "#E5ECF6",
          "polar": {
           "angularaxis": {
            "gridcolor": "white",
            "linecolor": "white",
            "ticks": ""
           },
           "bgcolor": "#E5ECF6",
           "radialaxis": {
            "gridcolor": "white",
            "linecolor": "white",
            "ticks": ""
           }
          },
          "scene": {
           "xaxis": {
            "backgroundcolor": "#E5ECF6",
            "gridcolor": "white",
            "gridwidth": 2,
            "linecolor": "white",
            "showbackground": true,
            "ticks": "",
            "zerolinecolor": "white"
           },
           "yaxis": {
            "backgroundcolor": "#E5ECF6",
            "gridcolor": "white",
            "gridwidth": 2,
            "linecolor": "white",
            "showbackground": true,
            "ticks": "",
            "zerolinecolor": "white"
           },
           "zaxis": {
            "backgroundcolor": "#E5ECF6",
            "gridcolor": "white",
            "gridwidth": 2,
            "linecolor": "white",
            "showbackground": true,
            "ticks": "",
            "zerolinecolor": "white"
           }
          },
          "shapedefaults": {
           "line": {
            "color": "#2a3f5f"
           }
          },
          "ternary": {
           "aaxis": {
            "gridcolor": "white",
            "linecolor": "white",
            "ticks": ""
           },
           "baxis": {
            "gridcolor": "white",
            "linecolor": "white",
            "ticks": ""
           },
           "bgcolor": "#E5ECF6",
           "caxis": {
            "gridcolor": "white",
            "linecolor": "white",
            "ticks": ""
           }
          },
          "title": {
           "x": 0.05
          },
          "xaxis": {
           "automargin": true,
           "gridcolor": "white",
           "linecolor": "white",
           "ticks": "",
           "title": {
            "standoff": 15
           },
           "zerolinecolor": "white",
           "zerolinewidth": 2
          },
          "yaxis": {
           "automargin": true,
           "gridcolor": "white",
           "linecolor": "white",
           "ticks": "",
           "title": {
            "standoff": 15
           },
           "zerolinecolor": "white",
           "zerolinewidth": 2
          }
         }
        }
       }
      }
     },
     "metadata": {},
     "output_type": "display_data"
    },
    {
     "data": {
      "application/vnd.plotly.v1+json": {
       "config": {
        "plotlyServerURL": "https://plot.ly"
       },
       "data": [
        {
         "mode": "markers",
         "name": "Actual",
         "type": "scatter",
         "x": [
          0,
          1.2,
          2.4,
          3.6,
          4.8,
          6,
          7.199999999999999,
          8.4,
          9.6,
          10.8,
          12,
          13.2,
          14.4,
          15.6,
          16.8,
          18,
          19.2,
          20.4,
          21.6,
          22.8,
          24,
          25.2,
          26.4,
          27.6,
          28.8,
          30,
          31.2,
          32.4,
          33.6,
          34.8,
          36,
          37.2,
          38.4,
          39.6,
          40.8,
          42,
          43.2,
          44.4,
          45.6,
          46.8,
          48,
          49.2,
          50.4,
          51.6,
          52.8,
          54,
          55.2,
          56.4,
          57.6,
          58.8,
          60,
          61.2,
          62.4,
          63.6,
          64.8,
          66,
          67.2,
          68.39999999999999,
          69.6,
          70.8,
          72,
          73.2,
          74.39999999999999,
          75.6,
          76.8,
          78,
          79.2,
          80.39999999999999,
          81.6,
          82.8,
          84,
          85.2,
          86.39999999999999,
          87.6,
          88.8,
          90,
          91.2,
          92.4,
          93.6,
          94.8,
          96,
          97.2,
          98.4,
          99.6
         ],
         "y": [
          1313.416062167991,
          -1281.3383370887088,
          257.88637473406243,
          157.16824323238788,
          1055.0415024025483,
          -92.46311706167796,
          82.2919015212832,
          2261.320305477705,
          -923.1519030123502,
          1752.416719870404,
          2894.6595055191337,
          905.3437134287584,
          -1626.9636350988587,
          3027.5060530427645,
          793.2377990743773,
          1691.735950717992,
          2680.8556747057,
          2732.422032419277,
          3083.024125781884,
          3700.535821409477,
          3031.6536301042206,
          5042.116929349597,
          6279.437677974889,
          5689.269319272142,
          6247.367628255277,
          6542.880283869337,
          7692.026309550058,
          6954.677912839207,
          7432.119625620841,
          7357.757363461327,
          9338.988573453862,
          8037.33734182164,
          9512.0855235965,
          11724.36696056956,
          11491.719687660596,
          12096.425238873406,
          11398.171863638883,
          13766.006600280412,
          13593.51132711948,
          15196.4537733495,
          14351.75796082119,
          16425.172340740886,
          17573.41563826812,
          18460.81076249281,
          19225.542805073528,
          16665.272392893752,
          18892.437676310445,
          20015.083549716084,
          20849.61709143078,
          23287.626676434527,
          23251.29690436716,
          24067.71832419032,
          24837.63559491842,
          26924.082390563115,
          26531.661079683254,
          28858.61342235167,
          28812.913563093964,
          31827.46771057301,
          30744.428156523583,
          33482.16352260915,
          36105.406146350855,
          35567.40176394644,
          35047.44289796181,
          38173.43423188819,
          40129.96959913636,
          39275.11652228508,
          41528.88753671718,
          42807.72327886267,
          42754.45769383529,
          46394.04650969675,
          47574.52528107123,
          47805.18987960054,
          50648.2272021664,
          50166.464429998894,
          51639.01435684975,
          52599.21217904949,
          52876.54354258421,
          58377.6331063049,
          59547.564716979454,
          59268.89090658758,
          61856.08492519602,
          61240.77931758072,
          61793.51691632088,
          66191.59401530778
         ]
        },
        {
         "mode": "lines",
         "name": "True Prediction",
         "type": "scatter",
         "x": [
          0,
          1.2,
          2.4,
          3.6,
          4.8,
          6,
          7.199999999999999,
          8.4,
          9.6,
          10.8,
          12,
          13.2,
          14.4,
          15.6,
          16.8,
          18,
          19.2,
          20.4,
          21.6,
          22.8,
          24,
          25.2,
          26.4,
          27.6,
          28.8,
          30,
          31.2,
          32.4,
          33.6,
          34.8,
          36,
          37.2,
          38.4,
          39.6,
          40.8,
          42,
          43.2,
          44.4,
          45.6,
          46.8,
          48,
          49.2,
          50.4,
          51.6,
          52.8,
          54,
          55.2,
          56.4,
          57.6,
          58.8,
          60,
          61.2,
          62.4,
          63.6,
          64.8,
          66,
          67.2,
          68.39999999999999,
          69.6,
          70.8,
          72,
          73.2,
          74.39999999999999,
          75.6,
          76.8,
          78,
          79.2,
          80.39999999999999,
          81.6,
          82.8,
          84,
          85.2,
          86.39999999999999,
          87.6,
          88.8,
          90,
          91.2,
          92.4,
          93.6,
          94.8,
          96,
          97.2,
          98.4,
          99.6
         ],
         "y": [
          -87.62539936754513,
          -17.482217706407756,
          65.06132163758484,
          160.3558046752909,
          268.7437898506344,
          390.55980804060584,
          526.130362555261,
          675.7739291377222,
          839.8009559641772,
          1018.5138636438804,
          1212.2070452191513,
          1421.1668661653757,
          1645.6716643910067,
          1885.9917502375604,
          2142.3894064796223,
          2415.1188883248406,
          2704.4264234139323,
          3010.550211820679,
          3333.720426051928,
          3674.159211047592,
          4032.0806841806525,
          4407.690935257154,
          4801.188026516207,
          5212.761992629993,
          5642.594840703751,
          6090.860550275792,
          6557.7250733174915,
          7043.346334233291,
          7547.874229860699,
          8071.450629470283,
          8614.209374765693,
          9176.276279883627,
          9757.769131393852,
          10358.797688299217,
          10979.463682035612,
          11619.860816472015,
          12280.07476791046,
          12960.183185086045,
          13660.255689166941,
          14380.353873754371,
          15120.53130488265,
          15880.833521019136,
          16661.29803306425,
          17461.954324351496,
          18282.823850647444,
          19123.920040151716,
          19985.248293497007,
          20866.805983749073,
          21768.582456406748,
          22690.55902940192,
          23632.70899309955,
          24594.99761029767,
          25577.38211622735,
          26579.811718552766,
          27602.227597371133,
          28644.562905212737,
          29706.742767040938,
          30788.684280252142,
          31890.296514675854,
          33011.48051257463,
          34152.129288644064,
          35312.12783001287,
          36491.353096242754,
          37689.67401932857,
          38906.9515036982,
          40143.03842621257,
          41397.77963616572,
          42671.011955284695,
          43962.56417772967,
          45272.25707009386,
          46599.903371403525,
          47945.30779311801,
          49308.267019129715,
          50688.569705764145,
          52085.99648177983,
          53500.31994836838,
          54931.30467915443,
          56378.7072201958,
          57842.276089983214,
          59321.75177944059,
          60816.86675192486,
          62327.34544322602,
          63852.904261567135,
          65393.25158760432
         ]
        }
       ],
       "layout": {
        "template": {
         "data": {
          "bar": [
           {
            "error_x": {
             "color": "#2a3f5f"
            },
            "error_y": {
             "color": "#2a3f5f"
            },
            "marker": {
             "line": {
              "color": "#E5ECF6",
              "width": 0.5
             },
             "pattern": {
              "fillmode": "overlay",
              "size": 10,
              "solidity": 0.2
             }
            },
            "type": "bar"
           }
          ],
          "barpolar": [
           {
            "marker": {
             "line": {
              "color": "#E5ECF6",
              "width": 0.5
             },
             "pattern": {
              "fillmode": "overlay",
              "size": 10,
              "solidity": 0.2
             }
            },
            "type": "barpolar"
           }
          ],
          "carpet": [
           {
            "aaxis": {
             "endlinecolor": "#2a3f5f",
             "gridcolor": "white",
             "linecolor": "white",
             "minorgridcolor": "white",
             "startlinecolor": "#2a3f5f"
            },
            "baxis": {
             "endlinecolor": "#2a3f5f",
             "gridcolor": "white",
             "linecolor": "white",
             "minorgridcolor": "white",
             "startlinecolor": "#2a3f5f"
            },
            "type": "carpet"
           }
          ],
          "choropleth": [
           {
            "colorbar": {
             "outlinewidth": 0,
             "ticks": ""
            },
            "type": "choropleth"
           }
          ],
          "contour": [
           {
            "colorbar": {
             "outlinewidth": 0,
             "ticks": ""
            },
            "colorscale": [
             [
              0,
              "#0d0887"
             ],
             [
              0.1111111111111111,
              "#46039f"
             ],
             [
              0.2222222222222222,
              "#7201a8"
             ],
             [
              0.3333333333333333,
              "#9c179e"
             ],
             [
              0.4444444444444444,
              "#bd3786"
             ],
             [
              0.5555555555555556,
              "#d8576b"
             ],
             [
              0.6666666666666666,
              "#ed7953"
             ],
             [
              0.7777777777777778,
              "#fb9f3a"
             ],
             [
              0.8888888888888888,
              "#fdca26"
             ],
             [
              1,
              "#f0f921"
             ]
            ],
            "type": "contour"
           }
          ],
          "contourcarpet": [
           {
            "colorbar": {
             "outlinewidth": 0,
             "ticks": ""
            },
            "type": "contourcarpet"
           }
          ],
          "heatmap": [
           {
            "colorbar": {
             "outlinewidth": 0,
             "ticks": ""
            },
            "colorscale": [
             [
              0,
              "#0d0887"
             ],
             [
              0.1111111111111111,
              "#46039f"
             ],
             [
              0.2222222222222222,
              "#7201a8"
             ],
             [
              0.3333333333333333,
              "#9c179e"
             ],
             [
              0.4444444444444444,
              "#bd3786"
             ],
             [
              0.5555555555555556,
              "#d8576b"
             ],
             [
              0.6666666666666666,
              "#ed7953"
             ],
             [
              0.7777777777777778,
              "#fb9f3a"
             ],
             [
              0.8888888888888888,
              "#fdca26"
             ],
             [
              1,
              "#f0f921"
             ]
            ],
            "type": "heatmap"
           }
          ],
          "heatmapgl": [
           {
            "colorbar": {
             "outlinewidth": 0,
             "ticks": ""
            },
            "colorscale": [
             [
              0,
              "#0d0887"
             ],
             [
              0.1111111111111111,
              "#46039f"
             ],
             [
              0.2222222222222222,
              "#7201a8"
             ],
             [
              0.3333333333333333,
              "#9c179e"
             ],
             [
              0.4444444444444444,
              "#bd3786"
             ],
             [
              0.5555555555555556,
              "#d8576b"
             ],
             [
              0.6666666666666666,
              "#ed7953"
             ],
             [
              0.7777777777777778,
              "#fb9f3a"
             ],
             [
              0.8888888888888888,
              "#fdca26"
             ],
             [
              1,
              "#f0f921"
             ]
            ],
            "type": "heatmapgl"
           }
          ],
          "histogram": [
           {
            "marker": {
             "pattern": {
              "fillmode": "overlay",
              "size": 10,
              "solidity": 0.2
             }
            },
            "type": "histogram"
           }
          ],
          "histogram2d": [
           {
            "colorbar": {
             "outlinewidth": 0,
             "ticks": ""
            },
            "colorscale": [
             [
              0,
              "#0d0887"
             ],
             [
              0.1111111111111111,
              "#46039f"
             ],
             [
              0.2222222222222222,
              "#7201a8"
             ],
             [
              0.3333333333333333,
              "#9c179e"
             ],
             [
              0.4444444444444444,
              "#bd3786"
             ],
             [
              0.5555555555555556,
              "#d8576b"
             ],
             [
              0.6666666666666666,
              "#ed7953"
             ],
             [
              0.7777777777777778,
              "#fb9f3a"
             ],
             [
              0.8888888888888888,
              "#fdca26"
             ],
             [
              1,
              "#f0f921"
             ]
            ],
            "type": "histogram2d"
           }
          ],
          "histogram2dcontour": [
           {
            "colorbar": {
             "outlinewidth": 0,
             "ticks": ""
            },
            "colorscale": [
             [
              0,
              "#0d0887"
             ],
             [
              0.1111111111111111,
              "#46039f"
             ],
             [
              0.2222222222222222,
              "#7201a8"
             ],
             [
              0.3333333333333333,
              "#9c179e"
             ],
             [
              0.4444444444444444,
              "#bd3786"
             ],
             [
              0.5555555555555556,
              "#d8576b"
             ],
             [
              0.6666666666666666,
              "#ed7953"
             ],
             [
              0.7777777777777778,
              "#fb9f3a"
             ],
             [
              0.8888888888888888,
              "#fdca26"
             ],
             [
              1,
              "#f0f921"
             ]
            ],
            "type": "histogram2dcontour"
           }
          ],
          "mesh3d": [
           {
            "colorbar": {
             "outlinewidth": 0,
             "ticks": ""
            },
            "type": "mesh3d"
           }
          ],
          "parcoords": [
           {
            "line": {
             "colorbar": {
              "outlinewidth": 0,
              "ticks": ""
             }
            },
            "type": "parcoords"
           }
          ],
          "pie": [
           {
            "automargin": true,
            "type": "pie"
           }
          ],
          "scatter": [
           {
            "fillpattern": {
             "fillmode": "overlay",
             "size": 10,
             "solidity": 0.2
            },
            "type": "scatter"
           }
          ],
          "scatter3d": [
           {
            "line": {
             "colorbar": {
              "outlinewidth": 0,
              "ticks": ""
             }
            },
            "marker": {
             "colorbar": {
              "outlinewidth": 0,
              "ticks": ""
             }
            },
            "type": "scatter3d"
           }
          ],
          "scattercarpet": [
           {
            "marker": {
             "colorbar": {
              "outlinewidth": 0,
              "ticks": ""
             }
            },
            "type": "scattercarpet"
           }
          ],
          "scattergeo": [
           {
            "marker": {
             "colorbar": {
              "outlinewidth": 0,
              "ticks": ""
             }
            },
            "type": "scattergeo"
           }
          ],
          "scattergl": [
           {
            "marker": {
             "colorbar": {
              "outlinewidth": 0,
              "ticks": ""
             }
            },
            "type": "scattergl"
           }
          ],
          "scattermapbox": [
           {
            "marker": {
             "colorbar": {
              "outlinewidth": 0,
              "ticks": ""
             }
            },
            "type": "scattermapbox"
           }
          ],
          "scatterpolar": [
           {
            "marker": {
             "colorbar": {
              "outlinewidth": 0,
              "ticks": ""
             }
            },
            "type": "scatterpolar"
           }
          ],
          "scatterpolargl": [
           {
            "marker": {
             "colorbar": {
              "outlinewidth": 0,
              "ticks": ""
             }
            },
            "type": "scatterpolargl"
           }
          ],
          "scatterternary": [
           {
            "marker": {
             "colorbar": {
              "outlinewidth": 0,
              "ticks": ""
             }
            },
            "type": "scatterternary"
           }
          ],
          "surface": [
           {
            "colorbar": {
             "outlinewidth": 0,
             "ticks": ""
            },
            "colorscale": [
             [
              0,
              "#0d0887"
             ],
             [
              0.1111111111111111,
              "#46039f"
             ],
             [
              0.2222222222222222,
              "#7201a8"
             ],
             [
              0.3333333333333333,
              "#9c179e"
             ],
             [
              0.4444444444444444,
              "#bd3786"
             ],
             [
              0.5555555555555556,
              "#d8576b"
             ],
             [
              0.6666666666666666,
              "#ed7953"
             ],
             [
              0.7777777777777778,
              "#fb9f3a"
             ],
             [
              0.8888888888888888,
              "#fdca26"
             ],
             [
              1,
              "#f0f921"
             ]
            ],
            "type": "surface"
           }
          ],
          "table": [
           {
            "cells": {
             "fill": {
              "color": "#EBF0F8"
             },
             "line": {
              "color": "white"
             }
            },
            "header": {
             "fill": {
              "color": "#C8D4E3"
             },
             "line": {
              "color": "white"
             }
            },
            "type": "table"
           }
          ]
         },
         "layout": {
          "annotationdefaults": {
           "arrowcolor": "#2a3f5f",
           "arrowhead": 0,
           "arrowwidth": 1
          },
          "autotypenumbers": "strict",
          "coloraxis": {
           "colorbar": {
            "outlinewidth": 0,
            "ticks": ""
           }
          },
          "colorscale": {
           "diverging": [
            [
             0,
             "#8e0152"
            ],
            [
             0.1,
             "#c51b7d"
            ],
            [
             0.2,
             "#de77ae"
            ],
            [
             0.3,
             "#f1b6da"
            ],
            [
             0.4,
             "#fde0ef"
            ],
            [
             0.5,
             "#f7f7f7"
            ],
            [
             0.6,
             "#e6f5d0"
            ],
            [
             0.7,
             "#b8e186"
            ],
            [
             0.8,
             "#7fbc41"
            ],
            [
             0.9,
             "#4d9221"
            ],
            [
             1,
             "#276419"
            ]
           ],
           "sequential": [
            [
             0,
             "#0d0887"
            ],
            [
             0.1111111111111111,
             "#46039f"
            ],
            [
             0.2222222222222222,
             "#7201a8"
            ],
            [
             0.3333333333333333,
             "#9c179e"
            ],
            [
             0.4444444444444444,
             "#bd3786"
            ],
            [
             0.5555555555555556,
             "#d8576b"
            ],
            [
             0.6666666666666666,
             "#ed7953"
            ],
            [
             0.7777777777777778,
             "#fb9f3a"
            ],
            [
             0.8888888888888888,
             "#fdca26"
            ],
            [
             1,
             "#f0f921"
            ]
           ],
           "sequentialminus": [
            [
             0,
             "#0d0887"
            ],
            [
             0.1111111111111111,
             "#46039f"
            ],
            [
             0.2222222222222222,
             "#7201a8"
            ],
            [
             0.3333333333333333,
             "#9c179e"
            ],
            [
             0.4444444444444444,
             "#bd3786"
            ],
            [
             0.5555555555555556,
             "#d8576b"
            ],
            [
             0.6666666666666666,
             "#ed7953"
            ],
            [
             0.7777777777777778,
             "#fb9f3a"
            ],
            [
             0.8888888888888888,
             "#fdca26"
            ],
            [
             1,
             "#f0f921"
            ]
           ]
          },
          "colorway": [
           "#636efa",
           "#EF553B",
           "#00cc96",
           "#ab63fa",
           "#FFA15A",
           "#19d3f3",
           "#FF6692",
           "#B6E880",
           "#FF97FF",
           "#FECB52"
          ],
          "font": {
           "color": "#2a3f5f"
          },
          "geo": {
           "bgcolor": "white",
           "lakecolor": "white",
           "landcolor": "#E5ECF6",
           "showlakes": true,
           "showland": true,
           "subunitcolor": "white"
          },
          "hoverlabel": {
           "align": "left"
          },
          "hovermode": "closest",
          "mapbox": {
           "style": "light"
          },
          "paper_bgcolor": "white",
          "plot_bgcolor": "#E5ECF6",
          "polar": {
           "angularaxis": {
            "gridcolor": "white",
            "linecolor": "white",
            "ticks": ""
           },
           "bgcolor": "#E5ECF6",
           "radialaxis": {
            "gridcolor": "white",
            "linecolor": "white",
            "ticks": ""
           }
          },
          "scene": {
           "xaxis": {
            "backgroundcolor": "#E5ECF6",
            "gridcolor": "white",
            "gridwidth": 2,
            "linecolor": "white",
            "showbackground": true,
            "ticks": "",
            "zerolinecolor": "white"
           },
           "yaxis": {
            "backgroundcolor": "#E5ECF6",
            "gridcolor": "white",
            "gridwidth": 2,
            "linecolor": "white",
            "showbackground": true,
            "ticks": "",
            "zerolinecolor": "white"
           },
           "zaxis": {
            "backgroundcolor": "#E5ECF6",
            "gridcolor": "white",
            "gridwidth": 2,
            "linecolor": "white",
            "showbackground": true,
            "ticks": "",
            "zerolinecolor": "white"
           }
          },
          "shapedefaults": {
           "line": {
            "color": "#2a3f5f"
           }
          },
          "ternary": {
           "aaxis": {
            "gridcolor": "white",
            "linecolor": "white",
            "ticks": ""
           },
           "baxis": {
            "gridcolor": "white",
            "linecolor": "white",
            "ticks": ""
           },
           "bgcolor": "#E5ECF6",
           "caxis": {
            "gridcolor": "white",
            "linecolor": "white",
            "ticks": ""
           }
          },
          "title": {
           "x": 0.05
          },
          "xaxis": {
           "automargin": true,
           "gridcolor": "white",
           "linecolor": "white",
           "ticks": "",
           "title": {
            "standoff": 15
           },
           "zerolinecolor": "white",
           "zerolinewidth": 2
          },
          "yaxis": {
           "automargin": true,
           "gridcolor": "white",
           "linecolor": "white",
           "ticks": "",
           "title": {
            "standoff": 15
           },
           "zerolinecolor": "white",
           "zerolinewidth": 2
          }
         }
        }
       }
      }
     },
     "metadata": {},
     "output_type": "display_data"
    }
   ],
   "source": [
    "import numpy as np\n",
    "import pandas as pd\n",
    "import plotly.graph_objects as go\n",
    "import matplotlib.pyplot as plt\n",
    "\n",
    "def predict_output(*, X: np.ndarray, theta: np.ndarray) -> np.ndarray:\n",
    "    \"\"\"\n",
    "    Predicts output values using the input features and model parameters.\n",
    "\n",
    "    Args:\n",
    "        X (np.ndarray): Input features.\n",
    "        theta (np.ndarray): Model parameters (theta).\n",
    "\n",
    "    Returns:\n",
    "        np.ndarray: Predicted output values.\n",
    "    \"\"\"\n",
    "    ones = np.ones(len(X)).reshape(-1, 1)  # Add a column of ones for the intercept term\n",
    "    X_with_ones = np.hstack((ones, X))  # Combine input with ones\n",
    "    y_pred = np.sum(X_with_ones * theta.reshape(-1,), axis=1)  # Compute predictions\n",
    "    return y_pred\n",
    "\n",
    "def plot_graph(*, title_1: str, title_2: str, style_1: str, style_2: str,\n",
    "               x1: np.ndarray, y1: np.ndarray, x2: np.ndarray, y2: np.ndarray):\n",
    "    \"\"\"\n",
    "    Plots two sets of data points using Plotly.\n",
    "\n",
    "    Args:\n",
    "        title_1 (str): Name of the first plot line.\n",
    "        title_2 (str): Name of the second plot line.\n",
    "        style_1 (str): Plot style for the first line (e.g., 'markers').\n",
    "        style_2 (str): Plot style for the second line (e.g., 'lines').\n",
    "        x1, y1, x2, y2 (np.ndarray): Data points for both lines.\n",
    "    \"\"\"\n",
    "    fig = go.Figure()\n",
    "    fig.add_trace(go.Scatter(x=x1, y=y1, mode=style_1, name=title_1))\n",
    "    fig.add_trace(go.Scatter(x=x2, y=y2, mode=style_2, name=title_2))\n",
    "    fig.show()\n",
    "\n",
    "def normalize_vector(vector: np.ndarray) -> np.ndarray:\n",
    "    \"\"\"\n",
    "    Normalizes a vector to have zero mean and unit variance.\n",
    "\n",
    "    Args:\n",
    "        vector (np.ndarray): Input vector.\n",
    "\n",
    "    Returns:\n",
    "        np.ndarray: Normalized vector.\n",
    "    \"\"\"\n",
    "    mean = np.mean(vector)  # Calculate the mean\n",
    "    std = np.std(vector)  # Calculate the standard deviation\n",
    "    normalized_vector = (vector - mean) / std  # Normalize the vector\n",
    "    return normalized_vector\n",
    "\n",
    "def create_polynomial_features(*, X: np.ndarray, degree: int) -> np.ndarray:\n",
    "    \"\"\"\n",
    "    Converts an input vector into a matrix of polynomial features.\n",
    "\n",
    "    Args:\n",
    "        X (np.ndarray): Input feature vector.\n",
    "        degree (int): Degree of the polynomial.\n",
    "\n",
    "    Returns:\n",
    "        np.ndarray: Matrix of polynomial features.\n",
    "    \"\"\"\n",
    "    X = X.reshape(-1,)\n",
    "    poly_matrix = np.ones((len(X), degree))  # Initialize the matrix with ones\n",
    "    for i in range(degree):\n",
    "        poly_matrix[:, i] = X ** (i + 1)  # Raise each column to the respective power\n",
    "    return poly_matrix\n",
    "\n",
    "def compute_true_theta(*, X: np.ndarray, Y: np.ndarray) -> np.ndarray:\n",
    "    \"\"\"\n",
    "    Computes the true value of theta using the normal equation.\n",
    "\n",
    "    Args:\n",
    "        X (np.ndarray): Input feature matrix.\n",
    "        Y (np.ndarray): Output vector.\n",
    "\n",
    "    Returns:\n",
    "        np.ndarray: Computed theta values.\n",
    "    \"\"\"\n",
    "    ones = np.ones(len(X)).reshape(-1, 1)\n",
    "    X_with_ones = np.hstack((ones, X))  # Add a column of ones for the intercept term\n",
    "    inv_XT_X = np.linalg.inv(np.dot(X_with_ones.T, X_with_ones))  # Compute (X.T * X)^-1\n",
    "    XT_Y = np.dot(X_with_ones.T, Y.reshape(-1, 1))  # Compute (X.T * Y)\n",
    "    theta_true = np.dot(inv_XT_X, XT_Y)  # Compute theta\n",
    "    return theta_true\n",
    "\n",
    "def denormalize_theta(*, theta_norm: np.ndarray, X: np.ndarray, Y: np.ndarray) -> np.ndarray:\n",
    "    \"\"\"\n",
    "    Converts normalized theta values back to the original scale.\n",
    "\n",
    "    Args:\n",
    "        theta_norm (np.ndarray): Normalized theta values.\n",
    "        X (np.ndarray): Input features.\n",
    "        Y (np.ndarray): Output values.\n",
    "\n",
    "    Returns:\n",
    "        np.ndarray: Denormalized theta values.\n",
    "    \"\"\"\n",
    "    theta = np.zeros_like(theta_norm)\n",
    "\n",
    "    mean_X = np.mean(X, axis=0)\n",
    "    std_X = np.std(X, axis=0)\n",
    "\n",
    "    mean_Y = np.mean(Y, axis=0)\n",
    "    std_Y = np.std(Y, axis=0)\n",
    "\n",
    "    theta[1:] = std_Y * theta_norm[1:] / std_X.reshape(-1, 1)\n",
    "    theta[0] = mean_Y + std_Y * theta_norm[0] - np.dot(std_Y * mean_X / std_X, theta_norm[1:])\n",
    "    return theta\n",
    "\n",
    "class LinearRegressionMulti:\n",
    "    \"\"\"\n",
    "    A class representing a linear regression model with multiple variables.\n",
    "    \"\"\"\n",
    "    def __init__(self, *, num_features: int) -> None:\n",
    "        \"\"\"\n",
    "        Initializes the Linear Regression model.\n",
    "\n",
    "        Args:\n",
    "            num_features (int): Number of features in the input data.\n",
    "        \"\"\"\n",
    "        self.num_features = num_features\n",
    "\n",
    "    def normalize_vector(self, vector: np.ndarray) -> np.ndarray:\n",
    "        \"\"\"\n",
    "        Normalizes the input vector.\n",
    "\n",
    "        Args:\n",
    "            vector (np.ndarray): Input vector.\n",
    "\n",
    "        Returns:\n",
    "            np.ndarray: Normalized input vector.\n",
    "        \"\"\"\n",
    "        mean = np.mean(vector)\n",
    "        std = np.std(vector)\n",
    "        return (vector - mean) / std\n",
    "\n",
    "    def normalize_input_output(self, *, X: np.ndarray, Y: np.ndarray) -> tuple:\n",
    "        \"\"\"\n",
    "        Normalizes the input features and output values.\n",
    "\n",
    "        Args:\n",
    "            X (np.ndarray): Input features.\n",
    "            Y (np.ndarray): Output values.\n",
    "\n",
    "        Returns:\n",
    "            tuple: Normalized input features and output values.\n",
    "        \"\"\"\n",
    "        norm_X = np.apply_along_axis(self.normalize_vector, arr=X, axis=0).reshape(-1, self.num_features)\n",
    "        norm_Y = np.apply_along_axis(self.normalize_vector, arr=Y, axis=0).reshape(-1, 1)\n",
    "        return norm_X, norm_Y\n",
    "\n",
    "    def add_intercept_column(self, *, X: np.ndarray) -> np.ndarray:\n",
    "        \"\"\"\n",
    "        Adds a column of ones to the input features for the intercept term.\n",
    "\n",
    "        Args:\n",
    "            X (np.ndarray): Normalized input features.\n",
    "\n",
    "        Returns:\n",
    "            np.ndarray: Input features with an added column of ones.\n",
    "        \"\"\"\n",
    "        ones = np.ones(len(X)).reshape(-1, 1)\n",
    "        return np.hstack((ones, X))\n",
    "\n",
    "    def predict(self, *, theta: np.ndarray, X: np.ndarray) -> np.ndarray:\n",
    "        \"\"\"\n",
    "        Predicts the output using the model parameters.\n",
    "\n",
    "        Args:\n",
    "            theta (np.ndarray): Model parameters.\n",
    "            X (np.ndarray): Input features.\n",
    "\n",
    "        Returns:\n",
    "            np.ndarray: Predicted output values.\n",
    "        \"\"\"\n",
    "        return np.matmul(X, theta)\n",
    "\n",
    "    def compute_loss(self, *, y_true: np.ndarray, y_pred: np.ndarray) -> float:\n",
    "        \"\"\"\n",
    "        Computes the loss function (Mean Squared Error).\n",
    "\n",
    "        Args:\n",
    "            y_true (np.ndarray): True output values.\n",
    "            y_pred (np.ndarray): Predicted output values.\n",
    "\n",
    "        Returns:\n",
    "            float: Computed loss value.\n",
    "        \"\"\"\n",
    "        m = len(y_true)\n",
    "        error = y_pred - y_true\n",
    "        loss = np.sum(error ** 2) / (2 * m)\n",
    "        return loss\n",
    "\n",
    "    def update_parameters(self, *, theta: np.ndarray, lr: float, y_pred: np.ndarray, \n",
    "                          y_true: np.ndarray, X: np.ndarray) -> np.ndarray:\n",
    "        \"\"\"\n",
    "        Updates the model parameters using gradient descent.\n",
    "\n",
    "        Args:\n",
    "            theta (np.ndarray): Current model parameters.\n",
    "            lr (float): Learning rate for parameter updates.\n",
    "            y_pred (np.ndarray): Predicted output values.\n",
    "            y_true (np.ndarray): True output values.\n",
    "            X (np.ndarray): Input features.\n",
    "\n",
    "        Returns:\n",
    "            np.ndarray: Updated model parameters.\n",
    "        \"\"\"\n",
    "        m = len(y_true)\n",
    "        error = y_pred - y_true\n",
    "        gradient = np.dot(X.T, error) / m\n",
    "        return theta - lr * gradient\n",
    "\n",
    "    def denormalize_theta(self, *, theta_norm: np.ndarray, X: np.ndarray, Y: np.ndarray) -> np.ndarray:\n",
    "        \"\"\"\n",
    "        Denormalizes the normalized theta values.\n",
    "\n",
    "        Args:\n",
    "            theta_norm (np.ndarray): Normalized theta values.\n",
    "            X (np.ndarray): Input features.\n",
    "            Y (np.ndarray): Output values.\n",
    "\n",
    "        Returns:\n",
    "            np.ndarray: Denormalized theta values.\n",
    "        \"\"\"\n",
    "        return denormalize_theta(theta_norm=theta_norm, X=X, Y=Y)\n",
    "\n",
    "    def train(self, *, epochs: int, theta: np.ndarray, X: np.ndarray, \n",
    "              Y: np.ndarray, lr: float) -> tuple:\n",
    "        \"\"\"\n",
    "        Trains the Linear Regression model using gradient descent.\n",
    "\n",
    "        Args:\n",
    "            epochs (int): Number of training iterations.\n",
    "            theta (np.ndarray): Initial model parameters.\n",
    "            X (np.ndarray): Input features.\n",
    "            Y (np.ndarray): Output values.\n",
    "            lr (float): Learning rate for parameter updates.\n",
    "\n",
    "        Returns:\n",
    "            tuple: Array of loss values and the trained model parameters.\n",
    "        \"\"\"\n",
    "        norm_X, norm_Y = self.normalize_input_output(X=X, Y=Y)\n",
    "        X_with_ones = self.add_intercept_column(X=norm_X)\n",
    "\n",
    "        loss_history = np.array([])\n",
    "        for _ in range(epochs):\n",
    "            y_pred = self.predict(theta=theta, X=X_with_ones)\n",
    "            loss = self.compute_loss(y_true=norm_Y, y_pred=y_pred)\n",
    "            theta = self.update_parameters(theta=theta, lr=lr, y_pred=y_pred, \n",
    "                                           y_true=norm_Y, X=X_with_ones)\n",
    "            loss_history = np.append(loss_history, loss)\n",
    "\n",
    "        theta = self.denormalize_theta(theta_norm=theta, X=X, Y=Y)\n",
    "        return loss_history, theta\n",
    "\n",
    "# Example 2: Linear Regression with Multiple Variables\n",
    "# Read CSV file 'ex2.csv'\n",
    "data_ex2 = pd.read_csv('ex2.csv')\n",
    "\n",
    "# Get columns of the file\n",
    "X_columns = data_ex2.columns[:-1]  # Feature columns\n",
    "Y_column = data_ex2.columns[-1]    # Target column\n",
    "\n",
    "# Get input and output vectors\n",
    "X = data_ex2[X_columns].values\n",
    "Y = data_ex2[Y_column].values\n",
    "\n",
    "# Initialize theta\n",
    "theta_initial = np.random.randn(len(X_columns) + 1, 1)\n",
    "\n",
    "# Train the model\n",
    "model = LinearRegressionMulti(num_features=8)\n",
    "loss_history_ex2, theta_ex2 = model.train(\n",
    "    epochs=500000, theta=theta_initial, X=X, Y=Y, lr=0.001\n",
    ")\n",
    "\n",
    "# Compute the real theta using the normal equation\n",
    "theta_real = compute_true_theta(X=X, Y=Y)\n",
    "X_with_ones = model.add_intercept_column(X=X)\n",
    "\n",
    "# Plot the comparison\n",
    "# plot_graph(title_1='Actual', title_2='Predicted', style_1='markers', style_2='markers',\n",
    "#            x1=X.reshape(-1,), y1=Y.reshape(-1,),\n",
    "#            x2=X.reshape(-1,), y2=np.dot(X_with_ones, theta_ex_2).reshape(-1,))\n",
    "\n",
    "# Compare the estimated theta with the true theta\n",
    "theta_difference = np.round((theta_real - theta_ex_2) / theta_real, 2)\n",
    "\n",
    "# Example 3: Polynomial Regression\n",
    "# Read CSV file 'ex3.csv'\n",
    "data_ex3 = pd.read_csv('ex3.csv')\n",
    "\n",
    "# Get columns of the file\n",
    "X_columns = data_ex3.columns[:-1]  # Feature columns\n",
    "Y_column = data_ex3.columns[-1]    # Target column\n",
    "\n",
    "# Get input and output vectors\n",
    "x_values = data_ex3[X_columns].values\n",
    "y_values = data_ex3[Y_column].values\n",
    "\n",
    "# Set the order of the polynomial\n",
    "degree = 4\n",
    "\n",
    "# Create polynomial features\n",
    "X_poly = create_polynomial_features(X=x_values, degree=degree)\n",
    "Y_poly = y_values.reshape(-1, 1)\n",
    "\n",
    "# Initialize theta\n",
    "theta_initial = np.random.randn(degree + 1, 1)\n",
    "\n",
    "# Train the model\n",
    "model_poly = LinearRegressionMulti(num_features=degree)\n",
    "loss_history_ex3, theta_ex3 = model_poly.train(\n",
    "    epochs=100000, theta=theta_initial, X=X_poly, Y=Y_poly, lr=0.01\n",
    ")\n",
    "\n",
    "# Plot the results\n",
    "plot_graph(title_1='Actual', title_2='Predicted', style_1='markers', style_2='lines',\n",
    "           x1=x_values.reshape(-1,), y1=y_values.reshape(-1,),\n",
    "           x2=x_values.reshape(-1,), y2=predict_output(X=X_poly, theta=theta_ex3))\n",
    "\n",
    "# Compute the true theta for polynomial regression\n",
    "theta_true = compute_true_theta(X=X_poly, Y=Y_poly)\n",
    "\n",
    "# Plot the true vs. predicted values\n",
    "plot_graph(title_1='Actual', title_2='True Prediction', style_1='markers', style_2='lines',\n",
    "           x1=x_values.reshape(-1,), y1=y_values.reshape(-1,),\n",
    "           x2=x_values.reshape(-1,), y2=predict_output(X=X_poly, theta=theta_true))\n"
   ]
  },
  {
   "cell_type": "code",
   "execution_count": 21,
   "metadata": {},
   "outputs": [],
   "source": [
    "a = np.array([1, 2, 3])"
   ]
  },
  {
   "cell_type": "code",
   "execution_count": 38,
   "metadata": {},
   "outputs": [
    {
     "data": {
      "application/vnd.plotly.v1+json": {
       "config": {
        "plotlyServerURL": "https://plot.ly"
       },
       "data": [
        {
         "mode": "lines",
         "name": "a^(0)",
         "type": "scatter",
         "x": [
          1,
          1.0909090909090908,
          1.1818181818181819,
          1.2727272727272727,
          1.3636363636363638,
          1.4545454545454546,
          1.5454545454545454,
          1.6363636363636362,
          1.7272727272727273,
          1.8181818181818183,
          1.9090909090909092,
          2,
          2.090909090909091,
          2.1818181818181817,
          2.2727272727272725,
          2.3636363636363638,
          2.4545454545454546,
          2.5454545454545454,
          2.6363636363636367,
          2.7272727272727275,
          2.8181818181818183,
          2.909090909090909,
          3,
          3.090909090909091,
          3.1818181818181817,
          3.272727272727273,
          3.3636363636363638,
          3.4545454545454546,
          3.5454545454545454,
          3.6363636363636362,
          3.7272727272727275,
          3.8181818181818183,
          3.909090909090909,
          4,
          4.090909090909091,
          4.181818181818182,
          4.272727272727273,
          4.363636363636363,
          4.454545454545455,
          4.545454545454545,
          4.636363636363637,
          4.7272727272727275,
          4.818181818181818,
          4.909090909090909,
          5,
          5.090909090909091,
          5.181818181818182,
          5.2727272727272725,
          5.363636363636363,
          5.454545454545455,
          5.545454545454546,
          5.636363636363637,
          5.7272727272727275,
          5.818181818181818,
          5.909090909090909,
          6,
          6.090909090909091,
          6.181818181818182,
          6.2727272727272725,
          6.363636363636364,
          6.454545454545455,
          6.545454545454546,
          6.636363636363637,
          6.7272727272727275,
          6.818181818181818,
          6.909090909090909,
          7,
          7.090909090909091,
          7.181818181818182,
          7.2727272727272725,
          7.363636363636364,
          7.454545454545455,
          7.545454545454546,
          7.636363636363637,
          7.7272727272727275,
          7.818181818181818,
          7.909090909090909,
          8,
          8.09090909090909,
          8.181818181818182,
          8.272727272727273,
          8.363636363636363,
          8.454545454545455,
          8.545454545454547,
          8.636363636363637,
          8.727272727272727,
          8.818181818181818,
          8.90909090909091,
          9,
          9.090909090909092,
          9.181818181818182,
          9.272727272727273,
          9.363636363636363,
          9.454545454545455,
          9.545454545454545,
          9.636363636363637,
          9.727272727272727,
          9.818181818181818,
          9.90909090909091,
          10
         ],
         "y": [
          1,
          1,
          1,
          1,
          1,
          1,
          1,
          1,
          1,
          1,
          1,
          1,
          1,
          1,
          1,
          1,
          1,
          1,
          1,
          1,
          1,
          1,
          1,
          1,
          1,
          1,
          1,
          1,
          1,
          1,
          1,
          1,
          1,
          1,
          1,
          1,
          1,
          1,
          1,
          1,
          1,
          1,
          1,
          1,
          1,
          1,
          1,
          1,
          1,
          1,
          1,
          1,
          1,
          1,
          1,
          1,
          1,
          1,
          1,
          1,
          1,
          1,
          1,
          1,
          1,
          1,
          1,
          1,
          1,
          1,
          1,
          1,
          1,
          1,
          1,
          1,
          1,
          1,
          1,
          1,
          1,
          1,
          1,
          1,
          1,
          1,
          1,
          1,
          1,
          1,
          1,
          1,
          1,
          1,
          1,
          1,
          1,
          1,
          1,
          1
         ]
        }
       ],
       "layout": {
        "template": {
         "data": {
          "bar": [
           {
            "error_x": {
             "color": "#2a3f5f"
            },
            "error_y": {
             "color": "#2a3f5f"
            },
            "marker": {
             "line": {
              "color": "#E5ECF6",
              "width": 0.5
             },
             "pattern": {
              "fillmode": "overlay",
              "size": 10,
              "solidity": 0.2
             }
            },
            "type": "bar"
           }
          ],
          "barpolar": [
           {
            "marker": {
             "line": {
              "color": "#E5ECF6",
              "width": 0.5
             },
             "pattern": {
              "fillmode": "overlay",
              "size": 10,
              "solidity": 0.2
             }
            },
            "type": "barpolar"
           }
          ],
          "carpet": [
           {
            "aaxis": {
             "endlinecolor": "#2a3f5f",
             "gridcolor": "white",
             "linecolor": "white",
             "minorgridcolor": "white",
             "startlinecolor": "#2a3f5f"
            },
            "baxis": {
             "endlinecolor": "#2a3f5f",
             "gridcolor": "white",
             "linecolor": "white",
             "minorgridcolor": "white",
             "startlinecolor": "#2a3f5f"
            },
            "type": "carpet"
           }
          ],
          "choropleth": [
           {
            "colorbar": {
             "outlinewidth": 0,
             "ticks": ""
            },
            "type": "choropleth"
           }
          ],
          "contour": [
           {
            "colorbar": {
             "outlinewidth": 0,
             "ticks": ""
            },
            "colorscale": [
             [
              0,
              "#0d0887"
             ],
             [
              0.1111111111111111,
              "#46039f"
             ],
             [
              0.2222222222222222,
              "#7201a8"
             ],
             [
              0.3333333333333333,
              "#9c179e"
             ],
             [
              0.4444444444444444,
              "#bd3786"
             ],
             [
              0.5555555555555556,
              "#d8576b"
             ],
             [
              0.6666666666666666,
              "#ed7953"
             ],
             [
              0.7777777777777778,
              "#fb9f3a"
             ],
             [
              0.8888888888888888,
              "#fdca26"
             ],
             [
              1,
              "#f0f921"
             ]
            ],
            "type": "contour"
           }
          ],
          "contourcarpet": [
           {
            "colorbar": {
             "outlinewidth": 0,
             "ticks": ""
            },
            "type": "contourcarpet"
           }
          ],
          "heatmap": [
           {
            "colorbar": {
             "outlinewidth": 0,
             "ticks": ""
            },
            "colorscale": [
             [
              0,
              "#0d0887"
             ],
             [
              0.1111111111111111,
              "#46039f"
             ],
             [
              0.2222222222222222,
              "#7201a8"
             ],
             [
              0.3333333333333333,
              "#9c179e"
             ],
             [
              0.4444444444444444,
              "#bd3786"
             ],
             [
              0.5555555555555556,
              "#d8576b"
             ],
             [
              0.6666666666666666,
              "#ed7953"
             ],
             [
              0.7777777777777778,
              "#fb9f3a"
             ],
             [
              0.8888888888888888,
              "#fdca26"
             ],
             [
              1,
              "#f0f921"
             ]
            ],
            "type": "heatmap"
           }
          ],
          "heatmapgl": [
           {
            "colorbar": {
             "outlinewidth": 0,
             "ticks": ""
            },
            "colorscale": [
             [
              0,
              "#0d0887"
             ],
             [
              0.1111111111111111,
              "#46039f"
             ],
             [
              0.2222222222222222,
              "#7201a8"
             ],
             [
              0.3333333333333333,
              "#9c179e"
             ],
             [
              0.4444444444444444,
              "#bd3786"
             ],
             [
              0.5555555555555556,
              "#d8576b"
             ],
             [
              0.6666666666666666,
              "#ed7953"
             ],
             [
              0.7777777777777778,
              "#fb9f3a"
             ],
             [
              0.8888888888888888,
              "#fdca26"
             ],
             [
              1,
              "#f0f921"
             ]
            ],
            "type": "heatmapgl"
           }
          ],
          "histogram": [
           {
            "marker": {
             "pattern": {
              "fillmode": "overlay",
              "size": 10,
              "solidity": 0.2
             }
            },
            "type": "histogram"
           }
          ],
          "histogram2d": [
           {
            "colorbar": {
             "outlinewidth": 0,
             "ticks": ""
            },
            "colorscale": [
             [
              0,
              "#0d0887"
             ],
             [
              0.1111111111111111,
              "#46039f"
             ],
             [
              0.2222222222222222,
              "#7201a8"
             ],
             [
              0.3333333333333333,
              "#9c179e"
             ],
             [
              0.4444444444444444,
              "#bd3786"
             ],
             [
              0.5555555555555556,
              "#d8576b"
             ],
             [
              0.6666666666666666,
              "#ed7953"
             ],
             [
              0.7777777777777778,
              "#fb9f3a"
             ],
             [
              0.8888888888888888,
              "#fdca26"
             ],
             [
              1,
              "#f0f921"
             ]
            ],
            "type": "histogram2d"
           }
          ],
          "histogram2dcontour": [
           {
            "colorbar": {
             "outlinewidth": 0,
             "ticks": ""
            },
            "colorscale": [
             [
              0,
              "#0d0887"
             ],
             [
              0.1111111111111111,
              "#46039f"
             ],
             [
              0.2222222222222222,
              "#7201a8"
             ],
             [
              0.3333333333333333,
              "#9c179e"
             ],
             [
              0.4444444444444444,
              "#bd3786"
             ],
             [
              0.5555555555555556,
              "#d8576b"
             ],
             [
              0.6666666666666666,
              "#ed7953"
             ],
             [
              0.7777777777777778,
              "#fb9f3a"
             ],
             [
              0.8888888888888888,
              "#fdca26"
             ],
             [
              1,
              "#f0f921"
             ]
            ],
            "type": "histogram2dcontour"
           }
          ],
          "mesh3d": [
           {
            "colorbar": {
             "outlinewidth": 0,
             "ticks": ""
            },
            "type": "mesh3d"
           }
          ],
          "parcoords": [
           {
            "line": {
             "colorbar": {
              "outlinewidth": 0,
              "ticks": ""
             }
            },
            "type": "parcoords"
           }
          ],
          "pie": [
           {
            "automargin": true,
            "type": "pie"
           }
          ],
          "scatter": [
           {
            "fillpattern": {
             "fillmode": "overlay",
             "size": 10,
             "solidity": 0.2
            },
            "type": "scatter"
           }
          ],
          "scatter3d": [
           {
            "line": {
             "colorbar": {
              "outlinewidth": 0,
              "ticks": ""
             }
            },
            "marker": {
             "colorbar": {
              "outlinewidth": 0,
              "ticks": ""
             }
            },
            "type": "scatter3d"
           }
          ],
          "scattercarpet": [
           {
            "marker": {
             "colorbar": {
              "outlinewidth": 0,
              "ticks": ""
             }
            },
            "type": "scattercarpet"
           }
          ],
          "scattergeo": [
           {
            "marker": {
             "colorbar": {
              "outlinewidth": 0,
              "ticks": ""
             }
            },
            "type": "scattergeo"
           }
          ],
          "scattergl": [
           {
            "marker": {
             "colorbar": {
              "outlinewidth": 0,
              "ticks": ""
             }
            },
            "type": "scattergl"
           }
          ],
          "scattermapbox": [
           {
            "marker": {
             "colorbar": {
              "outlinewidth": 0,
              "ticks": ""
             }
            },
            "type": "scattermapbox"
           }
          ],
          "scatterpolar": [
           {
            "marker": {
             "colorbar": {
              "outlinewidth": 0,
              "ticks": ""
             }
            },
            "type": "scatterpolar"
           }
          ],
          "scatterpolargl": [
           {
            "marker": {
             "colorbar": {
              "outlinewidth": 0,
              "ticks": ""
             }
            },
            "type": "scatterpolargl"
           }
          ],
          "scatterternary": [
           {
            "marker": {
             "colorbar": {
              "outlinewidth": 0,
              "ticks": ""
             }
            },
            "type": "scatterternary"
           }
          ],
          "surface": [
           {
            "colorbar": {
             "outlinewidth": 0,
             "ticks": ""
            },
            "colorscale": [
             [
              0,
              "#0d0887"
             ],
             [
              0.1111111111111111,
              "#46039f"
             ],
             [
              0.2222222222222222,
              "#7201a8"
             ],
             [
              0.3333333333333333,
              "#9c179e"
             ],
             [
              0.4444444444444444,
              "#bd3786"
             ],
             [
              0.5555555555555556,
              "#d8576b"
             ],
             [
              0.6666666666666666,
              "#ed7953"
             ],
             [
              0.7777777777777778,
              "#fb9f3a"
             ],
             [
              0.8888888888888888,
              "#fdca26"
             ],
             [
              1,
              "#f0f921"
             ]
            ],
            "type": "surface"
           }
          ],
          "table": [
           {
            "cells": {
             "fill": {
              "color": "#EBF0F8"
             },
             "line": {
              "color": "white"
             }
            },
            "header": {
             "fill": {
              "color": "#C8D4E3"
             },
             "line": {
              "color": "white"
             }
            },
            "type": "table"
           }
          ]
         },
         "layout": {
          "annotationdefaults": {
           "arrowcolor": "#2a3f5f",
           "arrowhead": 0,
           "arrowwidth": 1
          },
          "autotypenumbers": "strict",
          "coloraxis": {
           "colorbar": {
            "outlinewidth": 0,
            "ticks": ""
           }
          },
          "colorscale": {
           "diverging": [
            [
             0,
             "#8e0152"
            ],
            [
             0.1,
             "#c51b7d"
            ],
            [
             0.2,
             "#de77ae"
            ],
            [
             0.3,
             "#f1b6da"
            ],
            [
             0.4,
             "#fde0ef"
            ],
            [
             0.5,
             "#f7f7f7"
            ],
            [
             0.6,
             "#e6f5d0"
            ],
            [
             0.7,
             "#b8e186"
            ],
            [
             0.8,
             "#7fbc41"
            ],
            [
             0.9,
             "#4d9221"
            ],
            [
             1,
             "#276419"
            ]
           ],
           "sequential": [
            [
             0,
             "#0d0887"
            ],
            [
             0.1111111111111111,
             "#46039f"
            ],
            [
             0.2222222222222222,
             "#7201a8"
            ],
            [
             0.3333333333333333,
             "#9c179e"
            ],
            [
             0.4444444444444444,
             "#bd3786"
            ],
            [
             0.5555555555555556,
             "#d8576b"
            ],
            [
             0.6666666666666666,
             "#ed7953"
            ],
            [
             0.7777777777777778,
             "#fb9f3a"
            ],
            [
             0.8888888888888888,
             "#fdca26"
            ],
            [
             1,
             "#f0f921"
            ]
           ],
           "sequentialminus": [
            [
             0,
             "#0d0887"
            ],
            [
             0.1111111111111111,
             "#46039f"
            ],
            [
             0.2222222222222222,
             "#7201a8"
            ],
            [
             0.3333333333333333,
             "#9c179e"
            ],
            [
             0.4444444444444444,
             "#bd3786"
            ],
            [
             0.5555555555555556,
             "#d8576b"
            ],
            [
             0.6666666666666666,
             "#ed7953"
            ],
            [
             0.7777777777777778,
             "#fb9f3a"
            ],
            [
             0.8888888888888888,
             "#fdca26"
            ],
            [
             1,
             "#f0f921"
            ]
           ]
          },
          "colorway": [
           "#636efa",
           "#EF553B",
           "#00cc96",
           "#ab63fa",
           "#FFA15A",
           "#19d3f3",
           "#FF6692",
           "#B6E880",
           "#FF97FF",
           "#FECB52"
          ],
          "font": {
           "color": "#2a3f5f"
          },
          "geo": {
           "bgcolor": "white",
           "lakecolor": "white",
           "landcolor": "#E5ECF6",
           "showlakes": true,
           "showland": true,
           "subunitcolor": "white"
          },
          "hoverlabel": {
           "align": "left"
          },
          "hovermode": "closest",
          "mapbox": {
           "style": "light"
          },
          "paper_bgcolor": "white",
          "plot_bgcolor": "#E5ECF6",
          "polar": {
           "angularaxis": {
            "gridcolor": "white",
            "linecolor": "white",
            "ticks": ""
           },
           "bgcolor": "#E5ECF6",
           "radialaxis": {
            "gridcolor": "white",
            "linecolor": "white",
            "ticks": ""
           }
          },
          "scene": {
           "xaxis": {
            "backgroundcolor": "#E5ECF6",
            "gridcolor": "white",
            "gridwidth": 2,
            "linecolor": "white",
            "showbackground": true,
            "ticks": "",
            "zerolinecolor": "white"
           },
           "yaxis": {
            "backgroundcolor": "#E5ECF6",
            "gridcolor": "white",
            "gridwidth": 2,
            "linecolor": "white",
            "showbackground": true,
            "ticks": "",
            "zerolinecolor": "white"
           },
           "zaxis": {
            "backgroundcolor": "#E5ECF6",
            "gridcolor": "white",
            "gridwidth": 2,
            "linecolor": "white",
            "showbackground": true,
            "ticks": "",
            "zerolinecolor": "white"
           }
          },
          "shapedefaults": {
           "line": {
            "color": "#2a3f5f"
           }
          },
          "ternary": {
           "aaxis": {
            "gridcolor": "white",
            "linecolor": "white",
            "ticks": ""
           },
           "baxis": {
            "gridcolor": "white",
            "linecolor": "white",
            "ticks": ""
           },
           "bgcolor": "#E5ECF6",
           "caxis": {
            "gridcolor": "white",
            "linecolor": "white",
            "ticks": ""
           }
          },
          "title": {
           "x": 0.05
          },
          "xaxis": {
           "automargin": true,
           "gridcolor": "white",
           "linecolor": "white",
           "ticks": "",
           "title": {
            "standoff": 15
           },
           "zerolinecolor": "white",
           "zerolinewidth": 2
          },
          "yaxis": {
           "automargin": true,
           "gridcolor": "white",
           "linecolor": "white",
           "ticks": "",
           "title": {
            "standoff": 15
           },
           "zerolinecolor": "white",
           "zerolinewidth": 2
          }
         }
        }
       }
      }
     },
     "metadata": {},
     "output_type": "display_data"
    },
    {
     "data": {
      "application/vnd.plotly.v1+json": {
       "config": {
        "plotlyServerURL": "https://plot.ly"
       },
       "data": [
        {
         "mode": "lines",
         "name": "a^(1)",
         "type": "scatter",
         "x": [
          1,
          1.0909090909090908,
          1.1818181818181819,
          1.2727272727272727,
          1.3636363636363638,
          1.4545454545454546,
          1.5454545454545454,
          1.6363636363636362,
          1.7272727272727273,
          1.8181818181818183,
          1.9090909090909092,
          2,
          2.090909090909091,
          2.1818181818181817,
          2.2727272727272725,
          2.3636363636363638,
          2.4545454545454546,
          2.5454545454545454,
          2.6363636363636367,
          2.7272727272727275,
          2.8181818181818183,
          2.909090909090909,
          3,
          3.090909090909091,
          3.1818181818181817,
          3.272727272727273,
          3.3636363636363638,
          3.4545454545454546,
          3.5454545454545454,
          3.6363636363636362,
          3.7272727272727275,
          3.8181818181818183,
          3.909090909090909,
          4,
          4.090909090909091,
          4.181818181818182,
          4.272727272727273,
          4.363636363636363,
          4.454545454545455,
          4.545454545454545,
          4.636363636363637,
          4.7272727272727275,
          4.818181818181818,
          4.909090909090909,
          5,
          5.090909090909091,
          5.181818181818182,
          5.2727272727272725,
          5.363636363636363,
          5.454545454545455,
          5.545454545454546,
          5.636363636363637,
          5.7272727272727275,
          5.818181818181818,
          5.909090909090909,
          6,
          6.090909090909091,
          6.181818181818182,
          6.2727272727272725,
          6.363636363636364,
          6.454545454545455,
          6.545454545454546,
          6.636363636363637,
          6.7272727272727275,
          6.818181818181818,
          6.909090909090909,
          7,
          7.090909090909091,
          7.181818181818182,
          7.2727272727272725,
          7.363636363636364,
          7.454545454545455,
          7.545454545454546,
          7.636363636363637,
          7.7272727272727275,
          7.818181818181818,
          7.909090909090909,
          8,
          8.09090909090909,
          8.181818181818182,
          8.272727272727273,
          8.363636363636363,
          8.454545454545455,
          8.545454545454547,
          8.636363636363637,
          8.727272727272727,
          8.818181818181818,
          8.90909090909091,
          9,
          9.090909090909092,
          9.181818181818182,
          9.272727272727273,
          9.363636363636363,
          9.454545454545455,
          9.545454545454545,
          9.636363636363637,
          9.727272727272727,
          9.818181818181818,
          9.90909090909091,
          10
         ],
         "y": [
          1,
          1.0909090909090908,
          1.1818181818181819,
          1.2727272727272727,
          1.3636363636363638,
          1.4545454545454546,
          1.5454545454545454,
          1.6363636363636362,
          1.7272727272727273,
          1.8181818181818183,
          1.9090909090909092,
          2,
          2.090909090909091,
          2.1818181818181817,
          2.2727272727272725,
          2.3636363636363638,
          2.4545454545454546,
          2.5454545454545454,
          2.6363636363636367,
          2.7272727272727275,
          2.8181818181818183,
          2.909090909090909,
          3,
          3.090909090909091,
          3.1818181818181817,
          3.272727272727273,
          3.3636363636363638,
          3.4545454545454546,
          3.5454545454545454,
          3.6363636363636362,
          3.7272727272727275,
          3.8181818181818183,
          3.909090909090909,
          4,
          4.090909090909091,
          4.181818181818182,
          4.272727272727273,
          4.363636363636363,
          4.454545454545455,
          4.545454545454545,
          4.636363636363637,
          4.7272727272727275,
          4.818181818181818,
          4.909090909090909,
          5,
          5.090909090909091,
          5.181818181818182,
          5.2727272727272725,
          5.363636363636363,
          5.454545454545455,
          5.545454545454546,
          5.636363636363637,
          5.7272727272727275,
          5.818181818181818,
          5.909090909090909,
          6,
          6.090909090909091,
          6.181818181818182,
          6.2727272727272725,
          6.363636363636364,
          6.454545454545455,
          6.545454545454546,
          6.636363636363637,
          6.7272727272727275,
          6.818181818181818,
          6.909090909090909,
          7,
          7.090909090909091,
          7.181818181818182,
          7.2727272727272725,
          7.363636363636364,
          7.454545454545455,
          7.545454545454546,
          7.636363636363637,
          7.7272727272727275,
          7.818181818181818,
          7.909090909090909,
          8,
          8.09090909090909,
          8.181818181818182,
          8.272727272727273,
          8.363636363636363,
          8.454545454545455,
          8.545454545454547,
          8.636363636363637,
          8.727272727272727,
          8.818181818181818,
          8.90909090909091,
          9,
          9.090909090909092,
          9.181818181818182,
          9.272727272727273,
          9.363636363636363,
          9.454545454545455,
          9.545454545454545,
          9.636363636363637,
          9.727272727272727,
          9.818181818181818,
          9.90909090909091,
          10
         ]
        }
       ],
       "layout": {
        "template": {
         "data": {
          "bar": [
           {
            "error_x": {
             "color": "#2a3f5f"
            },
            "error_y": {
             "color": "#2a3f5f"
            },
            "marker": {
             "line": {
              "color": "#E5ECF6",
              "width": 0.5
             },
             "pattern": {
              "fillmode": "overlay",
              "size": 10,
              "solidity": 0.2
             }
            },
            "type": "bar"
           }
          ],
          "barpolar": [
           {
            "marker": {
             "line": {
              "color": "#E5ECF6",
              "width": 0.5
             },
             "pattern": {
              "fillmode": "overlay",
              "size": 10,
              "solidity": 0.2
             }
            },
            "type": "barpolar"
           }
          ],
          "carpet": [
           {
            "aaxis": {
             "endlinecolor": "#2a3f5f",
             "gridcolor": "white",
             "linecolor": "white",
             "minorgridcolor": "white",
             "startlinecolor": "#2a3f5f"
            },
            "baxis": {
             "endlinecolor": "#2a3f5f",
             "gridcolor": "white",
             "linecolor": "white",
             "minorgridcolor": "white",
             "startlinecolor": "#2a3f5f"
            },
            "type": "carpet"
           }
          ],
          "choropleth": [
           {
            "colorbar": {
             "outlinewidth": 0,
             "ticks": ""
            },
            "type": "choropleth"
           }
          ],
          "contour": [
           {
            "colorbar": {
             "outlinewidth": 0,
             "ticks": ""
            },
            "colorscale": [
             [
              0,
              "#0d0887"
             ],
             [
              0.1111111111111111,
              "#46039f"
             ],
             [
              0.2222222222222222,
              "#7201a8"
             ],
             [
              0.3333333333333333,
              "#9c179e"
             ],
             [
              0.4444444444444444,
              "#bd3786"
             ],
             [
              0.5555555555555556,
              "#d8576b"
             ],
             [
              0.6666666666666666,
              "#ed7953"
             ],
             [
              0.7777777777777778,
              "#fb9f3a"
             ],
             [
              0.8888888888888888,
              "#fdca26"
             ],
             [
              1,
              "#f0f921"
             ]
            ],
            "type": "contour"
           }
          ],
          "contourcarpet": [
           {
            "colorbar": {
             "outlinewidth": 0,
             "ticks": ""
            },
            "type": "contourcarpet"
           }
          ],
          "heatmap": [
           {
            "colorbar": {
             "outlinewidth": 0,
             "ticks": ""
            },
            "colorscale": [
             [
              0,
              "#0d0887"
             ],
             [
              0.1111111111111111,
              "#46039f"
             ],
             [
              0.2222222222222222,
              "#7201a8"
             ],
             [
              0.3333333333333333,
              "#9c179e"
             ],
             [
              0.4444444444444444,
              "#bd3786"
             ],
             [
              0.5555555555555556,
              "#d8576b"
             ],
             [
              0.6666666666666666,
              "#ed7953"
             ],
             [
              0.7777777777777778,
              "#fb9f3a"
             ],
             [
              0.8888888888888888,
              "#fdca26"
             ],
             [
              1,
              "#f0f921"
             ]
            ],
            "type": "heatmap"
           }
          ],
          "heatmapgl": [
           {
            "colorbar": {
             "outlinewidth": 0,
             "ticks": ""
            },
            "colorscale": [
             [
              0,
              "#0d0887"
             ],
             [
              0.1111111111111111,
              "#46039f"
             ],
             [
              0.2222222222222222,
              "#7201a8"
             ],
             [
              0.3333333333333333,
              "#9c179e"
             ],
             [
              0.4444444444444444,
              "#bd3786"
             ],
             [
              0.5555555555555556,
              "#d8576b"
             ],
             [
              0.6666666666666666,
              "#ed7953"
             ],
             [
              0.7777777777777778,
              "#fb9f3a"
             ],
             [
              0.8888888888888888,
              "#fdca26"
             ],
             [
              1,
              "#f0f921"
             ]
            ],
            "type": "heatmapgl"
           }
          ],
          "histogram": [
           {
            "marker": {
             "pattern": {
              "fillmode": "overlay",
              "size": 10,
              "solidity": 0.2
             }
            },
            "type": "histogram"
           }
          ],
          "histogram2d": [
           {
            "colorbar": {
             "outlinewidth": 0,
             "ticks": ""
            },
            "colorscale": [
             [
              0,
              "#0d0887"
             ],
             [
              0.1111111111111111,
              "#46039f"
             ],
             [
              0.2222222222222222,
              "#7201a8"
             ],
             [
              0.3333333333333333,
              "#9c179e"
             ],
             [
              0.4444444444444444,
              "#bd3786"
             ],
             [
              0.5555555555555556,
              "#d8576b"
             ],
             [
              0.6666666666666666,
              "#ed7953"
             ],
             [
              0.7777777777777778,
              "#fb9f3a"
             ],
             [
              0.8888888888888888,
              "#fdca26"
             ],
             [
              1,
              "#f0f921"
             ]
            ],
            "type": "histogram2d"
           }
          ],
          "histogram2dcontour": [
           {
            "colorbar": {
             "outlinewidth": 0,
             "ticks": ""
            },
            "colorscale": [
             [
              0,
              "#0d0887"
             ],
             [
              0.1111111111111111,
              "#46039f"
             ],
             [
              0.2222222222222222,
              "#7201a8"
             ],
             [
              0.3333333333333333,
              "#9c179e"
             ],
             [
              0.4444444444444444,
              "#bd3786"
             ],
             [
              0.5555555555555556,
              "#d8576b"
             ],
             [
              0.6666666666666666,
              "#ed7953"
             ],
             [
              0.7777777777777778,
              "#fb9f3a"
             ],
             [
              0.8888888888888888,
              "#fdca26"
             ],
             [
              1,
              "#f0f921"
             ]
            ],
            "type": "histogram2dcontour"
           }
          ],
          "mesh3d": [
           {
            "colorbar": {
             "outlinewidth": 0,
             "ticks": ""
            },
            "type": "mesh3d"
           }
          ],
          "parcoords": [
           {
            "line": {
             "colorbar": {
              "outlinewidth": 0,
              "ticks": ""
             }
            },
            "type": "parcoords"
           }
          ],
          "pie": [
           {
            "automargin": true,
            "type": "pie"
           }
          ],
          "scatter": [
           {
            "fillpattern": {
             "fillmode": "overlay",
             "size": 10,
             "solidity": 0.2
            },
            "type": "scatter"
           }
          ],
          "scatter3d": [
           {
            "line": {
             "colorbar": {
              "outlinewidth": 0,
              "ticks": ""
             }
            },
            "marker": {
             "colorbar": {
              "outlinewidth": 0,
              "ticks": ""
             }
            },
            "type": "scatter3d"
           }
          ],
          "scattercarpet": [
           {
            "marker": {
             "colorbar": {
              "outlinewidth": 0,
              "ticks": ""
             }
            },
            "type": "scattercarpet"
           }
          ],
          "scattergeo": [
           {
            "marker": {
             "colorbar": {
              "outlinewidth": 0,
              "ticks": ""
             }
            },
            "type": "scattergeo"
           }
          ],
          "scattergl": [
           {
            "marker": {
             "colorbar": {
              "outlinewidth": 0,
              "ticks": ""
             }
            },
            "type": "scattergl"
           }
          ],
          "scattermapbox": [
           {
            "marker": {
             "colorbar": {
              "outlinewidth": 0,
              "ticks": ""
             }
            },
            "type": "scattermapbox"
           }
          ],
          "scatterpolar": [
           {
            "marker": {
             "colorbar": {
              "outlinewidth": 0,
              "ticks": ""
             }
            },
            "type": "scatterpolar"
           }
          ],
          "scatterpolargl": [
           {
            "marker": {
             "colorbar": {
              "outlinewidth": 0,
              "ticks": ""
             }
            },
            "type": "scatterpolargl"
           }
          ],
          "scatterternary": [
           {
            "marker": {
             "colorbar": {
              "outlinewidth": 0,
              "ticks": ""
             }
            },
            "type": "scatterternary"
           }
          ],
          "surface": [
           {
            "colorbar": {
             "outlinewidth": 0,
             "ticks": ""
            },
            "colorscale": [
             [
              0,
              "#0d0887"
             ],
             [
              0.1111111111111111,
              "#46039f"
             ],
             [
              0.2222222222222222,
              "#7201a8"
             ],
             [
              0.3333333333333333,
              "#9c179e"
             ],
             [
              0.4444444444444444,
              "#bd3786"
             ],
             [
              0.5555555555555556,
              "#d8576b"
             ],
             [
              0.6666666666666666,
              "#ed7953"
             ],
             [
              0.7777777777777778,
              "#fb9f3a"
             ],
             [
              0.8888888888888888,
              "#fdca26"
             ],
             [
              1,
              "#f0f921"
             ]
            ],
            "type": "surface"
           }
          ],
          "table": [
           {
            "cells": {
             "fill": {
              "color": "#EBF0F8"
             },
             "line": {
              "color": "white"
             }
            },
            "header": {
             "fill": {
              "color": "#C8D4E3"
             },
             "line": {
              "color": "white"
             }
            },
            "type": "table"
           }
          ]
         },
         "layout": {
          "annotationdefaults": {
           "arrowcolor": "#2a3f5f",
           "arrowhead": 0,
           "arrowwidth": 1
          },
          "autotypenumbers": "strict",
          "coloraxis": {
           "colorbar": {
            "outlinewidth": 0,
            "ticks": ""
           }
          },
          "colorscale": {
           "diverging": [
            [
             0,
             "#8e0152"
            ],
            [
             0.1,
             "#c51b7d"
            ],
            [
             0.2,
             "#de77ae"
            ],
            [
             0.3,
             "#f1b6da"
            ],
            [
             0.4,
             "#fde0ef"
            ],
            [
             0.5,
             "#f7f7f7"
            ],
            [
             0.6,
             "#e6f5d0"
            ],
            [
             0.7,
             "#b8e186"
            ],
            [
             0.8,
             "#7fbc41"
            ],
            [
             0.9,
             "#4d9221"
            ],
            [
             1,
             "#276419"
            ]
           ],
           "sequential": [
            [
             0,
             "#0d0887"
            ],
            [
             0.1111111111111111,
             "#46039f"
            ],
            [
             0.2222222222222222,
             "#7201a8"
            ],
            [
             0.3333333333333333,
             "#9c179e"
            ],
            [
             0.4444444444444444,
             "#bd3786"
            ],
            [
             0.5555555555555556,
             "#d8576b"
            ],
            [
             0.6666666666666666,
             "#ed7953"
            ],
            [
             0.7777777777777778,
             "#fb9f3a"
            ],
            [
             0.8888888888888888,
             "#fdca26"
            ],
            [
             1,
             "#f0f921"
            ]
           ],
           "sequentialminus": [
            [
             0,
             "#0d0887"
            ],
            [
             0.1111111111111111,
             "#46039f"
            ],
            [
             0.2222222222222222,
             "#7201a8"
            ],
            [
             0.3333333333333333,
             "#9c179e"
            ],
            [
             0.4444444444444444,
             "#bd3786"
            ],
            [
             0.5555555555555556,
             "#d8576b"
            ],
            [
             0.6666666666666666,
             "#ed7953"
            ],
            [
             0.7777777777777778,
             "#fb9f3a"
            ],
            [
             0.8888888888888888,
             "#fdca26"
            ],
            [
             1,
             "#f0f921"
            ]
           ]
          },
          "colorway": [
           "#636efa",
           "#EF553B",
           "#00cc96",
           "#ab63fa",
           "#FFA15A",
           "#19d3f3",
           "#FF6692",
           "#B6E880",
           "#FF97FF",
           "#FECB52"
          ],
          "font": {
           "color": "#2a3f5f"
          },
          "geo": {
           "bgcolor": "white",
           "lakecolor": "white",
           "landcolor": "#E5ECF6",
           "showlakes": true,
           "showland": true,
           "subunitcolor": "white"
          },
          "hoverlabel": {
           "align": "left"
          },
          "hovermode": "closest",
          "mapbox": {
           "style": "light"
          },
          "paper_bgcolor": "white",
          "plot_bgcolor": "#E5ECF6",
          "polar": {
           "angularaxis": {
            "gridcolor": "white",
            "linecolor": "white",
            "ticks": ""
           },
           "bgcolor": "#E5ECF6",
           "radialaxis": {
            "gridcolor": "white",
            "linecolor": "white",
            "ticks": ""
           }
          },
          "scene": {
           "xaxis": {
            "backgroundcolor": "#E5ECF6",
            "gridcolor": "white",
            "gridwidth": 2,
            "linecolor": "white",
            "showbackground": true,
            "ticks": "",
            "zerolinecolor": "white"
           },
           "yaxis": {
            "backgroundcolor": "#E5ECF6",
            "gridcolor": "white",
            "gridwidth": 2,
            "linecolor": "white",
            "showbackground": true,
            "ticks": "",
            "zerolinecolor": "white"
           },
           "zaxis": {
            "backgroundcolor": "#E5ECF6",
            "gridcolor": "white",
            "gridwidth": 2,
            "linecolor": "white",
            "showbackground": true,
            "ticks": "",
            "zerolinecolor": "white"
           }
          },
          "shapedefaults": {
           "line": {
            "color": "#2a3f5f"
           }
          },
          "ternary": {
           "aaxis": {
            "gridcolor": "white",
            "linecolor": "white",
            "ticks": ""
           },
           "baxis": {
            "gridcolor": "white",
            "linecolor": "white",
            "ticks": ""
           },
           "bgcolor": "#E5ECF6",
           "caxis": {
            "gridcolor": "white",
            "linecolor": "white",
            "ticks": ""
           }
          },
          "title": {
           "x": 0.05
          },
          "xaxis": {
           "automargin": true,
           "gridcolor": "white",
           "linecolor": "white",
           "ticks": "",
           "title": {
            "standoff": 15
           },
           "zerolinecolor": "white",
           "zerolinewidth": 2
          },
          "yaxis": {
           "automargin": true,
           "gridcolor": "white",
           "linecolor": "white",
           "ticks": "",
           "title": {
            "standoff": 15
           },
           "zerolinecolor": "white",
           "zerolinewidth": 2
          }
         }
        }
       }
      }
     },
     "metadata": {},
     "output_type": "display_data"
    },
    {
     "data": {
      "application/vnd.plotly.v1+json": {
       "config": {
        "plotlyServerURL": "https://plot.ly"
       },
       "data": [
        {
         "mode": "lines",
         "name": "a^(2)",
         "type": "scatter",
         "x": [
          1,
          1.0909090909090908,
          1.1818181818181819,
          1.2727272727272727,
          1.3636363636363638,
          1.4545454545454546,
          1.5454545454545454,
          1.6363636363636362,
          1.7272727272727273,
          1.8181818181818183,
          1.9090909090909092,
          2,
          2.090909090909091,
          2.1818181818181817,
          2.2727272727272725,
          2.3636363636363638,
          2.4545454545454546,
          2.5454545454545454,
          2.6363636363636367,
          2.7272727272727275,
          2.8181818181818183,
          2.909090909090909,
          3,
          3.090909090909091,
          3.1818181818181817,
          3.272727272727273,
          3.3636363636363638,
          3.4545454545454546,
          3.5454545454545454,
          3.6363636363636362,
          3.7272727272727275,
          3.8181818181818183,
          3.909090909090909,
          4,
          4.090909090909091,
          4.181818181818182,
          4.272727272727273,
          4.363636363636363,
          4.454545454545455,
          4.545454545454545,
          4.636363636363637,
          4.7272727272727275,
          4.818181818181818,
          4.909090909090909,
          5,
          5.090909090909091,
          5.181818181818182,
          5.2727272727272725,
          5.363636363636363,
          5.454545454545455,
          5.545454545454546,
          5.636363636363637,
          5.7272727272727275,
          5.818181818181818,
          5.909090909090909,
          6,
          6.090909090909091,
          6.181818181818182,
          6.2727272727272725,
          6.363636363636364,
          6.454545454545455,
          6.545454545454546,
          6.636363636363637,
          6.7272727272727275,
          6.818181818181818,
          6.909090909090909,
          7,
          7.090909090909091,
          7.181818181818182,
          7.2727272727272725,
          7.363636363636364,
          7.454545454545455,
          7.545454545454546,
          7.636363636363637,
          7.7272727272727275,
          7.818181818181818,
          7.909090909090909,
          8,
          8.09090909090909,
          8.181818181818182,
          8.272727272727273,
          8.363636363636363,
          8.454545454545455,
          8.545454545454547,
          8.636363636363637,
          8.727272727272727,
          8.818181818181818,
          8.90909090909091,
          9,
          9.090909090909092,
          9.181818181818182,
          9.272727272727273,
          9.363636363636363,
          9.454545454545455,
          9.545454545454545,
          9.636363636363637,
          9.727272727272727,
          9.818181818181818,
          9.90909090909091,
          10
         ],
         "y": [
          1,
          1.190082644628099,
          1.3966942148760333,
          1.6198347107438016,
          1.8595041322314052,
          2.115702479338843,
          2.3884297520661155,
          2.6776859504132227,
          2.9834710743801653,
          3.3057851239669427,
          3.6446280991735542,
          4,
          4.37190082644628,
          4.760330578512396,
          5.165289256198346,
          5.586776859504133,
          6.024793388429752,
          6.479338842975206,
          6.950413223140497,
          7.438016528925621,
          7.942148760330579,
          8.462809917355372,
          9,
          9.553719008264462,
          10.12396694214876,
          10.710743801652894,
          11.31404958677686,
          11.933884297520661,
          12.570247933884298,
          13.223140495867767,
          13.892561983471076,
          14.578512396694217,
          15.28099173553719,
          16,
          16.735537190082646,
          17.48760330578512,
          18.256198347107443,
          19.041322314049584,
          19.842975206611573,
          20.661157024793383,
          21.495867768595044,
          22.347107438016533,
          23.214876033057852,
          24.09917355371901,
          25,
          25.917355371900825,
          26.851239669421485,
          27.801652892561982,
          28.76859504132231,
          29.752066115702483,
          30.752066115702483,
          31.768595041322317,
          32.80165289256199,
          33.85123966942149,
          34.917355371900825,
          36,
          37.099173553719005,
          38.21487603305785,
          39.34710743801653,
          40.49586776859505,
          41.6611570247934,
          42.84297520661158,
          44.041322314049594,
          45.25619834710744,
          46.48760330578513,
          47.735537190082646,
          49,
          50.28099173553719,
          51.578512396694215,
          52.89256198347107,
          54.223140495867774,
          55.5702479338843,
          56.93388429752067,
          58.31404958677687,
          59.710743801652896,
          61.12396694214876,
          62.553719008264466,
          64,
          65.46280991735536,
          66.94214876033058,
          68.43801652892563,
          69.95041322314049,
          71.47933884297521,
          73.02479338842977,
          74.58677685950414,
          76.16528925619834,
          77.7603305785124,
          79.37190082644629,
          81,
          82.64462809917357,
          84.30578512396694,
          85.98347107438018,
          87.67768595041322,
          89.38842975206613,
          91.11570247933884,
          92.85950413223141,
          94.61983471074379,
          96.39669421487604,
          98.19008264462812,
          100
         ]
        }
       ],
       "layout": {
        "template": {
         "data": {
          "bar": [
           {
            "error_x": {
             "color": "#2a3f5f"
            },
            "error_y": {
             "color": "#2a3f5f"
            },
            "marker": {
             "line": {
              "color": "#E5ECF6",
              "width": 0.5
             },
             "pattern": {
              "fillmode": "overlay",
              "size": 10,
              "solidity": 0.2
             }
            },
            "type": "bar"
           }
          ],
          "barpolar": [
           {
            "marker": {
             "line": {
              "color": "#E5ECF6",
              "width": 0.5
             },
             "pattern": {
              "fillmode": "overlay",
              "size": 10,
              "solidity": 0.2
             }
            },
            "type": "barpolar"
           }
          ],
          "carpet": [
           {
            "aaxis": {
             "endlinecolor": "#2a3f5f",
             "gridcolor": "white",
             "linecolor": "white",
             "minorgridcolor": "white",
             "startlinecolor": "#2a3f5f"
            },
            "baxis": {
             "endlinecolor": "#2a3f5f",
             "gridcolor": "white",
             "linecolor": "white",
             "minorgridcolor": "white",
             "startlinecolor": "#2a3f5f"
            },
            "type": "carpet"
           }
          ],
          "choropleth": [
           {
            "colorbar": {
             "outlinewidth": 0,
             "ticks": ""
            },
            "type": "choropleth"
           }
          ],
          "contour": [
           {
            "colorbar": {
             "outlinewidth": 0,
             "ticks": ""
            },
            "colorscale": [
             [
              0,
              "#0d0887"
             ],
             [
              0.1111111111111111,
              "#46039f"
             ],
             [
              0.2222222222222222,
              "#7201a8"
             ],
             [
              0.3333333333333333,
              "#9c179e"
             ],
             [
              0.4444444444444444,
              "#bd3786"
             ],
             [
              0.5555555555555556,
              "#d8576b"
             ],
             [
              0.6666666666666666,
              "#ed7953"
             ],
             [
              0.7777777777777778,
              "#fb9f3a"
             ],
             [
              0.8888888888888888,
              "#fdca26"
             ],
             [
              1,
              "#f0f921"
             ]
            ],
            "type": "contour"
           }
          ],
          "contourcarpet": [
           {
            "colorbar": {
             "outlinewidth": 0,
             "ticks": ""
            },
            "type": "contourcarpet"
           }
          ],
          "heatmap": [
           {
            "colorbar": {
             "outlinewidth": 0,
             "ticks": ""
            },
            "colorscale": [
             [
              0,
              "#0d0887"
             ],
             [
              0.1111111111111111,
              "#46039f"
             ],
             [
              0.2222222222222222,
              "#7201a8"
             ],
             [
              0.3333333333333333,
              "#9c179e"
             ],
             [
              0.4444444444444444,
              "#bd3786"
             ],
             [
              0.5555555555555556,
              "#d8576b"
             ],
             [
              0.6666666666666666,
              "#ed7953"
             ],
             [
              0.7777777777777778,
              "#fb9f3a"
             ],
             [
              0.8888888888888888,
              "#fdca26"
             ],
             [
              1,
              "#f0f921"
             ]
            ],
            "type": "heatmap"
           }
          ],
          "heatmapgl": [
           {
            "colorbar": {
             "outlinewidth": 0,
             "ticks": ""
            },
            "colorscale": [
             [
              0,
              "#0d0887"
             ],
             [
              0.1111111111111111,
              "#46039f"
             ],
             [
              0.2222222222222222,
              "#7201a8"
             ],
             [
              0.3333333333333333,
              "#9c179e"
             ],
             [
              0.4444444444444444,
              "#bd3786"
             ],
             [
              0.5555555555555556,
              "#d8576b"
             ],
             [
              0.6666666666666666,
              "#ed7953"
             ],
             [
              0.7777777777777778,
              "#fb9f3a"
             ],
             [
              0.8888888888888888,
              "#fdca26"
             ],
             [
              1,
              "#f0f921"
             ]
            ],
            "type": "heatmapgl"
           }
          ],
          "histogram": [
           {
            "marker": {
             "pattern": {
              "fillmode": "overlay",
              "size": 10,
              "solidity": 0.2
             }
            },
            "type": "histogram"
           }
          ],
          "histogram2d": [
           {
            "colorbar": {
             "outlinewidth": 0,
             "ticks": ""
            },
            "colorscale": [
             [
              0,
              "#0d0887"
             ],
             [
              0.1111111111111111,
              "#46039f"
             ],
             [
              0.2222222222222222,
              "#7201a8"
             ],
             [
              0.3333333333333333,
              "#9c179e"
             ],
             [
              0.4444444444444444,
              "#bd3786"
             ],
             [
              0.5555555555555556,
              "#d8576b"
             ],
             [
              0.6666666666666666,
              "#ed7953"
             ],
             [
              0.7777777777777778,
              "#fb9f3a"
             ],
             [
              0.8888888888888888,
              "#fdca26"
             ],
             [
              1,
              "#f0f921"
             ]
            ],
            "type": "histogram2d"
           }
          ],
          "histogram2dcontour": [
           {
            "colorbar": {
             "outlinewidth": 0,
             "ticks": ""
            },
            "colorscale": [
             [
              0,
              "#0d0887"
             ],
             [
              0.1111111111111111,
              "#46039f"
             ],
             [
              0.2222222222222222,
              "#7201a8"
             ],
             [
              0.3333333333333333,
              "#9c179e"
             ],
             [
              0.4444444444444444,
              "#bd3786"
             ],
             [
              0.5555555555555556,
              "#d8576b"
             ],
             [
              0.6666666666666666,
              "#ed7953"
             ],
             [
              0.7777777777777778,
              "#fb9f3a"
             ],
             [
              0.8888888888888888,
              "#fdca26"
             ],
             [
              1,
              "#f0f921"
             ]
            ],
            "type": "histogram2dcontour"
           }
          ],
          "mesh3d": [
           {
            "colorbar": {
             "outlinewidth": 0,
             "ticks": ""
            },
            "type": "mesh3d"
           }
          ],
          "parcoords": [
           {
            "line": {
             "colorbar": {
              "outlinewidth": 0,
              "ticks": ""
             }
            },
            "type": "parcoords"
           }
          ],
          "pie": [
           {
            "automargin": true,
            "type": "pie"
           }
          ],
          "scatter": [
           {
            "fillpattern": {
             "fillmode": "overlay",
             "size": 10,
             "solidity": 0.2
            },
            "type": "scatter"
           }
          ],
          "scatter3d": [
           {
            "line": {
             "colorbar": {
              "outlinewidth": 0,
              "ticks": ""
             }
            },
            "marker": {
             "colorbar": {
              "outlinewidth": 0,
              "ticks": ""
             }
            },
            "type": "scatter3d"
           }
          ],
          "scattercarpet": [
           {
            "marker": {
             "colorbar": {
              "outlinewidth": 0,
              "ticks": ""
             }
            },
            "type": "scattercarpet"
           }
          ],
          "scattergeo": [
           {
            "marker": {
             "colorbar": {
              "outlinewidth": 0,
              "ticks": ""
             }
            },
            "type": "scattergeo"
           }
          ],
          "scattergl": [
           {
            "marker": {
             "colorbar": {
              "outlinewidth": 0,
              "ticks": ""
             }
            },
            "type": "scattergl"
           }
          ],
          "scattermapbox": [
           {
            "marker": {
             "colorbar": {
              "outlinewidth": 0,
              "ticks": ""
             }
            },
            "type": "scattermapbox"
           }
          ],
          "scatterpolar": [
           {
            "marker": {
             "colorbar": {
              "outlinewidth": 0,
              "ticks": ""
             }
            },
            "type": "scatterpolar"
           }
          ],
          "scatterpolargl": [
           {
            "marker": {
             "colorbar": {
              "outlinewidth": 0,
              "ticks": ""
             }
            },
            "type": "scatterpolargl"
           }
          ],
          "scatterternary": [
           {
            "marker": {
             "colorbar": {
              "outlinewidth": 0,
              "ticks": ""
             }
            },
            "type": "scatterternary"
           }
          ],
          "surface": [
           {
            "colorbar": {
             "outlinewidth": 0,
             "ticks": ""
            },
            "colorscale": [
             [
              0,
              "#0d0887"
             ],
             [
              0.1111111111111111,
              "#46039f"
             ],
             [
              0.2222222222222222,
              "#7201a8"
             ],
             [
              0.3333333333333333,
              "#9c179e"
             ],
             [
              0.4444444444444444,
              "#bd3786"
             ],
             [
              0.5555555555555556,
              "#d8576b"
             ],
             [
              0.6666666666666666,
              "#ed7953"
             ],
             [
              0.7777777777777778,
              "#fb9f3a"
             ],
             [
              0.8888888888888888,
              "#fdca26"
             ],
             [
              1,
              "#f0f921"
             ]
            ],
            "type": "surface"
           }
          ],
          "table": [
           {
            "cells": {
             "fill": {
              "color": "#EBF0F8"
             },
             "line": {
              "color": "white"
             }
            },
            "header": {
             "fill": {
              "color": "#C8D4E3"
             },
             "line": {
              "color": "white"
             }
            },
            "type": "table"
           }
          ]
         },
         "layout": {
          "annotationdefaults": {
           "arrowcolor": "#2a3f5f",
           "arrowhead": 0,
           "arrowwidth": 1
          },
          "autotypenumbers": "strict",
          "coloraxis": {
           "colorbar": {
            "outlinewidth": 0,
            "ticks": ""
           }
          },
          "colorscale": {
           "diverging": [
            [
             0,
             "#8e0152"
            ],
            [
             0.1,
             "#c51b7d"
            ],
            [
             0.2,
             "#de77ae"
            ],
            [
             0.3,
             "#f1b6da"
            ],
            [
             0.4,
             "#fde0ef"
            ],
            [
             0.5,
             "#f7f7f7"
            ],
            [
             0.6,
             "#e6f5d0"
            ],
            [
             0.7,
             "#b8e186"
            ],
            [
             0.8,
             "#7fbc41"
            ],
            [
             0.9,
             "#4d9221"
            ],
            [
             1,
             "#276419"
            ]
           ],
           "sequential": [
            [
             0,
             "#0d0887"
            ],
            [
             0.1111111111111111,
             "#46039f"
            ],
            [
             0.2222222222222222,
             "#7201a8"
            ],
            [
             0.3333333333333333,
             "#9c179e"
            ],
            [
             0.4444444444444444,
             "#bd3786"
            ],
            [
             0.5555555555555556,
             "#d8576b"
            ],
            [
             0.6666666666666666,
             "#ed7953"
            ],
            [
             0.7777777777777778,
             "#fb9f3a"
            ],
            [
             0.8888888888888888,
             "#fdca26"
            ],
            [
             1,
             "#f0f921"
            ]
           ],
           "sequentialminus": [
            [
             0,
             "#0d0887"
            ],
            [
             0.1111111111111111,
             "#46039f"
            ],
            [
             0.2222222222222222,
             "#7201a8"
            ],
            [
             0.3333333333333333,
             "#9c179e"
            ],
            [
             0.4444444444444444,
             "#bd3786"
            ],
            [
             0.5555555555555556,
             "#d8576b"
            ],
            [
             0.6666666666666666,
             "#ed7953"
            ],
            [
             0.7777777777777778,
             "#fb9f3a"
            ],
            [
             0.8888888888888888,
             "#fdca26"
            ],
            [
             1,
             "#f0f921"
            ]
           ]
          },
          "colorway": [
           "#636efa",
           "#EF553B",
           "#00cc96",
           "#ab63fa",
           "#FFA15A",
           "#19d3f3",
           "#FF6692",
           "#B6E880",
           "#FF97FF",
           "#FECB52"
          ],
          "font": {
           "color": "#2a3f5f"
          },
          "geo": {
           "bgcolor": "white",
           "lakecolor": "white",
           "landcolor": "#E5ECF6",
           "showlakes": true,
           "showland": true,
           "subunitcolor": "white"
          },
          "hoverlabel": {
           "align": "left"
          },
          "hovermode": "closest",
          "mapbox": {
           "style": "light"
          },
          "paper_bgcolor": "white",
          "plot_bgcolor": "#E5ECF6",
          "polar": {
           "angularaxis": {
            "gridcolor": "white",
            "linecolor": "white",
            "ticks": ""
           },
           "bgcolor": "#E5ECF6",
           "radialaxis": {
            "gridcolor": "white",
            "linecolor": "white",
            "ticks": ""
           }
          },
          "scene": {
           "xaxis": {
            "backgroundcolor": "#E5ECF6",
            "gridcolor": "white",
            "gridwidth": 2,
            "linecolor": "white",
            "showbackground": true,
            "ticks": "",
            "zerolinecolor": "white"
           },
           "yaxis": {
            "backgroundcolor": "#E5ECF6",
            "gridcolor": "white",
            "gridwidth": 2,
            "linecolor": "white",
            "showbackground": true,
            "ticks": "",
            "zerolinecolor": "white"
           },
           "zaxis": {
            "backgroundcolor": "#E5ECF6",
            "gridcolor": "white",
            "gridwidth": 2,
            "linecolor": "white",
            "showbackground": true,
            "ticks": "",
            "zerolinecolor": "white"
           }
          },
          "shapedefaults": {
           "line": {
            "color": "#2a3f5f"
           }
          },
          "ternary": {
           "aaxis": {
            "gridcolor": "white",
            "linecolor": "white",
            "ticks": ""
           },
           "baxis": {
            "gridcolor": "white",
            "linecolor": "white",
            "ticks": ""
           },
           "bgcolor": "#E5ECF6",
           "caxis": {
            "gridcolor": "white",
            "linecolor": "white",
            "ticks": ""
           }
          },
          "title": {
           "x": 0.05
          },
          "xaxis": {
           "automargin": true,
           "gridcolor": "white",
           "linecolor": "white",
           "ticks": "",
           "title": {
            "standoff": 15
           },
           "zerolinecolor": "white",
           "zerolinewidth": 2
          },
          "yaxis": {
           "automargin": true,
           "gridcolor": "white",
           "linecolor": "white",
           "ticks": "",
           "title": {
            "standoff": 15
           },
           "zerolinecolor": "white",
           "zerolinewidth": 2
          }
         }
        }
       }
      }
     },
     "metadata": {},
     "output_type": "display_data"
    },
    {
     "data": {
      "application/vnd.plotly.v1+json": {
       "config": {
        "plotlyServerURL": "https://plot.ly"
       },
       "data": [
        {
         "mode": "lines",
         "name": "a^(3)",
         "type": "scatter",
         "x": [
          1,
          1.0909090909090908,
          1.1818181818181819,
          1.2727272727272727,
          1.3636363636363638,
          1.4545454545454546,
          1.5454545454545454,
          1.6363636363636362,
          1.7272727272727273,
          1.8181818181818183,
          1.9090909090909092,
          2,
          2.090909090909091,
          2.1818181818181817,
          2.2727272727272725,
          2.3636363636363638,
          2.4545454545454546,
          2.5454545454545454,
          2.6363636363636367,
          2.7272727272727275,
          2.8181818181818183,
          2.909090909090909,
          3,
          3.090909090909091,
          3.1818181818181817,
          3.272727272727273,
          3.3636363636363638,
          3.4545454545454546,
          3.5454545454545454,
          3.6363636363636362,
          3.7272727272727275,
          3.8181818181818183,
          3.909090909090909,
          4,
          4.090909090909091,
          4.181818181818182,
          4.272727272727273,
          4.363636363636363,
          4.454545454545455,
          4.545454545454545,
          4.636363636363637,
          4.7272727272727275,
          4.818181818181818,
          4.909090909090909,
          5,
          5.090909090909091,
          5.181818181818182,
          5.2727272727272725,
          5.363636363636363,
          5.454545454545455,
          5.545454545454546,
          5.636363636363637,
          5.7272727272727275,
          5.818181818181818,
          5.909090909090909,
          6,
          6.090909090909091,
          6.181818181818182,
          6.2727272727272725,
          6.363636363636364,
          6.454545454545455,
          6.545454545454546,
          6.636363636363637,
          6.7272727272727275,
          6.818181818181818,
          6.909090909090909,
          7,
          7.090909090909091,
          7.181818181818182,
          7.2727272727272725,
          7.363636363636364,
          7.454545454545455,
          7.545454545454546,
          7.636363636363637,
          7.7272727272727275,
          7.818181818181818,
          7.909090909090909,
          8,
          8.09090909090909,
          8.181818181818182,
          8.272727272727273,
          8.363636363636363,
          8.454545454545455,
          8.545454545454547,
          8.636363636363637,
          8.727272727272727,
          8.818181818181818,
          8.90909090909091,
          9,
          9.090909090909092,
          9.181818181818182,
          9.272727272727273,
          9.363636363636363,
          9.454545454545455,
          9.545454545454545,
          9.636363636363637,
          9.727272727272727,
          9.818181818181818,
          9.90909090909091,
          10
         ],
         "y": [
          1,
          1.298271975957926,
          1.6506386175807666,
          2.061607813673929,
          2.5356874530428257,
          3.0773854244928627,
          3.6912096168294513,
          4.3816679188580006,
          5.153268219383922,
          6.010518407212624,
          6.9579263711495125,
          8,
          9.141247182569495,
          10.386175807663408,
          11.739293764087149,
          13.205108940646133,
          14.788129226145756,
          16.492862509391433,
          18.323816679188585,
          20.285499624342606,
          22.382419233658908,
          24.6190833959429,
          27,
          29.52967693463561,
          32.212622088655145,
          35.05334335086402,
          38.05634861006762,
          41.22614575507138,
          44.56724267468069,
          48.08414725770097,
          51.78136739293765,
          55.6634109691961,
          59.734785875281744,
          64,
          68.46356123215627,
          73.12997746055596,
          78.00375657400454,
          83.08940646130726,
          88.39143501126975,
          93.91435011269719,
          99.66265965439521,
          105.64087152516906,
          111.8534936138242,
          118.30503380916605,
          125,
          131.94290007513146,
          139.13824192336588,
          146.59053343350863,
          154.3042824943651,
          162.28399699474085,
          170.53418482344105,
          179.05935386927126,
          187.86401202103684,
          196.9526671675432,
          206.3298271975958,
          216,
          225.96769346356123,
          236.23741547708488,
          246.8136739293764,
          257.7009767092412,
          268.90383170548466,
          280.42674680691215,
          292.2742299023291,
          304.450788880541,
          316.9609316303531,
          329.80916604057103,
          343,
          356.53794139744554,
          370.427498121713,
          384.67317806160776,
          399.27948910593545,
          414.2509391435012,
          429.5920360631105,
          445.3072877535688,
          461.4012021036815,
          477.87828700225396,
          494.7430503380917,
          512,
          529.6536438767841,
          547.7084898572501,
          566.169045830203,
          585.0398196844477,
          604.3253193087905,
          624.0300525920363,
          644.1585274229903,
          664.7152516904581,
          685.7047332832457,
          707.131480090158,
          729,
          751.314800901578,
          774.0803906836965,
          797.3012772351617,
          820.9819684447783,
          845.1269722013525,
          869.7407963936888,
          894.8279489105936,
          920.3929376408713,
          946.4402704733284,
          972.9744552967696,
          1000
         ]
        }
       ],
       "layout": {
        "template": {
         "data": {
          "bar": [
           {
            "error_x": {
             "color": "#2a3f5f"
            },
            "error_y": {
             "color": "#2a3f5f"
            },
            "marker": {
             "line": {
              "color": "#E5ECF6",
              "width": 0.5
             },
             "pattern": {
              "fillmode": "overlay",
              "size": 10,
              "solidity": 0.2
             }
            },
            "type": "bar"
           }
          ],
          "barpolar": [
           {
            "marker": {
             "line": {
              "color": "#E5ECF6",
              "width": 0.5
             },
             "pattern": {
              "fillmode": "overlay",
              "size": 10,
              "solidity": 0.2
             }
            },
            "type": "barpolar"
           }
          ],
          "carpet": [
           {
            "aaxis": {
             "endlinecolor": "#2a3f5f",
             "gridcolor": "white",
             "linecolor": "white",
             "minorgridcolor": "white",
             "startlinecolor": "#2a3f5f"
            },
            "baxis": {
             "endlinecolor": "#2a3f5f",
             "gridcolor": "white",
             "linecolor": "white",
             "minorgridcolor": "white",
             "startlinecolor": "#2a3f5f"
            },
            "type": "carpet"
           }
          ],
          "choropleth": [
           {
            "colorbar": {
             "outlinewidth": 0,
             "ticks": ""
            },
            "type": "choropleth"
           }
          ],
          "contour": [
           {
            "colorbar": {
             "outlinewidth": 0,
             "ticks": ""
            },
            "colorscale": [
             [
              0,
              "#0d0887"
             ],
             [
              0.1111111111111111,
              "#46039f"
             ],
             [
              0.2222222222222222,
              "#7201a8"
             ],
             [
              0.3333333333333333,
              "#9c179e"
             ],
             [
              0.4444444444444444,
              "#bd3786"
             ],
             [
              0.5555555555555556,
              "#d8576b"
             ],
             [
              0.6666666666666666,
              "#ed7953"
             ],
             [
              0.7777777777777778,
              "#fb9f3a"
             ],
             [
              0.8888888888888888,
              "#fdca26"
             ],
             [
              1,
              "#f0f921"
             ]
            ],
            "type": "contour"
           }
          ],
          "contourcarpet": [
           {
            "colorbar": {
             "outlinewidth": 0,
             "ticks": ""
            },
            "type": "contourcarpet"
           }
          ],
          "heatmap": [
           {
            "colorbar": {
             "outlinewidth": 0,
             "ticks": ""
            },
            "colorscale": [
             [
              0,
              "#0d0887"
             ],
             [
              0.1111111111111111,
              "#46039f"
             ],
             [
              0.2222222222222222,
              "#7201a8"
             ],
             [
              0.3333333333333333,
              "#9c179e"
             ],
             [
              0.4444444444444444,
              "#bd3786"
             ],
             [
              0.5555555555555556,
              "#d8576b"
             ],
             [
              0.6666666666666666,
              "#ed7953"
             ],
             [
              0.7777777777777778,
              "#fb9f3a"
             ],
             [
              0.8888888888888888,
              "#fdca26"
             ],
             [
              1,
              "#f0f921"
             ]
            ],
            "type": "heatmap"
           }
          ],
          "heatmapgl": [
           {
            "colorbar": {
             "outlinewidth": 0,
             "ticks": ""
            },
            "colorscale": [
             [
              0,
              "#0d0887"
             ],
             [
              0.1111111111111111,
              "#46039f"
             ],
             [
              0.2222222222222222,
              "#7201a8"
             ],
             [
              0.3333333333333333,
              "#9c179e"
             ],
             [
              0.4444444444444444,
              "#bd3786"
             ],
             [
              0.5555555555555556,
              "#d8576b"
             ],
             [
              0.6666666666666666,
              "#ed7953"
             ],
             [
              0.7777777777777778,
              "#fb9f3a"
             ],
             [
              0.8888888888888888,
              "#fdca26"
             ],
             [
              1,
              "#f0f921"
             ]
            ],
            "type": "heatmapgl"
           }
          ],
          "histogram": [
           {
            "marker": {
             "pattern": {
              "fillmode": "overlay",
              "size": 10,
              "solidity": 0.2
             }
            },
            "type": "histogram"
           }
          ],
          "histogram2d": [
           {
            "colorbar": {
             "outlinewidth": 0,
             "ticks": ""
            },
            "colorscale": [
             [
              0,
              "#0d0887"
             ],
             [
              0.1111111111111111,
              "#46039f"
             ],
             [
              0.2222222222222222,
              "#7201a8"
             ],
             [
              0.3333333333333333,
              "#9c179e"
             ],
             [
              0.4444444444444444,
              "#bd3786"
             ],
             [
              0.5555555555555556,
              "#d8576b"
             ],
             [
              0.6666666666666666,
              "#ed7953"
             ],
             [
              0.7777777777777778,
              "#fb9f3a"
             ],
             [
              0.8888888888888888,
              "#fdca26"
             ],
             [
              1,
              "#f0f921"
             ]
            ],
            "type": "histogram2d"
           }
          ],
          "histogram2dcontour": [
           {
            "colorbar": {
             "outlinewidth": 0,
             "ticks": ""
            },
            "colorscale": [
             [
              0,
              "#0d0887"
             ],
             [
              0.1111111111111111,
              "#46039f"
             ],
             [
              0.2222222222222222,
              "#7201a8"
             ],
             [
              0.3333333333333333,
              "#9c179e"
             ],
             [
              0.4444444444444444,
              "#bd3786"
             ],
             [
              0.5555555555555556,
              "#d8576b"
             ],
             [
              0.6666666666666666,
              "#ed7953"
             ],
             [
              0.7777777777777778,
              "#fb9f3a"
             ],
             [
              0.8888888888888888,
              "#fdca26"
             ],
             [
              1,
              "#f0f921"
             ]
            ],
            "type": "histogram2dcontour"
           }
          ],
          "mesh3d": [
           {
            "colorbar": {
             "outlinewidth": 0,
             "ticks": ""
            },
            "type": "mesh3d"
           }
          ],
          "parcoords": [
           {
            "line": {
             "colorbar": {
              "outlinewidth": 0,
              "ticks": ""
             }
            },
            "type": "parcoords"
           }
          ],
          "pie": [
           {
            "automargin": true,
            "type": "pie"
           }
          ],
          "scatter": [
           {
            "fillpattern": {
             "fillmode": "overlay",
             "size": 10,
             "solidity": 0.2
            },
            "type": "scatter"
           }
          ],
          "scatter3d": [
           {
            "line": {
             "colorbar": {
              "outlinewidth": 0,
              "ticks": ""
             }
            },
            "marker": {
             "colorbar": {
              "outlinewidth": 0,
              "ticks": ""
             }
            },
            "type": "scatter3d"
           }
          ],
          "scattercarpet": [
           {
            "marker": {
             "colorbar": {
              "outlinewidth": 0,
              "ticks": ""
             }
            },
            "type": "scattercarpet"
           }
          ],
          "scattergeo": [
           {
            "marker": {
             "colorbar": {
              "outlinewidth": 0,
              "ticks": ""
             }
            },
            "type": "scattergeo"
           }
          ],
          "scattergl": [
           {
            "marker": {
             "colorbar": {
              "outlinewidth": 0,
              "ticks": ""
             }
            },
            "type": "scattergl"
           }
          ],
          "scattermapbox": [
           {
            "marker": {
             "colorbar": {
              "outlinewidth": 0,
              "ticks": ""
             }
            },
            "type": "scattermapbox"
           }
          ],
          "scatterpolar": [
           {
            "marker": {
             "colorbar": {
              "outlinewidth": 0,
              "ticks": ""
             }
            },
            "type": "scatterpolar"
           }
          ],
          "scatterpolargl": [
           {
            "marker": {
             "colorbar": {
              "outlinewidth": 0,
              "ticks": ""
             }
            },
            "type": "scatterpolargl"
           }
          ],
          "scatterternary": [
           {
            "marker": {
             "colorbar": {
              "outlinewidth": 0,
              "ticks": ""
             }
            },
            "type": "scatterternary"
           }
          ],
          "surface": [
           {
            "colorbar": {
             "outlinewidth": 0,
             "ticks": ""
            },
            "colorscale": [
             [
              0,
              "#0d0887"
             ],
             [
              0.1111111111111111,
              "#46039f"
             ],
             [
              0.2222222222222222,
              "#7201a8"
             ],
             [
              0.3333333333333333,
              "#9c179e"
             ],
             [
              0.4444444444444444,
              "#bd3786"
             ],
             [
              0.5555555555555556,
              "#d8576b"
             ],
             [
              0.6666666666666666,
              "#ed7953"
             ],
             [
              0.7777777777777778,
              "#fb9f3a"
             ],
             [
              0.8888888888888888,
              "#fdca26"
             ],
             [
              1,
              "#f0f921"
             ]
            ],
            "type": "surface"
           }
          ],
          "table": [
           {
            "cells": {
             "fill": {
              "color": "#EBF0F8"
             },
             "line": {
              "color": "white"
             }
            },
            "header": {
             "fill": {
              "color": "#C8D4E3"
             },
             "line": {
              "color": "white"
             }
            },
            "type": "table"
           }
          ]
         },
         "layout": {
          "annotationdefaults": {
           "arrowcolor": "#2a3f5f",
           "arrowhead": 0,
           "arrowwidth": 1
          },
          "autotypenumbers": "strict",
          "coloraxis": {
           "colorbar": {
            "outlinewidth": 0,
            "ticks": ""
           }
          },
          "colorscale": {
           "diverging": [
            [
             0,
             "#8e0152"
            ],
            [
             0.1,
             "#c51b7d"
            ],
            [
             0.2,
             "#de77ae"
            ],
            [
             0.3,
             "#f1b6da"
            ],
            [
             0.4,
             "#fde0ef"
            ],
            [
             0.5,
             "#f7f7f7"
            ],
            [
             0.6,
             "#e6f5d0"
            ],
            [
             0.7,
             "#b8e186"
            ],
            [
             0.8,
             "#7fbc41"
            ],
            [
             0.9,
             "#4d9221"
            ],
            [
             1,
             "#276419"
            ]
           ],
           "sequential": [
            [
             0,
             "#0d0887"
            ],
            [
             0.1111111111111111,
             "#46039f"
            ],
            [
             0.2222222222222222,
             "#7201a8"
            ],
            [
             0.3333333333333333,
             "#9c179e"
            ],
            [
             0.4444444444444444,
             "#bd3786"
            ],
            [
             0.5555555555555556,
             "#d8576b"
            ],
            [
             0.6666666666666666,
             "#ed7953"
            ],
            [
             0.7777777777777778,
             "#fb9f3a"
            ],
            [
             0.8888888888888888,
             "#fdca26"
            ],
            [
             1,
             "#f0f921"
            ]
           ],
           "sequentialminus": [
            [
             0,
             "#0d0887"
            ],
            [
             0.1111111111111111,
             "#46039f"
            ],
            [
             0.2222222222222222,
             "#7201a8"
            ],
            [
             0.3333333333333333,
             "#9c179e"
            ],
            [
             0.4444444444444444,
             "#bd3786"
            ],
            [
             0.5555555555555556,
             "#d8576b"
            ],
            [
             0.6666666666666666,
             "#ed7953"
            ],
            [
             0.7777777777777778,
             "#fb9f3a"
            ],
            [
             0.8888888888888888,
             "#fdca26"
            ],
            [
             1,
             "#f0f921"
            ]
           ]
          },
          "colorway": [
           "#636efa",
           "#EF553B",
           "#00cc96",
           "#ab63fa",
           "#FFA15A",
           "#19d3f3",
           "#FF6692",
           "#B6E880",
           "#FF97FF",
           "#FECB52"
          ],
          "font": {
           "color": "#2a3f5f"
          },
          "geo": {
           "bgcolor": "white",
           "lakecolor": "white",
           "landcolor": "#E5ECF6",
           "showlakes": true,
           "showland": true,
           "subunitcolor": "white"
          },
          "hoverlabel": {
           "align": "left"
          },
          "hovermode": "closest",
          "mapbox": {
           "style": "light"
          },
          "paper_bgcolor": "white",
          "plot_bgcolor": "#E5ECF6",
          "polar": {
           "angularaxis": {
            "gridcolor": "white",
            "linecolor": "white",
            "ticks": ""
           },
           "bgcolor": "#E5ECF6",
           "radialaxis": {
            "gridcolor": "white",
            "linecolor": "white",
            "ticks": ""
           }
          },
          "scene": {
           "xaxis": {
            "backgroundcolor": "#E5ECF6",
            "gridcolor": "white",
            "gridwidth": 2,
            "linecolor": "white",
            "showbackground": true,
            "ticks": "",
            "zerolinecolor": "white"
           },
           "yaxis": {
            "backgroundcolor": "#E5ECF6",
            "gridcolor": "white",
            "gridwidth": 2,
            "linecolor": "white",
            "showbackground": true,
            "ticks": "",
            "zerolinecolor": "white"
           },
           "zaxis": {
            "backgroundcolor": "#E5ECF6",
            "gridcolor": "white",
            "gridwidth": 2,
            "linecolor": "white",
            "showbackground": true,
            "ticks": "",
            "zerolinecolor": "white"
           }
          },
          "shapedefaults": {
           "line": {
            "color": "#2a3f5f"
           }
          },
          "ternary": {
           "aaxis": {
            "gridcolor": "white",
            "linecolor": "white",
            "ticks": ""
           },
           "baxis": {
            "gridcolor": "white",
            "linecolor": "white",
            "ticks": ""
           },
           "bgcolor": "#E5ECF6",
           "caxis": {
            "gridcolor": "white",
            "linecolor": "white",
            "ticks": ""
           }
          },
          "title": {
           "x": 0.05
          },
          "xaxis": {
           "automargin": true,
           "gridcolor": "white",
           "linecolor": "white",
           "ticks": "",
           "title": {
            "standoff": 15
           },
           "zerolinecolor": "white",
           "zerolinewidth": 2
          },
          "yaxis": {
           "automargin": true,
           "gridcolor": "white",
           "linecolor": "white",
           "ticks": "",
           "title": {
            "standoff": 15
           },
           "zerolinecolor": "white",
           "zerolinewidth": 2
          }
         }
        }
       }
      }
     },
     "metadata": {},
     "output_type": "display_data"
    },
    {
     "data": {
      "application/vnd.plotly.v1+json": {
       "config": {
        "plotlyServerURL": "https://plot.ly"
       },
       "data": [
        {
         "mode": "lines",
         "name": "a^(4)",
         "type": "scatter",
         "x": [
          1,
          1.0909090909090908,
          1.1818181818181819,
          1.2727272727272727,
          1.3636363636363638,
          1.4545454545454546,
          1.5454545454545454,
          1.6363636363636362,
          1.7272727272727273,
          1.8181818181818183,
          1.9090909090909092,
          2,
          2.090909090909091,
          2.1818181818181817,
          2.2727272727272725,
          2.3636363636363638,
          2.4545454545454546,
          2.5454545454545454,
          2.6363636363636367,
          2.7272727272727275,
          2.8181818181818183,
          2.909090909090909,
          3,
          3.090909090909091,
          3.1818181818181817,
          3.272727272727273,
          3.3636363636363638,
          3.4545454545454546,
          3.5454545454545454,
          3.6363636363636362,
          3.7272727272727275,
          3.8181818181818183,
          3.909090909090909,
          4,
          4.090909090909091,
          4.181818181818182,
          4.272727272727273,
          4.363636363636363,
          4.454545454545455,
          4.545454545454545,
          4.636363636363637,
          4.7272727272727275,
          4.818181818181818,
          4.909090909090909,
          5,
          5.090909090909091,
          5.181818181818182,
          5.2727272727272725,
          5.363636363636363,
          5.454545454545455,
          5.545454545454546,
          5.636363636363637,
          5.7272727272727275,
          5.818181818181818,
          5.909090909090909,
          6,
          6.090909090909091,
          6.181818181818182,
          6.2727272727272725,
          6.363636363636364,
          6.454545454545455,
          6.545454545454546,
          6.636363636363637,
          6.7272727272727275,
          6.818181818181818,
          6.909090909090909,
          7,
          7.090909090909091,
          7.181818181818182,
          7.2727272727272725,
          7.363636363636364,
          7.454545454545455,
          7.545454545454546,
          7.636363636363637,
          7.7272727272727275,
          7.818181818181818,
          7.909090909090909,
          8,
          8.09090909090909,
          8.181818181818182,
          8.272727272727273,
          8.363636363636363,
          8.454545454545455,
          8.545454545454547,
          8.636363636363637,
          8.727272727272727,
          8.818181818181818,
          8.90909090909091,
          9,
          9.090909090909092,
          9.181818181818182,
          9.272727272727273,
          9.363636363636363,
          9.454545454545455,
          9.545454545454545,
          9.636363636363637,
          9.727272727272727,
          9.818181818181818,
          9.90909090909091,
          10
         ],
         "y": [
          1,
          1.4162967010450103,
          1.9507547298681789,
          2.6238644901304555,
          3.4577556177856716,
          4.476196981080528,
          5.704596680554606,
          7.170002049040364,
          8.901099651663138,
          10.928215285841135,
          13.283313981285433,
          16,
          19.113516836281672,
          22.660747216720164,
          26.680213100198063,
          31.212075677890862,
          36.29813537326685,
          41.98183184208729,
          48.30824397240628,
          55.324089884570746,
          63.07772693122056,
          71.61915169728844,
          81,
          91.2735468888737,
          102.4947066457209,
          114.72003278464588,
          128.00771805204565,
          142.4175944266102,
          158.01113311932244,
          174.85144457345808,
          193.0032784645858,
          212.53302370056693,
          233.50870842155592,
          256,
          280.07820504063926,
          305.81626938050675,
          333.28877808892855,
          362.5719554675226,
          393.7436650502017,
          426.883409603169,
          462.07233112492327,
          499.3932108462538,
          538.930469230244,
          580.7701659722696,
          625,
          671.7093094733966,
          720.989071784714,
          772.9319035584999,
          827.6320606515947,
          885.1854381531319,
          945.6895703845369,
          1009.243630899529,
          1075.94843248412,
          1145.906427156615,
          1219.2217061676115,
          1296,
          1376.3486783689639,
          1460.3767502219791,
          1548.1948637388155,
          1639.9153063315352,
          1735.652004644492,
          1835.520524554334,
          1939.6380711700024,
          2048.1234888327303,
          2161.097261116044,
          2278.6815108257633,
          2401,
          2528.178129909159,
          2660.3429410559384,
          2797.6231131753293,
          2940.148965234616,
          3088.052455433373,
          3241.4671812034703,
          3400.528379209071,
          3565.37292534663,
          3736.1393347448948,
          3912.9677617649068,
          4096,
          4285.379482275799,
          4481.251280650228,
          4683.762106413498,
          4893.060310088108,
          5109.295881428865,
          5332.620449422857,
          5563.187282289462,
          5801.151287480362,
          6046.669011679531,
          6299.898640803227,
          6561,
          6830.13455365071,
          7107.465405368485,
          7393.157297998772,
          7687.376613619287,
          7990.291373540061,
          8302.071238303393,
          8622.887507683903,
          8952.913120688476,
          9292.322655556314,
          9641.2923297589,
          10000
         ]
        }
       ],
       "layout": {
        "template": {
         "data": {
          "bar": [
           {
            "error_x": {
             "color": "#2a3f5f"
            },
            "error_y": {
             "color": "#2a3f5f"
            },
            "marker": {
             "line": {
              "color": "#E5ECF6",
              "width": 0.5
             },
             "pattern": {
              "fillmode": "overlay",
              "size": 10,
              "solidity": 0.2
             }
            },
            "type": "bar"
           }
          ],
          "barpolar": [
           {
            "marker": {
             "line": {
              "color": "#E5ECF6",
              "width": 0.5
             },
             "pattern": {
              "fillmode": "overlay",
              "size": 10,
              "solidity": 0.2
             }
            },
            "type": "barpolar"
           }
          ],
          "carpet": [
           {
            "aaxis": {
             "endlinecolor": "#2a3f5f",
             "gridcolor": "white",
             "linecolor": "white",
             "minorgridcolor": "white",
             "startlinecolor": "#2a3f5f"
            },
            "baxis": {
             "endlinecolor": "#2a3f5f",
             "gridcolor": "white",
             "linecolor": "white",
             "minorgridcolor": "white",
             "startlinecolor": "#2a3f5f"
            },
            "type": "carpet"
           }
          ],
          "choropleth": [
           {
            "colorbar": {
             "outlinewidth": 0,
             "ticks": ""
            },
            "type": "choropleth"
           }
          ],
          "contour": [
           {
            "colorbar": {
             "outlinewidth": 0,
             "ticks": ""
            },
            "colorscale": [
             [
              0,
              "#0d0887"
             ],
             [
              0.1111111111111111,
              "#46039f"
             ],
             [
              0.2222222222222222,
              "#7201a8"
             ],
             [
              0.3333333333333333,
              "#9c179e"
             ],
             [
              0.4444444444444444,
              "#bd3786"
             ],
             [
              0.5555555555555556,
              "#d8576b"
             ],
             [
              0.6666666666666666,
              "#ed7953"
             ],
             [
              0.7777777777777778,
              "#fb9f3a"
             ],
             [
              0.8888888888888888,
              "#fdca26"
             ],
             [
              1,
              "#f0f921"
             ]
            ],
            "type": "contour"
           }
          ],
          "contourcarpet": [
           {
            "colorbar": {
             "outlinewidth": 0,
             "ticks": ""
            },
            "type": "contourcarpet"
           }
          ],
          "heatmap": [
           {
            "colorbar": {
             "outlinewidth": 0,
             "ticks": ""
            },
            "colorscale": [
             [
              0,
              "#0d0887"
             ],
             [
              0.1111111111111111,
              "#46039f"
             ],
             [
              0.2222222222222222,
              "#7201a8"
             ],
             [
              0.3333333333333333,
              "#9c179e"
             ],
             [
              0.4444444444444444,
              "#bd3786"
             ],
             [
              0.5555555555555556,
              "#d8576b"
             ],
             [
              0.6666666666666666,
              "#ed7953"
             ],
             [
              0.7777777777777778,
              "#fb9f3a"
             ],
             [
              0.8888888888888888,
              "#fdca26"
             ],
             [
              1,
              "#f0f921"
             ]
            ],
            "type": "heatmap"
           }
          ],
          "heatmapgl": [
           {
            "colorbar": {
             "outlinewidth": 0,
             "ticks": ""
            },
            "colorscale": [
             [
              0,
              "#0d0887"
             ],
             [
              0.1111111111111111,
              "#46039f"
             ],
             [
              0.2222222222222222,
              "#7201a8"
             ],
             [
              0.3333333333333333,
              "#9c179e"
             ],
             [
              0.4444444444444444,
              "#bd3786"
             ],
             [
              0.5555555555555556,
              "#d8576b"
             ],
             [
              0.6666666666666666,
              "#ed7953"
             ],
             [
              0.7777777777777778,
              "#fb9f3a"
             ],
             [
              0.8888888888888888,
              "#fdca26"
             ],
             [
              1,
              "#f0f921"
             ]
            ],
            "type": "heatmapgl"
           }
          ],
          "histogram": [
           {
            "marker": {
             "pattern": {
              "fillmode": "overlay",
              "size": 10,
              "solidity": 0.2
             }
            },
            "type": "histogram"
           }
          ],
          "histogram2d": [
           {
            "colorbar": {
             "outlinewidth": 0,
             "ticks": ""
            },
            "colorscale": [
             [
              0,
              "#0d0887"
             ],
             [
              0.1111111111111111,
              "#46039f"
             ],
             [
              0.2222222222222222,
              "#7201a8"
             ],
             [
              0.3333333333333333,
              "#9c179e"
             ],
             [
              0.4444444444444444,
              "#bd3786"
             ],
             [
              0.5555555555555556,
              "#d8576b"
             ],
             [
              0.6666666666666666,
              "#ed7953"
             ],
             [
              0.7777777777777778,
              "#fb9f3a"
             ],
             [
              0.8888888888888888,
              "#fdca26"
             ],
             [
              1,
              "#f0f921"
             ]
            ],
            "type": "histogram2d"
           }
          ],
          "histogram2dcontour": [
           {
            "colorbar": {
             "outlinewidth": 0,
             "ticks": ""
            },
            "colorscale": [
             [
              0,
              "#0d0887"
             ],
             [
              0.1111111111111111,
              "#46039f"
             ],
             [
              0.2222222222222222,
              "#7201a8"
             ],
             [
              0.3333333333333333,
              "#9c179e"
             ],
             [
              0.4444444444444444,
              "#bd3786"
             ],
             [
              0.5555555555555556,
              "#d8576b"
             ],
             [
              0.6666666666666666,
              "#ed7953"
             ],
             [
              0.7777777777777778,
              "#fb9f3a"
             ],
             [
              0.8888888888888888,
              "#fdca26"
             ],
             [
              1,
              "#f0f921"
             ]
            ],
            "type": "histogram2dcontour"
           }
          ],
          "mesh3d": [
           {
            "colorbar": {
             "outlinewidth": 0,
             "ticks": ""
            },
            "type": "mesh3d"
           }
          ],
          "parcoords": [
           {
            "line": {
             "colorbar": {
              "outlinewidth": 0,
              "ticks": ""
             }
            },
            "type": "parcoords"
           }
          ],
          "pie": [
           {
            "automargin": true,
            "type": "pie"
           }
          ],
          "scatter": [
           {
            "fillpattern": {
             "fillmode": "overlay",
             "size": 10,
             "solidity": 0.2
            },
            "type": "scatter"
           }
          ],
          "scatter3d": [
           {
            "line": {
             "colorbar": {
              "outlinewidth": 0,
              "ticks": ""
             }
            },
            "marker": {
             "colorbar": {
              "outlinewidth": 0,
              "ticks": ""
             }
            },
            "type": "scatter3d"
           }
          ],
          "scattercarpet": [
           {
            "marker": {
             "colorbar": {
              "outlinewidth": 0,
              "ticks": ""
             }
            },
            "type": "scattercarpet"
           }
          ],
          "scattergeo": [
           {
            "marker": {
             "colorbar": {
              "outlinewidth": 0,
              "ticks": ""
             }
            },
            "type": "scattergeo"
           }
          ],
          "scattergl": [
           {
            "marker": {
             "colorbar": {
              "outlinewidth": 0,
              "ticks": ""
             }
            },
            "type": "scattergl"
           }
          ],
          "scattermapbox": [
           {
            "marker": {
             "colorbar": {
              "outlinewidth": 0,
              "ticks": ""
             }
            },
            "type": "scattermapbox"
           }
          ],
          "scatterpolar": [
           {
            "marker": {
             "colorbar": {
              "outlinewidth": 0,
              "ticks": ""
             }
            },
            "type": "scatterpolar"
           }
          ],
          "scatterpolargl": [
           {
            "marker": {
             "colorbar": {
              "outlinewidth": 0,
              "ticks": ""
             }
            },
            "type": "scatterpolargl"
           }
          ],
          "scatterternary": [
           {
            "marker": {
             "colorbar": {
              "outlinewidth": 0,
              "ticks": ""
             }
            },
            "type": "scatterternary"
           }
          ],
          "surface": [
           {
            "colorbar": {
             "outlinewidth": 0,
             "ticks": ""
            },
            "colorscale": [
             [
              0,
              "#0d0887"
             ],
             [
              0.1111111111111111,
              "#46039f"
             ],
             [
              0.2222222222222222,
              "#7201a8"
             ],
             [
              0.3333333333333333,
              "#9c179e"
             ],
             [
              0.4444444444444444,
              "#bd3786"
             ],
             [
              0.5555555555555556,
              "#d8576b"
             ],
             [
              0.6666666666666666,
              "#ed7953"
             ],
             [
              0.7777777777777778,
              "#fb9f3a"
             ],
             [
              0.8888888888888888,
              "#fdca26"
             ],
             [
              1,
              "#f0f921"
             ]
            ],
            "type": "surface"
           }
          ],
          "table": [
           {
            "cells": {
             "fill": {
              "color": "#EBF0F8"
             },
             "line": {
              "color": "white"
             }
            },
            "header": {
             "fill": {
              "color": "#C8D4E3"
             },
             "line": {
              "color": "white"
             }
            },
            "type": "table"
           }
          ]
         },
         "layout": {
          "annotationdefaults": {
           "arrowcolor": "#2a3f5f",
           "arrowhead": 0,
           "arrowwidth": 1
          },
          "autotypenumbers": "strict",
          "coloraxis": {
           "colorbar": {
            "outlinewidth": 0,
            "ticks": ""
           }
          },
          "colorscale": {
           "diverging": [
            [
             0,
             "#8e0152"
            ],
            [
             0.1,
             "#c51b7d"
            ],
            [
             0.2,
             "#de77ae"
            ],
            [
             0.3,
             "#f1b6da"
            ],
            [
             0.4,
             "#fde0ef"
            ],
            [
             0.5,
             "#f7f7f7"
            ],
            [
             0.6,
             "#e6f5d0"
            ],
            [
             0.7,
             "#b8e186"
            ],
            [
             0.8,
             "#7fbc41"
            ],
            [
             0.9,
             "#4d9221"
            ],
            [
             1,
             "#276419"
            ]
           ],
           "sequential": [
            [
             0,
             "#0d0887"
            ],
            [
             0.1111111111111111,
             "#46039f"
            ],
            [
             0.2222222222222222,
             "#7201a8"
            ],
            [
             0.3333333333333333,
             "#9c179e"
            ],
            [
             0.4444444444444444,
             "#bd3786"
            ],
            [
             0.5555555555555556,
             "#d8576b"
            ],
            [
             0.6666666666666666,
             "#ed7953"
            ],
            [
             0.7777777777777778,
             "#fb9f3a"
            ],
            [
             0.8888888888888888,
             "#fdca26"
            ],
            [
             1,
             "#f0f921"
            ]
           ],
           "sequentialminus": [
            [
             0,
             "#0d0887"
            ],
            [
             0.1111111111111111,
             "#46039f"
            ],
            [
             0.2222222222222222,
             "#7201a8"
            ],
            [
             0.3333333333333333,
             "#9c179e"
            ],
            [
             0.4444444444444444,
             "#bd3786"
            ],
            [
             0.5555555555555556,
             "#d8576b"
            ],
            [
             0.6666666666666666,
             "#ed7953"
            ],
            [
             0.7777777777777778,
             "#fb9f3a"
            ],
            [
             0.8888888888888888,
             "#fdca26"
            ],
            [
             1,
             "#f0f921"
            ]
           ]
          },
          "colorway": [
           "#636efa",
           "#EF553B",
           "#00cc96",
           "#ab63fa",
           "#FFA15A",
           "#19d3f3",
           "#FF6692",
           "#B6E880",
           "#FF97FF",
           "#FECB52"
          ],
          "font": {
           "color": "#2a3f5f"
          },
          "geo": {
           "bgcolor": "white",
           "lakecolor": "white",
           "landcolor": "#E5ECF6",
           "showlakes": true,
           "showland": true,
           "subunitcolor": "white"
          },
          "hoverlabel": {
           "align": "left"
          },
          "hovermode": "closest",
          "mapbox": {
           "style": "light"
          },
          "paper_bgcolor": "white",
          "plot_bgcolor": "#E5ECF6",
          "polar": {
           "angularaxis": {
            "gridcolor": "white",
            "linecolor": "white",
            "ticks": ""
           },
           "bgcolor": "#E5ECF6",
           "radialaxis": {
            "gridcolor": "white",
            "linecolor": "white",
            "ticks": ""
           }
          },
          "scene": {
           "xaxis": {
            "backgroundcolor": "#E5ECF6",
            "gridcolor": "white",
            "gridwidth": 2,
            "linecolor": "white",
            "showbackground": true,
            "ticks": "",
            "zerolinecolor": "white"
           },
           "yaxis": {
            "backgroundcolor": "#E5ECF6",
            "gridcolor": "white",
            "gridwidth": 2,
            "linecolor": "white",
            "showbackground": true,
            "ticks": "",
            "zerolinecolor": "white"
           },
           "zaxis": {
            "backgroundcolor": "#E5ECF6",
            "gridcolor": "white",
            "gridwidth": 2,
            "linecolor": "white",
            "showbackground": true,
            "ticks": "",
            "zerolinecolor": "white"
           }
          },
          "shapedefaults": {
           "line": {
            "color": "#2a3f5f"
           }
          },
          "ternary": {
           "aaxis": {
            "gridcolor": "white",
            "linecolor": "white",
            "ticks": ""
           },
           "baxis": {
            "gridcolor": "white",
            "linecolor": "white",
            "ticks": ""
           },
           "bgcolor": "#E5ECF6",
           "caxis": {
            "gridcolor": "white",
            "linecolor": "white",
            "ticks": ""
           }
          },
          "title": {
           "x": 0.05
          },
          "xaxis": {
           "automargin": true,
           "gridcolor": "white",
           "linecolor": "white",
           "ticks": "",
           "title": {
            "standoff": 15
           },
           "zerolinecolor": "white",
           "zerolinewidth": 2
          },
          "yaxis": {
           "automargin": true,
           "gridcolor": "white",
           "linecolor": "white",
           "ticks": "",
           "title": {
            "standoff": 15
           },
           "zerolinecolor": "white",
           "zerolinewidth": 2
          }
         }
        }
       }
      }
     },
     "metadata": {},
     "output_type": "display_data"
    },
    {
     "data": {
      "application/vnd.plotly.v1+json": {
       "config": {
        "plotlyServerURL": "https://plot.ly"
       },
       "data": [
        {
         "mode": "lines",
         "name": "a^(5)",
         "type": "scatter",
         "x": [
          1,
          1.0909090909090908,
          1.1818181818181819,
          1.2727272727272727,
          1.3636363636363638,
          1.4545454545454546,
          1.5454545454545454,
          1.6363636363636362,
          1.7272727272727273,
          1.8181818181818183,
          1.9090909090909092,
          2,
          2.090909090909091,
          2.1818181818181817,
          2.2727272727272725,
          2.3636363636363638,
          2.4545454545454546,
          2.5454545454545454,
          2.6363636363636367,
          2.7272727272727275,
          2.8181818181818183,
          2.909090909090909,
          3,
          3.090909090909091,
          3.1818181818181817,
          3.272727272727273,
          3.3636363636363638,
          3.4545454545454546,
          3.5454545454545454,
          3.6363636363636362,
          3.7272727272727275,
          3.8181818181818183,
          3.909090909090909,
          4,
          4.090909090909091,
          4.181818181818182,
          4.272727272727273,
          4.363636363636363,
          4.454545454545455,
          4.545454545454545,
          4.636363636363637,
          4.7272727272727275,
          4.818181818181818,
          4.909090909090909,
          5,
          5.090909090909091,
          5.181818181818182,
          5.2727272727272725,
          5.363636363636363,
          5.454545454545455,
          5.545454545454546,
          5.636363636363637,
          5.7272727272727275,
          5.818181818181818,
          5.909090909090909,
          6,
          6.090909090909091,
          6.181818181818182,
          6.2727272727272725,
          6.363636363636364,
          6.454545454545455,
          6.545454545454546,
          6.636363636363637,
          6.7272727272727275,
          6.818181818181818,
          6.909090909090909,
          7,
          7.090909090909091,
          7.181818181818182,
          7.2727272727272725,
          7.363636363636364,
          7.454545454545455,
          7.545454545454546,
          7.636363636363637,
          7.7272727272727275,
          7.818181818181818,
          7.909090909090909,
          8,
          8.09090909090909,
          8.181818181818182,
          8.272727272727273,
          8.363636363636363,
          8.454545454545455,
          8.545454545454547,
          8.636363636363637,
          8.727272727272727,
          8.818181818181818,
          8.90909090909091,
          9,
          9.090909090909092,
          9.181818181818182,
          9.272727272727273,
          9.363636363636363,
          9.454545454545455,
          9.545454545454545,
          9.636363636363637,
          9.727272727272727,
          9.818181818181818,
          9.90909090909091,
          10
         ],
         "y": [
          1,
          1.5450509465945563,
          2.30543740802603,
          3.3394638965296704,
          4.7151212969804615,
          6.5108319724807675,
          8.816194869948028,
          11.732730625702413,
          15.37462667105451,
          19.869482337892975,
          25.359053964272192,
          32,
          39.96462611222531,
          49.4416302910258,
          60.63684795499559,
          73.77399705683295,
          89.09542318892774,
          106.86284468894945,
          127.35809774543475,
          150.88388150337477,
          177.76450316980342,
          208.34662311938456,
          243,
          282.1182358383369,
          326.1195211454756,
          375.4473800224775,
          430.5714152659717,
          491.98805347374434,
          560.221290150325,
          635.8234348125748,
          719.3758560952745,
          811.4897268567101,
          912.8067692842641,
          1024,
          1145.7744751662515,
          1278.86803559121,
          1424.0520518345131,
          1582.1321693128257,
          1753.949053405444,
          1940.3791345598588,
          2142.335353397372,
          2360.7679058186545,
          2596.664988109357,
          2851.0535420456877,
          3125,
          3419.6110300463824,
          3736.0342810662455,
          4075.4591278539087,
          4439.117416222189,
          4828.2842081079925,
          5244.2785266778865,
          5688.464101433709,
          6162.250113318143,
          6667.091939820306,
          7204.491900081342,
          7776,
          8383.214677338234,
          9027.78354682678,
          9711.404145270752,
          10435.824676655226,
          11202.844757250812,
          12014.31616071928,
          12872.143563219108,
          13778.285288511095,
          14734.754053063938,
          15743.617711159819,
          16807,
          17927.0812848104,
          19106.099303947194,
          20346.349914002392,
          21650.187834909448,
          23020.027395048783,
          24458.34327635346,
          25967.671259414725,
          27550.608968587596,
          29209.81661709645,
          30948.01775214063,
          32768,
          34672.61581114055,
          36664.78320532005,
          38747.48651669348,
          40923.77713891872,
          43196.77427026223,
          45569.66565870442,
          48045.70834704536,
          50628.22941801042,
          53320.62673935586,
          56126.369708974205,
          59049,
          62092.13230591555,
          65259.45508565609,
          68554.7313087159,
          71981.79920025333,
          75544.57298619694,
          79247.04363835056,
          83093.27961949943,
          87087.42762851516,
          91233.713345462,
          95536.44217670184,
          100000
         ]
        }
       ],
       "layout": {
        "template": {
         "data": {
          "bar": [
           {
            "error_x": {
             "color": "#2a3f5f"
            },
            "error_y": {
             "color": "#2a3f5f"
            },
            "marker": {
             "line": {
              "color": "#E5ECF6",
              "width": 0.5
             },
             "pattern": {
              "fillmode": "overlay",
              "size": 10,
              "solidity": 0.2
             }
            },
            "type": "bar"
           }
          ],
          "barpolar": [
           {
            "marker": {
             "line": {
              "color": "#E5ECF6",
              "width": 0.5
             },
             "pattern": {
              "fillmode": "overlay",
              "size": 10,
              "solidity": 0.2
             }
            },
            "type": "barpolar"
           }
          ],
          "carpet": [
           {
            "aaxis": {
             "endlinecolor": "#2a3f5f",
             "gridcolor": "white",
             "linecolor": "white",
             "minorgridcolor": "white",
             "startlinecolor": "#2a3f5f"
            },
            "baxis": {
             "endlinecolor": "#2a3f5f",
             "gridcolor": "white",
             "linecolor": "white",
             "minorgridcolor": "white",
             "startlinecolor": "#2a3f5f"
            },
            "type": "carpet"
           }
          ],
          "choropleth": [
           {
            "colorbar": {
             "outlinewidth": 0,
             "ticks": ""
            },
            "type": "choropleth"
           }
          ],
          "contour": [
           {
            "colorbar": {
             "outlinewidth": 0,
             "ticks": ""
            },
            "colorscale": [
             [
              0,
              "#0d0887"
             ],
             [
              0.1111111111111111,
              "#46039f"
             ],
             [
              0.2222222222222222,
              "#7201a8"
             ],
             [
              0.3333333333333333,
              "#9c179e"
             ],
             [
              0.4444444444444444,
              "#bd3786"
             ],
             [
              0.5555555555555556,
              "#d8576b"
             ],
             [
              0.6666666666666666,
              "#ed7953"
             ],
             [
              0.7777777777777778,
              "#fb9f3a"
             ],
             [
              0.8888888888888888,
              "#fdca26"
             ],
             [
              1,
              "#f0f921"
             ]
            ],
            "type": "contour"
           }
          ],
          "contourcarpet": [
           {
            "colorbar": {
             "outlinewidth": 0,
             "ticks": ""
            },
            "type": "contourcarpet"
           }
          ],
          "heatmap": [
           {
            "colorbar": {
             "outlinewidth": 0,
             "ticks": ""
            },
            "colorscale": [
             [
              0,
              "#0d0887"
             ],
             [
              0.1111111111111111,
              "#46039f"
             ],
             [
              0.2222222222222222,
              "#7201a8"
             ],
             [
              0.3333333333333333,
              "#9c179e"
             ],
             [
              0.4444444444444444,
              "#bd3786"
             ],
             [
              0.5555555555555556,
              "#d8576b"
             ],
             [
              0.6666666666666666,
              "#ed7953"
             ],
             [
              0.7777777777777778,
              "#fb9f3a"
             ],
             [
              0.8888888888888888,
              "#fdca26"
             ],
             [
              1,
              "#f0f921"
             ]
            ],
            "type": "heatmap"
           }
          ],
          "heatmapgl": [
           {
            "colorbar": {
             "outlinewidth": 0,
             "ticks": ""
            },
            "colorscale": [
             [
              0,
              "#0d0887"
             ],
             [
              0.1111111111111111,
              "#46039f"
             ],
             [
              0.2222222222222222,
              "#7201a8"
             ],
             [
              0.3333333333333333,
              "#9c179e"
             ],
             [
              0.4444444444444444,
              "#bd3786"
             ],
             [
              0.5555555555555556,
              "#d8576b"
             ],
             [
              0.6666666666666666,
              "#ed7953"
             ],
             [
              0.7777777777777778,
              "#fb9f3a"
             ],
             [
              0.8888888888888888,
              "#fdca26"
             ],
             [
              1,
              "#f0f921"
             ]
            ],
            "type": "heatmapgl"
           }
          ],
          "histogram": [
           {
            "marker": {
             "pattern": {
              "fillmode": "overlay",
              "size": 10,
              "solidity": 0.2
             }
            },
            "type": "histogram"
           }
          ],
          "histogram2d": [
           {
            "colorbar": {
             "outlinewidth": 0,
             "ticks": ""
            },
            "colorscale": [
             [
              0,
              "#0d0887"
             ],
             [
              0.1111111111111111,
              "#46039f"
             ],
             [
              0.2222222222222222,
              "#7201a8"
             ],
             [
              0.3333333333333333,
              "#9c179e"
             ],
             [
              0.4444444444444444,
              "#bd3786"
             ],
             [
              0.5555555555555556,
              "#d8576b"
             ],
             [
              0.6666666666666666,
              "#ed7953"
             ],
             [
              0.7777777777777778,
              "#fb9f3a"
             ],
             [
              0.8888888888888888,
              "#fdca26"
             ],
             [
              1,
              "#f0f921"
             ]
            ],
            "type": "histogram2d"
           }
          ],
          "histogram2dcontour": [
           {
            "colorbar": {
             "outlinewidth": 0,
             "ticks": ""
            },
            "colorscale": [
             [
              0,
              "#0d0887"
             ],
             [
              0.1111111111111111,
              "#46039f"
             ],
             [
              0.2222222222222222,
              "#7201a8"
             ],
             [
              0.3333333333333333,
              "#9c179e"
             ],
             [
              0.4444444444444444,
              "#bd3786"
             ],
             [
              0.5555555555555556,
              "#d8576b"
             ],
             [
              0.6666666666666666,
              "#ed7953"
             ],
             [
              0.7777777777777778,
              "#fb9f3a"
             ],
             [
              0.8888888888888888,
              "#fdca26"
             ],
             [
              1,
              "#f0f921"
             ]
            ],
            "type": "histogram2dcontour"
           }
          ],
          "mesh3d": [
           {
            "colorbar": {
             "outlinewidth": 0,
             "ticks": ""
            },
            "type": "mesh3d"
           }
          ],
          "parcoords": [
           {
            "line": {
             "colorbar": {
              "outlinewidth": 0,
              "ticks": ""
             }
            },
            "type": "parcoords"
           }
          ],
          "pie": [
           {
            "automargin": true,
            "type": "pie"
           }
          ],
          "scatter": [
           {
            "fillpattern": {
             "fillmode": "overlay",
             "size": 10,
             "solidity": 0.2
            },
            "type": "scatter"
           }
          ],
          "scatter3d": [
           {
            "line": {
             "colorbar": {
              "outlinewidth": 0,
              "ticks": ""
             }
            },
            "marker": {
             "colorbar": {
              "outlinewidth": 0,
              "ticks": ""
             }
            },
            "type": "scatter3d"
           }
          ],
          "scattercarpet": [
           {
            "marker": {
             "colorbar": {
              "outlinewidth": 0,
              "ticks": ""
             }
            },
            "type": "scattercarpet"
           }
          ],
          "scattergeo": [
           {
            "marker": {
             "colorbar": {
              "outlinewidth": 0,
              "ticks": ""
             }
            },
            "type": "scattergeo"
           }
          ],
          "scattergl": [
           {
            "marker": {
             "colorbar": {
              "outlinewidth": 0,
              "ticks": ""
             }
            },
            "type": "scattergl"
           }
          ],
          "scattermapbox": [
           {
            "marker": {
             "colorbar": {
              "outlinewidth": 0,
              "ticks": ""
             }
            },
            "type": "scattermapbox"
           }
          ],
          "scatterpolar": [
           {
            "marker": {
             "colorbar": {
              "outlinewidth": 0,
              "ticks": ""
             }
            },
            "type": "scatterpolar"
           }
          ],
          "scatterpolargl": [
           {
            "marker": {
             "colorbar": {
              "outlinewidth": 0,
              "ticks": ""
             }
            },
            "type": "scatterpolargl"
           }
          ],
          "scatterternary": [
           {
            "marker": {
             "colorbar": {
              "outlinewidth": 0,
              "ticks": ""
             }
            },
            "type": "scatterternary"
           }
          ],
          "surface": [
           {
            "colorbar": {
             "outlinewidth": 0,
             "ticks": ""
            },
            "colorscale": [
             [
              0,
              "#0d0887"
             ],
             [
              0.1111111111111111,
              "#46039f"
             ],
             [
              0.2222222222222222,
              "#7201a8"
             ],
             [
              0.3333333333333333,
              "#9c179e"
             ],
             [
              0.4444444444444444,
              "#bd3786"
             ],
             [
              0.5555555555555556,
              "#d8576b"
             ],
             [
              0.6666666666666666,
              "#ed7953"
             ],
             [
              0.7777777777777778,
              "#fb9f3a"
             ],
             [
              0.8888888888888888,
              "#fdca26"
             ],
             [
              1,
              "#f0f921"
             ]
            ],
            "type": "surface"
           }
          ],
          "table": [
           {
            "cells": {
             "fill": {
              "color": "#EBF0F8"
             },
             "line": {
              "color": "white"
             }
            },
            "header": {
             "fill": {
              "color": "#C8D4E3"
             },
             "line": {
              "color": "white"
             }
            },
            "type": "table"
           }
          ]
         },
         "layout": {
          "annotationdefaults": {
           "arrowcolor": "#2a3f5f",
           "arrowhead": 0,
           "arrowwidth": 1
          },
          "autotypenumbers": "strict",
          "coloraxis": {
           "colorbar": {
            "outlinewidth": 0,
            "ticks": ""
           }
          },
          "colorscale": {
           "diverging": [
            [
             0,
             "#8e0152"
            ],
            [
             0.1,
             "#c51b7d"
            ],
            [
             0.2,
             "#de77ae"
            ],
            [
             0.3,
             "#f1b6da"
            ],
            [
             0.4,
             "#fde0ef"
            ],
            [
             0.5,
             "#f7f7f7"
            ],
            [
             0.6,
             "#e6f5d0"
            ],
            [
             0.7,
             "#b8e186"
            ],
            [
             0.8,
             "#7fbc41"
            ],
            [
             0.9,
             "#4d9221"
            ],
            [
             1,
             "#276419"
            ]
           ],
           "sequential": [
            [
             0,
             "#0d0887"
            ],
            [
             0.1111111111111111,
             "#46039f"
            ],
            [
             0.2222222222222222,
             "#7201a8"
            ],
            [
             0.3333333333333333,
             "#9c179e"
            ],
            [
             0.4444444444444444,
             "#bd3786"
            ],
            [
             0.5555555555555556,
             "#d8576b"
            ],
            [
             0.6666666666666666,
             "#ed7953"
            ],
            [
             0.7777777777777778,
             "#fb9f3a"
            ],
            [
             0.8888888888888888,
             "#fdca26"
            ],
            [
             1,
             "#f0f921"
            ]
           ],
           "sequentialminus": [
            [
             0,
             "#0d0887"
            ],
            [
             0.1111111111111111,
             "#46039f"
            ],
            [
             0.2222222222222222,
             "#7201a8"
            ],
            [
             0.3333333333333333,
             "#9c179e"
            ],
            [
             0.4444444444444444,
             "#bd3786"
            ],
            [
             0.5555555555555556,
             "#d8576b"
            ],
            [
             0.6666666666666666,
             "#ed7953"
            ],
            [
             0.7777777777777778,
             "#fb9f3a"
            ],
            [
             0.8888888888888888,
             "#fdca26"
            ],
            [
             1,
             "#f0f921"
            ]
           ]
          },
          "colorway": [
           "#636efa",
           "#EF553B",
           "#00cc96",
           "#ab63fa",
           "#FFA15A",
           "#19d3f3",
           "#FF6692",
           "#B6E880",
           "#FF97FF",
           "#FECB52"
          ],
          "font": {
           "color": "#2a3f5f"
          },
          "geo": {
           "bgcolor": "white",
           "lakecolor": "white",
           "landcolor": "#E5ECF6",
           "showlakes": true,
           "showland": true,
           "subunitcolor": "white"
          },
          "hoverlabel": {
           "align": "left"
          },
          "hovermode": "closest",
          "mapbox": {
           "style": "light"
          },
          "paper_bgcolor": "white",
          "plot_bgcolor": "#E5ECF6",
          "polar": {
           "angularaxis": {
            "gridcolor": "white",
            "linecolor": "white",
            "ticks": ""
           },
           "bgcolor": "#E5ECF6",
           "radialaxis": {
            "gridcolor": "white",
            "linecolor": "white",
            "ticks": ""
           }
          },
          "scene": {
           "xaxis": {
            "backgroundcolor": "#E5ECF6",
            "gridcolor": "white",
            "gridwidth": 2,
            "linecolor": "white",
            "showbackground": true,
            "ticks": "",
            "zerolinecolor": "white"
           },
           "yaxis": {
            "backgroundcolor": "#E5ECF6",
            "gridcolor": "white",
            "gridwidth": 2,
            "linecolor": "white",
            "showbackground": true,
            "ticks": "",
            "zerolinecolor": "white"
           },
           "zaxis": {
            "backgroundcolor": "#E5ECF6",
            "gridcolor": "white",
            "gridwidth": 2,
            "linecolor": "white",
            "showbackground": true,
            "ticks": "",
            "zerolinecolor": "white"
           }
          },
          "shapedefaults": {
           "line": {
            "color": "#2a3f5f"
           }
          },
          "ternary": {
           "aaxis": {
            "gridcolor": "white",
            "linecolor": "white",
            "ticks": ""
           },
           "baxis": {
            "gridcolor": "white",
            "linecolor": "white",
            "ticks": ""
           },
           "bgcolor": "#E5ECF6",
           "caxis": {
            "gridcolor": "white",
            "linecolor": "white",
            "ticks": ""
           }
          },
          "title": {
           "x": 0.05
          },
          "xaxis": {
           "automargin": true,
           "gridcolor": "white",
           "linecolor": "white",
           "ticks": "",
           "title": {
            "standoff": 15
           },
           "zerolinecolor": "white",
           "zerolinewidth": 2
          },
          "yaxis": {
           "automargin": true,
           "gridcolor": "white",
           "linecolor": "white",
           "ticks": "",
           "title": {
            "standoff": 15
           },
           "zerolinecolor": "white",
           "zerolinewidth": 2
          }
         }
        }
       }
      }
     },
     "metadata": {},
     "output_type": "display_data"
    },
    {
     "data": {
      "application/vnd.plotly.v1+json": {
       "config": {
        "plotlyServerURL": "https://plot.ly"
       },
       "data": [
        {
         "mode": "lines",
         "name": "a^(6)",
         "type": "scatter",
         "x": [
          1,
          1.0909090909090908,
          1.1818181818181819,
          1.2727272727272727,
          1.3636363636363638,
          1.4545454545454546,
          1.5454545454545454,
          1.6363636363636362,
          1.7272727272727273,
          1.8181818181818183,
          1.9090909090909092,
          2,
          2.090909090909091,
          2.1818181818181817,
          2.2727272727272725,
          2.3636363636363638,
          2.4545454545454546,
          2.5454545454545454,
          2.6363636363636367,
          2.7272727272727275,
          2.8181818181818183,
          2.909090909090909,
          3,
          3.090909090909091,
          3.1818181818181817,
          3.272727272727273,
          3.3636363636363638,
          3.4545454545454546,
          3.5454545454545454,
          3.6363636363636362,
          3.7272727272727275,
          3.8181818181818183,
          3.909090909090909,
          4,
          4.090909090909091,
          4.181818181818182,
          4.272727272727273,
          4.363636363636363,
          4.454545454545455,
          4.545454545454545,
          4.636363636363637,
          4.7272727272727275,
          4.818181818181818,
          4.909090909090909,
          5,
          5.090909090909091,
          5.181818181818182,
          5.2727272727272725,
          5.363636363636363,
          5.454545454545455,
          5.545454545454546,
          5.636363636363637,
          5.7272727272727275,
          5.818181818181818,
          5.909090909090909,
          6,
          6.090909090909091,
          6.181818181818182,
          6.2727272727272725,
          6.363636363636364,
          6.454545454545455,
          6.545454545454546,
          6.636363636363637,
          6.7272727272727275,
          6.818181818181818,
          6.909090909090909,
          7,
          7.090909090909091,
          7.181818181818182,
          7.2727272727272725,
          7.363636363636364,
          7.454545454545455,
          7.545454545454546,
          7.636363636363637,
          7.7272727272727275,
          7.818181818181818,
          7.909090909090909,
          8,
          8.09090909090909,
          8.181818181818182,
          8.272727272727273,
          8.363636363636363,
          8.454545454545455,
          8.545454545454547,
          8.636363636363637,
          8.727272727272727,
          8.818181818181818,
          8.90909090909091,
          9,
          9.090909090909092,
          9.181818181818182,
          9.272727272727273,
          9.363636363636363,
          9.454545454545455,
          9.545454545454545,
          9.636363636363637,
          9.727272727272727,
          9.818181818181818,
          9.90909090909091,
          10
         ],
         "y": [
          1,
          1.6855101235576977,
          2.7246078458489444,
          4.250226777401399,
          6.429710859518812,
          9.470301050881117,
          13.625028435374224,
          19.1990137511494,
          26.556173340912338,
          36.12633152344178,
          48.412739386337826,
          64,
          83.56240005283475,
          107.87264790769265,
          137.81101807953542,
          174.37490213433244,
          218.68876600918628,
          272.0145137536895,
          335.7622576925098,
          411.50149500920395,
          500.97269075126417,
          606.0992672563915,
          729,
          872.0018198639503,
          1037.6530218265132,
          1228.7368800735626,
          1448.2856695309958,
          1699.5950938183896,
          1986.2391196238796,
          2312.085217500272,
          2681.3100090823864,
          3098.415320725621,
          3568.24464356576,
          4096,
          4687.259216589211,
          5347.993603381424,
          6084.586039656557,
          6903.84946609233,
          7813.045783351524,
          8819.905157090267,
          9932.645729387816,
          11159.993736597276,
          12511.204033617812,
          13996.081024587922,
          15625,
          17408.92888023613,
          19359.45036552509,
          21488.78449232061,
          23809.81159610083,
          26336.095680589053,
          29081.908193395553,
          32062.252208080907,
          35292.887012640276,
          38790.353104409056,
          42571.99759138974,
          46656,
          51061.39848924197,
          55808.11647129282,
          60916.98963851653,
          66409.7933968969,
          72309.27070589161,
          78639.160324708,
          85424.22546499953,
          92690.28284998373,
          100464.2321799814,
          108774.08600437694,
          117649,
          127119.30365592829,
          137216.53136471167,
          147973.4539200174,
          159424.11042069684,
          171603.84058127273,
          184549.31744884883,
          198298.58052643973,
          212891.06930272232,
          228367.65718820863,
          244770.6858578395,
          262144,
          280532.9824719553,
          299984.5898617095,
          320547.3884562825,
          342271.5906164111,
          365209.0915576716,
          389413.50653801963,
          414940.20845175534,
          441846.3658299091,
          470190.98124704714,
          500034.9301344975,
          531441,
          564473.9300537778,
          599200.4512410241,
          635689.3266808202,
          674011.3925114629,
          714239.5991422257,
          756449.052911528,
          800717.05815154,
          847123.1596591929,
          895749.185573627,
          946679.2906600456,
          1000000
         ]
        }
       ],
       "layout": {
        "template": {
         "data": {
          "bar": [
           {
            "error_x": {
             "color": "#2a3f5f"
            },
            "error_y": {
             "color": "#2a3f5f"
            },
            "marker": {
             "line": {
              "color": "#E5ECF6",
              "width": 0.5
             },
             "pattern": {
              "fillmode": "overlay",
              "size": 10,
              "solidity": 0.2
             }
            },
            "type": "bar"
           }
          ],
          "barpolar": [
           {
            "marker": {
             "line": {
              "color": "#E5ECF6",
              "width": 0.5
             },
             "pattern": {
              "fillmode": "overlay",
              "size": 10,
              "solidity": 0.2
             }
            },
            "type": "barpolar"
           }
          ],
          "carpet": [
           {
            "aaxis": {
             "endlinecolor": "#2a3f5f",
             "gridcolor": "white",
             "linecolor": "white",
             "minorgridcolor": "white",
             "startlinecolor": "#2a3f5f"
            },
            "baxis": {
             "endlinecolor": "#2a3f5f",
             "gridcolor": "white",
             "linecolor": "white",
             "minorgridcolor": "white",
             "startlinecolor": "#2a3f5f"
            },
            "type": "carpet"
           }
          ],
          "choropleth": [
           {
            "colorbar": {
             "outlinewidth": 0,
             "ticks": ""
            },
            "type": "choropleth"
           }
          ],
          "contour": [
           {
            "colorbar": {
             "outlinewidth": 0,
             "ticks": ""
            },
            "colorscale": [
             [
              0,
              "#0d0887"
             ],
             [
              0.1111111111111111,
              "#46039f"
             ],
             [
              0.2222222222222222,
              "#7201a8"
             ],
             [
              0.3333333333333333,
              "#9c179e"
             ],
             [
              0.4444444444444444,
              "#bd3786"
             ],
             [
              0.5555555555555556,
              "#d8576b"
             ],
             [
              0.6666666666666666,
              "#ed7953"
             ],
             [
              0.7777777777777778,
              "#fb9f3a"
             ],
             [
              0.8888888888888888,
              "#fdca26"
             ],
             [
              1,
              "#f0f921"
             ]
            ],
            "type": "contour"
           }
          ],
          "contourcarpet": [
           {
            "colorbar": {
             "outlinewidth": 0,
             "ticks": ""
            },
            "type": "contourcarpet"
           }
          ],
          "heatmap": [
           {
            "colorbar": {
             "outlinewidth": 0,
             "ticks": ""
            },
            "colorscale": [
             [
              0,
              "#0d0887"
             ],
             [
              0.1111111111111111,
              "#46039f"
             ],
             [
              0.2222222222222222,
              "#7201a8"
             ],
             [
              0.3333333333333333,
              "#9c179e"
             ],
             [
              0.4444444444444444,
              "#bd3786"
             ],
             [
              0.5555555555555556,
              "#d8576b"
             ],
             [
              0.6666666666666666,
              "#ed7953"
             ],
             [
              0.7777777777777778,
              "#fb9f3a"
             ],
             [
              0.8888888888888888,
              "#fdca26"
             ],
             [
              1,
              "#f0f921"
             ]
            ],
            "type": "heatmap"
           }
          ],
          "heatmapgl": [
           {
            "colorbar": {
             "outlinewidth": 0,
             "ticks": ""
            },
            "colorscale": [
             [
              0,
              "#0d0887"
             ],
             [
              0.1111111111111111,
              "#46039f"
             ],
             [
              0.2222222222222222,
              "#7201a8"
             ],
             [
              0.3333333333333333,
              "#9c179e"
             ],
             [
              0.4444444444444444,
              "#bd3786"
             ],
             [
              0.5555555555555556,
              "#d8576b"
             ],
             [
              0.6666666666666666,
              "#ed7953"
             ],
             [
              0.7777777777777778,
              "#fb9f3a"
             ],
             [
              0.8888888888888888,
              "#fdca26"
             ],
             [
              1,
              "#f0f921"
             ]
            ],
            "type": "heatmapgl"
           }
          ],
          "histogram": [
           {
            "marker": {
             "pattern": {
              "fillmode": "overlay",
              "size": 10,
              "solidity": 0.2
             }
            },
            "type": "histogram"
           }
          ],
          "histogram2d": [
           {
            "colorbar": {
             "outlinewidth": 0,
             "ticks": ""
            },
            "colorscale": [
             [
              0,
              "#0d0887"
             ],
             [
              0.1111111111111111,
              "#46039f"
             ],
             [
              0.2222222222222222,
              "#7201a8"
             ],
             [
              0.3333333333333333,
              "#9c179e"
             ],
             [
              0.4444444444444444,
              "#bd3786"
             ],
             [
              0.5555555555555556,
              "#d8576b"
             ],
             [
              0.6666666666666666,
              "#ed7953"
             ],
             [
              0.7777777777777778,
              "#fb9f3a"
             ],
             [
              0.8888888888888888,
              "#fdca26"
             ],
             [
              1,
              "#f0f921"
             ]
            ],
            "type": "histogram2d"
           }
          ],
          "histogram2dcontour": [
           {
            "colorbar": {
             "outlinewidth": 0,
             "ticks": ""
            },
            "colorscale": [
             [
              0,
              "#0d0887"
             ],
             [
              0.1111111111111111,
              "#46039f"
             ],
             [
              0.2222222222222222,
              "#7201a8"
             ],
             [
              0.3333333333333333,
              "#9c179e"
             ],
             [
              0.4444444444444444,
              "#bd3786"
             ],
             [
              0.5555555555555556,
              "#d8576b"
             ],
             [
              0.6666666666666666,
              "#ed7953"
             ],
             [
              0.7777777777777778,
              "#fb9f3a"
             ],
             [
              0.8888888888888888,
              "#fdca26"
             ],
             [
              1,
              "#f0f921"
             ]
            ],
            "type": "histogram2dcontour"
           }
          ],
          "mesh3d": [
           {
            "colorbar": {
             "outlinewidth": 0,
             "ticks": ""
            },
            "type": "mesh3d"
           }
          ],
          "parcoords": [
           {
            "line": {
             "colorbar": {
              "outlinewidth": 0,
              "ticks": ""
             }
            },
            "type": "parcoords"
           }
          ],
          "pie": [
           {
            "automargin": true,
            "type": "pie"
           }
          ],
          "scatter": [
           {
            "fillpattern": {
             "fillmode": "overlay",
             "size": 10,
             "solidity": 0.2
            },
            "type": "scatter"
           }
          ],
          "scatter3d": [
           {
            "line": {
             "colorbar": {
              "outlinewidth": 0,
              "ticks": ""
             }
            },
            "marker": {
             "colorbar": {
              "outlinewidth": 0,
              "ticks": ""
             }
            },
            "type": "scatter3d"
           }
          ],
          "scattercarpet": [
           {
            "marker": {
             "colorbar": {
              "outlinewidth": 0,
              "ticks": ""
             }
            },
            "type": "scattercarpet"
           }
          ],
          "scattergeo": [
           {
            "marker": {
             "colorbar": {
              "outlinewidth": 0,
              "ticks": ""
             }
            },
            "type": "scattergeo"
           }
          ],
          "scattergl": [
           {
            "marker": {
             "colorbar": {
              "outlinewidth": 0,
              "ticks": ""
             }
            },
            "type": "scattergl"
           }
          ],
          "scattermapbox": [
           {
            "marker": {
             "colorbar": {
              "outlinewidth": 0,
              "ticks": ""
             }
            },
            "type": "scattermapbox"
           }
          ],
          "scatterpolar": [
           {
            "marker": {
             "colorbar": {
              "outlinewidth": 0,
              "ticks": ""
             }
            },
            "type": "scatterpolar"
           }
          ],
          "scatterpolargl": [
           {
            "marker": {
             "colorbar": {
              "outlinewidth": 0,
              "ticks": ""
             }
            },
            "type": "scatterpolargl"
           }
          ],
          "scatterternary": [
           {
            "marker": {
             "colorbar": {
              "outlinewidth": 0,
              "ticks": ""
             }
            },
            "type": "scatterternary"
           }
          ],
          "surface": [
           {
            "colorbar": {
             "outlinewidth": 0,
             "ticks": ""
            },
            "colorscale": [
             [
              0,
              "#0d0887"
             ],
             [
              0.1111111111111111,
              "#46039f"
             ],
             [
              0.2222222222222222,
              "#7201a8"
             ],
             [
              0.3333333333333333,
              "#9c179e"
             ],
             [
              0.4444444444444444,
              "#bd3786"
             ],
             [
              0.5555555555555556,
              "#d8576b"
             ],
             [
              0.6666666666666666,
              "#ed7953"
             ],
             [
              0.7777777777777778,
              "#fb9f3a"
             ],
             [
              0.8888888888888888,
              "#fdca26"
             ],
             [
              1,
              "#f0f921"
             ]
            ],
            "type": "surface"
           }
          ],
          "table": [
           {
            "cells": {
             "fill": {
              "color": "#EBF0F8"
             },
             "line": {
              "color": "white"
             }
            },
            "header": {
             "fill": {
              "color": "#C8D4E3"
             },
             "line": {
              "color": "white"
             }
            },
            "type": "table"
           }
          ]
         },
         "layout": {
          "annotationdefaults": {
           "arrowcolor": "#2a3f5f",
           "arrowhead": 0,
           "arrowwidth": 1
          },
          "autotypenumbers": "strict",
          "coloraxis": {
           "colorbar": {
            "outlinewidth": 0,
            "ticks": ""
           }
          },
          "colorscale": {
           "diverging": [
            [
             0,
             "#8e0152"
            ],
            [
             0.1,
             "#c51b7d"
            ],
            [
             0.2,
             "#de77ae"
            ],
            [
             0.3,
             "#f1b6da"
            ],
            [
             0.4,
             "#fde0ef"
            ],
            [
             0.5,
             "#f7f7f7"
            ],
            [
             0.6,
             "#e6f5d0"
            ],
            [
             0.7,
             "#b8e186"
            ],
            [
             0.8,
             "#7fbc41"
            ],
            [
             0.9,
             "#4d9221"
            ],
            [
             1,
             "#276419"
            ]
           ],
           "sequential": [
            [
             0,
             "#0d0887"
            ],
            [
             0.1111111111111111,
             "#46039f"
            ],
            [
             0.2222222222222222,
             "#7201a8"
            ],
            [
             0.3333333333333333,
             "#9c179e"
            ],
            [
             0.4444444444444444,
             "#bd3786"
            ],
            [
             0.5555555555555556,
             "#d8576b"
            ],
            [
             0.6666666666666666,
             "#ed7953"
            ],
            [
             0.7777777777777778,
             "#fb9f3a"
            ],
            [
             0.8888888888888888,
             "#fdca26"
            ],
            [
             1,
             "#f0f921"
            ]
           ],
           "sequentialminus": [
            [
             0,
             "#0d0887"
            ],
            [
             0.1111111111111111,
             "#46039f"
            ],
            [
             0.2222222222222222,
             "#7201a8"
            ],
            [
             0.3333333333333333,
             "#9c179e"
            ],
            [
             0.4444444444444444,
             "#bd3786"
            ],
            [
             0.5555555555555556,
             "#d8576b"
            ],
            [
             0.6666666666666666,
             "#ed7953"
            ],
            [
             0.7777777777777778,
             "#fb9f3a"
            ],
            [
             0.8888888888888888,
             "#fdca26"
            ],
            [
             1,
             "#f0f921"
            ]
           ]
          },
          "colorway": [
           "#636efa",
           "#EF553B",
           "#00cc96",
           "#ab63fa",
           "#FFA15A",
           "#19d3f3",
           "#FF6692",
           "#B6E880",
           "#FF97FF",
           "#FECB52"
          ],
          "font": {
           "color": "#2a3f5f"
          },
          "geo": {
           "bgcolor": "white",
           "lakecolor": "white",
           "landcolor": "#E5ECF6",
           "showlakes": true,
           "showland": true,
           "subunitcolor": "white"
          },
          "hoverlabel": {
           "align": "left"
          },
          "hovermode": "closest",
          "mapbox": {
           "style": "light"
          },
          "paper_bgcolor": "white",
          "plot_bgcolor": "#E5ECF6",
          "polar": {
           "angularaxis": {
            "gridcolor": "white",
            "linecolor": "white",
            "ticks": ""
           },
           "bgcolor": "#E5ECF6",
           "radialaxis": {
            "gridcolor": "white",
            "linecolor": "white",
            "ticks": ""
           }
          },
          "scene": {
           "xaxis": {
            "backgroundcolor": "#E5ECF6",
            "gridcolor": "white",
            "gridwidth": 2,
            "linecolor": "white",
            "showbackground": true,
            "ticks": "",
            "zerolinecolor": "white"
           },
           "yaxis": {
            "backgroundcolor": "#E5ECF6",
            "gridcolor": "white",
            "gridwidth": 2,
            "linecolor": "white",
            "showbackground": true,
            "ticks": "",
            "zerolinecolor": "white"
           },
           "zaxis": {
            "backgroundcolor": "#E5ECF6",
            "gridcolor": "white",
            "gridwidth": 2,
            "linecolor": "white",
            "showbackground": true,
            "ticks": "",
            "zerolinecolor": "white"
           }
          },
          "shapedefaults": {
           "line": {
            "color": "#2a3f5f"
           }
          },
          "ternary": {
           "aaxis": {
            "gridcolor": "white",
            "linecolor": "white",
            "ticks": ""
           },
           "baxis": {
            "gridcolor": "white",
            "linecolor": "white",
            "ticks": ""
           },
           "bgcolor": "#E5ECF6",
           "caxis": {
            "gridcolor": "white",
            "linecolor": "white",
            "ticks": ""
           }
          },
          "title": {
           "x": 0.05
          },
          "xaxis": {
           "automargin": true,
           "gridcolor": "white",
           "linecolor": "white",
           "ticks": "",
           "title": {
            "standoff": 15
           },
           "zerolinecolor": "white",
           "zerolinewidth": 2
          },
          "yaxis": {
           "automargin": true,
           "gridcolor": "white",
           "linecolor": "white",
           "ticks": "",
           "title": {
            "standoff": 15
           },
           "zerolinecolor": "white",
           "zerolinewidth": 2
          }
         }
        }
       }
      }
     },
     "metadata": {},
     "output_type": "display_data"
    }
   ],
   "source": [
    "import plotly.graph_objects as go\n",
    "import numpy as np\n",
    "\n",
    "\n",
    "# Example array; replace 'a' with your actual data\n",
    "a = np.linspace(1, 10, 100)\n",
    "\n",
    "for i in range(10):\n",
    "    clear_output(wait=True)  # Clear the previous output before showing the new figure\n",
    "    fig = go.Figure()  # Create a new figure for each iteration\n",
    "    fig.add_trace(go.Scatter(x=a, y=a**i, mode='lines', name=f'a^({i})'))  # Add a trace to the figure\n",
    "    fig.show()  # Display the figure\n",
    "    time.sleep(1)  # Wait for 1 second before clearing and showing the next figure\n"
   ]
  },
  {
   "cell_type": "code",
   "execution_count": null,
   "metadata": {},
   "outputs": [],
   "source": []
  }
 ],
 "metadata": {
  "kernelspec": {
   "display_name": "tf",
   "language": "python",
   "name": "python3"
  },
  "language_info": {
   "codemirror_mode": {
    "name": "ipython",
    "version": 3
   },
   "file_extension": ".py",
   "mimetype": "text/x-python",
   "name": "python",
   "nbconvert_exporter": "python",
   "pygments_lexer": "ipython3",
   "version": "3.11.9"
  }
 },
 "nbformat": 4,
 "nbformat_minor": 2
}
