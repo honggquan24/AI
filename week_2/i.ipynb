{
 "cells": [
  {
   "cell_type": "code",
   "execution_count": 1,
   "metadata": {},
   "outputs": [],
   "source": [
    "import numpy as np\n",
    "import pandas as pd\n",
    "import plotly.graph_objects as go\n",
    "import matplotlib.pyplot as plt"
   ]
  },
  {
   "cell_type": "code",
   "execution_count": 2,
   "metadata": {},
   "outputs": [],
   "source": [
    "def function(*, input: np.ndarray, theta: np.ndarray) -> np.ndarray:\n",
    "    ones = np.ones(len(input)).reshape(-1, 1)\n",
    "    x_add = np.hstack((ones, input))\n",
    "    y = np.sum(x_add * theta.reshape(-1,), axis= 1)\n",
    "    return y\n",
    "\n",
    "def plot_diagram(*, name_1: str, name_2: str, mode_1: str, mode_2: str,\n",
    "                  x_1: np.array, y_1: np.array, x_2: np.array, y_2: np.array):\n",
    "    fig = go.Figure()\n",
    "    fig.add_trace(go.Scatter(x=x_1,  y=y_1, mode= mode_1, name= name_1))\n",
    "    fig.add_trace(go.Scatter(x=x_2,  y=y_2, mode= mode_2, name= name_2))\n",
    "    fig.show()\n",
    "\n",
    "def normalized(vector: np.ndarray) -> np.ndarray:\n",
    "    mean = np.mean(vector)  # Mean of input vector\n",
    "    standard_deviation = np.std(vector) # std of input vector\n",
    "    normalized_vector = (vector - mean) / standard_deviation # linear transform vector by using gauss\n",
    "    return normalized_vector\n",
    "\n",
    "def convert_to_new_order(*, input: np.ndarray, order: int) -> np.ndarray:\n",
    "    \"\"\"\n",
    "        Convert vector x into matrix x with multiple order\n",
    "    \"\"\"\n",
    "    input = input.reshape(-1,)\n",
    "    ones = np.ones((len(input), order))\n",
    "    for i in range(0, order):\n",
    "        ones[:, i] = input**(i+1)\n",
    "    return ones\n",
    "\n",
    "def true_value_theta(*, input: np.ndarray, output: np.ndarray) -> np.ndarray:\n",
    "    \"\"\"\n",
    "        Compute true value of theta \n",
    "        theta =   (X.T*X)^-1 * (X.T * Y)\n",
    "    \"\"\"\n",
    "    ones = np.ones(len(input)).reshape(-1, 1)\n",
    "    x_add = np.hstack((ones, input))\n",
    "    inv_XT_X = np.linalg.inv(np.dot(x_add.T, x_add))\n",
    "    XT_Y = np.dot(x_add.T, output)\n",
    "    theta_true = np.dot(inv_XT_X, XT_Y)\n",
    "    return theta_true\n",
    "\n",
    "def convert_theta_nomr_to_theta(*, theta_normalized: np.ndarray, input: np.ndarray, output: np.ndarray) -> np.ndarray:\n",
    "    theta = np.zeros_like(theta_normalized)\n",
    "\n",
    "    mean_x = np.mean(input,  axis= 0)\n",
    "    std_x = np.std(input,  axis= 0)\n",
    "\n",
    "    mean_y = np.mean(output, axis= 0)\n",
    "    std_y = np.std(output, axis= 0)\n",
    "\n",
    "    theta[1:] = std_y*theta_normalized[1:]/(std_x[1:].reshape(-1, 1))\n",
    "    theta[0] = mean_y + std_y*theta_normalized[0] - np.dot(std_y*mean_x[1:]/std_x[1:], theta_normalized[1:])\n",
    "\n",
    "    return theta"
   ]
  },
  {
   "cell_type": "code",
   "execution_count": 3,
   "metadata": {},
   "outputs": [],
   "source": [
    "class Linear_Regression_Multivariables:\n",
    "    def __init__(self, *, number_of_feature: int) -> None:\n",
    "        self.number_of_features = number_of_feature\n",
    "\n",
    "    def compute_normalized_vector(self, vector: np.ndarray) -> np.ndarray:\n",
    "        mean = np.mean(vector)  # Mean of input vector\n",
    "        standard_deviation = np.std(vector) # std of input vector\n",
    "        normalized_vector = (vector - mean) / standard_deviation # linear transform vector by using gauss\n",
    "        return normalized_vector\n",
    "    \n",
    "    def apply_normalize_matrix(self, *, input: np.ndarray, output: np.ndarray) -> np.ndarray:\n",
    "\n",
    "        normalized_input = np.apply_along_axis(func1d= self.compute_normalized_vector, arr= input, axis= 0)\n",
    "        normalized_input = normalized_input.reshape(-1, self.number_of_features)\n",
    "\n",
    "        normalized_output = np.apply_along_axis(func1d= self.compute_normalized_vector, arr= output, axis= 0)\n",
    "        normalized_output = normalized_output.reshape(-1, 1)\n",
    "        return normalized_input, normalized_output\n",
    "\n",
    "    def add_ones_columns(self, *, normalized_input: np.ndarray) -> np.ndarray:\n",
    "        ones = np.ones(len(normalized_input)).reshape(-1, 1)\n",
    "        x_add = np.hstack((ones, normalized_input))\n",
    "        return x_add\n",
    "\n",
    "    def predict(self, *, theta: np.ndarray, normalized_input: np.ndarray) -> np.ndarray:\n",
    "        y_pred = np.matmul(normalized_input, theta)\n",
    "        return y_pred\n",
    "    \n",
    "    def compute_loss_function(self, *, y_true: np.ndarray, y_pred: np.ndarray) -> np.ndarray:\n",
    "        m = len(y_true)\n",
    "        E = y_pred - y_true\n",
    "        J = np.sum((E)**2)/ (2*m)\n",
    "        return J\n",
    "    \n",
    "    def update_params(self, *, theta: np.ndarray, lr: float, y_pred: np.ndarray, \n",
    "                      y_true: np.ndarray, normalized_input: np.ndarray) -> np.ndarray:\n",
    "        m = len(y_true)\n",
    "        E = y_pred - y_true\n",
    "        dJ_dtheta = np.dot(normalized_input.T, E) / (m)\n",
    "        theta_updated = theta - lr*dJ_dtheta\n",
    "        return theta_updated\n",
    "    \n",
    "    def convert_theta_nomr_to_theta(self, *, theta_normalized: np.ndarray, input: np.ndarray, output: np.ndarray) -> np.ndarray:\n",
    "        theta = np.zeros_like(theta_normalized)\n",
    "\n",
    "        mean_x = np.mean(input,  axis= 0)\n",
    "        std_x = np.std(input,  axis= 0)\n",
    "\n",
    "        mean_y = np.mean(output, axis= 0)\n",
    "        std_y = np.std(output, axis= 0)\n",
    "\n",
    "        theta[1:] = std_y*theta_normalized[1:]/(std_x.reshape(-1, 1))\n",
    "        theta[0] = mean_y + std_y*theta_normalized[0] - np.dot(std_y*mean_x/std_x, theta_normalized[1:])\n",
    "\n",
    "        return theta\n",
    "    \n",
    "    def train(self, *, epoch: int, theta: np.ndarray, input: np.ndarray, \n",
    "              output: np.ndarray, lr: float) -> np.ndarray:\n",
    "        \n",
    "        normalized_input, normalized_ouput = self.apply_normalize_matrix(input= input, output= output)\n",
    "        normalized_input_add_ones = self.add_ones_columns(normalized_input= normalized_input)\n",
    "        \n",
    "        J_array = np.array([])\n",
    "        for i in range(epoch):\n",
    "            y_pred = self.predict(theta= theta, \n",
    "                                  normalized_input= normalized_input_add_ones)\n",
    "            J = self.compute_loss_function(y_true= normalized_ouput, \n",
    "                                           y_pred= y_pred)\n",
    "            theta = self.update_params(theta= theta, lr= lr, y_pred= y_pred, \n",
    "                                       y_true= normalized_ouput, normalized_input= normalized_input_add_ones)\n",
    "            J_array = np.append(arr= J_array, values= J)\n",
    "        \n",
    "        theta = self.convert_theta_nomr_to_theta(theta_normalized= theta, input= input, output= output)\n",
    "\n",
    "        return J_array, theta\n",
    "\n"
   ]
  },
  {
   "cell_type": "markdown",
   "metadata": {},
   "source": [
    "### ex2"
   ]
  },
  {
   "cell_type": "code",
   "execution_count": 4,
   "metadata": {},
   "outputs": [],
   "source": [
    "# Read csv file ex2.csv\n",
    "pd_ex2 = pd.read_csv('ex2.csv')\n",
    "\n",
    "# Get collumns of file \n",
    "X_cols = pd_ex2.columns[:-1]\n",
    "Y_col = pd_ex2.columns[-1]"
   ]
  },
  {
   "cell_type": "code",
   "execution_count": 5,
   "metadata": {},
   "outputs": [],
   "source": [
    "# Get vector input and output\n",
    "X = pd_ex2[X_cols].values\n",
    "Y = pd_ex2[Y_col].values"
   ]
  },
  {
   "cell_type": "code",
   "execution_count": 6,
   "metadata": {},
   "outputs": [
    {
     "data": {
      "text/plain": [
       "(9, 1)"
      ]
     },
     "execution_count": 6,
     "metadata": {},
     "output_type": "execute_result"
    }
   ],
   "source": [
    "theta_init = np.random.randn(len(X_cols) + 1, 1)\n",
    "theta_init.shape"
   ]
  },
  {
   "cell_type": "code",
   "execution_count": 7,
   "metadata": {},
   "outputs": [],
   "source": [
    "### 2. Training \n",
    "lrm = Linear_Regression_Multivariables(number_of_feature= 8)\n",
    "J_array_ex_2, theta_ex_2 = lrm.train(\n",
    "    epoch= 10000, theta= theta_init, input= X,\n",
    "    output= Y, lr= 0.001\n",
    ")"
   ]
  },
  {
   "cell_type": "code",
   "execution_count": 8,
   "metadata": {},
   "outputs": [
    {
     "data": {
      "text/plain": [
       "array([[-3.57040160e+05],\n",
       "       [-5.53699377e+03],\n",
       "       [-9.08118825e+03],\n",
       "       [ 1.96838170e+03],\n",
       "       [ 7.89133506e+00],\n",
       "       [-3.16012737e+01],\n",
       "       [-6.58380460e+01],\n",
       "       [ 2.06025846e+02],\n",
       "       [ 4.03286878e+04]])"
      ]
     },
     "execution_count": 8,
     "metadata": {},
     "output_type": "execute_result"
    }
   ],
   "source": [
    "theta_ex_2"
   ]
  },
  {
   "cell_type": "code",
   "execution_count": 9,
   "metadata": {},
   "outputs": [],
   "source": [
    "theta_real = true_value_theta(input= X, output= Y)"
   ]
  },
  {
   "cell_type": "code",
   "execution_count": 10,
   "metadata": {},
   "outputs": [],
   "source": [
    "def check_input(theta, X, Y): \n",
    "    ones = np.ones(len(X)).reshape(-1, 1)\n",
    "    x_add = np.hstack((ones, X))\n",
    "\n",
    "    y_pred = np.dot(x_add, theta.reshape(-1, 1)) \n",
    "    e = (Y.reshape(-1, 1) - y_pred)\n",
    "    return e"
   ]
  },
  {
   "cell_type": "code",
   "execution_count": 11,
   "metadata": {},
   "outputs": [
    {
     "data": {
      "text/plain": [
       "array([[ 59771.91547422],\n",
       "       [  6424.39855769],\n",
       "       [117017.28531104],\n",
       "       ...,\n",
       "       [  2721.67127438],\n",
       "       [ 22066.77855402],\n",
       "       [-92250.92450117]])"
      ]
     },
     "execution_count": 11,
     "metadata": {},
     "output_type": "execute_result"
    }
   ],
   "source": [
    "check_input(theta= theta_real, X= X, Y= Y)"
   ]
  },
  {
   "cell_type": "code",
   "execution_count": 12,
   "metadata": {},
   "outputs": [
    {
     "data": {
      "text/plain": [
       "array([[ -22428.74622851],\n",
       "       [ -16437.61003475],\n",
       "       [  11962.17185206],\n",
       "       ...,\n",
       "       [ -19752.17393117],\n",
       "       [    283.23256732],\n",
       "       [-100111.74830141]])"
      ]
     },
     "execution_count": 12,
     "metadata": {},
     "output_type": "execute_result"
    }
   ],
   "source": [
    "check_input(theta= theta_ex_2, X= X, Y= Y)"
   ]
  },
  {
   "cell_type": "markdown",
   "metadata": {},
   "source": [
    "### ex3"
   ]
  },
  {
   "cell_type": "code",
   "execution_count": 13,
   "metadata": {},
   "outputs": [],
   "source": [
    "# Read csv file ex2.csv\n",
    "pd_ex3 = pd.read_csv('ex3.csv')\n",
    "\n",
    "# Get collumns of file \n",
    "X_cols = pd_ex3.columns[:-1]\n",
    "Y_col = pd_ex3.columns[-1]"
   ]
  },
  {
   "cell_type": "code",
   "execution_count": 14,
   "metadata": {},
   "outputs": [],
   "source": [
    "# Get vector input and output\n",
    "x_value = pd_ex3[X_cols].values\n",
    "y_value = pd_ex3[Y_col].values"
   ]
  },
  {
   "cell_type": "code",
   "execution_count": 15,
   "metadata": {},
   "outputs": [],
   "source": [
    "order= 4\n",
    "\n",
    "X = convert_to_new_order(input= x_value, order= order)\n",
    "Y = y_value.reshape(-1, 1)"
   ]
  },
  {
   "cell_type": "code",
   "execution_count": 16,
   "metadata": {},
   "outputs": [
    {
     "data": {
      "text/plain": [
       "(5, 1)"
      ]
     },
     "execution_count": 16,
     "metadata": {},
     "output_type": "execute_result"
    }
   ],
   "source": [
    "theta_init = np.random.randn(order + 1, 1)\n",
    "theta_init.shape"
   ]
  },
  {
   "cell_type": "code",
   "execution_count": 17,
   "metadata": {},
   "outputs": [],
   "source": [
    "### 2. Training \n",
    "lrm = Linear_Regression_Multivariables(number_of_feature= order)\n",
    "J_array_ex_3, theta_ex_3 = lrm.train(\n",
    "    epoch= 100000, theta= theta_init, input= X,\n",
    "    output= Y, lr= 0.01\n",
    ")"
   ]
  },
  {
   "cell_type": "code",
   "execution_count": 18,
   "metadata": {},
   "outputs": [
    {
     "data": {
      "application/vnd.plotly.v1+json": {
       "config": {
        "plotlyServerURL": "https://plot.ly"
       },
       "data": [
        {
         "mode": "markers",
         "name": "a",
         "type": "scatter",
         "x": [
          0,
          1.2,
          2.4,
          3.6,
          4.8,
          6,
          7.199999999999999,
          8.4,
          9.6,
          10.8,
          12,
          13.2,
          14.4,
          15.6,
          16.8,
          18,
          19.2,
          20.4,
          21.6,
          22.8,
          24,
          25.2,
          26.4,
          27.6,
          28.8,
          30,
          31.2,
          32.4,
          33.6,
          34.8,
          36,
          37.2,
          38.4,
          39.6,
          40.8,
          42,
          43.2,
          44.4,
          45.6,
          46.8,
          48,
          49.2,
          50.4,
          51.6,
          52.8,
          54,
          55.2,
          56.4,
          57.6,
          58.8,
          60,
          61.2,
          62.4,
          63.6,
          64.8,
          66,
          67.2,
          68.39999999999999,
          69.6,
          70.8,
          72,
          73.2,
          74.39999999999999,
          75.6,
          76.8,
          78,
          79.2,
          80.39999999999999,
          81.6,
          82.8,
          84,
          85.2,
          86.39999999999999,
          87.6,
          88.8,
          90,
          91.2,
          92.4,
          93.6,
          94.8,
          96,
          97.2,
          98.4,
          99.6
         ],
         "y": [
          1313.416062167991,
          -1281.3383370887088,
          257.88637473406243,
          157.16824323238788,
          1055.0415024025483,
          -92.46311706167796,
          82.2919015212832,
          2261.320305477705,
          -923.1519030123502,
          1752.416719870404,
          2894.6595055191337,
          905.3437134287584,
          -1626.9636350988587,
          3027.5060530427645,
          793.2377990743773,
          1691.735950717992,
          2680.8556747057,
          2732.422032419277,
          3083.024125781884,
          3700.535821409477,
          3031.6536301042206,
          5042.116929349597,
          6279.437677974889,
          5689.269319272142,
          6247.367628255277,
          6542.880283869337,
          7692.026309550058,
          6954.677912839207,
          7432.119625620841,
          7357.757363461327,
          9338.988573453862,
          8037.33734182164,
          9512.0855235965,
          11724.36696056956,
          11491.719687660596,
          12096.425238873406,
          11398.171863638883,
          13766.006600280412,
          13593.51132711948,
          15196.4537733495,
          14351.75796082119,
          16425.172340740886,
          17573.41563826812,
          18460.81076249281,
          19225.542805073528,
          16665.272392893752,
          18892.437676310445,
          20015.083549716084,
          20849.61709143078,
          23287.626676434527,
          23251.29690436716,
          24067.71832419032,
          24837.63559491842,
          26924.082390563115,
          26531.661079683254,
          28858.61342235167,
          28812.913563093964,
          31827.46771057301,
          30744.428156523583,
          33482.16352260915,
          36105.406146350855,
          35567.40176394644,
          35047.44289796181,
          38173.43423188819,
          40129.96959913636,
          39275.11652228508,
          41528.88753671718,
          42807.72327886267,
          42754.45769383529,
          46394.04650969675,
          47574.52528107123,
          47805.18987960054,
          50648.2272021664,
          50166.464429998894,
          51639.01435684975,
          52599.21217904949,
          52876.54354258421,
          58377.6331063049,
          59547.564716979454,
          59268.89090658758,
          61856.08492519602,
          61240.77931758072,
          61793.51691632088,
          66191.59401530778
         ]
        },
        {
         "mode": "lines",
         "name": "b",
         "type": "scatter",
         "x": [
          0,
          1.2,
          2.4,
          3.6,
          4.8,
          6,
          7.199999999999999,
          8.4,
          9.6,
          10.8,
          12,
          13.2,
          14.4,
          15.6,
          16.8,
          18,
          19.2,
          20.4,
          21.6,
          22.8,
          24,
          25.2,
          26.4,
          27.6,
          28.8,
          30,
          31.2,
          32.4,
          33.6,
          34.8,
          36,
          37.2,
          38.4,
          39.6,
          40.8,
          42,
          43.2,
          44.4,
          45.6,
          46.8,
          48,
          49.2,
          50.4,
          51.6,
          52.8,
          54,
          55.2,
          56.4,
          57.6,
          58.8,
          60,
          61.2,
          62.4,
          63.6,
          64.8,
          66,
          67.2,
          68.39999999999999,
          69.6,
          70.8,
          72,
          73.2,
          74.39999999999999,
          75.6,
          76.8,
          78,
          79.2,
          80.39999999999999,
          81.6,
          82.8,
          84,
          85.2,
          86.39999999999999,
          87.6,
          88.8,
          90,
          91.2,
          92.4,
          93.6,
          94.8,
          96,
          97.2,
          98.4,
          99.6
         ],
         "y": [
          218.9757527885231,
          210.84926103749788,
          223.94021796636238,
          258.08398270275137,
          313.12087904838324,
          388.8961954790603,
          485.2601851446681,
          602.068065869177,
          739.1800201506398,
          896.461195161194,
          1073.7817027470605,
          1271.0166194285434,
          1488.045986400032,
          1724.7548095299978,
          1981.0330593609974,
          2256.77567110967,
          2551.882544666738,
          2866.2585445970108,
          3199.8135001393775,
          3552.4622052068125,
          3924.124418386376,
          4314.724862939208,
          4724.193226800536,
          5152.46416257967,
          5599.477287560001,
          6065.177183699006,
          6549.513397628249,
          7052.440440653373,
          7573.917788754108,
          8113.90988258426,
          8672.386127471733,
          9249.3208934185,
          9844.69351510063,
          10458.488291868267,
          11090.694487745639,
          11741.306331431066,
          12410.323016296943,
          13097.748700389751,
          13803.592506430063,
          14527.868521812516,
          15270.595798605858,
          16031.798353552898,
          16811.50516807053,
          17609.750188249753,
          18426.57232485562,
          19262.015453327298,
          20116.12841377802,
          20988.965010995096,
          21880.584014439934,
          22791.04915824802,
          23720.429141228928,
          24668.79762686632,
          25636.23324331791,
          26622.819583415545,
          27628.64520466512,
          28653.803629246628,
          29698.393344014137,
          30762.517800495792,
          31846.285414893864,
          32949.80956808467,
          34073.208605618594,
          35216.60583772016,
          36380.1295392879,
          37563.912949894526,
          38768.094273786744,
          39992.81667988541,
          41238.228301785406,
          42504.48223775574,
          43791.736550739486,
          45100.15426835381,
          46429.903382889956,
          47781.156851313266,
          49154.09259526311,
          50548.893501053055,
          51965.74741967061,
          53404.84716677749,
          54866.390522709415,
          56350.58023247623,
          57857.62400576185,
          59387.73451692427,
          60941.12940499558,
          62518.03127368193,
          64118.667691363604,
          65743.27119109487
         ]
        }
       ],
       "layout": {
        "template": {
         "data": {
          "bar": [
           {
            "error_x": {
             "color": "#2a3f5f"
            },
            "error_y": {
             "color": "#2a3f5f"
            },
            "marker": {
             "line": {
              "color": "#E5ECF6",
              "width": 0.5
             },
             "pattern": {
              "fillmode": "overlay",
              "size": 10,
              "solidity": 0.2
             }
            },
            "type": "bar"
           }
          ],
          "barpolar": [
           {
            "marker": {
             "line": {
              "color": "#E5ECF6",
              "width": 0.5
             },
             "pattern": {
              "fillmode": "overlay",
              "size": 10,
              "solidity": 0.2
             }
            },
            "type": "barpolar"
           }
          ],
          "carpet": [
           {
            "aaxis": {
             "endlinecolor": "#2a3f5f",
             "gridcolor": "white",
             "linecolor": "white",
             "minorgridcolor": "white",
             "startlinecolor": "#2a3f5f"
            },
            "baxis": {
             "endlinecolor": "#2a3f5f",
             "gridcolor": "white",
             "linecolor": "white",
             "minorgridcolor": "white",
             "startlinecolor": "#2a3f5f"
            },
            "type": "carpet"
           }
          ],
          "choropleth": [
           {
            "colorbar": {
             "outlinewidth": 0,
             "ticks": ""
            },
            "type": "choropleth"
           }
          ],
          "contour": [
           {
            "colorbar": {
             "outlinewidth": 0,
             "ticks": ""
            },
            "colorscale": [
             [
              0,
              "#0d0887"
             ],
             [
              0.1111111111111111,
              "#46039f"
             ],
             [
              0.2222222222222222,
              "#7201a8"
             ],
             [
              0.3333333333333333,
              "#9c179e"
             ],
             [
              0.4444444444444444,
              "#bd3786"
             ],
             [
              0.5555555555555556,
              "#d8576b"
             ],
             [
              0.6666666666666666,
              "#ed7953"
             ],
             [
              0.7777777777777778,
              "#fb9f3a"
             ],
             [
              0.8888888888888888,
              "#fdca26"
             ],
             [
              1,
              "#f0f921"
             ]
            ],
            "type": "contour"
           }
          ],
          "contourcarpet": [
           {
            "colorbar": {
             "outlinewidth": 0,
             "ticks": ""
            },
            "type": "contourcarpet"
           }
          ],
          "heatmap": [
           {
            "colorbar": {
             "outlinewidth": 0,
             "ticks": ""
            },
            "colorscale": [
             [
              0,
              "#0d0887"
             ],
             [
              0.1111111111111111,
              "#46039f"
             ],
             [
              0.2222222222222222,
              "#7201a8"
             ],
             [
              0.3333333333333333,
              "#9c179e"
             ],
             [
              0.4444444444444444,
              "#bd3786"
             ],
             [
              0.5555555555555556,
              "#d8576b"
             ],
             [
              0.6666666666666666,
              "#ed7953"
             ],
             [
              0.7777777777777778,
              "#fb9f3a"
             ],
             [
              0.8888888888888888,
              "#fdca26"
             ],
             [
              1,
              "#f0f921"
             ]
            ],
            "type": "heatmap"
           }
          ],
          "heatmapgl": [
           {
            "colorbar": {
             "outlinewidth": 0,
             "ticks": ""
            },
            "colorscale": [
             [
              0,
              "#0d0887"
             ],
             [
              0.1111111111111111,
              "#46039f"
             ],
             [
              0.2222222222222222,
              "#7201a8"
             ],
             [
              0.3333333333333333,
              "#9c179e"
             ],
             [
              0.4444444444444444,
              "#bd3786"
             ],
             [
              0.5555555555555556,
              "#d8576b"
             ],
             [
              0.6666666666666666,
              "#ed7953"
             ],
             [
              0.7777777777777778,
              "#fb9f3a"
             ],
             [
              0.8888888888888888,
              "#fdca26"
             ],
             [
              1,
              "#f0f921"
             ]
            ],
            "type": "heatmapgl"
           }
          ],
          "histogram": [
           {
            "marker": {
             "pattern": {
              "fillmode": "overlay",
              "size": 10,
              "solidity": 0.2
             }
            },
            "type": "histogram"
           }
          ],
          "histogram2d": [
           {
            "colorbar": {
             "outlinewidth": 0,
             "ticks": ""
            },
            "colorscale": [
             [
              0,
              "#0d0887"
             ],
             [
              0.1111111111111111,
              "#46039f"
             ],
             [
              0.2222222222222222,
              "#7201a8"
             ],
             [
              0.3333333333333333,
              "#9c179e"
             ],
             [
              0.4444444444444444,
              "#bd3786"
             ],
             [
              0.5555555555555556,
              "#d8576b"
             ],
             [
              0.6666666666666666,
              "#ed7953"
             ],
             [
              0.7777777777777778,
              "#fb9f3a"
             ],
             [
              0.8888888888888888,
              "#fdca26"
             ],
             [
              1,
              "#f0f921"
             ]
            ],
            "type": "histogram2d"
           }
          ],
          "histogram2dcontour": [
           {
            "colorbar": {
             "outlinewidth": 0,
             "ticks": ""
            },
            "colorscale": [
             [
              0,
              "#0d0887"
             ],
             [
              0.1111111111111111,
              "#46039f"
             ],
             [
              0.2222222222222222,
              "#7201a8"
             ],
             [
              0.3333333333333333,
              "#9c179e"
             ],
             [
              0.4444444444444444,
              "#bd3786"
             ],
             [
              0.5555555555555556,
              "#d8576b"
             ],
             [
              0.6666666666666666,
              "#ed7953"
             ],
             [
              0.7777777777777778,
              "#fb9f3a"
             ],
             [
              0.8888888888888888,
              "#fdca26"
             ],
             [
              1,
              "#f0f921"
             ]
            ],
            "type": "histogram2dcontour"
           }
          ],
          "mesh3d": [
           {
            "colorbar": {
             "outlinewidth": 0,
             "ticks": ""
            },
            "type": "mesh3d"
           }
          ],
          "parcoords": [
           {
            "line": {
             "colorbar": {
              "outlinewidth": 0,
              "ticks": ""
             }
            },
            "type": "parcoords"
           }
          ],
          "pie": [
           {
            "automargin": true,
            "type": "pie"
           }
          ],
          "scatter": [
           {
            "fillpattern": {
             "fillmode": "overlay",
             "size": 10,
             "solidity": 0.2
            },
            "type": "scatter"
           }
          ],
          "scatter3d": [
           {
            "line": {
             "colorbar": {
              "outlinewidth": 0,
              "ticks": ""
             }
            },
            "marker": {
             "colorbar": {
              "outlinewidth": 0,
              "ticks": ""
             }
            },
            "type": "scatter3d"
           }
          ],
          "scattercarpet": [
           {
            "marker": {
             "colorbar": {
              "outlinewidth": 0,
              "ticks": ""
             }
            },
            "type": "scattercarpet"
           }
          ],
          "scattergeo": [
           {
            "marker": {
             "colorbar": {
              "outlinewidth": 0,
              "ticks": ""
             }
            },
            "type": "scattergeo"
           }
          ],
          "scattergl": [
           {
            "marker": {
             "colorbar": {
              "outlinewidth": 0,
              "ticks": ""
             }
            },
            "type": "scattergl"
           }
          ],
          "scattermapbox": [
           {
            "marker": {
             "colorbar": {
              "outlinewidth": 0,
              "ticks": ""
             }
            },
            "type": "scattermapbox"
           }
          ],
          "scatterpolar": [
           {
            "marker": {
             "colorbar": {
              "outlinewidth": 0,
              "ticks": ""
             }
            },
            "type": "scatterpolar"
           }
          ],
          "scatterpolargl": [
           {
            "marker": {
             "colorbar": {
              "outlinewidth": 0,
              "ticks": ""
             }
            },
            "type": "scatterpolargl"
           }
          ],
          "scatterternary": [
           {
            "marker": {
             "colorbar": {
              "outlinewidth": 0,
              "ticks": ""
             }
            },
            "type": "scatterternary"
           }
          ],
          "surface": [
           {
            "colorbar": {
             "outlinewidth": 0,
             "ticks": ""
            },
            "colorscale": [
             [
              0,
              "#0d0887"
             ],
             [
              0.1111111111111111,
              "#46039f"
             ],
             [
              0.2222222222222222,
              "#7201a8"
             ],
             [
              0.3333333333333333,
              "#9c179e"
             ],
             [
              0.4444444444444444,
              "#bd3786"
             ],
             [
              0.5555555555555556,
              "#d8576b"
             ],
             [
              0.6666666666666666,
              "#ed7953"
             ],
             [
              0.7777777777777778,
              "#fb9f3a"
             ],
             [
              0.8888888888888888,
              "#fdca26"
             ],
             [
              1,
              "#f0f921"
             ]
            ],
            "type": "surface"
           }
          ],
          "table": [
           {
            "cells": {
             "fill": {
              "color": "#EBF0F8"
             },
             "line": {
              "color": "white"
             }
            },
            "header": {
             "fill": {
              "color": "#C8D4E3"
             },
             "line": {
              "color": "white"
             }
            },
            "type": "table"
           }
          ]
         },
         "layout": {
          "annotationdefaults": {
           "arrowcolor": "#2a3f5f",
           "arrowhead": 0,
           "arrowwidth": 1
          },
          "autotypenumbers": "strict",
          "coloraxis": {
           "colorbar": {
            "outlinewidth": 0,
            "ticks": ""
           }
          },
          "colorscale": {
           "diverging": [
            [
             0,
             "#8e0152"
            ],
            [
             0.1,
             "#c51b7d"
            ],
            [
             0.2,
             "#de77ae"
            ],
            [
             0.3,
             "#f1b6da"
            ],
            [
             0.4,
             "#fde0ef"
            ],
            [
             0.5,
             "#f7f7f7"
            ],
            [
             0.6,
             "#e6f5d0"
            ],
            [
             0.7,
             "#b8e186"
            ],
            [
             0.8,
             "#7fbc41"
            ],
            [
             0.9,
             "#4d9221"
            ],
            [
             1,
             "#276419"
            ]
           ],
           "sequential": [
            [
             0,
             "#0d0887"
            ],
            [
             0.1111111111111111,
             "#46039f"
            ],
            [
             0.2222222222222222,
             "#7201a8"
            ],
            [
             0.3333333333333333,
             "#9c179e"
            ],
            [
             0.4444444444444444,
             "#bd3786"
            ],
            [
             0.5555555555555556,
             "#d8576b"
            ],
            [
             0.6666666666666666,
             "#ed7953"
            ],
            [
             0.7777777777777778,
             "#fb9f3a"
            ],
            [
             0.8888888888888888,
             "#fdca26"
            ],
            [
             1,
             "#f0f921"
            ]
           ],
           "sequentialminus": [
            [
             0,
             "#0d0887"
            ],
            [
             0.1111111111111111,
             "#46039f"
            ],
            [
             0.2222222222222222,
             "#7201a8"
            ],
            [
             0.3333333333333333,
             "#9c179e"
            ],
            [
             0.4444444444444444,
             "#bd3786"
            ],
            [
             0.5555555555555556,
             "#d8576b"
            ],
            [
             0.6666666666666666,
             "#ed7953"
            ],
            [
             0.7777777777777778,
             "#fb9f3a"
            ],
            [
             0.8888888888888888,
             "#fdca26"
            ],
            [
             1,
             "#f0f921"
            ]
           ]
          },
          "colorway": [
           "#636efa",
           "#EF553B",
           "#00cc96",
           "#ab63fa",
           "#FFA15A",
           "#19d3f3",
           "#FF6692",
           "#B6E880",
           "#FF97FF",
           "#FECB52"
          ],
          "font": {
           "color": "#2a3f5f"
          },
          "geo": {
           "bgcolor": "white",
           "lakecolor": "white",
           "landcolor": "#E5ECF6",
           "showlakes": true,
           "showland": true,
           "subunitcolor": "white"
          },
          "hoverlabel": {
           "align": "left"
          },
          "hovermode": "closest",
          "mapbox": {
           "style": "light"
          },
          "paper_bgcolor": "white",
          "plot_bgcolor": "#E5ECF6",
          "polar": {
           "angularaxis": {
            "gridcolor": "white",
            "linecolor": "white",
            "ticks": ""
           },
           "bgcolor": "#E5ECF6",
           "radialaxis": {
            "gridcolor": "white",
            "linecolor": "white",
            "ticks": ""
           }
          },
          "scene": {
           "xaxis": {
            "backgroundcolor": "#E5ECF6",
            "gridcolor": "white",
            "gridwidth": 2,
            "linecolor": "white",
            "showbackground": true,
            "ticks": "",
            "zerolinecolor": "white"
           },
           "yaxis": {
            "backgroundcolor": "#E5ECF6",
            "gridcolor": "white",
            "gridwidth": 2,
            "linecolor": "white",
            "showbackground": true,
            "ticks": "",
            "zerolinecolor": "white"
           },
           "zaxis": {
            "backgroundcolor": "#E5ECF6",
            "gridcolor": "white",
            "gridwidth": 2,
            "linecolor": "white",
            "showbackground": true,
            "ticks": "",
            "zerolinecolor": "white"
           }
          },
          "shapedefaults": {
           "line": {
            "color": "#2a3f5f"
           }
          },
          "ternary": {
           "aaxis": {
            "gridcolor": "white",
            "linecolor": "white",
            "ticks": ""
           },
           "baxis": {
            "gridcolor": "white",
            "linecolor": "white",
            "ticks": ""
           },
           "bgcolor": "#E5ECF6",
           "caxis": {
            "gridcolor": "white",
            "linecolor": "white",
            "ticks": ""
           }
          },
          "title": {
           "x": 0.05
          },
          "xaxis": {
           "automargin": true,
           "gridcolor": "white",
           "linecolor": "white",
           "ticks": "",
           "title": {
            "standoff": 15
           },
           "zerolinecolor": "white",
           "zerolinewidth": 2
          },
          "yaxis": {
           "automargin": true,
           "gridcolor": "white",
           "linecolor": "white",
           "ticks": "",
           "title": {
            "standoff": 15
           },
           "zerolinecolor": "white",
           "zerolinewidth": 2
          }
         }
        }
       }
      }
     },
     "metadata": {},
     "output_type": "display_data"
    }
   ],
   "source": [
    "plot_diagram(name_1= 'a', name_2= 'b', mode_1= 'markers', mode_2= 'lines',\n",
    "             x_1= x_value.reshape(-1, ), y_1= y_value.reshape(-1, ), \n",
    "             x_2= x_value.reshape(-1, ), y_2= function(input= X, theta= theta_ex_3))"
   ]
  },
  {
   "cell_type": "code",
   "execution_count": 19,
   "metadata": {},
   "outputs": [],
   "source": [
    "theta_true = true_value_theta(input= X, output= Y)"
   ]
  },
  {
   "cell_type": "code",
   "execution_count": 20,
   "metadata": {},
   "outputs": [
    {
     "data": {
      "application/vnd.plotly.v1+json": {
       "config": {
        "plotlyServerURL": "https://plot.ly"
       },
       "data": [
        {
         "mode": "markers",
         "name": "a",
         "type": "scatter",
         "x": [
          0,
          1.2,
          2.4,
          3.6,
          4.8,
          6,
          7.199999999999999,
          8.4,
          9.6,
          10.8,
          12,
          13.2,
          14.4,
          15.6,
          16.8,
          18,
          19.2,
          20.4,
          21.6,
          22.8,
          24,
          25.2,
          26.4,
          27.6,
          28.8,
          30,
          31.2,
          32.4,
          33.6,
          34.8,
          36,
          37.2,
          38.4,
          39.6,
          40.8,
          42,
          43.2,
          44.4,
          45.6,
          46.8,
          48,
          49.2,
          50.4,
          51.6,
          52.8,
          54,
          55.2,
          56.4,
          57.6,
          58.8,
          60,
          61.2,
          62.4,
          63.6,
          64.8,
          66,
          67.2,
          68.39999999999999,
          69.6,
          70.8,
          72,
          73.2,
          74.39999999999999,
          75.6,
          76.8,
          78,
          79.2,
          80.39999999999999,
          81.6,
          82.8,
          84,
          85.2,
          86.39999999999999,
          87.6,
          88.8,
          90,
          91.2,
          92.4,
          93.6,
          94.8,
          96,
          97.2,
          98.4,
          99.6
         ],
         "y": [
          1313.416062167991,
          -1281.3383370887088,
          257.88637473406243,
          157.16824323238788,
          1055.0415024025483,
          -92.46311706167796,
          82.2919015212832,
          2261.320305477705,
          -923.1519030123502,
          1752.416719870404,
          2894.6595055191337,
          905.3437134287584,
          -1626.9636350988587,
          3027.5060530427645,
          793.2377990743773,
          1691.735950717992,
          2680.8556747057,
          2732.422032419277,
          3083.024125781884,
          3700.535821409477,
          3031.6536301042206,
          5042.116929349597,
          6279.437677974889,
          5689.269319272142,
          6247.367628255277,
          6542.880283869337,
          7692.026309550058,
          6954.677912839207,
          7432.119625620841,
          7357.757363461327,
          9338.988573453862,
          8037.33734182164,
          9512.0855235965,
          11724.36696056956,
          11491.719687660596,
          12096.425238873406,
          11398.171863638883,
          13766.006600280412,
          13593.51132711948,
          15196.4537733495,
          14351.75796082119,
          16425.172340740886,
          17573.41563826812,
          18460.81076249281,
          19225.542805073528,
          16665.272392893752,
          18892.437676310445,
          20015.083549716084,
          20849.61709143078,
          23287.626676434527,
          23251.29690436716,
          24067.71832419032,
          24837.63559491842,
          26924.082390563115,
          26531.661079683254,
          28858.61342235167,
          28812.913563093964,
          31827.46771057301,
          30744.428156523583,
          33482.16352260915,
          36105.406146350855,
          35567.40176394644,
          35047.44289796181,
          38173.43423188819,
          40129.96959913636,
          39275.11652228508,
          41528.88753671718,
          42807.72327886267,
          42754.45769383529,
          46394.04650969675,
          47574.52528107123,
          47805.18987960054,
          50648.2272021664,
          50166.464429998894,
          51639.01435684975,
          52599.21217904949,
          52876.54354258421,
          58377.6331063049,
          59547.564716979454,
          59268.89090658758,
          61856.08492519602,
          61240.77931758072,
          61793.51691632088,
          66191.59401530778
         ]
        },
        {
         "mode": "lines",
         "name": "b",
         "type": "scatter",
         "x": [
          0,
          1.2,
          2.4,
          3.6,
          4.8,
          6,
          7.199999999999999,
          8.4,
          9.6,
          10.8,
          12,
          13.2,
          14.4,
          15.6,
          16.8,
          18,
          19.2,
          20.4,
          21.6,
          22.8,
          24,
          25.2,
          26.4,
          27.6,
          28.8,
          30,
          31.2,
          32.4,
          33.6,
          34.8,
          36,
          37.2,
          38.4,
          39.6,
          40.8,
          42,
          43.2,
          44.4,
          45.6,
          46.8,
          48,
          49.2,
          50.4,
          51.6,
          52.8,
          54,
          55.2,
          56.4,
          57.6,
          58.8,
          60,
          61.2,
          62.4,
          63.6,
          64.8,
          66,
          67.2,
          68.39999999999999,
          69.6,
          70.8,
          72,
          73.2,
          74.39999999999999,
          75.6,
          76.8,
          78,
          79.2,
          80.39999999999999,
          81.6,
          82.8,
          84,
          85.2,
          86.39999999999999,
          87.6,
          88.8,
          90,
          91.2,
          92.4,
          93.6,
          94.8,
          96,
          97.2,
          98.4,
          99.6
         ],
         "y": [
          -87.62539936754513,
          -17.482217706407756,
          65.06132163758484,
          160.3558046752909,
          268.7437898506344,
          390.55980804060584,
          526.130362555261,
          675.7739291377222,
          839.8009559641772,
          1018.5138636438804,
          1212.2070452191513,
          1421.1668661653757,
          1645.6716643910067,
          1885.9917502375604,
          2142.3894064796223,
          2415.1188883248406,
          2704.4264234139323,
          3010.550211820679,
          3333.720426051928,
          3674.159211047592,
          4032.0806841806525,
          4407.690935257154,
          4801.188026516207,
          5212.761992629993,
          5642.594840703751,
          6090.860550275792,
          6557.7250733174915,
          7043.346334233291,
          7547.874229860699,
          8071.450629470283,
          8614.209374765693,
          9176.276279883627,
          9757.769131393852,
          10358.797688299217,
          10979.463682035612,
          11619.860816472015,
          12280.07476791046,
          12960.183185086045,
          13660.255689166941,
          14380.353873754371,
          15120.53130488265,
          15880.833521019136,
          16661.29803306425,
          17461.954324351496,
          18282.823850647444,
          19123.920040151716,
          19985.248293497007,
          20866.805983749073,
          21768.582456406748,
          22690.55902940192,
          23632.70899309955,
          24594.99761029767,
          25577.38211622735,
          26579.811718552766,
          27602.227597371133,
          28644.562905212737,
          29706.742767040938,
          30788.684280252142,
          31890.296514675854,
          33011.48051257463,
          34152.129288644064,
          35312.12783001287,
          36491.353096242754,
          37689.67401932857,
          38906.9515036982,
          40143.03842621257,
          41397.77963616572,
          42671.011955284695,
          43962.56417772967,
          45272.25707009386,
          46599.903371403525,
          47945.30779311801,
          49308.267019129715,
          50688.569705764145,
          52085.99648177983,
          53500.31994836838,
          54931.30467915443,
          56378.7072201958,
          57842.276089983214,
          59321.75177944059,
          60816.86675192486,
          62327.34544322602,
          63852.904261567135,
          65393.25158760432
         ]
        }
       ],
       "layout": {
        "template": {
         "data": {
          "bar": [
           {
            "error_x": {
             "color": "#2a3f5f"
            },
            "error_y": {
             "color": "#2a3f5f"
            },
            "marker": {
             "line": {
              "color": "#E5ECF6",
              "width": 0.5
             },
             "pattern": {
              "fillmode": "overlay",
              "size": 10,
              "solidity": 0.2
             }
            },
            "type": "bar"
           }
          ],
          "barpolar": [
           {
            "marker": {
             "line": {
              "color": "#E5ECF6",
              "width": 0.5
             },
             "pattern": {
              "fillmode": "overlay",
              "size": 10,
              "solidity": 0.2
             }
            },
            "type": "barpolar"
           }
          ],
          "carpet": [
           {
            "aaxis": {
             "endlinecolor": "#2a3f5f",
             "gridcolor": "white",
             "linecolor": "white",
             "minorgridcolor": "white",
             "startlinecolor": "#2a3f5f"
            },
            "baxis": {
             "endlinecolor": "#2a3f5f",
             "gridcolor": "white",
             "linecolor": "white",
             "minorgridcolor": "white",
             "startlinecolor": "#2a3f5f"
            },
            "type": "carpet"
           }
          ],
          "choropleth": [
           {
            "colorbar": {
             "outlinewidth": 0,
             "ticks": ""
            },
            "type": "choropleth"
           }
          ],
          "contour": [
           {
            "colorbar": {
             "outlinewidth": 0,
             "ticks": ""
            },
            "colorscale": [
             [
              0,
              "#0d0887"
             ],
             [
              0.1111111111111111,
              "#46039f"
             ],
             [
              0.2222222222222222,
              "#7201a8"
             ],
             [
              0.3333333333333333,
              "#9c179e"
             ],
             [
              0.4444444444444444,
              "#bd3786"
             ],
             [
              0.5555555555555556,
              "#d8576b"
             ],
             [
              0.6666666666666666,
              "#ed7953"
             ],
             [
              0.7777777777777778,
              "#fb9f3a"
             ],
             [
              0.8888888888888888,
              "#fdca26"
             ],
             [
              1,
              "#f0f921"
             ]
            ],
            "type": "contour"
           }
          ],
          "contourcarpet": [
           {
            "colorbar": {
             "outlinewidth": 0,
             "ticks": ""
            },
            "type": "contourcarpet"
           }
          ],
          "heatmap": [
           {
            "colorbar": {
             "outlinewidth": 0,
             "ticks": ""
            },
            "colorscale": [
             [
              0,
              "#0d0887"
             ],
             [
              0.1111111111111111,
              "#46039f"
             ],
             [
              0.2222222222222222,
              "#7201a8"
             ],
             [
              0.3333333333333333,
              "#9c179e"
             ],
             [
              0.4444444444444444,
              "#bd3786"
             ],
             [
              0.5555555555555556,
              "#d8576b"
             ],
             [
              0.6666666666666666,
              "#ed7953"
             ],
             [
              0.7777777777777778,
              "#fb9f3a"
             ],
             [
              0.8888888888888888,
              "#fdca26"
             ],
             [
              1,
              "#f0f921"
             ]
            ],
            "type": "heatmap"
           }
          ],
          "heatmapgl": [
           {
            "colorbar": {
             "outlinewidth": 0,
             "ticks": ""
            },
            "colorscale": [
             [
              0,
              "#0d0887"
             ],
             [
              0.1111111111111111,
              "#46039f"
             ],
             [
              0.2222222222222222,
              "#7201a8"
             ],
             [
              0.3333333333333333,
              "#9c179e"
             ],
             [
              0.4444444444444444,
              "#bd3786"
             ],
             [
              0.5555555555555556,
              "#d8576b"
             ],
             [
              0.6666666666666666,
              "#ed7953"
             ],
             [
              0.7777777777777778,
              "#fb9f3a"
             ],
             [
              0.8888888888888888,
              "#fdca26"
             ],
             [
              1,
              "#f0f921"
             ]
            ],
            "type": "heatmapgl"
           }
          ],
          "histogram": [
           {
            "marker": {
             "pattern": {
              "fillmode": "overlay",
              "size": 10,
              "solidity": 0.2
             }
            },
            "type": "histogram"
           }
          ],
          "histogram2d": [
           {
            "colorbar": {
             "outlinewidth": 0,
             "ticks": ""
            },
            "colorscale": [
             [
              0,
              "#0d0887"
             ],
             [
              0.1111111111111111,
              "#46039f"
             ],
             [
              0.2222222222222222,
              "#7201a8"
             ],
             [
              0.3333333333333333,
              "#9c179e"
             ],
             [
              0.4444444444444444,
              "#bd3786"
             ],
             [
              0.5555555555555556,
              "#d8576b"
             ],
             [
              0.6666666666666666,
              "#ed7953"
             ],
             [
              0.7777777777777778,
              "#fb9f3a"
             ],
             [
              0.8888888888888888,
              "#fdca26"
             ],
             [
              1,
              "#f0f921"
             ]
            ],
            "type": "histogram2d"
           }
          ],
          "histogram2dcontour": [
           {
            "colorbar": {
             "outlinewidth": 0,
             "ticks": ""
            },
            "colorscale": [
             [
              0,
              "#0d0887"
             ],
             [
              0.1111111111111111,
              "#46039f"
             ],
             [
              0.2222222222222222,
              "#7201a8"
             ],
             [
              0.3333333333333333,
              "#9c179e"
             ],
             [
              0.4444444444444444,
              "#bd3786"
             ],
             [
              0.5555555555555556,
              "#d8576b"
             ],
             [
              0.6666666666666666,
              "#ed7953"
             ],
             [
              0.7777777777777778,
              "#fb9f3a"
             ],
             [
              0.8888888888888888,
              "#fdca26"
             ],
             [
              1,
              "#f0f921"
             ]
            ],
            "type": "histogram2dcontour"
           }
          ],
          "mesh3d": [
           {
            "colorbar": {
             "outlinewidth": 0,
             "ticks": ""
            },
            "type": "mesh3d"
           }
          ],
          "parcoords": [
           {
            "line": {
             "colorbar": {
              "outlinewidth": 0,
              "ticks": ""
             }
            },
            "type": "parcoords"
           }
          ],
          "pie": [
           {
            "automargin": true,
            "type": "pie"
           }
          ],
          "scatter": [
           {
            "fillpattern": {
             "fillmode": "overlay",
             "size": 10,
             "solidity": 0.2
            },
            "type": "scatter"
           }
          ],
          "scatter3d": [
           {
            "line": {
             "colorbar": {
              "outlinewidth": 0,
              "ticks": ""
             }
            },
            "marker": {
             "colorbar": {
              "outlinewidth": 0,
              "ticks": ""
             }
            },
            "type": "scatter3d"
           }
          ],
          "scattercarpet": [
           {
            "marker": {
             "colorbar": {
              "outlinewidth": 0,
              "ticks": ""
             }
            },
            "type": "scattercarpet"
           }
          ],
          "scattergeo": [
           {
            "marker": {
             "colorbar": {
              "outlinewidth": 0,
              "ticks": ""
             }
            },
            "type": "scattergeo"
           }
          ],
          "scattergl": [
           {
            "marker": {
             "colorbar": {
              "outlinewidth": 0,
              "ticks": ""
             }
            },
            "type": "scattergl"
           }
          ],
          "scattermapbox": [
           {
            "marker": {
             "colorbar": {
              "outlinewidth": 0,
              "ticks": ""
             }
            },
            "type": "scattermapbox"
           }
          ],
          "scatterpolar": [
           {
            "marker": {
             "colorbar": {
              "outlinewidth": 0,
              "ticks": ""
             }
            },
            "type": "scatterpolar"
           }
          ],
          "scatterpolargl": [
           {
            "marker": {
             "colorbar": {
              "outlinewidth": 0,
              "ticks": ""
             }
            },
            "type": "scatterpolargl"
           }
          ],
          "scatterternary": [
           {
            "marker": {
             "colorbar": {
              "outlinewidth": 0,
              "ticks": ""
             }
            },
            "type": "scatterternary"
           }
          ],
          "surface": [
           {
            "colorbar": {
             "outlinewidth": 0,
             "ticks": ""
            },
            "colorscale": [
             [
              0,
              "#0d0887"
             ],
             [
              0.1111111111111111,
              "#46039f"
             ],
             [
              0.2222222222222222,
              "#7201a8"
             ],
             [
              0.3333333333333333,
              "#9c179e"
             ],
             [
              0.4444444444444444,
              "#bd3786"
             ],
             [
              0.5555555555555556,
              "#d8576b"
             ],
             [
              0.6666666666666666,
              "#ed7953"
             ],
             [
              0.7777777777777778,
              "#fb9f3a"
             ],
             [
              0.8888888888888888,
              "#fdca26"
             ],
             [
              1,
              "#f0f921"
             ]
            ],
            "type": "surface"
           }
          ],
          "table": [
           {
            "cells": {
             "fill": {
              "color": "#EBF0F8"
             },
             "line": {
              "color": "white"
             }
            },
            "header": {
             "fill": {
              "color": "#C8D4E3"
             },
             "line": {
              "color": "white"
             }
            },
            "type": "table"
           }
          ]
         },
         "layout": {
          "annotationdefaults": {
           "arrowcolor": "#2a3f5f",
           "arrowhead": 0,
           "arrowwidth": 1
          },
          "autotypenumbers": "strict",
          "coloraxis": {
           "colorbar": {
            "outlinewidth": 0,
            "ticks": ""
           }
          },
          "colorscale": {
           "diverging": [
            [
             0,
             "#8e0152"
            ],
            [
             0.1,
             "#c51b7d"
            ],
            [
             0.2,
             "#de77ae"
            ],
            [
             0.3,
             "#f1b6da"
            ],
            [
             0.4,
             "#fde0ef"
            ],
            [
             0.5,
             "#f7f7f7"
            ],
            [
             0.6,
             "#e6f5d0"
            ],
            [
             0.7,
             "#b8e186"
            ],
            [
             0.8,
             "#7fbc41"
            ],
            [
             0.9,
             "#4d9221"
            ],
            [
             1,
             "#276419"
            ]
           ],
           "sequential": [
            [
             0,
             "#0d0887"
            ],
            [
             0.1111111111111111,
             "#46039f"
            ],
            [
             0.2222222222222222,
             "#7201a8"
            ],
            [
             0.3333333333333333,
             "#9c179e"
            ],
            [
             0.4444444444444444,
             "#bd3786"
            ],
            [
             0.5555555555555556,
             "#d8576b"
            ],
            [
             0.6666666666666666,
             "#ed7953"
            ],
            [
             0.7777777777777778,
             "#fb9f3a"
            ],
            [
             0.8888888888888888,
             "#fdca26"
            ],
            [
             1,
             "#f0f921"
            ]
           ],
           "sequentialminus": [
            [
             0,
             "#0d0887"
            ],
            [
             0.1111111111111111,
             "#46039f"
            ],
            [
             0.2222222222222222,
             "#7201a8"
            ],
            [
             0.3333333333333333,
             "#9c179e"
            ],
            [
             0.4444444444444444,
             "#bd3786"
            ],
            [
             0.5555555555555556,
             "#d8576b"
            ],
            [
             0.6666666666666666,
             "#ed7953"
            ],
            [
             0.7777777777777778,
             "#fb9f3a"
            ],
            [
             0.8888888888888888,
             "#fdca26"
            ],
            [
             1,
             "#f0f921"
            ]
           ]
          },
          "colorway": [
           "#636efa",
           "#EF553B",
           "#00cc96",
           "#ab63fa",
           "#FFA15A",
           "#19d3f3",
           "#FF6692",
           "#B6E880",
           "#FF97FF",
           "#FECB52"
          ],
          "font": {
           "color": "#2a3f5f"
          },
          "geo": {
           "bgcolor": "white",
           "lakecolor": "white",
           "landcolor": "#E5ECF6",
           "showlakes": true,
           "showland": true,
           "subunitcolor": "white"
          },
          "hoverlabel": {
           "align": "left"
          },
          "hovermode": "closest",
          "mapbox": {
           "style": "light"
          },
          "paper_bgcolor": "white",
          "plot_bgcolor": "#E5ECF6",
          "polar": {
           "angularaxis": {
            "gridcolor": "white",
            "linecolor": "white",
            "ticks": ""
           },
           "bgcolor": "#E5ECF6",
           "radialaxis": {
            "gridcolor": "white",
            "linecolor": "white",
            "ticks": ""
           }
          },
          "scene": {
           "xaxis": {
            "backgroundcolor": "#E5ECF6",
            "gridcolor": "white",
            "gridwidth": 2,
            "linecolor": "white",
            "showbackground": true,
            "ticks": "",
            "zerolinecolor": "white"
           },
           "yaxis": {
            "backgroundcolor": "#E5ECF6",
            "gridcolor": "white",
            "gridwidth": 2,
            "linecolor": "white",
            "showbackground": true,
            "ticks": "",
            "zerolinecolor": "white"
           },
           "zaxis": {
            "backgroundcolor": "#E5ECF6",
            "gridcolor": "white",
            "gridwidth": 2,
            "linecolor": "white",
            "showbackground": true,
            "ticks": "",
            "zerolinecolor": "white"
           }
          },
          "shapedefaults": {
           "line": {
            "color": "#2a3f5f"
           }
          },
          "ternary": {
           "aaxis": {
            "gridcolor": "white",
            "linecolor": "white",
            "ticks": ""
           },
           "baxis": {
            "gridcolor": "white",
            "linecolor": "white",
            "ticks": ""
           },
           "bgcolor": "#E5ECF6",
           "caxis": {
            "gridcolor": "white",
            "linecolor": "white",
            "ticks": ""
           }
          },
          "title": {
           "x": 0.05
          },
          "xaxis": {
           "automargin": true,
           "gridcolor": "white",
           "linecolor": "white",
           "ticks": "",
           "title": {
            "standoff": 15
           },
           "zerolinecolor": "white",
           "zerolinewidth": 2
          },
          "yaxis": {
           "automargin": true,
           "gridcolor": "white",
           "linecolor": "white",
           "ticks": "",
           "title": {
            "standoff": 15
           },
           "zerolinecolor": "white",
           "zerolinewidth": 2
          }
         }
        }
       }
      }
     },
     "metadata": {},
     "output_type": "display_data"
    }
   ],
   "source": [
    "plot_diagram(name_1= 'a', name_2= 'b', mode_1= 'markers', mode_2= 'lines',\n",
    "             x_1= x_value.reshape(-1, ), y_1= y_value.reshape(-1, ), \n",
    "             x_2= x_value.reshape(-1, ), y_2= function(input= X, theta= theta_true))"
   ]
  }
 ],
 "metadata": {
  "kernelspec": {
   "display_name": "tf",
   "language": "python",
   "name": "python3"
  },
  "language_info": {
   "codemirror_mode": {
    "name": "ipython",
    "version": 3
   },
   "file_extension": ".py",
   "mimetype": "text/x-python",
   "name": "python",
   "nbconvert_exporter": "python",
   "pygments_lexer": "ipython3",
   "version": "3.11.9"
  }
 },
 "nbformat": 4,
 "nbformat_minor": 2
}
