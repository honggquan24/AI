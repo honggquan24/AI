{
 "cells": [
  {
   "cell_type": "code",
   "execution_count": 408,
   "metadata": {},
   "outputs": [],
   "source": [
    "import numpy as np\n",
    "import pandas as pd\n",
    "import plotly.graph_objects as go"
   ]
  },
  {
   "cell_type": "code",
   "execution_count": 409,
   "metadata": {},
   "outputs": [],
   "source": [
    "order = 3"
   ]
  },
  {
   "cell_type": "code",
   "execution_count": 410,
   "metadata": {},
   "outputs": [],
   "source": [
    "def print_all(*objects):\n",
    "    for i in objects:\n",
    "        print(f'obj: {i}')"
   ]
  },
  {
   "cell_type": "code",
   "execution_count": 411,
   "metadata": {},
   "outputs": [],
   "source": [
    "def function(*, x, theta):\n",
    "    y = np.zeros_like(x, dtype= float)\n",
    "    for i in range(len(theta)):\n",
    "        y += theta[i] * x**i\n",
    "    return y"
   ]
  },
  {
   "cell_type": "code",
   "execution_count": 412,
   "metadata": {},
   "outputs": [
    {
     "data": {
      "text/plain": [
       "1642.5"
      ]
     },
     "execution_count": 412,
     "metadata": {},
     "output_type": "execute_result"
    }
   ],
   "source": [
    "function(x= np.arange(100), theta= [[0.09], [0.75], [0.16], [0]]) [-1]"
   ]
  },
  {
   "cell_type": "code",
   "execution_count": 413,
   "metadata": {},
   "outputs": [],
   "source": [
    "def normalized(vector: np.ndarray) -> np.ndarray:\n",
    "    mean = np.mean(vector)\n",
    "    standard_deviation = np.std(vector)\n",
    "    normalized_vector = (vector - mean) / standard_deviation\n",
    "    return normalized_vector"
   ]
  },
  {
   "cell_type": "code",
   "execution_count": 414,
   "metadata": {},
   "outputs": [],
   "source": [
    "class Linear_Regression_Multivariables:\n",
    "    def __init__(self, *, y_true) -> None:\n",
    "        self.m = len(y_true)\n",
    "\n",
    "    def predict(self, *, theta, normalized_input):\n",
    "        y_pred = np.matmul(normalized_input, theta)\n",
    "        return y_pred\n",
    "    \n",
    "    def compute_loss_function(self, *, y_true, y_pred):\n",
    "        E = y_pred - y_true\n",
    "        J = np.sum((E)**2)/ (2*self.m)\n",
    "        return J\n",
    "    \n",
    "    def update_params(self, *, theta, lr, y_pred, y_true, normalized_input):\n",
    "        E = y_pred - y_true\n",
    "        dJ_dtheta = np.dot(normalized_input.T, E) / (2*self.m)\n",
    "        theta_updated = theta - lr*dJ_dtheta\n",
    "        return theta_updated\n",
    "    \n",
    "    def train(self, *, epoch, theta, normalized_input, y_true, lr):\n",
    "        J_array = []\n",
    "        for i in range(epoch):\n",
    "            y_pred = self.predict(theta= theta, \n",
    "                                  normalized_input= normalized_input)\n",
    "            J = self.compute_loss_function(y_true= y_true, \n",
    "                                           y_pred= y_pred)\n",
    "            theta = self.update_params(theta= theta, lr= lr, y_pred= y_pred, \n",
    "                                       y_true= y_true, normalized_input= normalized_input)\n",
    "            J_array.append(J)\n",
    "\n",
    "        return J_array, theta\n",
    "\n"
   ]
  },
  {
   "cell_type": "code",
   "execution_count": 415,
   "metadata": {},
   "outputs": [
    {
     "data": {
      "text/html": [
       "<div>\n",
       "<style scoped>\n",
       "    .dataframe tbody tr th:only-of-type {\n",
       "        vertical-align: middle;\n",
       "    }\n",
       "\n",
       "    .dataframe tbody tr th {\n",
       "        vertical-align: top;\n",
       "    }\n",
       "\n",
       "    .dataframe thead th {\n",
       "        text-align: right;\n",
       "    }\n",
       "</style>\n",
       "<table border=\"1\" class=\"dataframe\">\n",
       "  <thead>\n",
       "    <tr style=\"text-align: right;\">\n",
       "      <th></th>\n",
       "      <th>x</th>\n",
       "      <th>y</th>\n",
       "    </tr>\n",
       "  </thead>\n",
       "  <tbody>\n",
       "    <tr>\n",
       "      <th>0</th>\n",
       "      <td>0.0</td>\n",
       "      <td>1313.416062</td>\n",
       "    </tr>\n",
       "    <tr>\n",
       "      <th>1</th>\n",
       "      <td>1.2</td>\n",
       "      <td>-1281.338337</td>\n",
       "    </tr>\n",
       "    <tr>\n",
       "      <th>2</th>\n",
       "      <td>2.4</td>\n",
       "      <td>257.886375</td>\n",
       "    </tr>\n",
       "    <tr>\n",
       "      <th>3</th>\n",
       "      <td>3.6</td>\n",
       "      <td>157.168243</td>\n",
       "    </tr>\n",
       "    <tr>\n",
       "      <th>4</th>\n",
       "      <td>4.8</td>\n",
       "      <td>1055.041502</td>\n",
       "    </tr>\n",
       "  </tbody>\n",
       "</table>\n",
       "</div>"
      ],
      "text/plain": [
       "     x            y\n",
       "0  0.0  1313.416062\n",
       "1  1.2 -1281.338337\n",
       "2  2.4   257.886375\n",
       "3  3.6   157.168243\n",
       "4  4.8  1055.041502"
      ]
     },
     "execution_count": 415,
     "metadata": {},
     "output_type": "execute_result"
    }
   ],
   "source": [
    "df = pd.read_csv('ex3.csv')\n",
    "df.head()"
   ]
  },
  {
   "cell_type": "code",
   "execution_count": 416,
   "metadata": {},
   "outputs": [],
   "source": [
    "x_cols = df.columns[:len(df.columns) - 1]\n",
    "y_col = df.columns[-1]"
   ]
  },
  {
   "cell_type": "code",
   "execution_count": 417,
   "metadata": {},
   "outputs": [],
   "source": [
    "x_value = df[x_cols].to_numpy().reshape(-1, )\n",
    "y_value = df[y_col].to_numpy().reshape(-1, )"
   ]
  },
  {
   "cell_type": "code",
   "execution_count": 418,
   "metadata": {},
   "outputs": [],
   "source": [
    "mean_x = np.mean(x_value)\n",
    "std_x = np.std(x_value)\n",
    "mean_y = np.mean(y_value)\n",
    "std_y = np.std(y_value)"
   ]
  },
  {
   "cell_type": "code",
   "execution_count": 419,
   "metadata": {},
   "outputs": [
    {
     "data": {
      "application/vnd.plotly.v1+json": {
       "config": {
        "plotlyServerURL": "https://plot.ly"
       },
       "data": [
        {
         "mode": "markers",
         "type": "scatter",
         "x": [
          0,
          1.2,
          2.4,
          3.6,
          4.8,
          6,
          7.199999999999999,
          8.4,
          9.6,
          10.8,
          12,
          13.2,
          14.4,
          15.6,
          16.8,
          18,
          19.2,
          20.4,
          21.6,
          22.8,
          24,
          25.2,
          26.4,
          27.6,
          28.8,
          30,
          31.2,
          32.4,
          33.6,
          34.8,
          36,
          37.2,
          38.4,
          39.6,
          40.8,
          42,
          43.2,
          44.4,
          45.6,
          46.8,
          48,
          49.2,
          50.4,
          51.6,
          52.8,
          54,
          55.2,
          56.4,
          57.6,
          58.8,
          60,
          61.2,
          62.4,
          63.6,
          64.8,
          66,
          67.2,
          68.39999999999999,
          69.6,
          70.8,
          72,
          73.2,
          74.39999999999999,
          75.6,
          76.8,
          78,
          79.2,
          80.39999999999999,
          81.6,
          82.8,
          84,
          85.2,
          86.39999999999999,
          87.6,
          88.8,
          90,
          91.2,
          92.4,
          93.6,
          94.8,
          96,
          97.2,
          98.4,
          99.6
         ],
         "y": [
          1313.416062167991,
          -1281.3383370887088,
          257.88637473406243,
          157.16824323238788,
          1055.0415024025483,
          -92.46311706167796,
          82.2919015212832,
          2261.320305477705,
          -923.1519030123502,
          1752.416719870404,
          2894.6595055191337,
          905.3437134287584,
          -1626.9636350988587,
          3027.5060530427645,
          793.2377990743773,
          1691.735950717992,
          2680.8556747057,
          2732.422032419277,
          3083.024125781884,
          3700.535821409477,
          3031.6536301042206,
          5042.116929349597,
          6279.437677974889,
          5689.269319272142,
          6247.367628255277,
          6542.880283869337,
          7692.026309550058,
          6954.677912839207,
          7432.119625620841,
          7357.757363461327,
          9338.988573453862,
          8037.33734182164,
          9512.0855235965,
          11724.36696056956,
          11491.719687660596,
          12096.425238873406,
          11398.171863638883,
          13766.006600280412,
          13593.51132711948,
          15196.4537733495,
          14351.75796082119,
          16425.172340740886,
          17573.41563826812,
          18460.81076249281,
          19225.542805073528,
          16665.272392893752,
          18892.437676310445,
          20015.083549716084,
          20849.61709143078,
          23287.626676434527,
          23251.29690436716,
          24067.71832419032,
          24837.63559491842,
          26924.082390563115,
          26531.661079683254,
          28858.61342235167,
          28812.913563093964,
          31827.46771057301,
          30744.428156523583,
          33482.16352260915,
          36105.406146350855,
          35567.40176394644,
          35047.44289796181,
          38173.43423188819,
          40129.96959913636,
          39275.11652228508,
          41528.88753671718,
          42807.72327886267,
          42754.45769383529,
          46394.04650969675,
          47574.52528107123,
          47805.18987960054,
          50648.2272021664,
          50166.464429998894,
          51639.01435684975,
          52599.21217904949,
          52876.54354258421,
          58377.6331063049,
          59547.564716979454,
          59268.89090658758,
          61856.08492519602,
          61240.77931758072,
          61793.51691632088,
          66191.59401530778
         ]
        }
       ],
       "layout": {
        "template": {
         "data": {
          "bar": [
           {
            "error_x": {
             "color": "#2a3f5f"
            },
            "error_y": {
             "color": "#2a3f5f"
            },
            "marker": {
             "line": {
              "color": "#E5ECF6",
              "width": 0.5
             },
             "pattern": {
              "fillmode": "overlay",
              "size": 10,
              "solidity": 0.2
             }
            },
            "type": "bar"
           }
          ],
          "barpolar": [
           {
            "marker": {
             "line": {
              "color": "#E5ECF6",
              "width": 0.5
             },
             "pattern": {
              "fillmode": "overlay",
              "size": 10,
              "solidity": 0.2
             }
            },
            "type": "barpolar"
           }
          ],
          "carpet": [
           {
            "aaxis": {
             "endlinecolor": "#2a3f5f",
             "gridcolor": "white",
             "linecolor": "white",
             "minorgridcolor": "white",
             "startlinecolor": "#2a3f5f"
            },
            "baxis": {
             "endlinecolor": "#2a3f5f",
             "gridcolor": "white",
             "linecolor": "white",
             "minorgridcolor": "white",
             "startlinecolor": "#2a3f5f"
            },
            "type": "carpet"
           }
          ],
          "choropleth": [
           {
            "colorbar": {
             "outlinewidth": 0,
             "ticks": ""
            },
            "type": "choropleth"
           }
          ],
          "contour": [
           {
            "colorbar": {
             "outlinewidth": 0,
             "ticks": ""
            },
            "colorscale": [
             [
              0,
              "#0d0887"
             ],
             [
              0.1111111111111111,
              "#46039f"
             ],
             [
              0.2222222222222222,
              "#7201a8"
             ],
             [
              0.3333333333333333,
              "#9c179e"
             ],
             [
              0.4444444444444444,
              "#bd3786"
             ],
             [
              0.5555555555555556,
              "#d8576b"
             ],
             [
              0.6666666666666666,
              "#ed7953"
             ],
             [
              0.7777777777777778,
              "#fb9f3a"
             ],
             [
              0.8888888888888888,
              "#fdca26"
             ],
             [
              1,
              "#f0f921"
             ]
            ],
            "type": "contour"
           }
          ],
          "contourcarpet": [
           {
            "colorbar": {
             "outlinewidth": 0,
             "ticks": ""
            },
            "type": "contourcarpet"
           }
          ],
          "heatmap": [
           {
            "colorbar": {
             "outlinewidth": 0,
             "ticks": ""
            },
            "colorscale": [
             [
              0,
              "#0d0887"
             ],
             [
              0.1111111111111111,
              "#46039f"
             ],
             [
              0.2222222222222222,
              "#7201a8"
             ],
             [
              0.3333333333333333,
              "#9c179e"
             ],
             [
              0.4444444444444444,
              "#bd3786"
             ],
             [
              0.5555555555555556,
              "#d8576b"
             ],
             [
              0.6666666666666666,
              "#ed7953"
             ],
             [
              0.7777777777777778,
              "#fb9f3a"
             ],
             [
              0.8888888888888888,
              "#fdca26"
             ],
             [
              1,
              "#f0f921"
             ]
            ],
            "type": "heatmap"
           }
          ],
          "heatmapgl": [
           {
            "colorbar": {
             "outlinewidth": 0,
             "ticks": ""
            },
            "colorscale": [
             [
              0,
              "#0d0887"
             ],
             [
              0.1111111111111111,
              "#46039f"
             ],
             [
              0.2222222222222222,
              "#7201a8"
             ],
             [
              0.3333333333333333,
              "#9c179e"
             ],
             [
              0.4444444444444444,
              "#bd3786"
             ],
             [
              0.5555555555555556,
              "#d8576b"
             ],
             [
              0.6666666666666666,
              "#ed7953"
             ],
             [
              0.7777777777777778,
              "#fb9f3a"
             ],
             [
              0.8888888888888888,
              "#fdca26"
             ],
             [
              1,
              "#f0f921"
             ]
            ],
            "type": "heatmapgl"
           }
          ],
          "histogram": [
           {
            "marker": {
             "pattern": {
              "fillmode": "overlay",
              "size": 10,
              "solidity": 0.2
             }
            },
            "type": "histogram"
           }
          ],
          "histogram2d": [
           {
            "colorbar": {
             "outlinewidth": 0,
             "ticks": ""
            },
            "colorscale": [
             [
              0,
              "#0d0887"
             ],
             [
              0.1111111111111111,
              "#46039f"
             ],
             [
              0.2222222222222222,
              "#7201a8"
             ],
             [
              0.3333333333333333,
              "#9c179e"
             ],
             [
              0.4444444444444444,
              "#bd3786"
             ],
             [
              0.5555555555555556,
              "#d8576b"
             ],
             [
              0.6666666666666666,
              "#ed7953"
             ],
             [
              0.7777777777777778,
              "#fb9f3a"
             ],
             [
              0.8888888888888888,
              "#fdca26"
             ],
             [
              1,
              "#f0f921"
             ]
            ],
            "type": "histogram2d"
           }
          ],
          "histogram2dcontour": [
           {
            "colorbar": {
             "outlinewidth": 0,
             "ticks": ""
            },
            "colorscale": [
             [
              0,
              "#0d0887"
             ],
             [
              0.1111111111111111,
              "#46039f"
             ],
             [
              0.2222222222222222,
              "#7201a8"
             ],
             [
              0.3333333333333333,
              "#9c179e"
             ],
             [
              0.4444444444444444,
              "#bd3786"
             ],
             [
              0.5555555555555556,
              "#d8576b"
             ],
             [
              0.6666666666666666,
              "#ed7953"
             ],
             [
              0.7777777777777778,
              "#fb9f3a"
             ],
             [
              0.8888888888888888,
              "#fdca26"
             ],
             [
              1,
              "#f0f921"
             ]
            ],
            "type": "histogram2dcontour"
           }
          ],
          "mesh3d": [
           {
            "colorbar": {
             "outlinewidth": 0,
             "ticks": ""
            },
            "type": "mesh3d"
           }
          ],
          "parcoords": [
           {
            "line": {
             "colorbar": {
              "outlinewidth": 0,
              "ticks": ""
             }
            },
            "type": "parcoords"
           }
          ],
          "pie": [
           {
            "automargin": true,
            "type": "pie"
           }
          ],
          "scatter": [
           {
            "fillpattern": {
             "fillmode": "overlay",
             "size": 10,
             "solidity": 0.2
            },
            "type": "scatter"
           }
          ],
          "scatter3d": [
           {
            "line": {
             "colorbar": {
              "outlinewidth": 0,
              "ticks": ""
             }
            },
            "marker": {
             "colorbar": {
              "outlinewidth": 0,
              "ticks": ""
             }
            },
            "type": "scatter3d"
           }
          ],
          "scattercarpet": [
           {
            "marker": {
             "colorbar": {
              "outlinewidth": 0,
              "ticks": ""
             }
            },
            "type": "scattercarpet"
           }
          ],
          "scattergeo": [
           {
            "marker": {
             "colorbar": {
              "outlinewidth": 0,
              "ticks": ""
             }
            },
            "type": "scattergeo"
           }
          ],
          "scattergl": [
           {
            "marker": {
             "colorbar": {
              "outlinewidth": 0,
              "ticks": ""
             }
            },
            "type": "scattergl"
           }
          ],
          "scattermapbox": [
           {
            "marker": {
             "colorbar": {
              "outlinewidth": 0,
              "ticks": ""
             }
            },
            "type": "scattermapbox"
           }
          ],
          "scatterpolar": [
           {
            "marker": {
             "colorbar": {
              "outlinewidth": 0,
              "ticks": ""
             }
            },
            "type": "scatterpolar"
           }
          ],
          "scatterpolargl": [
           {
            "marker": {
             "colorbar": {
              "outlinewidth": 0,
              "ticks": ""
             }
            },
            "type": "scatterpolargl"
           }
          ],
          "scatterternary": [
           {
            "marker": {
             "colorbar": {
              "outlinewidth": 0,
              "ticks": ""
             }
            },
            "type": "scatterternary"
           }
          ],
          "surface": [
           {
            "colorbar": {
             "outlinewidth": 0,
             "ticks": ""
            },
            "colorscale": [
             [
              0,
              "#0d0887"
             ],
             [
              0.1111111111111111,
              "#46039f"
             ],
             [
              0.2222222222222222,
              "#7201a8"
             ],
             [
              0.3333333333333333,
              "#9c179e"
             ],
             [
              0.4444444444444444,
              "#bd3786"
             ],
             [
              0.5555555555555556,
              "#d8576b"
             ],
             [
              0.6666666666666666,
              "#ed7953"
             ],
             [
              0.7777777777777778,
              "#fb9f3a"
             ],
             [
              0.8888888888888888,
              "#fdca26"
             ],
             [
              1,
              "#f0f921"
             ]
            ],
            "type": "surface"
           }
          ],
          "table": [
           {
            "cells": {
             "fill": {
              "color": "#EBF0F8"
             },
             "line": {
              "color": "white"
             }
            },
            "header": {
             "fill": {
              "color": "#C8D4E3"
             },
             "line": {
              "color": "white"
             }
            },
            "type": "table"
           }
          ]
         },
         "layout": {
          "annotationdefaults": {
           "arrowcolor": "#2a3f5f",
           "arrowhead": 0,
           "arrowwidth": 1
          },
          "autotypenumbers": "strict",
          "coloraxis": {
           "colorbar": {
            "outlinewidth": 0,
            "ticks": ""
           }
          },
          "colorscale": {
           "diverging": [
            [
             0,
             "#8e0152"
            ],
            [
             0.1,
             "#c51b7d"
            ],
            [
             0.2,
             "#de77ae"
            ],
            [
             0.3,
             "#f1b6da"
            ],
            [
             0.4,
             "#fde0ef"
            ],
            [
             0.5,
             "#f7f7f7"
            ],
            [
             0.6,
             "#e6f5d0"
            ],
            [
             0.7,
             "#b8e186"
            ],
            [
             0.8,
             "#7fbc41"
            ],
            [
             0.9,
             "#4d9221"
            ],
            [
             1,
             "#276419"
            ]
           ],
           "sequential": [
            [
             0,
             "#0d0887"
            ],
            [
             0.1111111111111111,
             "#46039f"
            ],
            [
             0.2222222222222222,
             "#7201a8"
            ],
            [
             0.3333333333333333,
             "#9c179e"
            ],
            [
             0.4444444444444444,
             "#bd3786"
            ],
            [
             0.5555555555555556,
             "#d8576b"
            ],
            [
             0.6666666666666666,
             "#ed7953"
            ],
            [
             0.7777777777777778,
             "#fb9f3a"
            ],
            [
             0.8888888888888888,
             "#fdca26"
            ],
            [
             1,
             "#f0f921"
            ]
           ],
           "sequentialminus": [
            [
             0,
             "#0d0887"
            ],
            [
             0.1111111111111111,
             "#46039f"
            ],
            [
             0.2222222222222222,
             "#7201a8"
            ],
            [
             0.3333333333333333,
             "#9c179e"
            ],
            [
             0.4444444444444444,
             "#bd3786"
            ],
            [
             0.5555555555555556,
             "#d8576b"
            ],
            [
             0.6666666666666666,
             "#ed7953"
            ],
            [
             0.7777777777777778,
             "#fb9f3a"
            ],
            [
             0.8888888888888888,
             "#fdca26"
            ],
            [
             1,
             "#f0f921"
            ]
           ]
          },
          "colorway": [
           "#636efa",
           "#EF553B",
           "#00cc96",
           "#ab63fa",
           "#FFA15A",
           "#19d3f3",
           "#FF6692",
           "#B6E880",
           "#FF97FF",
           "#FECB52"
          ],
          "font": {
           "color": "#2a3f5f"
          },
          "geo": {
           "bgcolor": "white",
           "lakecolor": "white",
           "landcolor": "#E5ECF6",
           "showlakes": true,
           "showland": true,
           "subunitcolor": "white"
          },
          "hoverlabel": {
           "align": "left"
          },
          "hovermode": "closest",
          "mapbox": {
           "style": "light"
          },
          "paper_bgcolor": "white",
          "plot_bgcolor": "#E5ECF6",
          "polar": {
           "angularaxis": {
            "gridcolor": "white",
            "linecolor": "white",
            "ticks": ""
           },
           "bgcolor": "#E5ECF6",
           "radialaxis": {
            "gridcolor": "white",
            "linecolor": "white",
            "ticks": ""
           }
          },
          "scene": {
           "xaxis": {
            "backgroundcolor": "#E5ECF6",
            "gridcolor": "white",
            "gridwidth": 2,
            "linecolor": "white",
            "showbackground": true,
            "ticks": "",
            "zerolinecolor": "white"
           },
           "yaxis": {
            "backgroundcolor": "#E5ECF6",
            "gridcolor": "white",
            "gridwidth": 2,
            "linecolor": "white",
            "showbackground": true,
            "ticks": "",
            "zerolinecolor": "white"
           },
           "zaxis": {
            "backgroundcolor": "#E5ECF6",
            "gridcolor": "white",
            "gridwidth": 2,
            "linecolor": "white",
            "showbackground": true,
            "ticks": "",
            "zerolinecolor": "white"
           }
          },
          "shapedefaults": {
           "line": {
            "color": "#2a3f5f"
           }
          },
          "ternary": {
           "aaxis": {
            "gridcolor": "white",
            "linecolor": "white",
            "ticks": ""
           },
           "baxis": {
            "gridcolor": "white",
            "linecolor": "white",
            "ticks": ""
           },
           "bgcolor": "#E5ECF6",
           "caxis": {
            "gridcolor": "white",
            "linecolor": "white",
            "ticks": ""
           }
          },
          "title": {
           "x": 0.05
          },
          "xaxis": {
           "automargin": true,
           "gridcolor": "white",
           "linecolor": "white",
           "ticks": "",
           "title": {
            "standoff": 15
           },
           "zerolinecolor": "white",
           "zerolinewidth": 2
          },
          "yaxis": {
           "automargin": true,
           "gridcolor": "white",
           "linecolor": "white",
           "ticks": "",
           "title": {
            "standoff": 15
           },
           "zerolinecolor": "white",
           "zerolinewidth": 2
          }
         }
        }
       }
      }
     },
     "metadata": {},
     "output_type": "display_data"
    }
   ],
   "source": [
    "fig = go.Figure()\n",
    "fig = fig.add_trace(\n",
    "    go.Scatter(x= x_value, y= y_value, mode= 'markers')\n",
    ")\n",
    "fig.show()"
   ]
  },
  {
   "cell_type": "code",
   "execution_count": 420,
   "metadata": {},
   "outputs": [],
   "source": [
    "def convert_data(*, input, order):\n",
    "    ones = np.ones((len(input), order+1))\n",
    "    for i in range(1, order + 1):\n",
    "        ones[:, i] = input**i\n",
    "    return ones\n",
    "\n",
    "\n",
    "x_normalized = convert_data(input= x_value, order= order)\n",
    "y_normalized = y_value.reshape(-1, 1)"
   ]
  },
  {
   "cell_type": "code",
   "execution_count": 421,
   "metadata": {},
   "outputs": [],
   "source": [
    "def true_value(x_normalized, y_normalized):\n",
    "    XT_X_inv = np.linalg.inv(np.dot(x_normalized.T, x_normalized))\n",
    "    XT_Y = np.dot(x_normalized.T, y_normalized)\n",
    "    theta_true = np.dot(XT_X_inv, XT_Y)\n",
    "    return theta_true\n",
    "\n",
    "theta_true = true_value(x_normalized, y_normalized)"
   ]
  },
  {
   "cell_type": "code",
   "execution_count": 422,
   "metadata": {},
   "outputs": [],
   "source": [
    "x_normalized[:, 1:] = np.apply_along_axis(func1d= normalized, arr= x_normalized[:, 1:], axis= 0)\n",
    "y_normalized = np.apply_along_axis(func1d= normalized, arr= y_value.reshape(-1, 1), axis= 0)"
   ]
  },
  {
   "cell_type": "code",
   "execution_count": 423,
   "metadata": {},
   "outputs": [
    {
     "data": {
      "text/plain": [
       "array([[ 16.24345364],\n",
       "       [ -6.11756414],\n",
       "       [ -5.28171752],\n",
       "       [-10.72968622]])"
      ]
     },
     "execution_count": 423,
     "metadata": {},
     "output_type": "execute_result"
    }
   ],
   "source": [
    "np.random.seed(1)\n",
    "theta_init = np.random.randn(order + 1, 1) * 10\n",
    "theta_init"
   ]
  },
  {
   "cell_type": "code",
   "execution_count": 424,
   "metadata": {},
   "outputs": [],
   "source": [
    "lrm_order = Linear_Regression_Multivariables(y_true= y_normalized)"
   ]
  },
  {
   "cell_type": "code",
   "execution_count": 425,
   "metadata": {},
   "outputs": [],
   "source": [
    "def inverse_normalized(theta_normalized: np.ndarray, mean_x, std_x, mean_y, std_y) -> np.ndarray:\n",
    "    # Giải chuẩn hóa các hệ số theta\n",
    "    theta = np.zeros_like(theta_normalized)\n",
    "    theta[1:] = theta_normalized[1:] * (std_y / std_x)\n",
    "    theta[0] = mean_y -  theta_normalized[0] * std_y\n",
    "    return theta"
   ]
  },
  {
   "cell_type": "code",
   "execution_count": 426,
   "metadata": {},
   "outputs": [],
   "source": [
    "J_array, theta_train = lrm_order.train(\n",
    "    epoch= 500000,\n",
    "    theta= theta_init,\n",
    "    normalized_input= x_normalized,\n",
    "    y_true= y_normalized, \n",
    "    lr= 0.01 \n",
    ")\n",
    "\n",
    "\n",
    "theta_train = inverse_normalized(theta_train, mean_x, std_x, mean_y, std_y)\n"
   ]
  },
  {
   "cell_type": "code",
   "execution_count": 427,
   "metadata": {},
   "outputs": [
    {
     "data": {
      "text/plain": [
       "array([[123.1],\n",
       "       [  8.7],\n",
       "       [  6.2],\n",
       "       [  0. ]])"
      ]
     },
     "execution_count": 427,
     "metadata": {},
     "output_type": "execute_result"
    }
   ],
   "source": [
    "np.round(theta_true, 1)"
   ]
  },
  {
   "cell_type": "code",
   "execution_count": 428,
   "metadata": {},
   "outputs": [
    {
     "data": {
      "text/plain": [
       "array([[ 2.199218e+04],\n",
       "       [-1.843000e+01],\n",
       "       [ 7.091200e+02],\n",
       "       [-1.417000e+01]])"
      ]
     },
     "execution_count": 428,
     "metadata": {},
     "output_type": "execute_result"
    }
   ],
   "source": [
    "np.round(theta_train,2)"
   ]
  },
  {
   "cell_type": "code",
   "execution_count": 429,
   "metadata": {},
   "outputs": [
    {
     "data": {
      "application/vnd.plotly.v1+json": {
       "config": {
        "plotlyServerURL": "https://plot.ly"
       },
       "data": [
        {
         "marker": {
          "symbol": "x"
         },
         "mode": "markers",
         "name": "Data Points",
         "type": "scatter",
         "x": [
          0,
          1.2,
          2.4,
          3.6,
          4.8,
          6,
          7.199999999999999,
          8.4,
          9.6,
          10.8,
          12,
          13.2,
          14.4,
          15.6,
          16.8,
          18,
          19.2,
          20.4,
          21.6,
          22.8,
          24,
          25.2,
          26.4,
          27.6,
          28.8,
          30,
          31.2,
          32.4,
          33.6,
          34.8,
          36,
          37.2,
          38.4,
          39.6,
          40.8,
          42,
          43.2,
          44.4,
          45.6,
          46.8,
          48,
          49.2,
          50.4,
          51.6,
          52.8,
          54,
          55.2,
          56.4,
          57.6,
          58.8,
          60,
          61.2,
          62.4,
          63.6,
          64.8,
          66,
          67.2,
          68.39999999999999,
          69.6,
          70.8,
          72,
          73.2,
          74.39999999999999,
          75.6,
          76.8,
          78,
          79.2,
          80.39999999999999,
          81.6,
          82.8,
          84,
          85.2,
          86.39999999999999,
          87.6,
          88.8,
          90,
          91.2,
          92.4,
          93.6,
          94.8,
          96,
          97.2,
          98.4,
          99.6
         ],
         "y": [
          1313.416062167991,
          -1281.3383370887088,
          257.88637473406243,
          157.16824323238788,
          1055.0415024025483,
          -92.46311706167796,
          82.2919015212832,
          2261.320305477705,
          -923.1519030123502,
          1752.416719870404,
          2894.6595055191337,
          905.3437134287584,
          -1626.9636350988587,
          3027.5060530427645,
          793.2377990743773,
          1691.735950717992,
          2680.8556747057,
          2732.422032419277,
          3083.024125781884,
          3700.535821409477,
          3031.6536301042206,
          5042.116929349597,
          6279.437677974889,
          5689.269319272142,
          6247.367628255277,
          6542.880283869337,
          7692.026309550058,
          6954.677912839207,
          7432.119625620841,
          7357.757363461327,
          9338.988573453862,
          8037.33734182164,
          9512.0855235965,
          11724.36696056956,
          11491.719687660596,
          12096.425238873406,
          11398.171863638883,
          13766.006600280412,
          13593.51132711948,
          15196.4537733495,
          14351.75796082119,
          16425.172340740886,
          17573.41563826812,
          18460.81076249281,
          19225.542805073528,
          16665.272392893752,
          18892.437676310445,
          20015.083549716084,
          20849.61709143078,
          23287.626676434527,
          23251.29690436716,
          24067.71832419032,
          24837.63559491842,
          26924.082390563115,
          26531.661079683254,
          28858.61342235167,
          28812.913563093964,
          31827.46771057301,
          30744.428156523583,
          33482.16352260915,
          36105.406146350855,
          35567.40176394644,
          35047.44289796181,
          38173.43423188819,
          40129.96959913636,
          39275.11652228508,
          41528.88753671718,
          42807.72327886267,
          42754.45769383529,
          46394.04650969675,
          47574.52528107123,
          47805.18987960054,
          50648.2272021664,
          50166.464429998894,
          51639.01435684975,
          52599.21217904949,
          52876.54354258421,
          58377.6331063049,
          59547.564716979454,
          59268.89090658758,
          61856.08492519602,
          61240.77931758072,
          61793.51691632088,
          66191.59401530778
         ]
        },
        {
         "mode": "lines",
         "name": "Regression Line",
         "type": "scatter",
         "x": [
          0,
          1.2,
          2.4,
          3.6,
          4.8,
          6,
          7.199999999999999,
          8.4,
          9.6,
          10.8,
          12,
          13.2,
          14.4,
          15.6,
          16.8,
          18,
          19.2,
          20.4,
          21.6,
          22.8,
          24,
          25.2,
          26.4,
          27.6,
          28.8,
          30,
          31.2,
          32.4,
          33.6,
          34.8,
          36,
          37.2,
          38.4,
          39.6,
          40.8,
          42,
          43.2,
          44.4,
          45.6,
          46.8,
          48,
          49.2,
          50.4,
          51.6,
          52.8,
          54,
          55.2,
          56.4,
          57.6,
          58.8,
          60,
          61.2,
          62.4,
          63.6,
          64.8,
          66,
          67.2,
          68.39999999999999,
          69.6,
          70.8,
          72,
          73.2,
          74.39999999999999,
          75.6,
          76.8,
          78,
          79.2,
          80.39999999999999,
          81.6,
          82.8,
          84,
          85.2,
          86.39999999999999,
          87.6,
          88.8,
          90,
          91.2,
          92.4,
          93.6,
          94.8,
          96,
          97.2,
          98.4,
          99.6
         ],
         "y": [
          21992.180510514747,
          22966.700215806566,
          25836.556362088315,
          30454.833768972767,
          36674.61725607267,
          44348.99164300081,
          53331.04174936993,
          63473.85239479281,
          74630.50839888223,
          86654.09458125093,
          99397.69576151166,
          112714.3967592772,
          126457.28239416036,
          140479.43748577381,
          154633.94685373042,
          168773.8953176429,
          182752.36769712402,
          196422.4488117865,
          209637.22348124327,
          222249.7765251068,
          234113.19276299016,
          245080.5570145059,
          255004.95409926688,
          263739.468836886,
          271137.18604697566,
          277051.19054914895,
          281334.56716301857,
          283840.4007081972,
          284421.77600429754,
          282931.7778709326,
          279223.491127715,
          273150.0005942575,
          264564.39109017304,
          253319.74743507383,
          239269.15444857348,
          222265.69695028383,
          202162.45975981862,
          178812.5276967897,
          152068.98558081035,
          121784.91823149356,
          87813.41046845121,
          50007.54711129679,
          8220.412979643326,
          -37694.907106897794,
          -87885.32832871191,
          -142497.7658661874,
          -201679.1348997117,
          -265576.3506096713,
          -334336.3281764542,
          -408105.9827804463,
          -487032.22960203607,
          -571261.9838216114,
          -660942.1606195574,
          -756219.6751762633,
          -857241.4426721144,
          -964154.3782875007,
          -1077105.3972028065,
          -1196241.4145984193,
          -1321709.3456547298,
          -1453656.1055521215,
          -1592228.6094709835,
          -1737573.7725917017,
          -1889838.5100946636,
          -2049169.7371602575,
          -2215714.3689688705,
          -2389619.3207008895,
          -2571031.507536702,
          -2760097.844656693,
          -2956965.247241252,
          -3161780.6304707667,
          -3374690.9095256245,
          -3595842.9995862106,
          -3825383.81583291,
          -4063460.2734461157,
          -4310219.287606214,
          -4565807.773493591,
          -4830372.6462886315,
          -5104060.821171725,
          -5387019.213323255,
          -5679394.7379236175,
          -5981334.310153194,
          -6292984.845192372,
          -6614493.258221539,
          -6946006.464421077
         ]
        },
        {
         "mode": "lines",
         "name": "Regression Line",
         "type": "scatter",
         "x": [
          0,
          1.2,
          2.4,
          3.6,
          4.8,
          6,
          7.199999999999999,
          8.4,
          9.6,
          10.8,
          12,
          13.2,
          14.4,
          15.6,
          16.8,
          18,
          19.2,
          20.4,
          21.6,
          22.8,
          24,
          25.2,
          26.4,
          27.6,
          28.8,
          30,
          31.2,
          32.4,
          33.6,
          34.8,
          36,
          37.2,
          38.4,
          39.6,
          40.8,
          42,
          43.2,
          44.4,
          45.6,
          46.8,
          48,
          49.2,
          50.4,
          51.6,
          52.8,
          54,
          55.2,
          56.4,
          57.6,
          58.8,
          60,
          61.2,
          62.4,
          63.6,
          64.8,
          66,
          67.2,
          68.39999999999999,
          69.6,
          70.8,
          72,
          73.2,
          74.39999999999999,
          75.6,
          76.8,
          78,
          79.2,
          80.39999999999999,
          81.6,
          82.8,
          84,
          85.2,
          86.39999999999999,
          87.6,
          88.8,
          90,
          91.2,
          92.4,
          93.6,
          94.8,
          96,
          97.2,
          98.4,
          99.6
         ],
         "y": [
          123.111994123552,
          142.47508095296598,
          179.81195050797587,
          235.1520861220773,
          308.52497112876614,
          399.96008886153817,
          509.486922653889,
          637.1349558393148,
          782.9336717513107,
          946.9125537233732,
          1129.1010850889975,
          1329.5287491816794,
          1548.2250293349152,
          1785.2194088822002,
          2040.5413711570304,
          2314.2203994929014,
          2606.2859772233087,
          2916.767587681748,
          3245.6947142017175,
          3593.0968401167092,
          3959.0034487602206,
          4343.444023465748,
          4746.448047566786,
          5168.045004396832,
          5608.264377289381,
          6067.135649577927,
          6544.688304595968,
          7040.951825677,
          7555.955696154517,
          8089.729399362014,
          8642.302418632991,
          9213.70423730094,
          9803.96433869936,
          10413.112206161744,
          11041.177323021586,
          11688.189172612387,
          12354.177238267639,
          13039.171003320836,
          13743.199951105482,
          14466.293564955062,
          15208.481328203081,
          15969.792724183031,
          16750.257236228405,
          17549.904347672702,
          18368.763541849417,
          19206.864302092046,
          20064.23611173409,
          20940.90845410903,
          21836.91081255038,
          22752.27267039162,
          23687.023510966257,
          24641.192817607785,
          25614.810073649693,
          26607.90476242548,
          27620.506367268645,
          28652.644371512684,
          29704.348258491093,
          30775.647511537347,
          31866.571613984976,
          32977.15004916746,
          34107.41230041829,
          35257.387851070984,
          36427.10618445899,
          37616.59678391584,
          38825.88913277504,
          40055.01271437007,
          41303.997012034415,
          42572.87150910157,
          43861.66568890505,
          45170.40903477835,
          46499.13103005496,
          47847.86115806838,
          49216.62890215207,
          50605.46374563957,
          52014.39517186437,
          53443.45266415996,
          54892.66570585983,
          56362.06378029747,
          57851.67637080637,
          59361.53296072006,
          60891.663033372024,
          62442.096072095745,
          64012.86156022472,
          65603.98898109242
         ]
        }
       ],
       "layout": {
        "template": {
         "data": {
          "bar": [
           {
            "error_x": {
             "color": "#2a3f5f"
            },
            "error_y": {
             "color": "#2a3f5f"
            },
            "marker": {
             "line": {
              "color": "#E5ECF6",
              "width": 0.5
             },
             "pattern": {
              "fillmode": "overlay",
              "size": 10,
              "solidity": 0.2
             }
            },
            "type": "bar"
           }
          ],
          "barpolar": [
           {
            "marker": {
             "line": {
              "color": "#E5ECF6",
              "width": 0.5
             },
             "pattern": {
              "fillmode": "overlay",
              "size": 10,
              "solidity": 0.2
             }
            },
            "type": "barpolar"
           }
          ],
          "carpet": [
           {
            "aaxis": {
             "endlinecolor": "#2a3f5f",
             "gridcolor": "white",
             "linecolor": "white",
             "minorgridcolor": "white",
             "startlinecolor": "#2a3f5f"
            },
            "baxis": {
             "endlinecolor": "#2a3f5f",
             "gridcolor": "white",
             "linecolor": "white",
             "minorgridcolor": "white",
             "startlinecolor": "#2a3f5f"
            },
            "type": "carpet"
           }
          ],
          "choropleth": [
           {
            "colorbar": {
             "outlinewidth": 0,
             "ticks": ""
            },
            "type": "choropleth"
           }
          ],
          "contour": [
           {
            "colorbar": {
             "outlinewidth": 0,
             "ticks": ""
            },
            "colorscale": [
             [
              0,
              "#0d0887"
             ],
             [
              0.1111111111111111,
              "#46039f"
             ],
             [
              0.2222222222222222,
              "#7201a8"
             ],
             [
              0.3333333333333333,
              "#9c179e"
             ],
             [
              0.4444444444444444,
              "#bd3786"
             ],
             [
              0.5555555555555556,
              "#d8576b"
             ],
             [
              0.6666666666666666,
              "#ed7953"
             ],
             [
              0.7777777777777778,
              "#fb9f3a"
             ],
             [
              0.8888888888888888,
              "#fdca26"
             ],
             [
              1,
              "#f0f921"
             ]
            ],
            "type": "contour"
           }
          ],
          "contourcarpet": [
           {
            "colorbar": {
             "outlinewidth": 0,
             "ticks": ""
            },
            "type": "contourcarpet"
           }
          ],
          "heatmap": [
           {
            "colorbar": {
             "outlinewidth": 0,
             "ticks": ""
            },
            "colorscale": [
             [
              0,
              "#0d0887"
             ],
             [
              0.1111111111111111,
              "#46039f"
             ],
             [
              0.2222222222222222,
              "#7201a8"
             ],
             [
              0.3333333333333333,
              "#9c179e"
             ],
             [
              0.4444444444444444,
              "#bd3786"
             ],
             [
              0.5555555555555556,
              "#d8576b"
             ],
             [
              0.6666666666666666,
              "#ed7953"
             ],
             [
              0.7777777777777778,
              "#fb9f3a"
             ],
             [
              0.8888888888888888,
              "#fdca26"
             ],
             [
              1,
              "#f0f921"
             ]
            ],
            "type": "heatmap"
           }
          ],
          "heatmapgl": [
           {
            "colorbar": {
             "outlinewidth": 0,
             "ticks": ""
            },
            "colorscale": [
             [
              0,
              "#0d0887"
             ],
             [
              0.1111111111111111,
              "#46039f"
             ],
             [
              0.2222222222222222,
              "#7201a8"
             ],
             [
              0.3333333333333333,
              "#9c179e"
             ],
             [
              0.4444444444444444,
              "#bd3786"
             ],
             [
              0.5555555555555556,
              "#d8576b"
             ],
             [
              0.6666666666666666,
              "#ed7953"
             ],
             [
              0.7777777777777778,
              "#fb9f3a"
             ],
             [
              0.8888888888888888,
              "#fdca26"
             ],
             [
              1,
              "#f0f921"
             ]
            ],
            "type": "heatmapgl"
           }
          ],
          "histogram": [
           {
            "marker": {
             "pattern": {
              "fillmode": "overlay",
              "size": 10,
              "solidity": 0.2
             }
            },
            "type": "histogram"
           }
          ],
          "histogram2d": [
           {
            "colorbar": {
             "outlinewidth": 0,
             "ticks": ""
            },
            "colorscale": [
             [
              0,
              "#0d0887"
             ],
             [
              0.1111111111111111,
              "#46039f"
             ],
             [
              0.2222222222222222,
              "#7201a8"
             ],
             [
              0.3333333333333333,
              "#9c179e"
             ],
             [
              0.4444444444444444,
              "#bd3786"
             ],
             [
              0.5555555555555556,
              "#d8576b"
             ],
             [
              0.6666666666666666,
              "#ed7953"
             ],
             [
              0.7777777777777778,
              "#fb9f3a"
             ],
             [
              0.8888888888888888,
              "#fdca26"
             ],
             [
              1,
              "#f0f921"
             ]
            ],
            "type": "histogram2d"
           }
          ],
          "histogram2dcontour": [
           {
            "colorbar": {
             "outlinewidth": 0,
             "ticks": ""
            },
            "colorscale": [
             [
              0,
              "#0d0887"
             ],
             [
              0.1111111111111111,
              "#46039f"
             ],
             [
              0.2222222222222222,
              "#7201a8"
             ],
             [
              0.3333333333333333,
              "#9c179e"
             ],
             [
              0.4444444444444444,
              "#bd3786"
             ],
             [
              0.5555555555555556,
              "#d8576b"
             ],
             [
              0.6666666666666666,
              "#ed7953"
             ],
             [
              0.7777777777777778,
              "#fb9f3a"
             ],
             [
              0.8888888888888888,
              "#fdca26"
             ],
             [
              1,
              "#f0f921"
             ]
            ],
            "type": "histogram2dcontour"
           }
          ],
          "mesh3d": [
           {
            "colorbar": {
             "outlinewidth": 0,
             "ticks": ""
            },
            "type": "mesh3d"
           }
          ],
          "parcoords": [
           {
            "line": {
             "colorbar": {
              "outlinewidth": 0,
              "ticks": ""
             }
            },
            "type": "parcoords"
           }
          ],
          "pie": [
           {
            "automargin": true,
            "type": "pie"
           }
          ],
          "scatter": [
           {
            "fillpattern": {
             "fillmode": "overlay",
             "size": 10,
             "solidity": 0.2
            },
            "type": "scatter"
           }
          ],
          "scatter3d": [
           {
            "line": {
             "colorbar": {
              "outlinewidth": 0,
              "ticks": ""
             }
            },
            "marker": {
             "colorbar": {
              "outlinewidth": 0,
              "ticks": ""
             }
            },
            "type": "scatter3d"
           }
          ],
          "scattercarpet": [
           {
            "marker": {
             "colorbar": {
              "outlinewidth": 0,
              "ticks": ""
             }
            },
            "type": "scattercarpet"
           }
          ],
          "scattergeo": [
           {
            "marker": {
             "colorbar": {
              "outlinewidth": 0,
              "ticks": ""
             }
            },
            "type": "scattergeo"
           }
          ],
          "scattergl": [
           {
            "marker": {
             "colorbar": {
              "outlinewidth": 0,
              "ticks": ""
             }
            },
            "type": "scattergl"
           }
          ],
          "scattermapbox": [
           {
            "marker": {
             "colorbar": {
              "outlinewidth": 0,
              "ticks": ""
             }
            },
            "type": "scattermapbox"
           }
          ],
          "scatterpolar": [
           {
            "marker": {
             "colorbar": {
              "outlinewidth": 0,
              "ticks": ""
             }
            },
            "type": "scatterpolar"
           }
          ],
          "scatterpolargl": [
           {
            "marker": {
             "colorbar": {
              "outlinewidth": 0,
              "ticks": ""
             }
            },
            "type": "scatterpolargl"
           }
          ],
          "scatterternary": [
           {
            "marker": {
             "colorbar": {
              "outlinewidth": 0,
              "ticks": ""
             }
            },
            "type": "scatterternary"
           }
          ],
          "surface": [
           {
            "colorbar": {
             "outlinewidth": 0,
             "ticks": ""
            },
            "colorscale": [
             [
              0,
              "#0d0887"
             ],
             [
              0.1111111111111111,
              "#46039f"
             ],
             [
              0.2222222222222222,
              "#7201a8"
             ],
             [
              0.3333333333333333,
              "#9c179e"
             ],
             [
              0.4444444444444444,
              "#bd3786"
             ],
             [
              0.5555555555555556,
              "#d8576b"
             ],
             [
              0.6666666666666666,
              "#ed7953"
             ],
             [
              0.7777777777777778,
              "#fb9f3a"
             ],
             [
              0.8888888888888888,
              "#fdca26"
             ],
             [
              1,
              "#f0f921"
             ]
            ],
            "type": "surface"
           }
          ],
          "table": [
           {
            "cells": {
             "fill": {
              "color": "#EBF0F8"
             },
             "line": {
              "color": "white"
             }
            },
            "header": {
             "fill": {
              "color": "#C8D4E3"
             },
             "line": {
              "color": "white"
             }
            },
            "type": "table"
           }
          ]
         },
         "layout": {
          "annotationdefaults": {
           "arrowcolor": "#2a3f5f",
           "arrowhead": 0,
           "arrowwidth": 1
          },
          "autotypenumbers": "strict",
          "coloraxis": {
           "colorbar": {
            "outlinewidth": 0,
            "ticks": ""
           }
          },
          "colorscale": {
           "diverging": [
            [
             0,
             "#8e0152"
            ],
            [
             0.1,
             "#c51b7d"
            ],
            [
             0.2,
             "#de77ae"
            ],
            [
             0.3,
             "#f1b6da"
            ],
            [
             0.4,
             "#fde0ef"
            ],
            [
             0.5,
             "#f7f7f7"
            ],
            [
             0.6,
             "#e6f5d0"
            ],
            [
             0.7,
             "#b8e186"
            ],
            [
             0.8,
             "#7fbc41"
            ],
            [
             0.9,
             "#4d9221"
            ],
            [
             1,
             "#276419"
            ]
           ],
           "sequential": [
            [
             0,
             "#0d0887"
            ],
            [
             0.1111111111111111,
             "#46039f"
            ],
            [
             0.2222222222222222,
             "#7201a8"
            ],
            [
             0.3333333333333333,
             "#9c179e"
            ],
            [
             0.4444444444444444,
             "#bd3786"
            ],
            [
             0.5555555555555556,
             "#d8576b"
            ],
            [
             0.6666666666666666,
             "#ed7953"
            ],
            [
             0.7777777777777778,
             "#fb9f3a"
            ],
            [
             0.8888888888888888,
             "#fdca26"
            ],
            [
             1,
             "#f0f921"
            ]
           ],
           "sequentialminus": [
            [
             0,
             "#0d0887"
            ],
            [
             0.1111111111111111,
             "#46039f"
            ],
            [
             0.2222222222222222,
             "#7201a8"
            ],
            [
             0.3333333333333333,
             "#9c179e"
            ],
            [
             0.4444444444444444,
             "#bd3786"
            ],
            [
             0.5555555555555556,
             "#d8576b"
            ],
            [
             0.6666666666666666,
             "#ed7953"
            ],
            [
             0.7777777777777778,
             "#fb9f3a"
            ],
            [
             0.8888888888888888,
             "#fdca26"
            ],
            [
             1,
             "#f0f921"
            ]
           ]
          },
          "colorway": [
           "#636efa",
           "#EF553B",
           "#00cc96",
           "#ab63fa",
           "#FFA15A",
           "#19d3f3",
           "#FF6692",
           "#B6E880",
           "#FF97FF",
           "#FECB52"
          ],
          "font": {
           "color": "#2a3f5f"
          },
          "geo": {
           "bgcolor": "white",
           "lakecolor": "white",
           "landcolor": "#E5ECF6",
           "showlakes": true,
           "showland": true,
           "subunitcolor": "white"
          },
          "hoverlabel": {
           "align": "left"
          },
          "hovermode": "closest",
          "mapbox": {
           "style": "light"
          },
          "paper_bgcolor": "white",
          "plot_bgcolor": "#E5ECF6",
          "polar": {
           "angularaxis": {
            "gridcolor": "white",
            "linecolor": "white",
            "ticks": ""
           },
           "bgcolor": "#E5ECF6",
           "radialaxis": {
            "gridcolor": "white",
            "linecolor": "white",
            "ticks": ""
           }
          },
          "scene": {
           "xaxis": {
            "backgroundcolor": "#E5ECF6",
            "gridcolor": "white",
            "gridwidth": 2,
            "linecolor": "white",
            "showbackground": true,
            "ticks": "",
            "zerolinecolor": "white"
           },
           "yaxis": {
            "backgroundcolor": "#E5ECF6",
            "gridcolor": "white",
            "gridwidth": 2,
            "linecolor": "white",
            "showbackground": true,
            "ticks": "",
            "zerolinecolor": "white"
           },
           "zaxis": {
            "backgroundcolor": "#E5ECF6",
            "gridcolor": "white",
            "gridwidth": 2,
            "linecolor": "white",
            "showbackground": true,
            "ticks": "",
            "zerolinecolor": "white"
           }
          },
          "shapedefaults": {
           "line": {
            "color": "#2a3f5f"
           }
          },
          "ternary": {
           "aaxis": {
            "gridcolor": "white",
            "linecolor": "white",
            "ticks": ""
           },
           "baxis": {
            "gridcolor": "white",
            "linecolor": "white",
            "ticks": ""
           },
           "bgcolor": "#E5ECF6",
           "caxis": {
            "gridcolor": "white",
            "linecolor": "white",
            "ticks": ""
           }
          },
          "title": {
           "x": 0.05
          },
          "xaxis": {
           "automargin": true,
           "gridcolor": "white",
           "linecolor": "white",
           "ticks": "",
           "title": {
            "standoff": 15
           },
           "zerolinecolor": "white",
           "zerolinewidth": 2
          },
          "yaxis": {
           "automargin": true,
           "gridcolor": "white",
           "linecolor": "white",
           "ticks": "",
           "title": {
            "standoff": 15
           },
           "zerolinecolor": "white",
           "zerolinewidth": 2
          }
         }
        }
       }
      }
     },
     "metadata": {},
     "output_type": "display_data"
    }
   ],
   "source": [
    "# Generate a range of x values from the minimum to the maximum of the x_col to plot the regression line\n",
    "# x_range = np.linspace(x_value.min(), x_value.max(), 100)\n",
    "x_range = x_value\n",
    "\n",
    "# Compute the corresponding y values for the regression line using the updated parameters (theta)\n",
    "# The equation of the line is y = theta_0 + theta_1 * x\n",
    "y_range = function(x= x_range, theta= theta_train)\n",
    "\n",
    "# Create a new Plotly figure to visualize the data points and the regression line\n",
    "fig = go.Figure()\n",
    "\n",
    "# Add a scatter plot for the original data points from the CSV file\n",
    "fig.add_trace(\n",
    "    go.Scatter(\n",
    "        x=x_value,  # X values from the 'x' column\n",
    "        y=y_value,  # Y values from the 'y' column\n",
    "        mode='markers',  # Plot style as markers (points)\n",
    "        marker=dict(symbol='x'),  # Marker style\n",
    "        name='Data Points'  # Name for the legend\n",
    "    )\n",
    ")\n",
    "\n",
    "# Add a line plot for the regression line calculated from the model\n",
    "fig.add_trace(\n",
    "    go.Scatter(\n",
    "        x=x_range,  # X values for the regression line\n",
    "        y=y_range,  # Y values for the regression line\n",
    "        mode='lines',  # Plot style as a line\n",
    "        name='Regression Line'  # Name for the legend\n",
    "    )\n",
    ")\n",
    "\n",
    "y_range_2 = function(x= x_range, theta= theta_true)\n",
    "fig.add_trace(\n",
    "    go.Scatter(\n",
    "        x=x_range,  # X values for the regression line\n",
    "        y=y_range_2,  # Y values for the regression line\n",
    "        mode='lines',  # Plot style as a line\n",
    "        name='Regression Line'  # Name for the legend\n",
    "    )\n",
    ")"
   ]
  },
  {
   "cell_type": "code",
   "execution_count": 430,
   "metadata": {},
   "outputs": [
    {
     "data": {
      "application/vnd.plotly.v1+json": {
       "config": {
        "plotlyServerURL": "https://plot.ly"
       },
       "data": [
        {
         "marker": {
          "symbol": "x"
         },
         "mode": "markers",
         "name": "Data Points",
         "type": "scatter",
         "x": [
          -1.711552442873394,
          -1.670310215334276,
          -1.6290679877951582,
          -1.5878257602560402,
          -1.5465835327169224,
          -1.5053413051778044,
          -1.4640990776386864,
          -1.4228568500995686,
          -1.3816146225604504,
          -1.3403723950213327,
          -1.2991301674822147,
          -1.2578879399430967,
          -1.216645712403979,
          -1.175403484864861,
          -1.1341612573257431,
          -1.0929190297866251,
          -1.0516768022475071,
          -1.0104345747083892,
          -0.9691923471692713,
          -0.9279501196301533,
          -0.8867078920910354,
          -0.8454656645519175,
          -0.8042234370127996,
          -0.7629812094736815,
          -0.7217389819345637,
          -0.6804967543954458,
          -0.6392545268563279,
          -0.5980122993172099,
          -0.5567700717780919,
          -0.5155278442389741,
          -0.4742856166998561,
          -0.4330433891607381,
          -0.39180116162162026,
          -0.35055893408250227,
          -0.3093167065433845,
          -0.26807447900426645,
          -0.22683225146514843,
          -0.18559002392603063,
          -0.1443477963869126,
          -0.10310556884779483,
          -0.061863341308676795,
          -0.02062111376955877,
          0.020621113769559014,
          0.061863341308677045,
          0.10310556884779483,
          0.14434779638691286,
          0.18559002392603088,
          0.22683225146514865,
          0.2680744790042667,
          0.3093167065433845,
          0.3505589340825025,
          0.39180116162162054,
          0.4330433891607383,
          0.47428561669985636,
          0.5155278442389741,
          0.5567700717780921,
          0.5980122993172102,
          0.6392545268563278,
          0.6804967543954458,
          0.7217389819345638,
          0.7629812094736819,
          0.8042234370127999,
          0.8454656645519174,
          0.8867078920910354,
          0.9279501196301534,
          0.9691923471692715,
          1.0104345747083896,
          1.051676802247507,
          1.0929190297866251,
          1.1341612573257431,
          1.1754034848648611,
          1.2166457124039791,
          1.2578879399430967,
          1.2991301674822147,
          1.3403723950213327,
          1.3816146225604509,
          1.4228568500995689,
          1.4640990776386869,
          1.5053413051778044,
          1.5465835327169224,
          1.5878257602560404,
          1.6290679877951584,
          1.6703102153342764,
          1.711552442873394
         ],
         "y": [
          -1.0479111003277968,
          -1.1794021255482552,
          -1.1014008181951511,
          -1.1065047811649174,
          -1.061004414964502,
          -1.1191550279480607,
          -1.110299193051904,
          -0.9998753784115639,
          -1.1612507731696822,
          -1.0256644296716908,
          -0.9677804638602643,
          -1.068590456923247,
          -1.196916933420052,
          -0.9610483705508226,
          -1.0742715038909125,
          -1.028739470819825,
          -0.9786151250974794,
          -0.9760019632334566,
          -0.9582349527164324,
          -0.9269421082117828,
          -0.9608381891324393,
          -0.8589565310989822,
          -0.7962544218704977,
          -0.8261616233230626,
          -0.7978795944562772,
          -0.7829042803905436,
          -0.7246704879791854,
          -0.7620361425690552,
          -0.7378414440979195,
          -0.7416098046378874,
          -0.6412095035244891,
          -0.7071716057472748,
          -0.6324376924261786,
          -0.5203287566798487,
          -0.5321183227514225,
          -0.5014744387259238,
          -0.536858925288326,
          -0.41686721541289484,
          -0.4256085361020943,
          -0.34437828722591823,
          -0.38718384848466114,
          -0.282112099651484,
          -0.22392405363154966,
          -0.17895467437416565,
          -0.1402013340477443,
          -0.2699448586894454,
          -0.15708167343547122,
          -0.10019079509418721,
          -0.0579002141388721,
          0.06564765610321319,
          0.06380661905688141,
          0.10517935534947308,
          0.14419546080129392,
          0.24992763657324807,
          0.2300414074562532,
          0.347961372931316,
          0.3456455000502649,
          0.49841017617843897,
          0.44352637624844854,
          0.5822630636867746,
          0.7151977499509589,
          0.6879339951093747,
          0.661584709650847,
          0.8199965444842305,
          0.9191453661967,
          0.8758250783420043,
          0.9900365279438325,
          1.0548424390047972,
          1.052143167587732,
          1.2365819202171255,
          1.2964035218081984,
          1.3080926144450091,
          1.4521655534450553,
          1.4277518822153226,
          1.5023743974041963,
          1.5510331051769486,
          1.5650870693314805,
          1.843858696723425,
          1.903145813442251,
          1.8890238198381486,
          2.020131717390423,
          1.9889506679653177,
          2.016961039026663,
          2.239836725029959
         ]
        },
        {
         "mode": "lines",
         "name": "Regression Line",
         "type": "scatter",
         "x": [
          -1.711552442873394,
          -1.670310215334276,
          -1.6290679877951582,
          -1.5878257602560402,
          -1.5465835327169224,
          -1.5053413051778044,
          -1.4640990776386864,
          -1.4228568500995686,
          -1.3816146225604504,
          -1.3403723950213327,
          -1.2991301674822147,
          -1.2578879399430967,
          -1.216645712403979,
          -1.175403484864861,
          -1.1341612573257431,
          -1.0929190297866251,
          -1.0516768022475071,
          -1.0104345747083892,
          -0.9691923471692713,
          -0.9279501196301533,
          -0.8867078920910354,
          -0.8454656645519175,
          -0.8042234370127996,
          -0.7629812094736815,
          -0.7217389819345637,
          -0.6804967543954458,
          -0.6392545268563279,
          -0.5980122993172099,
          -0.5567700717780919,
          -0.5155278442389741,
          -0.4742856166998561,
          -0.4330433891607381,
          -0.39180116162162026,
          -0.35055893408250227,
          -0.3093167065433845,
          -0.26807447900426645,
          -0.22683225146514843,
          -0.18559002392603063,
          -0.1443477963869126,
          -0.10310556884779483,
          -0.061863341308676795,
          -0.02062111376955877,
          0.020621113769559014,
          0.061863341308677045,
          0.10310556884779483,
          0.14434779638691286,
          0.18559002392603088,
          0.22683225146514865,
          0.2680744790042667,
          0.3093167065433845,
          0.3505589340825025,
          0.39180116162162054,
          0.4330433891607383,
          0.47428561669985636,
          0.5155278442389741,
          0.5567700717780921,
          0.5980122993172102,
          0.6392545268563278,
          0.6804967543954458,
          0.7217389819345638,
          0.7629812094736819,
          0.8042234370127999,
          0.8454656645519174,
          0.8867078920910354,
          0.9279501196301534,
          0.9691923471692715,
          1.0104345747083896,
          1.051676802247507,
          1.0929190297866251,
          1.1341612573257431,
          1.1754034848648611,
          1.2166457124039791,
          1.2578879399430967,
          1.2991301674822147,
          1.3403723950213327,
          1.3816146225604509,
          1.4228568500995689,
          1.4640990776386869,
          1.5053413051778044,
          1.5465835327169224,
          1.5878257602560404,
          1.6290679877951584,
          1.6703102153342764,
          1.711552442873394
         ],
         "y": [
          24172.06716370666,
          24067.38957426427,
          23965.365831455714,
          23865.98997112111,
          23769.256029100594,
          23675.158041234285,
          23583.69004336232,
          23494.84607132481,
          23408.62016096189,
          23325.006348113697,
          23243.998668620345,
          23165.59115832196,
          23089.777853058673,
          23016.55278867061,
          22945.910000997905,
          22877.84352588067,
          22812.34739915904,
          22749.41565667314,
          22689.042334263107,
          22631.22146776905,
          22575.947093031104,
          22523.213245889398,
          22473.013962184057,
          22425.343277755208,
          22380.19522844297,
          22337.563850087485,
          22297.443178528873,
          22259.82724960725,
          22224.71009916276,
          22192.085763035513,
          22161.948277065654,
          22134.29167709329,
          22109.109998958564,
          22086.39727850159,
          22066.14755156251,
          22048.354853981436,
          22033.0132215985,
          22020.11669025383,
          22009.659295787555,
          22001.635074039794,
          21996.038060850682,
          21992.862292060337,
          21992.1018035089,
          21993.750631036477,
          21997.80281048321,
          22004.25237768922,
          22013.093368494643,
          22024.31981873959,
          22037.925764264197,
          22053.90524090859,
          22072.252284512902,
          22092.960930917245,
          22116.025215961756,
          22141.439175486557,
          22169.19684533178,
          22199.29226133755,
          22231.71945934399,
          22266.472475191225,
          22303.545344719394,
          22342.93210376861,
          22384.626788179005,
          22428.623433790708,
          22474.916076443846,
          22523.49875197854,
          22574.365496234917,
          22627.510345053113,
          22682.92733427325,
          22740.610499735445,
          22800.55387727984,
          22862.751502746545,
          22927.197411975707,
          22993.885640807435,
          23062.810225081867,
          23133.965200639122,
          23207.344603319332,
          23282.942468962625,
          23360.75283340912,
          23440.769732498946,
          23522.987202072236,
          23607.39927796911,
          23693.9999960297,
          23782.783392094127,
          23873.743502002522,
          23966.87436159501
         ]
        },
        {
         "mode": "lines",
         "name": "Regression Line",
         "type": "scatter",
         "x": [
          -1.711552442873394,
          -1.670310215334276,
          -1.6290679877951582,
          -1.5878257602560402,
          -1.5465835327169224,
          -1.5053413051778044,
          -1.4640990776386864,
          -1.4228568500995686,
          -1.3816146225604504,
          -1.3403723950213327,
          -1.2991301674822147,
          -1.2578879399430967,
          -1.216645712403979,
          -1.175403484864861,
          -1.1341612573257431,
          -1.0929190297866251,
          -1.0516768022475071,
          -1.0104345747083892,
          -0.9691923471692713,
          -0.9279501196301533,
          -0.8867078920910354,
          -0.8454656645519175,
          -0.8042234370127996,
          -0.7629812094736815,
          -0.7217389819345637,
          -0.6804967543954458,
          -0.6392545268563279,
          -0.5980122993172099,
          -0.5567700717780919,
          -0.5155278442389741,
          -0.4742856166998561,
          -0.4330433891607381,
          -0.39180116162162026,
          -0.35055893408250227,
          -0.3093167065433845,
          -0.26807447900426645,
          -0.22683225146514843,
          -0.18559002392603063,
          -0.1443477963869126,
          -0.10310556884779483,
          -0.061863341308676795,
          -0.02062111376955877,
          0.020621113769559014,
          0.061863341308677045,
          0.10310556884779483,
          0.14434779638691286,
          0.18559002392603088,
          0.22683225146514865,
          0.2680744790042667,
          0.3093167065433845,
          0.3505589340825025,
          0.39180116162162054,
          0.4330433891607383,
          0.47428561669985636,
          0.5155278442389741,
          0.5567700717780921,
          0.5980122993172102,
          0.6392545268563278,
          0.6804967543954458,
          0.7217389819345638,
          0.7629812094736819,
          0.8042234370127999,
          0.8454656645519174,
          0.8867078920910354,
          0.9279501196301534,
          0.9691923471692715,
          1.0104345747083896,
          1.051676802247507,
          1.0929190297866251,
          1.1341612573257431,
          1.1754034848648611,
          1.2166457124039791,
          1.2578879399430967,
          1.2991301674822147,
          1.3403723950213327,
          1.3816146225604509,
          1.4228568500995689,
          1.4640990776386869,
          1.5053413051778044,
          1.5465835327169224,
          1.5878257602560404,
          1.6290679877951584,
          1.6703102153342764,
          1.711552442873394
         ],
         "y": [
          -1.108230605817539,
          -1.1072493676165853,
          -1.1053572951885637,
          -1.1025528944445735,
          -1.0988346712957138,
          -1.0942011316530846,
          -1.0886507814277835,
          -1.0821821265309106,
          -1.0747936728735654,
          -1.0664839263668466,
          -1.0572513929218534,
          -1.0470945784496852,
          -1.0360119888614405,
          -1.0240021300682196,
          -1.0110635079811208,
          -0.9971946285112434,
          -0.9823939975696868,
          -0.9666601210675504,
          -0.949991504915933,
          -0.9323866550259338,
          -0.9138440773086518,
          -0.8943622776751871,
          -0.8739397620366376,
          -0.8525750363041033,
          -0.8302666063886831,
          -0.8070129782014764,
          -0.7828126576535822,
          -0.7576641506560996,
          -0.7315659631201278,
          -0.7045166009567664,
          -0.6765145700771138,
          -0.6475583763922699,
          -0.6176465258133336,
          -0.586777524251404,
          -0.5549498776175805,
          -0.5221620918229619,
          -0.48841267277864764,
          -0.45370012639573704,
          -0.41802295858532884,
          -0.38137967525852284,
          -0.34376878232641755,
          -0.3051887857001126,
          -0.2656381912907071,
          -0.22511550500930003,
          -0.18361923276699088,
          -0.14114788047487847,
          -0.09769995404406212,
          -0.05327395938564134,
          -0.007868402410714705,
          0.03851821096961804,
          0.08588737484425817,
          0.1342405833021064,
          0.18357933043206306,
          0.23390511032302974,
          0.2852194170639065,
          0.33752374474359487,
          0.3908195874509956,
          0.44510843927500837,
          0.5003917943045356,
          0.5566711466284773,
          0.6139479903357347,
          0.672223819515208,
          0.7315001282557978,
          0.7917784106464061,
          0.8530601607759333,
          0.9153468727332797,
          0.9786400406073469,
          1.0429411584870336,
          1.108251720461244,
          1.1745732206188768,
          1.2419071530488333,
          1.3102550118400138,
          1.3796182910813193,
          1.4499984848616514,
          1.5213970872699103,
          1.5938155923949973,
          1.6672554943258127,
          1.7417182871512573,
          1.8172054649602314,
          1.8937185218416372,
          1.9712589518843748,
          2.049828249177345,
          2.1294279078094496,
          2.2100594218695857
         ]
        }
       ],
       "layout": {
        "template": {
         "data": {
          "bar": [
           {
            "error_x": {
             "color": "#2a3f5f"
            },
            "error_y": {
             "color": "#2a3f5f"
            },
            "marker": {
             "line": {
              "color": "#E5ECF6",
              "width": 0.5
             },
             "pattern": {
              "fillmode": "overlay",
              "size": 10,
              "solidity": 0.2
             }
            },
            "type": "bar"
           }
          ],
          "barpolar": [
           {
            "marker": {
             "line": {
              "color": "#E5ECF6",
              "width": 0.5
             },
             "pattern": {
              "fillmode": "overlay",
              "size": 10,
              "solidity": 0.2
             }
            },
            "type": "barpolar"
           }
          ],
          "carpet": [
           {
            "aaxis": {
             "endlinecolor": "#2a3f5f",
             "gridcolor": "white",
             "linecolor": "white",
             "minorgridcolor": "white",
             "startlinecolor": "#2a3f5f"
            },
            "baxis": {
             "endlinecolor": "#2a3f5f",
             "gridcolor": "white",
             "linecolor": "white",
             "minorgridcolor": "white",
             "startlinecolor": "#2a3f5f"
            },
            "type": "carpet"
           }
          ],
          "choropleth": [
           {
            "colorbar": {
             "outlinewidth": 0,
             "ticks": ""
            },
            "type": "choropleth"
           }
          ],
          "contour": [
           {
            "colorbar": {
             "outlinewidth": 0,
             "ticks": ""
            },
            "colorscale": [
             [
              0,
              "#0d0887"
             ],
             [
              0.1111111111111111,
              "#46039f"
             ],
             [
              0.2222222222222222,
              "#7201a8"
             ],
             [
              0.3333333333333333,
              "#9c179e"
             ],
             [
              0.4444444444444444,
              "#bd3786"
             ],
             [
              0.5555555555555556,
              "#d8576b"
             ],
             [
              0.6666666666666666,
              "#ed7953"
             ],
             [
              0.7777777777777778,
              "#fb9f3a"
             ],
             [
              0.8888888888888888,
              "#fdca26"
             ],
             [
              1,
              "#f0f921"
             ]
            ],
            "type": "contour"
           }
          ],
          "contourcarpet": [
           {
            "colorbar": {
             "outlinewidth": 0,
             "ticks": ""
            },
            "type": "contourcarpet"
           }
          ],
          "heatmap": [
           {
            "colorbar": {
             "outlinewidth": 0,
             "ticks": ""
            },
            "colorscale": [
             [
              0,
              "#0d0887"
             ],
             [
              0.1111111111111111,
              "#46039f"
             ],
             [
              0.2222222222222222,
              "#7201a8"
             ],
             [
              0.3333333333333333,
              "#9c179e"
             ],
             [
              0.4444444444444444,
              "#bd3786"
             ],
             [
              0.5555555555555556,
              "#d8576b"
             ],
             [
              0.6666666666666666,
              "#ed7953"
             ],
             [
              0.7777777777777778,
              "#fb9f3a"
             ],
             [
              0.8888888888888888,
              "#fdca26"
             ],
             [
              1,
              "#f0f921"
             ]
            ],
            "type": "heatmap"
           }
          ],
          "heatmapgl": [
           {
            "colorbar": {
             "outlinewidth": 0,
             "ticks": ""
            },
            "colorscale": [
             [
              0,
              "#0d0887"
             ],
             [
              0.1111111111111111,
              "#46039f"
             ],
             [
              0.2222222222222222,
              "#7201a8"
             ],
             [
              0.3333333333333333,
              "#9c179e"
             ],
             [
              0.4444444444444444,
              "#bd3786"
             ],
             [
              0.5555555555555556,
              "#d8576b"
             ],
             [
              0.6666666666666666,
              "#ed7953"
             ],
             [
              0.7777777777777778,
              "#fb9f3a"
             ],
             [
              0.8888888888888888,
              "#fdca26"
             ],
             [
              1,
              "#f0f921"
             ]
            ],
            "type": "heatmapgl"
           }
          ],
          "histogram": [
           {
            "marker": {
             "pattern": {
              "fillmode": "overlay",
              "size": 10,
              "solidity": 0.2
             }
            },
            "type": "histogram"
           }
          ],
          "histogram2d": [
           {
            "colorbar": {
             "outlinewidth": 0,
             "ticks": ""
            },
            "colorscale": [
             [
              0,
              "#0d0887"
             ],
             [
              0.1111111111111111,
              "#46039f"
             ],
             [
              0.2222222222222222,
              "#7201a8"
             ],
             [
              0.3333333333333333,
              "#9c179e"
             ],
             [
              0.4444444444444444,
              "#bd3786"
             ],
             [
              0.5555555555555556,
              "#d8576b"
             ],
             [
              0.6666666666666666,
              "#ed7953"
             ],
             [
              0.7777777777777778,
              "#fb9f3a"
             ],
             [
              0.8888888888888888,
              "#fdca26"
             ],
             [
              1,
              "#f0f921"
             ]
            ],
            "type": "histogram2d"
           }
          ],
          "histogram2dcontour": [
           {
            "colorbar": {
             "outlinewidth": 0,
             "ticks": ""
            },
            "colorscale": [
             [
              0,
              "#0d0887"
             ],
             [
              0.1111111111111111,
              "#46039f"
             ],
             [
              0.2222222222222222,
              "#7201a8"
             ],
             [
              0.3333333333333333,
              "#9c179e"
             ],
             [
              0.4444444444444444,
              "#bd3786"
             ],
             [
              0.5555555555555556,
              "#d8576b"
             ],
             [
              0.6666666666666666,
              "#ed7953"
             ],
             [
              0.7777777777777778,
              "#fb9f3a"
             ],
             [
              0.8888888888888888,
              "#fdca26"
             ],
             [
              1,
              "#f0f921"
             ]
            ],
            "type": "histogram2dcontour"
           }
          ],
          "mesh3d": [
           {
            "colorbar": {
             "outlinewidth": 0,
             "ticks": ""
            },
            "type": "mesh3d"
           }
          ],
          "parcoords": [
           {
            "line": {
             "colorbar": {
              "outlinewidth": 0,
              "ticks": ""
             }
            },
            "type": "parcoords"
           }
          ],
          "pie": [
           {
            "automargin": true,
            "type": "pie"
           }
          ],
          "scatter": [
           {
            "fillpattern": {
             "fillmode": "overlay",
             "size": 10,
             "solidity": 0.2
            },
            "type": "scatter"
           }
          ],
          "scatter3d": [
           {
            "line": {
             "colorbar": {
              "outlinewidth": 0,
              "ticks": ""
             }
            },
            "marker": {
             "colorbar": {
              "outlinewidth": 0,
              "ticks": ""
             }
            },
            "type": "scatter3d"
           }
          ],
          "scattercarpet": [
           {
            "marker": {
             "colorbar": {
              "outlinewidth": 0,
              "ticks": ""
             }
            },
            "type": "scattercarpet"
           }
          ],
          "scattergeo": [
           {
            "marker": {
             "colorbar": {
              "outlinewidth": 0,
              "ticks": ""
             }
            },
            "type": "scattergeo"
           }
          ],
          "scattergl": [
           {
            "marker": {
             "colorbar": {
              "outlinewidth": 0,
              "ticks": ""
             }
            },
            "type": "scattergl"
           }
          ],
          "scattermapbox": [
           {
            "marker": {
             "colorbar": {
              "outlinewidth": 0,
              "ticks": ""
             }
            },
            "type": "scattermapbox"
           }
          ],
          "scatterpolar": [
           {
            "marker": {
             "colorbar": {
              "outlinewidth": 0,
              "ticks": ""
             }
            },
            "type": "scatterpolar"
           }
          ],
          "scatterpolargl": [
           {
            "marker": {
             "colorbar": {
              "outlinewidth": 0,
              "ticks": ""
             }
            },
            "type": "scatterpolargl"
           }
          ],
          "scatterternary": [
           {
            "marker": {
             "colorbar": {
              "outlinewidth": 0,
              "ticks": ""
             }
            },
            "type": "scatterternary"
           }
          ],
          "surface": [
           {
            "colorbar": {
             "outlinewidth": 0,
             "ticks": ""
            },
            "colorscale": [
             [
              0,
              "#0d0887"
             ],
             [
              0.1111111111111111,
              "#46039f"
             ],
             [
              0.2222222222222222,
              "#7201a8"
             ],
             [
              0.3333333333333333,
              "#9c179e"
             ],
             [
              0.4444444444444444,
              "#bd3786"
             ],
             [
              0.5555555555555556,
              "#d8576b"
             ],
             [
              0.6666666666666666,
              "#ed7953"
             ],
             [
              0.7777777777777778,
              "#fb9f3a"
             ],
             [
              0.8888888888888888,
              "#fdca26"
             ],
             [
              1,
              "#f0f921"
             ]
            ],
            "type": "surface"
           }
          ],
          "table": [
           {
            "cells": {
             "fill": {
              "color": "#EBF0F8"
             },
             "line": {
              "color": "white"
             }
            },
            "header": {
             "fill": {
              "color": "#C8D4E3"
             },
             "line": {
              "color": "white"
             }
            },
            "type": "table"
           }
          ]
         },
         "layout": {
          "annotationdefaults": {
           "arrowcolor": "#2a3f5f",
           "arrowhead": 0,
           "arrowwidth": 1
          },
          "autotypenumbers": "strict",
          "coloraxis": {
           "colorbar": {
            "outlinewidth": 0,
            "ticks": ""
           }
          },
          "colorscale": {
           "diverging": [
            [
             0,
             "#8e0152"
            ],
            [
             0.1,
             "#c51b7d"
            ],
            [
             0.2,
             "#de77ae"
            ],
            [
             0.3,
             "#f1b6da"
            ],
            [
             0.4,
             "#fde0ef"
            ],
            [
             0.5,
             "#f7f7f7"
            ],
            [
             0.6,
             "#e6f5d0"
            ],
            [
             0.7,
             "#b8e186"
            ],
            [
             0.8,
             "#7fbc41"
            ],
            [
             0.9,
             "#4d9221"
            ],
            [
             1,
             "#276419"
            ]
           ],
           "sequential": [
            [
             0,
             "#0d0887"
            ],
            [
             0.1111111111111111,
             "#46039f"
            ],
            [
             0.2222222222222222,
             "#7201a8"
            ],
            [
             0.3333333333333333,
             "#9c179e"
            ],
            [
             0.4444444444444444,
             "#bd3786"
            ],
            [
             0.5555555555555556,
             "#d8576b"
            ],
            [
             0.6666666666666666,
             "#ed7953"
            ],
            [
             0.7777777777777778,
             "#fb9f3a"
            ],
            [
             0.8888888888888888,
             "#fdca26"
            ],
            [
             1,
             "#f0f921"
            ]
           ],
           "sequentialminus": [
            [
             0,
             "#0d0887"
            ],
            [
             0.1111111111111111,
             "#46039f"
            ],
            [
             0.2222222222222222,
             "#7201a8"
            ],
            [
             0.3333333333333333,
             "#9c179e"
            ],
            [
             0.4444444444444444,
             "#bd3786"
            ],
            [
             0.5555555555555556,
             "#d8576b"
            ],
            [
             0.6666666666666666,
             "#ed7953"
            ],
            [
             0.7777777777777778,
             "#fb9f3a"
            ],
            [
             0.8888888888888888,
             "#fdca26"
            ],
            [
             1,
             "#f0f921"
            ]
           ]
          },
          "colorway": [
           "#636efa",
           "#EF553B",
           "#00cc96",
           "#ab63fa",
           "#FFA15A",
           "#19d3f3",
           "#FF6692",
           "#B6E880",
           "#FF97FF",
           "#FECB52"
          ],
          "font": {
           "color": "#2a3f5f"
          },
          "geo": {
           "bgcolor": "white",
           "lakecolor": "white",
           "landcolor": "#E5ECF6",
           "showlakes": true,
           "showland": true,
           "subunitcolor": "white"
          },
          "hoverlabel": {
           "align": "left"
          },
          "hovermode": "closest",
          "mapbox": {
           "style": "light"
          },
          "paper_bgcolor": "white",
          "plot_bgcolor": "#E5ECF6",
          "polar": {
           "angularaxis": {
            "gridcolor": "white",
            "linecolor": "white",
            "ticks": ""
           },
           "bgcolor": "#E5ECF6",
           "radialaxis": {
            "gridcolor": "white",
            "linecolor": "white",
            "ticks": ""
           }
          },
          "scene": {
           "xaxis": {
            "backgroundcolor": "#E5ECF6",
            "gridcolor": "white",
            "gridwidth": 2,
            "linecolor": "white",
            "showbackground": true,
            "ticks": "",
            "zerolinecolor": "white"
           },
           "yaxis": {
            "backgroundcolor": "#E5ECF6",
            "gridcolor": "white",
            "gridwidth": 2,
            "linecolor": "white",
            "showbackground": true,
            "ticks": "",
            "zerolinecolor": "white"
           },
           "zaxis": {
            "backgroundcolor": "#E5ECF6",
            "gridcolor": "white",
            "gridwidth": 2,
            "linecolor": "white",
            "showbackground": true,
            "ticks": "",
            "zerolinecolor": "white"
           }
          },
          "shapedefaults": {
           "line": {
            "color": "#2a3f5f"
           }
          },
          "ternary": {
           "aaxis": {
            "gridcolor": "white",
            "linecolor": "white",
            "ticks": ""
           },
           "baxis": {
            "gridcolor": "white",
            "linecolor": "white",
            "ticks": ""
           },
           "bgcolor": "#E5ECF6",
           "caxis": {
            "gridcolor": "white",
            "linecolor": "white",
            "ticks": ""
           }
          },
          "title": {
           "x": 0.05
          },
          "xaxis": {
           "automargin": true,
           "gridcolor": "white",
           "linecolor": "white",
           "ticks": "",
           "title": {
            "standoff": 15
           },
           "zerolinecolor": "white",
           "zerolinewidth": 2
          },
          "yaxis": {
           "automargin": true,
           "gridcolor": "white",
           "linecolor": "white",
           "ticks": "",
           "title": {
            "standoff": 15
           },
           "zerolinecolor": "white",
           "zerolinewidth": 2
          }
         }
        }
       }
      }
     },
     "metadata": {},
     "output_type": "display_data"
    }
   ],
   "source": [
    "x_value_change = np.apply_along_axis(normalized, 0, x_value)\n",
    "y_value_change = np.apply_along_axis(normalized, 0, y_value)\n",
    "y = function(x= x_value_change, theta= theta_train)\n",
    "# Create a new Plotly figure to visualize the data points and the regression line\n",
    "fig = go.Figure()\n",
    "\n",
    "# Add a scatter plot for the original data points from the CSV file\n",
    "fig.add_trace(\n",
    "    go.Scatter(\n",
    "        x=x_value_change,  # X values from the 'x' column\n",
    "        y=y_value_change,  # Y values from the 'y' column\n",
    "        mode='markers',  # Plot style as markers (points)\n",
    "        marker=dict(symbol='x'),  # Marker style\n",
    "        name='Data Points'  # Name for the legend\n",
    "    )\n",
    ")\n",
    "\n",
    "# Add a line plot for the regression line calculated from the model\n",
    "fig.add_trace(\n",
    "    go.Scatter(\n",
    "        x=x_value_change,  # X values for the regression line\n",
    "        y= y,  # Y values for the regression line\n",
    "        mode='lines',  # Plot style as a line\n",
    "        name='Regression Line'  # Name for the legend\n",
    "    )\n",
    ")\n",
    "\n",
    "x_normalized = convert_data(input= x_value_change, order= order)\n",
    "y_normalized = y_value_change.reshape(-1, 1)\n",
    "\n",
    "theta_true = true_value(x_normalized, y_normalized)\n",
    "y = function(x= x_value_change, theta= theta_true)\n",
    "fig.add_trace(\n",
    "    go.Scatter(\n",
    "        x=x_value_change,  # X values for the regression line\n",
    "        y= y,  # Y values for the regression line\n",
    "        mode='lines',  # Plot style as a line\n",
    "        name='Regression Line'  # Name for the legend\n",
    "    )\n",
    ")"
   ]
  },
  {
   "cell_type": "code",
   "execution_count": 431,
   "metadata": {},
   "outputs": [
    {
     "data": {
      "text/plain": [
       "[<matplotlib.lines.Line2D at 0x232fee526d0>]"
      ]
     },
     "execution_count": 431,
     "metadata": {},
     "output_type": "execute_result"
    },
    {
     "data": {
      "image/png": "[encoded data removed]",
      "text/plain": [
       "<Figure size 640x480 with 1 Axes>"
      ]
     },
     "metadata": {},
     "output_type": "display_data"
    }
   ],
   "source": [
    "import matplotlib.pyplot as plt\n",
    "\n",
    "plt.plot(J_array)"
   ]
  },
  {
   "cell_type": "code",
   "execution_count": 432,
   "metadata": {},
   "outputs": [
    {
     "data": {
      "text/plain": [
       "0.0014375022349247845"
      ]
     },
     "execution_count": 432,
     "metadata": {},
     "output_type": "execute_result"
    }
   ],
   "source": [
    "J_array[-1]"
   ]
  }
 ],
 "metadata": {
  "kernelspec": {
   "display_name": "tf",
   "language": "python",
   "name": "python3"
  },
  "language_info": {
   "codemirror_mode": {
    "name": "ipython",
    "version": 3
   },
   "file_extension": ".py",
   "mimetype": "text/x-python",
   "name": "python",
   "nbconvert_exporter": "python",
   "pygments_lexer": "ipython3",
   "version": "3.11.9"
  }
 },
 "nbformat": 4,
 "nbformat_minor": 2
}
