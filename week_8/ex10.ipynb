{
 "cells": [
  {
   "cell_type": "markdown",
   "metadata": {},
   "source": [
    "Họ và tên: Võ Hồng Quân\n",
    "\n",
    "\n",
    "MSSV: 22134012\n",
    "\n",
    "\n",
    "Lớp: 22134"
   ]
  },
  {
   "cell_type": "code",
   "execution_count": 72,
   "metadata": {},
   "outputs": [],
   "source": [
    "import numpy as np\n",
    "import scipy.io\n",
    "\n",
    "import torch\n",
    "import torchvision\n",
    "import torchvision.transforms as transforms\n",
    "from torch.utils.data import Dataset, DataLoader\n",
    "\n",
    "import sklearn\n",
    "from sklearn.model_selection import train_test_split\n",
    "\n",
    "import plotly.graph_objects as go \n",
    "from torch.utils.tensorboard import SummaryWriter"
   ]
  },
  {
   "cell_type": "code",
   "execution_count": 7,
   "metadata": {},
   "outputs": [
    {
     "data": {
      "text/plain": [
       "device(type='cuda')"
      ]
     },
     "execution_count": 7,
     "metadata": {},
     "output_type": "execute_result"
    }
   ],
   "source": [
    "device = torch.device('cuda' if torch.cuda.is_available() else 'cpu')\n",
    "device"
   ]
  },
  {
   "cell_type": "code",
   "execution_count": 73,
   "metadata": {},
   "outputs": [],
   "source": [
    "writer = SummaryWriter()"
   ]
  },
  {
   "cell_type": "code",
   "execution_count": 64,
   "metadata": {},
   "outputs": [],
   "source": [
    "class SplitDataset:\n",
    "    def __init__(self, path= '', train_test_split_size= []):\n",
    "        self.data = scipy.io.loadmat(path)\n",
    "        self.inputs = self.data['X']\n",
    "        self.targets = np.ravel(self.data['y'])\n",
    "        self.train_test_split_size = train_test_split_size\n",
    "\n",
    "        # Modify label 1-10 into 0-9\n",
    "        self.targets[self.targets == 10] = 0\n",
    "\n",
    "    def __call__(self):\n",
    "        if self.train_test_split_size != []:\n",
    "            train_size, test_size, valid_size = self.train_test_split_size\n",
    "            # print(train_size, test_size, valid_size)\n",
    "\n",
    "            self.X_new, self.X_test, self.y_new, self.y_test = train_test_split(self.inputs, self.targets, train_size= train_size, test_size= test_size)\n",
    "            self.X_train, self.X_valid, self.y_train, self.y_valid = train_test_split(self.X_new, self.y_new, test_size= valid_size)\n",
    "\n",
    "        self.train = [self.X_train, self.y_train]\n",
    "        self.test = [self.X_test, self.y_test]\n",
    "        self.valid = [self.X_valid, self.y_valid]\n",
    "        \n",
    "        return self.train, self.test, self.valid\n"
   ]
  },
  {
   "cell_type": "code",
   "execution_count": 65,
   "metadata": {},
   "outputs": [],
   "source": [
    "class GetDataset(Dataset):\n",
    "    def __init__(self, transforms= None, dataset= None):\n",
    "        super().__init__()\n",
    "        self.transform = transforms\n",
    "        self.inputs, self.targets = dataset\n",
    "        \n",
    "\n",
    "    def __getitem__(self, name):\n",
    "        self.sample = self.inputs, self.targets\n",
    "\n",
    "        if self.transform:\n",
    "            self.sample = self.transform(self.sample)\n",
    "\n",
    "        return self.sample\n",
    "    \n",
    "    def __len__(self):\n",
    "        return len(self.inputs)"
   ]
  },
  {
   "cell_type": "code",
   "execution_count": 66,
   "metadata": {},
   "outputs": [],
   "source": [
    "class Tranform: \n",
    "    def __call__(self, sample):\n",
    "        inputs, targets = sample\n",
    "        return torch.from_numpy(inputs), torch.from_numpy(targets)"
   ]
  },
  {
   "cell_type": "code",
   "execution_count": 76,
   "metadata": {},
   "outputs": [],
   "source": [
    "train_array, test_array, valid_array = SplitDataset(path= 'ex7data.mat', train_test_split_size= [0.7, 0.2, 0.1]).__call__()"
   ]
  },
  {
   "cell_type": "code",
   "execution_count": 77,
   "metadata": {},
   "outputs": [],
   "source": [
    "train_tensor = GetDataset(transforms= Tranform(), dataset= train_array)\n",
    "test_tensor = GetDataset(transforms= Tranform(), dataset= test_array)\n",
    "valid_tensor = GetDataset(transforms= Tranform(), dataset= valid_array)"
   ]
  },
  {
   "cell_type": "code",
   "execution_count": 82,
   "metadata": {},
   "outputs": [],
   "source": [
    "# Visualize images\n",
    "train_images, train_labels = train_tensor[0]\n",
    "train_images = train_images.reshape(-1, 1, 20 ,20)\n",
    "grid = torchvision.utils.make_grid(train_images)\n",
    "\n",
    "writer.add_image('Train images', grid)"
   ]
  },
  {
   "cell_type": "code",
   "execution_count": 71,
   "metadata": {},
   "outputs": [
    {
     "data": {
      "text/plain": [
       "(3150, 400)"
      ]
     },
     "execution_count": 71,
     "metadata": {},
     "output_type": "execute_result"
    }
   ],
   "source": [
    "train[0].shape"
   ]
  },
  {
   "cell_type": "code",
   "execution_count": 80,
   "metadata": {},
   "outputs": [
    {
     "data": {
      "text/plain": [
       "(tensor([[0., 0., 0.,  ..., 0., 0., 0.],\n",
       "         [0., 0., 0.,  ..., 0., 0., 0.],\n",
       "         [0., 0., 0.,  ..., 0., 0., 0.],\n",
       "         ...,\n",
       "         [0., 0., 0.,  ..., 0., 0., 0.],\n",
       "         [0., 0., 0.,  ..., 0., 0., 0.],\n",
       "         [0., 0., 0.,  ..., 0., 0., 0.]], dtype=torch.float64),\n",
       " tensor([7, 6, 3,  ..., 2, 2, 9], dtype=torch.uint8))"
      ]
     },
     "execution_count": 80,
     "metadata": {},
     "output_type": "execute_result"
    }
   ],
   "source": [
    "next(iter(train_tensor))"
   ]
  },
  {
   "cell_type": "code",
   "execution_count": 81,
   "metadata": {},
   "outputs": [
    {
     "data": {
      "text/plain": [
       "(tensor([[0., 0., 0.,  ..., 0., 0., 0.],\n",
       "         [0., 0., 0.,  ..., 0., 0., 0.],\n",
       "         [0., 0., 0.,  ..., 0., 0., 0.],\n",
       "         ...,\n",
       "         [0., 0., 0.,  ..., 0., 0., 0.],\n",
       "         [0., 0., 0.,  ..., 0., 0., 0.],\n",
       "         [0., 0., 0.,  ..., 0., 0., 0.]], dtype=torch.float64),\n",
       " tensor([7, 6, 3,  ..., 2, 2, 9], dtype=torch.uint8))"
      ]
     },
     "execution_count": 81,
     "metadata": {},
     "output_type": "execute_result"
    }
   ],
   "source": [
    "train_tensor[0]"
   ]
  }
 ],
 "metadata": {
  "kernelspec": {
   "display_name": "conda_env",
   "language": "python",
   "name": "python3"
  },
  "language_info": {
   "codemirror_mode": {
    "name": "ipython",
    "version": 3
   },
   "file_extension": ".py",
   "mimetype": "text/x-python",
   "name": "python",
   "nbconvert_exporter": "python",
   "pygments_lexer": "ipython3",
   "version": "3.12.7"
  }
 },
 "nbformat": 4,
 "nbformat_minor": 2
}
