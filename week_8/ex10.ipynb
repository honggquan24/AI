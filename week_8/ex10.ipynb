{
 "cells": [
  {
   "cell_type": "markdown",
   "metadata": {},
   "source": [
    "Họ và tên: Võ Hồng Quân\n",
    "\n",
    "\n",
    "MSSV: 22134012\n",
    "\n",
    "\n",
    "Lớp: 22134"
   ]
  },
  {
   "cell_type": "code",
   "execution_count": 1,
   "metadata": {},
   "outputs": [],
   "source": [
    "import numpy as np\n",
    "import scipy.io\n",
    "import torch\n",
    "import torch.nn as nn\n",
    "from torch.utils.data import Dataset, DataLoader\n",
    "import torchvision\n",
    "from sklearn.model_selection import train_test_split\n",
    "import torch.optim.lr_scheduler as lr_scheduler\n",
    "import matplotlib.pyplot as plt\n",
    "from torch.utils.tensorboard import SummaryWriter\n"
   ]
  },
  {
   "cell_type": "code",
   "execution_count": 2,
   "metadata": {},
   "outputs": [],
   "source": [
    "device = torch.device('cuda' if torch.cuda.is_available() else 'cpu')\n",
    "writer = SummaryWriter()"
   ]
  },
  {
   "cell_type": "code",
   "execution_count": 3,
   "metadata": {},
   "outputs": [],
   "source": [
    "\n",
    "# SplitDataset class to load and split the data\n",
    "class SplitDataset:\n",
    "    def __init__(self, path='', train_test_split_size=[]):\n",
    "        self.data = scipy.io.loadmat(path)\n",
    "        self.inputs = self.data['X']\n",
    "        self.targets = np.ravel(self.data['y'])\n",
    "        self.train_test_split_size = train_test_split_size\n",
    "\n",
    "        # Modify label 1-10 into 0-9\n",
    "        self.targets[self.targets == 10] = 0\n",
    "\n",
    "    def __call__(self):\n",
    "        if self.train_test_split_size:\n",
    "            train_size, test_size, valid_size = self.train_test_split_size\n",
    "            self.X_new, self.X_test, self.y_new, self.y_test = train_test_split(\n",
    "                self.inputs, self.targets, train_size=train_size, test_size=test_size)\n",
    "            self.X_train, self.X_valid, self.y_train, self.y_valid = train_test_split(\n",
    "                self.X_new, self.y_new, test_size=valid_size / (train_size + valid_size))\n",
    "\n",
    "        self.train = [self.X_train, self.y_train]\n",
    "        self.test = [self.X_test, self.y_test]\n",
    "        self.valid = [self.X_valid, self.y_valid]\n",
    "        \n",
    "        return self.train, self.test, self.valid"
   ]
  },
  {
   "cell_type": "code",
   "execution_count": 4,
   "metadata": {},
   "outputs": [],
   "source": [
    "\n",
    "# Custom Dataset class\n",
    "class GetDataset(Dataset):\n",
    "    def __init__(self, transforms=None, dataset=None):\n",
    "        super().__init__()\n",
    "        self.transform = transforms\n",
    "        self.inputs, self.targets = dataset\n",
    "\n",
    "    def __getitem__(self, index):\n",
    "        sample = self.inputs[index], self.targets[index]\n",
    "\n",
    "        if self.transform:\n",
    "            sample = self.transform(sample)\n",
    "\n",
    "        return sample\n",
    "        \n",
    "    def __len__(self):\n",
    "        return len(self.inputs)"
   ]
  },
  {
   "cell_type": "code",
   "execution_count": 5,
   "metadata": {},
   "outputs": [],
   "source": [
    "# Transformation class to convert data to tensors\n",
    "class Transform:\n",
    "    def __call__(self, sample):\n",
    "        inputs, targets = sample\n",
    "        inputs = inputs.astype(np.float32).reshape(1, 20, 20)  # Reshape to (1, 20, 20)\n",
    "        targets = torch.tensor(targets, dtype=torch.long)\n",
    "        return torch.from_numpy(inputs), targets"
   ]
  },
  {
   "cell_type": "code",
   "execution_count": 6,
   "metadata": {},
   "outputs": [],
   "source": [
    "# Load and split the dataset\n",
    "train_array, test_array, valid_array = SplitDataset( path='ex7data.mat', train_test_split_size=[0.7, 0.2, 0.1]).__call__()\n",
    "train_tensor = GetDataset(transforms=Transform(), dataset=train_array)\n",
    "test_tensor = GetDataset(transforms=Transform(), dataset=test_array)\n",
    "valid_tensor = GetDataset(transforms=Transform(), dataset=valid_array)"
   ]
  },
  {
   "cell_type": "code",
   "execution_count": 7,
   "metadata": {},
   "outputs": [],
   "source": [
    "\n",
    "# DataLoaders\n",
    "batch_size = 200\n",
    "train_loader = DataLoader(dataset=train_tensor, batch_size=batch_size, shuffle=True)\n",
    "test_loader = DataLoader(dataset=test_tensor, batch_size=batch_size, shuffle=False)\n",
    "valid_loader = DataLoader(dataset=valid_tensor, batch_size=batch_size, shuffle=False)"
   ]
  },
  {
   "cell_type": "code",
   "execution_count": 8,
   "metadata": {},
   "outputs": [],
   "source": [
    "# Updated ConvNet architecture\n",
    "class ConvNet(nn.Module):\n",
    "    def __init__(self):\n",
    "        super().__init__()\n",
    "        self.conv = nn.Sequential(\n",
    "            nn.Conv2d(in_channels=1, out_channels=32, kernel_size=3),  # Output: [32, 18, 18]\n",
    "            nn.ReLU(),\n",
    "            nn.MaxPool2d(kernel_size=2, stride=2),                    # Output: [32, 9, 9]\n",
    "\n",
    "            nn.Conv2d(in_channels=32, out_channels=64, kernel_size=3), # Output: [64, 7, 7]\n",
    "            nn.ReLU(),\n",
    "            nn.MaxPool2d(kernel_size=2, stride=2),                    # Output: [64, 3, 3]\n",
    "\n",
    "            nn.Conv2d(in_channels=64, out_channels=128, kernel_size=3),# Output: [128, 1, 1]\n",
    "            nn.ReLU()\n",
    "        )\n",
    "\n",
    "        self.fc = nn.Sequential(\n",
    "            nn.Flatten(),\n",
    "            nn.Linear(128, 64),\n",
    "            nn.Linear(64, 32),\n",
    "            nn.Linear(32, 10)  # Output logits for 10 classes\n",
    "        )\n",
    "\n",
    "    def forward(self, x):\n",
    "        x = self.conv(x)\n",
    "        x = self.fc(x)\n",
    "        return x"
   ]
  },
  {
   "cell_type": "code",
   "execution_count": 9,
   "metadata": {},
   "outputs": [],
   "source": [
    "# Initialize the model\n",
    "model = ConvNet().to(device)\n",
    "criterion = nn.CrossEntropyLoss()\n",
    "# optimizer = torch.optim.Adam(model.parameters(), lr=0.001)\n",
    "optimizer = torch.optim.Adagrad(params= model.parameters(), lr= 0.01)\n",
    "scheduler = lr_scheduler.StepLR(optimizer= optimizer, step_size= 350, gamma= 0.1)"
   ]
  },
  {
   "cell_type": "code",
   "execution_count": 10,
   "metadata": {},
   "outputs": [
    {
     "name": "stdout",
     "output_type": "stream",
     "text": [
      "Epoch [100/2000], Loss: 0.0026\n",
      "Epoch [200/2000], Loss: 0.0007\n",
      "Epoch [300/2000], Loss: 0.0004\n",
      "Epoch [400/2000], Loss: 0.0003\n",
      "Epoch [500/2000], Loss: 0.0003\n",
      "Epoch [600/2000], Loss: 0.0002\n",
      "Epoch [700/2000], Loss: 0.0002\n",
      "Epoch [800/2000], Loss: 0.0002\n",
      "Epoch [900/2000], Loss: 0.0002\n",
      "Epoch [1000/2000], Loss: 0.0002\n",
      "Epoch [1100/2000], Loss: 0.0002\n",
      "Epoch [1200/2000], Loss: 0.0002\n",
      "Epoch [1300/2000], Loss: 0.0002\n",
      "Epoch [1400/2000], Loss: 0.0002\n",
      "Epoch [1500/2000], Loss: 0.0002\n",
      "Epoch [1600/2000], Loss: 0.0002\n",
      "Epoch [1700/2000], Loss: 0.0002\n",
      "Epoch [1800/2000], Loss: 0.0002\n",
      "Epoch [1900/2000], Loss: 0.0002\n",
      "Epoch [2000/2000], Loss: 0.0002\n"
     ]
    }
   ],
   "source": [
    "# Training Loop\n",
    "num_epochs = 2000\n",
    "loss_ = []\n",
    "for epoch in range(num_epochs):\n",
    "    model.train()\n",
    "    running_loss = 0.0\n",
    "    for inputs, targets in train_loader:\n",
    "        inputs, targets = inputs.to(device), targets.to(device)\n",
    "\n",
    "        # Forward pass\n",
    "        outputs = model(inputs)  # Outputs of shape [batch_size, 10]\n",
    "\n",
    "        # print(targets.shape)\n",
    "        # print(outputs.shape)\n",
    "        # Compute loss\n",
    "        loss = criterion(outputs, targets)\n",
    "\n",
    "        # Backward pass and optimization\n",
    "        optimizer.zero_grad()\n",
    "        loss.backward()\n",
    "        optimizer.step()\n",
    "\n",
    "        running_loss += loss.item()\n",
    "    scheduler.step()\n",
    "    avg_loss = running_loss / len(train_loader)\n",
    "    loss_.append(avg_loss)\n",
    "    if (epoch + 1) % 100 == 0:\n",
    "        print(f\"Epoch [{epoch+1}/{num_epochs}], Loss: {avg_loss:.4f}\") \n"
   ]
  },
  {
   "cell_type": "code",
   "execution_count": 11,
   "metadata": {},
   "outputs": [
    {
     "data": {
      "image/png": "[encoded data removed]",
      "text/plain": [
       "<Figure size 640x480 with 1 Axes>"
      ]
     },
     "metadata": {},
     "output_type": "display_data"
    }
   ],
   "source": [
    "import matplotlib.pyplot as plt\n",
    "\n",
    "plt.plot(loss_)\n",
    "plt.title('Training Loss Over Time')\n",
    "plt.xlabel('Epoch')\n",
    "plt.ylabel('Loss')\n",
    "plt.grid()\n",
    "plt.show()"
   ]
  },
  {
   "cell_type": "code",
   "execution_count": 12,
   "metadata": {},
   "outputs": [
    {
     "name": "stdout",
     "output_type": "stream",
     "text": [
      "Overall Accuracy: 97.00%\n",
      "Accuracy of class 0: 97.9167%\n",
      "Accuracy of class 1: 95.8333%\n",
      "Accuracy of class 2: 99.0566%\n",
      "Accuracy of class 3: 94.5455%\n",
      "Accuracy of class 4: 99.0385%\n",
      "Accuracy of class 5: 99.0000%\n",
      "Accuracy of class 6: 97.1154%\n",
      "Accuracy of class 7: 95.7447%\n",
      "Accuracy of class 8: 96.9388%\n",
      "Accuracy of class 9: 94.5652%\n"
     ]
    }
   ],
   "source": [
    "# Testing Loop\n",
    "classes = ['0', '1', '2', '3', '4', '5', '6', '7', '8', '9']\n",
    "model.eval()\n",
    "with torch.no_grad():\n",
    "    n_correct = 0\n",
    "    n_samples = 0\n",
    "    n_class_correct = [0 for _ in range(10)]\n",
    "    n_class_samples = [0 for _ in range(10)]\n",
    "    for images, labels in test_loader:\n",
    "        images, labels = images.to(device), labels.to(device)\n",
    "        outputs = model(images)  # Outputs of shape [batch_size, 10]\n",
    "        _, predicted = torch.max(outputs, 1)\n",
    "        n_samples += labels.size(0)\n",
    "        n_correct += (predicted == labels).sum().item()\n",
    "\n",
    "        for i in range(len(labels)):\n",
    "            label = labels[i]\n",
    "            pred = predicted[i]\n",
    "            if label == pred:\n",
    "                n_class_correct[label] += 1\n",
    "            n_class_samples[label] += 1\n",
    "\n",
    "    acc = 100.0 * n_correct / n_samples\n",
    "    print(f'Overall Accuracy: {acc:.2f}%')\n",
    "\n",
    "    for i in range(10):\n",
    "        if n_class_samples[i] > 0:\n",
    "            acc = 100.0 * n_class_correct[i] / n_class_samples[i]\n",
    "            print(f'Accuracy of class {classes[i]}: {acc:.4f}%')\n",
    "        else:\n",
    "            print(f'Accuracy of class {classes[i]}: N/A (no samples)')"
   ]
  }
 ],
 "metadata": {
  "kernelspec": {
   "display_name": "conda_env",
   "language": "python",
   "name": "python3"
  },
  "language_info": {
   "codemirror_mode": {
    "name": "ipython",
    "version": 3
   },
   "file_extension": ".py",
   "mimetype": "text/x-python",
   "name": "python",
   "nbconvert_exporter": "python",
   "pygments_lexer": "ipython3",
   "version": "3.12.7"
  }
 },
 "nbformat": 4,
 "nbformat_minor": 2
}
